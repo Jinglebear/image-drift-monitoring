{
 "cells": [
  {
   "cell_type": "markdown",
   "metadata": {},
   "source": [
    "# 1. Step: Log Data"
   ]
  },
  {
   "cell_type": "markdown",
   "metadata": {},
   "source": [
    "neccesary imports "
   ]
  },
  {
   "cell_type": "code",
   "execution_count": 1,
   "metadata": {},
   "outputs": [],
   "source": [
    "from PIL import Image\n",
    "from whylogs.extras.image_metric import log_image\n",
    "import os"
   ]
  },
  {
   "cell_type": "markdown",
   "metadata": {},
   "source": [
    "log images from landscape_baseline to profile_baseline"
   ]
  },
  {
   "cell_type": "code",
   "execution_count": 2,
   "metadata": {},
   "outputs": [],
   "source": [
    "profile_baseline = None\n",
    "\n",
    "\n",
    "for img_name in os.listdir('landscape_baseline/baseline/'):\n",
    "\n",
    "    img = Image.open('landscape_baseline/baseline/' + img_name) # read in image\n",
    "    profile = log_image(img).profile() # generate profile  \n",
    "    # profile.set_dataset_timestamp(datetime) # optionally set dataset_timestamp\n",
    "    profile_view = profile.view() # extract mergeable profile view\n",
    "     # merge each profile while looping\n",
    "    if profile_baseline is None:\n",
    "      profile_baseline = profile_view\n",
    "    else:\n",
    "      profile_baseline = profile_baseline.merge(profile_view)\n"
   ]
  },
  {
   "cell_type": "markdown",
   "metadata": {},
   "source": [
    "log images from landscape_images to profile_landscape"
   ]
  },
  {
   "cell_type": "code",
   "execution_count": 3,
   "metadata": {},
   "outputs": [],
   "source": [
    "profile_landscape = None\n",
    "\n",
    "\n",
    "for img_name in os.listdir('landscape_images/landscape/'):\n",
    "\n",
    "    img = Image.open('landscape_images/landscape/' + img_name) # read in image\n",
    "    profile = log_image(img).profile() # generate profile  \n",
    "    # profile.set_dataset_timestamp(datetime) # optionally set dataset_timestamp\n",
    "    profile_view = profile.view() # extract mergeable profile view\n",
    "     # merge each profile while looping\n",
    "    if profile_landscape is None:\n",
    "      profile_landscape = profile_view\n",
    "    else:\n",
    "      profile_landscape = profile_landscape.merge(profile_view)"
   ]
  },
  {
   "cell_type": "markdown",
   "metadata": {},
   "source": [
    "log images from landscape_camera to profile_camera"
   ]
  },
  {
   "cell_type": "code",
   "execution_count": 4,
   "metadata": {},
   "outputs": [],
   "source": [
    "profile_camera = None\n",
    "\n",
    "\n",
    "for img_name in os.listdir('camera_images/camera/'):\n",
    "\n",
    "    img = Image.open('camera_images/camera/' + img_name) # read in image\n",
    "    profile = log_image(img).profile() # generate profile  \n",
    "    # profile.set_dataset_timestamp(datetime) # optionally set dataset_timestamp\n",
    "    profile_view = profile.view() # extract mergeable profile view\n",
    "     # merge each profile while looping\n",
    "    if profile_camera is None:\n",
    "      profile_camera = profile_view\n",
    "    else:\n",
    "      profile_camera = profile_camera.merge(profile_view)"
   ]
  },
  {
   "cell_type": "markdown",
   "metadata": {},
   "source": [
    "show data collected from profile_baseline"
   ]
  },
  {
   "cell_type": "code",
   "execution_count": null,
   "metadata": {},
   "outputs": [],
   "source": [
    "from whylogs.core.view.dataset_profile_view import DatasetProfileView\n",
    "from whylogs.core.view.column_profile_view import ColumnProfileView\n",
    "import pandas as pd\n",
    "type(profile_baseline.get_column('image').to_summary_dict())\n",
    "summary_dict = profile_baseline.get_column('image').to_summary_dict()\n",
    "pd.options.display.max_columns = None\n",
    "pd.options.display.max_rows = None\n",
    "df= pd.DataFrame.from_dict(summary_dict, orient='index')\n",
    "# df = df.transpose()\n",
    "df"
   ]
  },
  {
   "cell_type": "markdown",
   "metadata": {},
   "source": [
    "# 2. Step: Visualize Data / Compute P Values with KS Test"
   ]
  },
  {
   "cell_type": "markdown",
   "metadata": {},
   "source": [
    "untilize NotebookProfileVisualizer class to compute histogram and p-values of the statistics\n",
    "- first landscape vs. baseline \n",
    "- second camera vs. baseline"
   ]
  },
  {
   "cell_type": "markdown",
   "metadata": {},
   "source": [
    "### landscape vs. baseline (if we detect drift here there is something wrong!)\n",
    "landscape data and baseline data are not the same dataset but are drawn from the same dataset"
   ]
  },
  {
   "cell_type": "code",
   "execution_count": 5,
   "metadata": {},
   "outputs": [],
   "source": [
    "from whylogs.viz import NotebookProfileVisualizer\n",
    "\n",
    "visualization_landscape_v_baseline = NotebookProfileVisualizer()\n",
    "visualization_landscape_v_baseline.set_profiles(target_profile_view=profile_landscape,reference_profile_view=profile_baseline)\n"
   ]
  },
  {
   "cell_type": "code",
   "execution_count": null,
   "metadata": {},
   "outputs": [],
   "source": [
    "html_viz = visualization_landscape_v_baseline.summary_drift_report()\n",
    "\n",
    "with open('drift_report_l_v_b.html', 'w') as file:\n",
    "    file.write(html_viz.data)\n"
   ]
  },
  {
   "cell_type": "markdown",
   "metadata": {},
   "source": [
    "plot a double histogram with **Saturation.mean Distribution** from landscape (Target) and baseline (Reference)"
   ]
  },
  {
   "cell_type": "code",
   "execution_count": null,
   "metadata": {},
   "outputs": [],
   "source": [
    "visualization_landscape_v_baseline._display_histogram_chart(feature_name='image.Saturation.mean')"
   ]
  },
  {
   "cell_type": "markdown",
   "metadata": {},
   "source": [
    "### Profile Summary for landscape v baseline\n",
    "**As expected, no drift in the significant metrics**"
   ]
  },
  {
   "cell_type": "code",
   "execution_count": null,
   "metadata": {},
   "outputs": [],
   "source": [
    "visualization_landscape_v_baseline.summary_drift_report()"
   ]
  },
  {
   "cell_type": "markdown",
   "metadata": {},
   "source": [
    "### Profile Summary for camera v baseline"
   ]
  },
  {
   "cell_type": "code",
   "execution_count": 6,
   "metadata": {},
   "outputs": [
    {
     "ename": "NameError",
     "evalue": "name 'profile_baseline' is not defined",
     "output_type": "error",
     "traceback": [
      "\u001b[0;31m---------------------------------------------------------------------------\u001b[0m",
      "\u001b[0;31mNameError\u001b[0m                                 Traceback (most recent call last)",
      "Cell \u001b[0;32mIn [6], line 2\u001b[0m\n\u001b[1;32m      1\u001b[0m visualization_camera_v_baseline \u001b[39m=\u001b[39m NotebookProfileVisualizer()\n\u001b[0;32m----> 2\u001b[0m visualization_camera_v_baseline\u001b[39m.\u001b[39mset_profiles(target_profile_view\u001b[39m=\u001b[39mprofile_camera,reference_profile_view\u001b[39m=\u001b[39mprofile_baseline)\n",
      "\u001b[0;31mNameError\u001b[0m: name 'profile_baseline' is not defined"
     ]
    }
   ],
   "source": [
    "visualization_camera_v_baseline = NotebookProfileVisualizer()\n",
    "visualization_camera_v_baseline.set_profiles(target_profile_view=profile_camera,reference_profile_view=profile_baseline)"
   ]
  },
  {
   "cell_type": "code",
   "execution_count": null,
   "metadata": {},
   "outputs": [],
   "source": [
    "visualization_camera_v_baseline.summary_drift_report()"
   ]
  },
  {
   "cell_type": "code",
   "execution_count": null,
   "metadata": {},
   "outputs": [],
   "source": [
    "visualization_camera_v_baseline._display_histogram_chart(feature_name='image.Hue.mean')"
   ]
  },
  {
   "cell_type": "markdown",
   "metadata": {},
   "source": [
    "for fun: landscape v. camera"
   ]
  },
  {
   "cell_type": "code",
   "execution_count": 7,
   "metadata": {},
   "outputs": [],
   "source": [
    "visualization_camera_v_landscape = NotebookProfileVisualizer()\n",
    "visualization_camera_v_landscape.set_profiles(target_profile_view=profile_camera,reference_profile_view=profile_landscape)"
   ]
  },
  {
   "cell_type": "code",
   "execution_count": null,
   "metadata": {},
   "outputs": [],
   "source": [
    "visualization_camera_v_landscape.summary_drift_report()"
   ]
  },
  {
   "cell_type": "code",
   "execution_count": null,
   "metadata": {},
   "outputs": [],
   "source": [
    "visualization_camera_v_landscape.double_histogram(feature_name='image.Saturation.mean')"
   ]
  },
  {
   "attachments": {},
   "cell_type": "markdown",
   "metadata": {},
   "source": [
    "my testing"
   ]
  }
 ],
 "metadata": {
  "kernelspec": {
   "display_name": "Python 3.8.0 ('whylogs_v1Env')",
   "language": "python",
   "name": "python3"
  },
  "language_info": {
   "codemirror_mode": {
    "name": "ipython",
    "version": 3
   },
   "file_extension": ".py",
   "mimetype": "text/x-python",
   "name": "python",
   "nbconvert_exporter": "python",
   "pygments_lexer": "ipython3",
   "version": "3.8.0"
  },
  "orig_nbformat": 4,
  "vscode": {
   "interpreter": {
    "hash": "d07ef46bb94da80869bb5fdca6bcad36abde6f95401a7c8378292aba096a90fb"
   }
  }
 },
 "nbformat": 4,
 "nbformat_minor": 2
}
