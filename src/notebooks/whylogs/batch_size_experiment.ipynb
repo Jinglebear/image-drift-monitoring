{
 "cells": [
  {
   "cell_type": "markdown",
   "metadata": {},
   "source": [
    "imports & set timezone"
   ]
  },
  {
   "cell_type": "code",
   "execution_count": 1,
   "metadata": {},
   "outputs": [],
   "source": [
    "from PIL import Image\n",
    "from whylogs.extras.image_metric import log_image\n",
    "import os\n",
    "from datetime import datetime\n",
    "import pytz \n",
    "# pytz.all_timezones\n",
    "datetime = datetime.now(pytz.timezone('Europe/Berlin'))"
   ]
  },
  {
   "cell_type": "markdown",
   "metadata": {},
   "source": [
    "log baseline"
   ]
  },
  {
   "cell_type": "code",
   "execution_count": 2,
   "metadata": {},
   "outputs": [],
   "source": [
    "profile_baseline = None\n",
    "\n",
    "\n",
    "for img_name in os.listdir('landscape_baseline/baseline/'):\n",
    "\n",
    "    img = Image.open('landscape_baseline/baseline/' + img_name) # read in image\n",
    "    profile = log_image(img).profile() # generate profile  \n",
    "    profile.set_dataset_timestamp(datetime) # optionally set dataset_timestamp\n",
    "    profile_view = profile.view() # extract mergeable profile view\n",
    "     # merge each profile while looping\n",
    "    if profile_baseline is None:\n",
    "      profile_baseline = profile_view\n",
    "    else:\n",
    "      profile_baseline = profile_baseline.merge(profile_view)"
   ]
  },
  {
   "cell_type": "code",
   "execution_count": 3,
   "metadata": {},
   "outputs": [
    {
     "data": {
      "text/plain": [
       "(True, 'profile_baseline.bin')"
      ]
     },
     "execution_count": 3,
     "metadata": {},
     "output_type": "execute_result"
    }
   ],
   "source": [
    "profile_baseline.write('profile_baseline.bin')"
   ]
  },
  {
   "cell_type": "code",
   "execution_count": 6,
   "metadata": {},
   "outputs": [],
   "source": [
    "profile_baseline_reconstruct = DatasetProfileView.read('profile_baseline.bin')"
   ]
  },
  {
   "cell_type": "code",
   "execution_count": 12,
   "metadata": {},
   "outputs": [
    {
     "data": {
      "text/html": [
       "<div>\n",
       "<style scoped>\n",
       "    .dataframe tbody tr th:only-of-type {\n",
       "        vertical-align: middle;\n",
       "    }\n",
       "\n",
       "    .dataframe tbody tr th {\n",
       "        vertical-align: top;\n",
       "    }\n",
       "\n",
       "    .dataframe thead th {\n",
       "        text-align: right;\n",
       "    }\n",
       "</style>\n",
       "<table border=\"1\" class=\"dataframe\">\n",
       "  <thead>\n",
       "    <tr style=\"text-align: right;\">\n",
       "      <th></th>\n",
       "      <th>image/Brightness.mean:cardinality/est</th>\n",
       "      <th>image/Brightness.mean:cardinality/lower_1</th>\n",
       "      <th>image/Brightness.mean:cardinality/upper_1</th>\n",
       "      <th>image/Brightness.mean:counts/inf</th>\n",
       "      <th>image/Brightness.mean:counts/n</th>\n",
       "      <th>image/Brightness.mean:counts/nan</th>\n",
       "      <th>image/Brightness.mean:counts/null</th>\n",
       "      <th>image/Brightness.mean:distribution/max</th>\n",
       "      <th>image/Brightness.mean:distribution/mean</th>\n",
       "      <th>image/Brightness.mean:distribution/median</th>\n",
       "      <th>...</th>\n",
       "      <th>image/Saturation.stddev:distribution/q_90</th>\n",
       "      <th>image/Saturation.stddev:distribution/q_95</th>\n",
       "      <th>image/Saturation.stddev:distribution/q_99</th>\n",
       "      <th>image/Saturation.stddev:distribution/stddev</th>\n",
       "      <th>image/Saturation.stddev:types/boolean</th>\n",
       "      <th>image/Saturation.stddev:types/fractional</th>\n",
       "      <th>image/Saturation.stddev:types/integral</th>\n",
       "      <th>image/Saturation.stddev:types/object</th>\n",
       "      <th>image/Saturation.stddev:types/string</th>\n",
       "      <th>type</th>\n",
       "    </tr>\n",
       "    <tr>\n",
       "      <th>column</th>\n",
       "      <th></th>\n",
       "      <th></th>\n",
       "      <th></th>\n",
       "      <th></th>\n",
       "      <th></th>\n",
       "      <th></th>\n",
       "      <th></th>\n",
       "      <th></th>\n",
       "      <th></th>\n",
       "      <th></th>\n",
       "      <th></th>\n",
       "      <th></th>\n",
       "      <th></th>\n",
       "      <th></th>\n",
       "      <th></th>\n",
       "      <th></th>\n",
       "      <th></th>\n",
       "      <th></th>\n",
       "      <th></th>\n",
       "      <th></th>\n",
       "      <th></th>\n",
       "    </tr>\n",
       "  </thead>\n",
       "  <tbody>\n",
       "    <tr>\n",
       "      <th>image</th>\n",
       "      <td>1723.762597</td>\n",
       "      <td>1701.74835</td>\n",
       "      <td>1746.325705</td>\n",
       "      <td>0</td>\n",
       "      <td>1800</td>\n",
       "      <td>0</td>\n",
       "      <td>0</td>\n",
       "      <td>238.697202</td>\n",
       "      <td>142.023779</td>\n",
       "      <td>141.153901</td>\n",
       "      <td>...</td>\n",
       "      <td>82.271041</td>\n",
       "      <td>87.35159</td>\n",
       "      <td>96.878167</td>\n",
       "      <td>20.345781</td>\n",
       "      <td>0</td>\n",
       "      <td>1800</td>\n",
       "      <td>0</td>\n",
       "      <td>0</td>\n",
       "      <td>0</td>\n",
       "      <td>SummaryType.COLUMN</td>\n",
       "    </tr>\n",
       "  </tbody>\n",
       "</table>\n",
       "<p>1 rows × 228 columns</p>\n",
       "</div>"
      ],
      "text/plain": [
       "        image/Brightness.mean:cardinality/est  \\\n",
       "column                                          \n",
       "image                             1723.762597   \n",
       "\n",
       "        image/Brightness.mean:cardinality/lower_1  \\\n",
       "column                                              \n",
       "image                                  1701.74835   \n",
       "\n",
       "        image/Brightness.mean:cardinality/upper_1  \\\n",
       "column                                              \n",
       "image                                 1746.325705   \n",
       "\n",
       "        image/Brightness.mean:counts/inf  image/Brightness.mean:counts/n  \\\n",
       "column                                                                     \n",
       "image                                  0                            1800   \n",
       "\n",
       "        image/Brightness.mean:counts/nan  image/Brightness.mean:counts/null  \\\n",
       "column                                                                        \n",
       "image                                  0                                  0   \n",
       "\n",
       "        image/Brightness.mean:distribution/max  \\\n",
       "column                                           \n",
       "image                               238.697202   \n",
       "\n",
       "        image/Brightness.mean:distribution/mean  \\\n",
       "column                                            \n",
       "image                                142.023779   \n",
       "\n",
       "        image/Brightness.mean:distribution/median  ...  \\\n",
       "column                                             ...   \n",
       "image                                  141.153901  ...   \n",
       "\n",
       "        image/Saturation.stddev:distribution/q_90  \\\n",
       "column                                              \n",
       "image                                   82.271041   \n",
       "\n",
       "        image/Saturation.stddev:distribution/q_95  \\\n",
       "column                                              \n",
       "image                                    87.35159   \n",
       "\n",
       "        image/Saturation.stddev:distribution/q_99  \\\n",
       "column                                              \n",
       "image                                   96.878167   \n",
       "\n",
       "        image/Saturation.stddev:distribution/stddev  \\\n",
       "column                                                \n",
       "image                                     20.345781   \n",
       "\n",
       "        image/Saturation.stddev:types/boolean  \\\n",
       "column                                          \n",
       "image                                       0   \n",
       "\n",
       "        image/Saturation.stddev:types/fractional  \\\n",
       "column                                             \n",
       "image                                       1800   \n",
       "\n",
       "        image/Saturation.stddev:types/integral  \\\n",
       "column                                           \n",
       "image                                        0   \n",
       "\n",
       "        image/Saturation.stddev:types/object  \\\n",
       "column                                         \n",
       "image                                      0   \n",
       "\n",
       "        image/Saturation.stddev:types/string                type  \n",
       "column                                                            \n",
       "image                                      0  SummaryType.COLUMN  \n",
       "\n",
       "[1 rows x 228 columns]"
      ]
     },
     "execution_count": 12,
     "metadata": {},
     "output_type": "execute_result"
    }
   ],
   "source": [
    "from whylogs.core.view.column_profile_view import ColumnProfileView\n",
    "profile_baseline_rec_column = profile_baseline_reconstruct.get_column('image')\n",
    "# profile_baseline_rec_column.to_summary_dict()\n",
    "profile_baseline_reconstruct.to_pandas()"
   ]
  },
  {
   "cell_type": "code",
   "execution_count": null,
   "metadata": {},
   "outputs": [],
   "source": [
    "from whylogs.core.metrics.metrics import _METRIC_DESERIALIZER_REGISTRY"
   ]
  },
  {
   "cell_type": "code",
   "execution_count": null,
   "metadata": {},
   "outputs": [],
   "source": [
    "profile_baseline_bytes= profile_baseline.serialize()\n",
    "\n",
    "with open('profile_baseline.bin', 'wb') as f:\n",
    "    f.write(profile_baseline_bytes)\n"
   ]
  },
  {
   "cell_type": "code",
   "execution_count": null,
   "metadata": {},
   "outputs": [],
   "source": [
    "with open('profile_baseline.bin', 'rb') as f:\n",
    "    profile_baseline_bytes_read = f.read()\n"
   ]
  },
  {
   "cell_type": "code",
   "execution_count": 5,
   "metadata": {},
   "outputs": [],
   "source": [
    "from whylogs.core.view.dataset_profile_view import DatasetProfileView\n",
    "\n",
    "# profile_baseline_reconstruct = DatasetProfileView.deserialize(profile_baseline_bytes)"
   ]
  },
  {
   "cell_type": "code",
   "execution_count": null,
   "metadata": {},
   "outputs": [],
   "source": [
    "from whylogs.core.view.column_profile_view import ColumnProfileView"
   ]
  },
  {
   "cell_type": "code",
   "execution_count": 13,
   "metadata": {},
   "outputs": [],
   "source": [
    "from whylogs.extras.image_metric import ImageMetric"
   ]
  },
  {
   "cell_type": "code",
   "execution_count": 67,
   "metadata": {},
   "outputs": [
    {
     "data": {
      "text/plain": [
       "1800"
      ]
     },
     "execution_count": 67,
     "metadata": {},
     "output_type": "execute_result"
    }
   ],
   "source": [
    "import pandas as pd\n",
    "summary_dict = profile_baseline.get_column('image').to_summary_dict()\n",
    "pd.options.display.max_columns = None\n",
    "pd.options.display.max_rows = None\n",
    "df= pd.DataFrame.from_dict(summary_dict, orient='index')\n",
    "df = profile_baseline.to_pandas()\n",
    "all = len(df.columns)\n",
    "# df.loc[df.columns[1:4] == 1800] \n",
    "# df.filter(regex='[image]')\n",
    "# df.loc[df[df.filter(regex='[image]')] == 1800]\n",
    "\n",
    "all_col_with_n = df.loc[:,(df == 1800).all()].transpose()\n",
    "\n",
    "df_brightness_n =df['image/Brightness.mean:counts/n']['image']\n",
    "df_brightness_n\n",
    "# df_brightness_n['image']\n",
    "\n",
    "profile_to_pandas = profile_baseline.to_pandas()\n",
    "\n",
    "# profile_to_pandas = profile_to_pandas.loc[:,(df == 1800).all()].transpose()\n",
    "\n",
    "profile_to_pandas['image/Brightness.mean:counts/n']['image']\n",
    "\n",
    "test = profile_baseline.to_pandas()['image/Brightness.mean:counts/n']['image']\n",
    "\n",
    "test\n",
    "\n"
   ]
  },
  {
   "cell_type": "code",
   "execution_count": 5,
   "metadata": {},
   "outputs": [
    {
     "ename": "NameError",
     "evalue": "name 'profile_baseline_reconstruct' is not defined",
     "output_type": "error",
     "traceback": [
      "\u001b[0;31m---------------------------------------------------------------------------\u001b[0m",
      "\u001b[0;31mNameError\u001b[0m                                 Traceback (most recent call last)",
      "Cell \u001b[0;32mIn [5], line 1\u001b[0m\n\u001b[0;32m----> 1\u001b[0m profile_baseline_reconstruct\u001b[39m.\u001b[39m_columns[\u001b[39m'\u001b[39m\u001b[39mimage\u001b[39m\u001b[39m'\u001b[39m]\u001b[39m.\u001b[39mget_metric_names()\n",
      "\u001b[0;31mNameError\u001b[0m: name 'profile_baseline_reconstruct' is not defined"
     ]
    }
   ],
   "source": [
    "profile_baseline_reconstruct._columns['image'].get_metric_names()\n"
   ]
  },
  {
   "cell_type": "code",
   "execution_count": null,
   "metadata": {},
   "outputs": [],
   "source": [
    "from whylogs.viz import NotebookProfileVisualizer\n",
    "\n",
    "visualization_landscape_v_baseline = NotebookProfileVisualizer()\n",
    "visualization_landscape_v_baseline.set_profiles(target_profile_view=profile_baseline_reconstruct,reference_profile_view=profile_baseline_reconstruct)\n",
    "\n",
    "visualization_landscape_v_baseline.summary_drift_report()\n"
   ]
  }
 ],
 "metadata": {
  "kernelspec": {
   "display_name": "Python 3.8.0 ('whylogs_v1Env')",
   "language": "python",
   "name": "python3"
  },
  "language_info": {
   "codemirror_mode": {
    "name": "ipython",
    "version": 3
   },
   "file_extension": ".py",
   "mimetype": "text/x-python",
   "name": "python",
   "nbconvert_exporter": "python",
   "pygments_lexer": "ipython3",
   "version": "3.8.0 (default, Nov  6 2019, 21:49:08) \n[GCC 7.3.0]"
  },
  "orig_nbformat": 4,
  "vscode": {
   "interpreter": {
    "hash": "d07ef46bb94da80869bb5fdca6bcad36abde6f95401a7c8378292aba096a90fb"
   }
  }
 },
 "nbformat": 4,
 "nbformat_minor": 2
}
