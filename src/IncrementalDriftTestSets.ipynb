{
 "cells": [
  {
   "attachments": {},
   "cell_type": "markdown",
   "metadata": {},
   "source": [
    "Camelyon Incremental Drift Test Sets"
   ]
  },
  {
   "cell_type": "code",
   "execution_count": null,
   "metadata": {},
   "outputs": [],
   "source": [
    "import numpy as np\n",
    "camelyon_train_comp = np.load('/home/ubuntu/image-drift-monitoring/data/camelyon17_v1.0/camelyon_train_ds.npz')\n",
    "camelyon_train = camelyon_train_comp['arr_0']\n",
    "\n",
    "camelyon_test_comp = np.load('/home/ubuntu/image-drift-monitoring/data/camelyon17_v1.0/camelyon_test_ds.npz')\n",
    "camelyon_test = camelyon_test_comp['arr_0']\n",
    "W_SIZE = 200\n",
    "\n",
    "for j in range(5,105,5):\n",
    "\n",
    "    np.random.shuffle(camelyon_test)\n",
    "    np.random.shuffle(camelyon_train)\n",
    "    tmp_j = j/100\n",
    "   \n",
    "    ood_part = camelyon_test[:int(tmp_j*W_SIZE)]\n",
    "    id_part = camelyon_train[:int(W_SIZE - ood_part.shape[0])]\n",
    "\n",
    "\n",
    "    combined_part = np.concatenate([ood_part,id_part])\n",
    "   \n",
    "    np.random.shuffle(combined_part)\n",
    "    np.savez_compressed('/home/ubuntu/image-drift-monitoring/data/camelyon17_v1.0/drifted_data/incremental_drift/camelyon_test_incremental_{}.npz'.format(j),combined_part)\n",
    "    "
   ]
  },
  {
   "attachments": {},
   "cell_type": "markdown",
   "metadata": {},
   "source": [
    "GlobalWheat Incremental Drift Test Sets"
   ]
  },
  {
   "cell_type": "code",
   "execution_count": null,
   "metadata": {},
   "outputs": [],
   "source": [
    "import numpy as np\n",
    "globalwheat_train_comp = np.load('/home/ubuntu/image-drift-monitoring/data/globalwheat_v1.1/globalwheat_train_ds.npz')\n",
    "globalwheat_train = globalwheat_train_comp['arr_0']\n",
    "\n",
    "globalwheat_test_comp = np.load('/home/ubuntu/image-drift-monitoring/data/globalwheat_v1.1/globalwheat_test_ds.npz')\n",
    "globalwheat_test = globalwheat_test_comp['arr_0']\n",
    "\n",
    "W_SIZE = 200\n",
    "\n",
    "for j in range(5,105,5):\n",
    "\n",
    "    np.random.shuffle(globalwheat_test)\n",
    "    np.random.shuffle(globalwheat_train)\n",
    "    tmp_j = j/100\n",
    "\n",
    "    ood_part = globalwheat_test[:int(tmp_j*W_SIZE)]\n",
    "    id_part = globalwheat_train[:int(W_SIZE - ood_part.shape[0])]\n",
    "    \n",
    "    combined_part = np.concatenate([ood_part,id_part])\n",
    "    \n",
    "    np.random.shuffle(combined_part)\n",
    "    np.savez_compressed('/home/ubuntu/image-drift-monitoring/data/globalwheat_v1.1/drifted_data/incremental_drift/globalwheat_test_incremental_{}.npz'.format(j),combined_part)"
   ]
  },
  {
   "attachments": {},
   "cell_type": "markdown",
   "metadata": {},
   "source": [
    "iWildcam Incremental Drift Test Sets"
   ]
  },
  {
   "cell_type": "code",
   "execution_count": null,
   "metadata": {},
   "outputs": [],
   "source": [
    "import numpy as np\n",
    "iwildcam_train_comp = np.load('/home/ubuntu/image-drift-monitoring/data/iwildcam_v2.0/iwildcam_train_ds.npz')\n",
    "iwildcam_train = iwildcam_train_comp['arr_0']\n",
    "\n",
    "iwildcam_test_comp = np.load('/home/ubuntu/image-drift-monitoring/data/iwildcam_v2.0/iwildcam_test_ds.npz')\n",
    "iwildcam_test = iwildcam_test_comp['arr_0']\n",
    "W_SIZE = 200\n",
    "\n",
    "for j in  range(5,105,5):\n",
    "\n",
    "    np.random.shuffle(iwildcam_test)\n",
    "    np.random.shuffle(iwildcam_train)\n",
    "    tmp_j = j/100\n",
    "\n",
    "    ood_part = iwildcam_test[:int(tmp_j*W_SIZE)]\n",
    "    id_part = iwildcam_train[:int(W_SIZE - ood_part.shape[0])]\n",
    "\n",
    "    combined_part = np.concatenate([ood_part,id_part])\n",
    "\n",
    "    np.random.shuffle(combined_part)\n",
    "    np.savez_compressed('/home/ubuntu/image-drift-monitoring/data/iwildcam_v2.0/drifted_data/incremental_drift/iwildcam_test_incremental_{}.npz'.format(j),combined_part)"
   ]
  },
  {
   "attachments": {},
   "cell_type": "markdown",
   "metadata": {},
   "source": [
    "rxrx1 Incremental Drift Test Sets"
   ]
  },
  {
   "cell_type": "code",
   "execution_count": null,
   "metadata": {},
   "outputs": [],
   "source": [
    "import numpy as np\n",
    "rxrx1_train_comp = np.load('/home/ubuntu/image-drift-monitoring/data/rxrx1_v1.0/rxrx1_train_ds.npz')\n",
    "rxrx1_train = rxrx1_train_comp['arr_0']\n",
    "\n",
    "rxrx1_test_comp = np.load('/home/ubuntu/image-drift-monitoring/data/rxrx1_v1.0/rxrx1_test_ds.npz')\n",
    "rxrx1_test = rxrx1_test_comp['arr_0']\n",
    "\n",
    "W_SIZE = 200\n",
    "\n",
    "for j in range(5,105,5):\n",
    "\n",
    "    np.random.shuffle(rxrx1_test)\n",
    "    np.random.shuffle(rxrx1_train)\n",
    "    tmp_j = j/100\n",
    "    \n",
    "    ood_part = rxrx1_test[:int(tmp_j*W_SIZE)]\n",
    "    id_part = rxrx1_train[:int(W_SIZE - ood_part.shape[0])]\n",
    "\n",
    "    combined_part = np.concatenate([ood_part,id_part])\n",
    "\n",
    "    np.random.shuffle(combined_part)\n",
    "    np.savez_compressed('/home/ubuntu/image-drift-monitoring/data/rxrx1_v1.0/drifted_data/incremental_drift/rxrx1_test_incremental_{}.npz'.format(j),combined_part)"
   ]
  },
  {
   "attachments": {},
   "cell_type": "markdown",
   "metadata": {},
   "source": [
    "CAMELYON, GLOBALWHEAT, IWILDCAM, RXRX1 --> RAW DATA DRIFT TEST SET"
   ]
  },
  {
   "cell_type": "code",
   "execution_count": null,
   "metadata": {},
   "outputs": [],
   "source": [
    "INCREMENTAL_DRIFT_PATH_CAMELYON = '/home/ubuntu/image-drift-monitoring/data/camelyon17_v1.0/drifted_data/incremental_drift'\n",
    "INCREMENTAL_DRIFT_PATH_GLOBALWHEAT = '/home/ubuntu/image-drift-monitoring/data/globalwheat_v1.1/drifted_data/incremental_drift'\n",
    "INCREMENTAL_DRIFT_PATH_IWILDCAM = '/home/ubuntu/image-drift-monitoring/data/iwildcam_v2.0/drifted_data/incremental_drift'\n",
    "INCREMENTAL_DRIFT_PATH_RXRX1 = '/home/ubuntu/image-drift-monitoring/data/rxrx1_v1.0/drifted_data/incremental_drift'\n",
    "from wilds import get_dataset\n",
    "\n",
    "%cd /home/ubuntu/image-drift-monitoring\n",
    "from src.modules.whylogs.whylogs_logger import Whylogs_Logger\n",
    "import random\n",
    "\n",
    "\n",
    "\"\"\" WILDS CAMELYON DATASET \"\"\"\n",
    "dataset = get_dataset(dataset=\"camelyon17\", download=False)\n",
    "\"\"\" WILDS GLOBALWHEAT DATASET \"\"\"\n",
    "# dataset = get_dataset(dataset=\"globalwheat\", download=False)\n",
    "\"\"\" WILDS IWILDCAM DATASET \"\"\"\n",
    "# dataset = get_dataset(dataset=\"iwildcam\", download=False)\n",
    "\"\"\" WILDS RXRX1 DATASET \"\"\"\n",
    "# dataset = get_dataset(dataset=\"rxrx1\",download=False)\n",
    "\n",
    "train_data = dataset.get_subset(\"train\")\n",
    "test_data = dataset.get_subset(\"test\")\n",
    "\n",
    "w_logger = Whylogs_Logger() # init whylogs logger \n",
    "\n",
    "print(len(test_data.indices))\n",
    "indices_arr_test = test_data.indices\n",
    "indices_arr_train = train_data.indices\n",
    "W_SIZE = 200\n",
    "\n",
    "for j in range(5,105,5):\n",
    "\n",
    "    tmp_j = j /100\n",
    "    random.shuffle(indices_arr_test)\n",
    "    random.shuffle(indices_arr_train)\n",
    "    indices_test = indices_arr_test[:int(tmp_j*W_SIZE)]\n",
    "    indices_train = indices_arr_train[:int(W_SIZE - len(indices_test))]\n",
    "\n",
    "    pil_data_arr_test = []\n",
    "    for i in indices_test:\n",
    "        img = test_data.dataset[i][0]\n",
    "        pil_data_arr_test.append(img)\n",
    "\n",
    "    pil_data_arr_train =[]\n",
    "    for i in indices_train:\n",
    "        img = train_data.dataset[i][0]\n",
    "        pil_data_arr_train.append(img)\n",
    "    \n",
    "    res_data_arr = pil_data_arr_train + pil_data_arr_test\n",
    "\n",
    "    profile = w_logger.log_pil_images_data_from_list(pil_data_arr=res_data_arr)\n",
    "    # binary name = <dataset_name> , data_directory_path = <DatasetSuddenDriftBinOutputPath>\n",
    "    w_logger.serialize_profile(profile=profile,binary_name='camelyon_test_incremental_{}'.format(j),data_directory_path=INCREMENTAL_DRIFT_PATH_CAMELYON)"
   ]
  }
 ],
 "metadata": {
  "kernelspec": {
   "display_name": "alibiwhy",
   "language": "python",
   "name": "python3"
  },
  "language_info": {
   "codemirror_mode": {
    "name": "ipython",
    "version": 3
   },
   "file_extension": ".py",
   "mimetype": "text/x-python",
   "name": "python",
   "nbconvert_exporter": "python",
   "pygments_lexer": "ipython3",
   "version": "3.8.16"
  },
  "orig_nbformat": 4,
  "vscode": {
   "interpreter": {
    "hash": "98100c075901eb903bc518c83a1e565ba12fa6044992de8fecb9455902708d4b"
   }
  }
 },
 "nbformat": 4,
 "nbformat_minor": 2
}
