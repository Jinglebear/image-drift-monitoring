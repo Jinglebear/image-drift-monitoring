{
 "cells": [
  {
   "attachments": {},
   "cell_type": "markdown",
   "metadata": {},
   "source": [
    "Camelyon Recurring Drift Test Sets"
   ]
  },
  {
   "cell_type": "code",
   "execution_count": null,
   "metadata": {},
   "outputs": [],
   "source": [
    "import numpy as np\n",
    "\n",
    "camelyon_test_comp = np.load('/home/ubuntu/image-drift-monitoring/data/camelyon17_v1.0/camelyon_test_ds.npz')\n",
    "camelyon_test = camelyon_test_comp['arr_0']\n",
    "\n",
    "camelyon_train_comp = np.load('/home/ubuntu/image-drift-monitoring/data/camelyon17_v1.0/camelyon_train_ds.npz')\n",
    "camelyon_train = camelyon_train_comp['arr_0']\n",
    "\n",
    "\n",
    "\n",
    "\n",
    "for i in range(1,21,1):\n",
    "    if i in [1,2,5,6,9,10,13,14,17,18]:\n",
    "        np.random.shuffle(camelyon_train)\n",
    "        camelyon_frac = camelyon_train[:200]\n",
    "    if i in [3,4,7,8,11,12,15,16,19,20]:\n",
    "        np.random.shuffle(camelyon_test)\n",
    "        camelyon_frac = camelyon_test[:200]\n",
    "\n",
    "    np.savez_compressed('/home/ubuntu/image-drift-monitoring/data/camelyon17_v1.0/drifted_data/recurring_drift/camelyon_test_recurring_{}.npz'.format(i),camelyon_frac)\n",
    "    "
   ]
  },
  {
   "attachments": {},
   "cell_type": "markdown",
   "metadata": {},
   "source": [
    "GlobalWheat Recurring Drift Test Sets"
   ]
  },
  {
   "cell_type": "code",
   "execution_count": null,
   "metadata": {},
   "outputs": [],
   "source": [
    "import numpy as np\n",
    "\n",
    "globalwheat_test_comp = np.load('/home/ubuntu/image-drift-monitoring/data/globalwheat_v1.1/globalwheat_test_ds.npz')\n",
    "globalwheat_test = globalwheat_test_comp['arr_0']\n",
    "\n",
    "globalwheat_train_comp = np.load('/home/ubuntu/image-drift-monitoring/data/globalwheat_v1.1/globalwheat_train_ds.npz')\n",
    "globalwheat_train = globalwheat_train_comp['arr_0']\n",
    "\n",
    "\n",
    "\n",
    "\n",
    "for i in range(1,21,1):\n",
    "    if i in [1,2,5,6,9,10,13,14,17,18]:\n",
    "        np.random.shuffle(globalwheat_train)\n",
    "        globalwheat_frac =globalwheat_train[:200]\n",
    "    if i in [3,4,7,8,11,12,15,16,19,20]:\n",
    "        np.random.shuffle(globalwheat_test)\n",
    "        globalwheat_frac =globalwheat_test[:200]\n",
    "\n",
    "    np.savez_compressed('/home/ubuntu/image-drift-monitoring/data/globalwheat_v1.1/drifted_data/recurring_drift/globalwheat_test_recurring_{}.npz'.format(i),globalwheat_frac)"
   ]
  },
  {
   "attachments": {},
   "cell_type": "markdown",
   "metadata": {},
   "source": [
    "iWildcam Recurring Drift Test Sets"
   ]
  },
  {
   "cell_type": "code",
   "execution_count": null,
   "metadata": {},
   "outputs": [],
   "source": [
    "import numpy as np\n",
    "\n",
    "iwildcam_test_comp = np.load('/home/ubuntu/image-drift-monitoring/data/iwildcam_v2.0/iwildcam_test_ds.npz')\n",
    "iwildcam_test = iwildcam_test_comp['arr_0']\n",
    "\n",
    "iwildcam_train_comp = np.load('/home/ubuntu/image-drift-monitoring/data/iwildcam_v2.0/iwildcam_train_ds.npz')\n",
    "iwildcam_train = iwildcam_train_comp['arr_0']\n",
    "\n",
    "\n",
    "\n",
    "\n",
    "for i in range(1,21,1):\n",
    "    if i in [1,2,5,6,9,10,13,14,17,18]:\n",
    "        np.random.shuffle(iwildcam_train)\n",
    "        iwildcam_frac =iwildcam_train[:200]\n",
    "    if i in [3,4,7,8,11,12,15,16,19,20]:\n",
    "        np.random.shuffle(iwildcam_test)\n",
    "        iwildcam_frac =iwildcam_test[:200]\n",
    "\n",
    "    np.savez_compressed('/home/ubuntu/image-drift-monitoring/data/iwildcam_v2.0/drifted_data/recurring_drift/iwildcam_test_recurring_{}.npz'.format(i),iwildcam_frac)"
   ]
  },
  {
   "attachments": {},
   "cell_type": "markdown",
   "metadata": {},
   "source": [
    "rxrx1 Recurring Drift Test Sets"
   ]
  },
  {
   "cell_type": "code",
   "execution_count": null,
   "metadata": {},
   "outputs": [],
   "source": [
    "import numpy as np\n",
    "\n",
    "rxrx1_test_comp = np.load('/home/ubuntu/image-drift-monitoring/data/rxrx1_v1.0/rxrx1_test_ds.npz')\n",
    "rxrx1_test = rxrx1_test_comp['arr_0']\n",
    "\n",
    "rxrx1_train_comp = np.load('/home/ubuntu/image-drift-monitoring/data/rxrx1_v1.0/rxrx1_train_ds.npz')\n",
    "rxrx1_train = rxrx1_train_comp['arr_0']\n",
    "\n",
    "\n",
    "\n",
    "\n",
    "for i in range(1,21,1):\n",
    "    if i in [1,2,5,6,9,10,13,14,17,18]:\n",
    "        np.random.shuffle(rxrx1_train)\n",
    "        rxrx1_frac =rxrx1_train[:200]\n",
    "    if i in [3,4,7,8,11,12,15,16,19,20]:\n",
    "        np.random.shuffle(rxrx1_test)\n",
    "        rxrx1_frac =rxrx1_test[:200]\n",
    "\n",
    "    np.savez_compressed('/home/ubuntu/image-drift-monitoring/data/rxrx1_v1.0/drifted_data/recurring_drift/rxrx1_test_recurring_{}.npz'.format(i),rxrx1_frac)"
   ]
  },
  {
   "attachments": {},
   "cell_type": "markdown",
   "metadata": {},
   "source": [
    "CAMELYON, GLOBALWHEAT, IWILDCAM, RXRX1 --> RAW DATA DRIFT TEST SET"
   ]
  },
  {
   "cell_type": "code",
   "execution_count": null,
   "metadata": {},
   "outputs": [],
   "source": [
    "RECURRING_DRIFT_PATH_CAMELYON = '/home/ubuntu/image-drift-monitoring/data/camelyon17_v1.0/drifted_data/recurring_drift'\n",
    "RECURRING_DRIFT_PATH_GLOBALWHEAT = '/home/ubuntu/image-drift-monitoring/data/globalwheat_v1.1/drifted_data/recurring_drift'\n",
    "RECURRING_DRIFT_PATH_IWILDCAM = '/home/ubuntu/image-drift-monitoring/data/iwildcam_v2.0/drifted_data/recurring_drift'\n",
    "RECURRING_DRIFT_PATH_RXRX1 = '/home/ubuntu/image-drift-monitoring/data/rxrx1_v1.0/drifted_data/recurring_drift'\n",
    "from wilds import get_dataset\n",
    "\n",
    "%cd /home/ubuntu/image-drift-monitoring\n",
    "from src.modules.whylogs.whylogs_logger import Whylogs_Logger\n",
    "import random\n",
    "\n",
    "\n",
    "\"\"\" WILDS CAMELYON DATASET \"\"\"\n",
    "dataset = get_dataset(dataset=\"camelyon17\", download=False)\n",
    "\"\"\" WILDS GLOBALWHEAT DATASET \"\"\"\n",
    "# dataset = get_dataset(dataset=\"globalwheat\", download=False)\n",
    "\"\"\" WILDS IWILDCAM DATASET \"\"\"\n",
    "# dataset = get_dataset(dataset=\"iwildcam\", download=False)\n",
    "\"\"\" WILDS RXRX1 DATASET \"\"\"\n",
    "# dataset = get_dataset(dataset=\"rxrx1\",download=False)\n",
    "\n",
    "\n",
    "test_data = dataset.get_subset(\"test\")\n",
    "train_data = dataset.get_subset(\"train\")\n",
    "\n",
    "\n",
    "w_logger = Whylogs_Logger() # init whylogs logger \n",
    "\n",
    "\n",
    "indices_arr_test = test_data.indices\n",
    "indices_arr_train = train_data.indices\n",
    "\n",
    "for i in range(1,21,1):\n",
    "    pil_data_arr = []\n",
    "    if i in [1,2,5,6,9,10,13,14,17,18]:\n",
    "        random.shuffle(indices_arr_train)\n",
    "        indices_train = indices_arr_train[:200]\n",
    "        for k in indices_train: pil_data_arr.append(train_data.dataset[k][0])\n",
    "    if i in [3,4,7,8,11,12,15,16,19,20]:\n",
    "        random.shuffle(indices_arr_test)\n",
    "        indices_test = indices_arr_test[:200]\n",
    "        for k in indices_test: pil_data_arr.append(test_data.dataset[k][0])\n",
    "    \n",
    "    profile = w_logger.log_pil_images_data_from_list(pil_data_arr=pil_data_arr)\n",
    "    w_logger.serialize_profile(profile=profile,binary_name='camelyon_test_recurring_{}'.format(i),data_directory_path=RECURRING_DRIFT_PATH_CAMELYON)"
   ]
  }
 ],
 "metadata": {
  "kernelspec": {
   "display_name": "alibiwhy",
   "language": "python",
   "name": "python3"
  },
  "language_info": {
   "codemirror_mode": {
    "name": "ipython",
    "version": 3
   },
   "file_extension": ".py",
   "mimetype": "text/x-python",
   "name": "python",
   "nbconvert_exporter": "python",
   "pygments_lexer": "ipython3",
   "version": "3.8.16"
  },
  "orig_nbformat": 4,
  "vscode": {
   "interpreter": {
    "hash": "98100c075901eb903bc518c83a1e565ba12fa6044992de8fecb9455902708d4b"
   }
  }
 },
 "nbformat": 4,
 "nbformat_minor": 2
}
