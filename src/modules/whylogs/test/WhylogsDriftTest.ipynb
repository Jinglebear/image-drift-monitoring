{
 "cells": [
  {
   "cell_type": "code",
   "execution_count": 5,
   "metadata": {},
   "outputs": [],
   "source": [
    "import sys\n",
    "sys.path.append('/home/ubuntu/image-drift-monitoring/src/modules/whylogs')\n",
    "from whylogs_logger import Whylogs_Logger"
   ]
  },
  {
   "attachments": {},
   "cell_type": "markdown",
   "metadata": {},
   "source": [
    "# Camelyon"
   ]
  },
  {
   "attachments": {},
   "cell_type": "markdown",
   "metadata": {},
   "source": [
    "camelyon train 5-100% (ID) on camelyon test 10 - 200 Images (OOD)"
   ]
  },
  {
   "cell_type": "code",
   "execution_count": 6,
   "metadata": {},
   "outputs": [],
   "source": [
    "camelyon_TRAIN_PATH = '/home/ubuntu/image-drift-monitoring/data/camelyon17_v1.0'\n",
    "camelyon_SUDDEN_DRIFT_TEST_PATH = '/home/ubuntu/image-drift-monitoring/data/camelyon17_v1.0/drifted_data/sudden_drift'\n",
    "myLogger = Whylogs_Logger()\n",
    "\n",
    "for j in range(5,105,5):\n",
    "    camelyon_train_j = myLogger.deserialize_profile(data_directory_path=camelyon_TRAIN_PATH,binary_name='train_camelyon_profile_{}'.format(j))\n",
    "    for i in range(10,210,10):\n",
    "        camelyon_test_i = myLogger.deserialize_profile(data_directory_path=camelyon_SUDDEN_DRIFT_TEST_PATH,binary_name='camelyon_test_{}'.format(i))\n",
    "        myLogger.create_profile_compare_summary_json(camelyon_test_i,camelyon_train_j,camelyon_SUDDEN_DRIFT_TEST_PATH,'camelyon_{}_v_{}'.format(j,i))\n",
    "        myLogger.create_drift_metric_df_from_comp_summary_json(camelyon_SUDDEN_DRIFT_TEST_PATH,'camelyon_{}_v_{}'.format(j,i))"
   ]
  },
  {
   "attachments": {},
   "cell_type": "markdown",
   "metadata": {},
   "source": [
    "# GlobalWheat"
   ]
  },
  {
   "cell_type": "code",
   "execution_count": null,
   "metadata": {},
   "outputs": [],
   "source": [
    "globalwheat_TRAIN_PATH = '/home/ubuntu/image-drift-monitoring/data/globalwheat_v1.1'\n",
    "globalwheat_SUDDEN_DRIFT_TEST_PATH = '/home/ubuntu/image-drift-monitoring/data/globalwheat_v1.1/drifted_data/sudden_drift'\n",
    "myLogger = Whylogs_Logger()\n",
    "\n",
    "for j in range(5,105,5):\n",
    "    globalwheat_train_j = myLogger.deserialize_profile(data_directory_path=globalwheat_TRAIN_PATH,binary_name='train_globalwheat_profile_{}'.format(j))\n",
    "    for i in range(10,210,10):\n",
    "        globalwheat_test_i = myLogger.deserialize_profile(data_directory_path=globalwheat_SUDDEN_DRIFT_TEST_PATH,binary_name='globalwheat_test_{}'.format(i))\n",
    "        myLogger.create_profile_compare_summary_json(globalwheat_test_i,globalwheat_train_j,globalwheat_SUDDEN_DRIFT_TEST_PATH,'globalwheat_{}_v_{}'.format(j,i))\n",
    "        myLogger.create_drift_metric_df_from_comp_summary_json(globalwheat_SUDDEN_DRIFT_TEST_PATH,'globalwheat_{}_v_{}'.format(j,i))"
   ]
  },
  {
   "attachments": {},
   "cell_type": "markdown",
   "metadata": {},
   "source": [
    "# iWildcam"
   ]
  },
  {
   "cell_type": "code",
   "execution_count": null,
   "metadata": {},
   "outputs": [],
   "source": [
    "\n",
    "iwildcam_TRAIN_PATH = '/home/ubuntu/image-drift-monitoring/data/iwildcam_v2.0'\n",
    "iwildcam_SUDDEN_DRIFT_TEST_PATH = '/home/ubuntu/image-drift-monitoring/data/iwildcam_v2.0/drifted_data/sudden_drift'\n",
    "myLogger = Whylogs_Logger()\n",
    "\n",
    "for j in range(5,105,5):\n",
    "    iwildcam_train_j = myLogger.deserialize_profile(data_directory_path=iwildcam_TRAIN_PATH,binary_name='train_iwildcam_profile_{}'.format(j))\n",
    "    for i in range(10,210,10):\n",
    "        iwildcam_test_i = myLogger.deserialize_profile(data_directory_path=iwildcam_SUDDEN_DRIFT_TEST_PATH,binary_name='iwildcam_test_{}'.format(i))\n",
    "        myLogger.create_profile_compare_summary_json(iwildcam_test_i,iwildcam_train_j,iwildcam_SUDDEN_DRIFT_TEST_PATH,'iwildcam_{}_v_{}'.format(j,i))\n",
    "        myLogger.create_drift_metric_df_from_comp_summary_json(iwildcam_SUDDEN_DRIFT_TEST_PATH,'iwildcam_{}_v_{}'.format(j,i))"
   ]
  },
  {
   "attachments": {},
   "cell_type": "markdown",
   "metadata": {},
   "source": [
    "# RxRx1"
   ]
  },
  {
   "cell_type": "code",
   "execution_count": null,
   "metadata": {},
   "outputs": [],
   "source": [
    "RXRX1_TRAIN_PATH = '/home/ubuntu/image-drift-monitoring/data/rxrx1_v1.0'\n",
    "RXRX1_SUDDEN_DRIFT_TEST_PATH = '/home/ubuntu/image-drift-monitoring/data/rxrx1_v1.0/drifted_data/sudden_drift'\n",
    "myLogger = Whylogs_Logger()\n",
    "\n",
    "for j in range(5,105,5):\n",
    "    rxrx1_train_j = myLogger.deserialize_profile(data_directory_path=RXRX1_TRAIN_PATH,binary_name='train_rxrx1_profile_{}'.format(j))\n",
    "    for i in range(10,210,10):\n",
    "        rxrx1_test_i = myLogger.deserialize_profile(data_directory_path=RXRX1_SUDDEN_DRIFT_TEST_PATH,binary_name='rxrx1_test_{}'.format(i))\n",
    "        myLogger.create_profile_compare_summary_json(rxrx1_test_i,rxrx1_train_j,RXRX1_SUDDEN_DRIFT_TEST_PATH,'rxrx1_{}_v_{}'.format(j,i))\n",
    "        myLogger.create_drift_metric_df_from_comp_summary_json(RXRX1_SUDDEN_DRIFT_TEST_PATH,'rxrx1_{}_v_{}'.format(j,i))"
   ]
  }
 ],
 "metadata": {
  "kernelspec": {
   "display_name": "alibitorchwhy",
   "language": "python",
   "name": "python3"
  },
  "language_info": {
   "codemirror_mode": {
    "name": "ipython",
    "version": 3
   },
   "file_extension": ".py",
   "mimetype": "text/x-python",
   "name": "python",
   "nbconvert_exporter": "python",
   "pygments_lexer": "ipython3",
   "version": "3.8.15"
  },
  "orig_nbformat": 4,
  "vscode": {
   "interpreter": {
    "hash": "401cebfcb5cce5f71138843ad74eb16632e47d40b3a47aa4ad883b3d134173ed"
   }
  }
 },
 "nbformat": 4,
 "nbformat_minor": 2
}
