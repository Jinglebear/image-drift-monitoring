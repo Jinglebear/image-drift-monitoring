{
 "cells": [
  {
   "attachments": {},
   "cell_type": "markdown",
   "metadata": {},
   "source": [
    "# Recurring Drift Test"
   ]
  },
  {
   "cell_type": "code",
   "execution_count": null,
   "metadata": {},
   "outputs": [],
   "source": [
    "import sys\n",
    "sys.path.append('/home/ubuntu/image-drift-monitoring/src/modules/whylogs')\n",
    "from whylogs_logger import Whylogs_Logger"
   ]
  },
  {
   "attachments": {},
   "cell_type": "markdown",
   "metadata": {},
   "source": [
    "# Camelyon"
   ]
  },
  {
   "cell_type": "code",
   "execution_count": null,
   "metadata": {},
   "outputs": [],
   "source": [
    "camelyon_TRAIN_PATH = '/home/ubuntu/image-drift-monitoring/data/camelyon17_v1.0'\n",
    "camelyon_RECURRING_DRIFT_TEST_PATH = '/home/ubuntu/image-drift-monitoring/data/camelyon17_v1.0/drifted_data/recurring_drift'\n",
    "myLogger = Whylogs_Logger()\n",
    "\n",
    "for j in range(5,105,5):\n",
    "    camelyon_train_j = myLogger.deserialize_profile(data_directory_path=camelyon_TRAIN_PATH,binary_name='train_camelyon_profile_{}'.format(j))\n",
    "    for i in range(1,21,1):\n",
    "        camelyon_test_i = myLogger.deserialize_profile(data_directory_path=camelyon_RECURRING_DRIFT_TEST_PATH,binary_name='camelyon_test_recurring_{}'.format(i))\n",
    "        myLogger.create_profile_compare_summary_json(camelyon_test_i,camelyon_train_j,camelyon_RECURRING_DRIFT_TEST_PATH,'camelyon_{}_v_{}'.format(j,i))\n",
    "        myLogger.create_drift_metric_df_from_comp_summary_json(camelyon_RECURRING_DRIFT_TEST_PATH,'camelyon_{}_v_{}'.format(j,i))"
   ]
  },
  {
   "attachments": {},
   "cell_type": "markdown",
   "metadata": {},
   "source": [
    "# GlobalWheat"
   ]
  },
  {
   "cell_type": "code",
   "execution_count": null,
   "metadata": {},
   "outputs": [],
   "source": [
    "globalwheat_TRAIN_PATH = '/home/ubuntu/image-drift-monitoring/data/globalwheat_v1.1'\n",
    "globalwheat_recurring_DRIFT_TEST_PATH = '/home/ubuntu/image-drift-monitoring/data/globalwheat_v1.1/drifted_data/recurring_drift'\n",
    "myLogger = Whylogs_Logger()\n",
    "\n",
    "for j in range(5,105,5):\n",
    "    globalwheat_train_j = myLogger.deserialize_profile(data_directory_path=globalwheat_TRAIN_PATH,binary_name='train_globalwheat_profile_{}'.format(j))\n",
    "    for i in range(1,21,1):\n",
    "        globalwheat_test_i = myLogger.deserialize_profile(data_directory_path=globalwheat_recurring_DRIFT_TEST_PATH,binary_name='globalwheat_test_recurring_{}'.format(i))\n",
    "        myLogger.create_profile_compare_summary_json(globalwheat_test_i,globalwheat_train_j,globalwheat_recurring_DRIFT_TEST_PATH,'globalwheat_{}_v_{}'.format(j,i))\n",
    "        myLogger.create_drift_metric_df_from_comp_summary_json(globalwheat_recurring_DRIFT_TEST_PATH,'globalwheat_{}_v_{}'.format(j,i))"
   ]
  },
  {
   "attachments": {},
   "cell_type": "markdown",
   "metadata": {},
   "source": [
    "# iWildcam"
   ]
  },
  {
   "cell_type": "code",
   "execution_count": null,
   "metadata": {},
   "outputs": [],
   "source": [
    "\n",
    "iwildcam_TRAIN_PATH = '/home/ubuntu/image-drift-monitoring/data/iwildcam_v2.0'\n",
    "iwildcam_recurring_DRIFT_TEST_PATH = '/home/ubuntu/image-drift-monitoring/data/iwildcam_v2.0/drifted_data/recurring_drift'\n",
    "myLogger = Whylogs_Logger()\n",
    "\n",
    "for j in range(5,105,5):\n",
    "    iwildcam_train_j = myLogger.deserialize_profile(data_directory_path=iwildcam_TRAIN_PATH,binary_name='train_iwildcam_profile_{}'.format(j))\n",
    "    for i in range(1,21,1):\n",
    "        iwildcam_test_i = myLogger.deserialize_profile(data_directory_path=iwildcam_recurring_DRIFT_TEST_PATH,binary_name='iwildcam_test_recurring_{}'.format(i))\n",
    "        myLogger.create_profile_compare_summary_json(iwildcam_test_i,iwildcam_train_j,iwildcam_recurring_DRIFT_TEST_PATH,'iwildcam_{}_v_{}'.format(j,i))\n",
    "        myLogger.create_drift_metric_df_from_comp_summary_json(iwildcam_recurring_DRIFT_TEST_PATH,'iwildcam_{}_v_{}'.format(j,i))"
   ]
  },
  {
   "attachments": {},
   "cell_type": "markdown",
   "metadata": {},
   "source": [
    "# RxRx1"
   ]
  },
  {
   "cell_type": "code",
   "execution_count": null,
   "metadata": {},
   "outputs": [],
   "source": [
    "RXRX1_TRAIN_PATH = '/home/ubuntu/image-drift-monitoring/data/rxrx1_v1.0'\n",
    "RXRX1_recurring_DRIFT_TEST_PATH = '/home/ubuntu/image-drift-monitoring/data/rxrx1_v1.0/drifted_data/recurring_drift'\n",
    "myLogger = Whylogs_Logger()\n",
    "\n",
    "for j in range(5,105,5):\n",
    "    rxrx1_train_j = myLogger.deserialize_profile(data_directory_path=RXRX1_TRAIN_PATH,binary_name='train_rxrx1_profile_{}'.format(j))\n",
    "    for i in range(1,21,1):\n",
    "        rxrx1_test_i = myLogger.deserialize_profile(data_directory_path=RXRX1_recurring_DRIFT_TEST_PATH,binary_name='rxrx1_test_recurring_{}'.format(i))\n",
    "        myLogger.create_profile_compare_summary_json(rxrx1_test_i,rxrx1_train_j,RXRX1_recurring_DRIFT_TEST_PATH,'rxrx1_{}_v_{}'.format(j,i))\n",
    "        myLogger.create_drift_metric_df_from_comp_summary_json(RXRX1_recurring_DRIFT_TEST_PATH,'rxrx1_{}_v_{}'.format(j,i))"
   ]
  }
 ],
 "metadata": {
  "kernelspec": {
   "display_name": "Python 3",
   "language": "python",
   "name": "python3"
  },
  "language_info": {
   "codemirror_mode": {
    "name": "ipython",
    "version": 3
   },
   "file_extension": ".py",
   "mimetype": "text/x-python",
   "name": "python",
   "nbconvert_exporter": "python",
   "pygments_lexer": "ipython3",
   "version": "3.8.10"
  },
  "orig_nbformat": 4,
  "vscode": {
   "interpreter": {
    "hash": "31f2aee4e71d21fbe5cf8b01ff0e069b9275f58929596ceb00d14d90e3e16cd6"
   }
  }
 },
 "nbformat": 4,
 "nbformat_minor": 2
}
