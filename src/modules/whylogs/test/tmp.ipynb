{
 "cells": [
  {
   "cell_type": "code",
   "execution_count": 1,
   "metadata": {},
   "outputs": [
    {
     "name": "stdout",
     "output_type": "stream",
     "text": [
      "Time (s) 3.001\n",
      "/home/ubuntu/image-drift-monitoring\n"
     ]
    }
   ],
   "source": [
    "from timeit import default_timer as timer\n",
    "import time\n",
    "t = timer() # setup timer\n",
    "\n",
    "time.sleep(3)\n",
    "dt = timer() - t\n",
    "print(f'Time (s) {dt:.3f}')\n",
    "\n",
    "\n",
    "%cd /home/ubuntu/image-drift-monitoring\n",
    "with open('track_time.txt','w') as f:\n",
    "    f.write(str(dt))"
   ]
  },
  {
   "cell_type": "code",
   "execution_count": 5,
   "metadata": {},
   "outputs": [
    {
     "name": "stdout",
     "output_type": "stream",
     "text": [
      "/home/ubuntu/image-drift-monitoring\n"
     ]
    },
    {
     "name": "stderr",
     "output_type": "stream",
     "text": [
      "2023-02-16 14:52:05,918 [INFO]  CVM Detector initialized\n",
      "2023-02-16 14:52:05,918 [INFO]  CVM Detector initialized\n"
     ]
    }
   ],
   "source": [
    "%cd /home/ubuntu/image-drift-monitoring\n",
    "import numpy as np\n",
    "from src.modules.alibi_detect.untrained_encoder import UntrainedAutoencoder\n",
    "import json \n",
    "from timeit import default_timer as timer\n",
    "import time\n",
    "\n",
    "\n",
    "with open('/home/ubuntu/image-drift-monitoring/config/common/drift_detection_config.json') as config_file:\n",
    "        drift_detection_config = json.load(config_file)\n",
    "\n",
    "\n",
    "\n",
    "rxrx1_train_i_comp = np.load('/home/ubuntu/image-drift-monitoring/data/rxrx1_v1.0/rxrx1_train_ds.npz')        \n",
    "        \n",
    "rxrx1_train_i = rxrx1_train_i_comp['arr_0']\n",
    "\n",
    "t = timer() # setup timer\n",
    "\n",
    "myUAE = UntrainedAutoencoder(drift_detection_config)\n",
    "myUAE.init_default_tf_encoder(encoding_dim=100,input_shape=rxrx1_train_i.shape[1:])\n",
    "myUAE.init_detector(detector_type='MMD',reference_data=rxrx1_train_i,save_dec=False)\n",
    "dt = timer() - t\n",
    "\n",
    "with open('rxrx1_uae_mmd_time.txt','w') as f:\n",
    "    f.write(str(dt))\n",
    "rxrx1_train_i_comp = None\n",
    "rxrx1_train_i = None\n",
    "myUAE = None"
   ]
  }
 ],
 "metadata": {
  "kernelspec": {
   "display_name": "alibitorchwhy",
   "language": "python",
   "name": "python3"
  },
  "language_info": {
   "codemirror_mode": {
    "name": "ipython",
    "version": 3
   },
   "file_extension": ".py",
   "mimetype": "text/x-python",
   "name": "python",
   "nbconvert_exporter": "python",
   "pygments_lexer": "ipython3",
   "version": "3.8.15"
  },
  "orig_nbformat": 4,
  "vscode": {
   "interpreter": {
    "hash": "401cebfcb5cce5f71138843ad74eb16632e47d40b3a47aa4ad883b3d134173ed"
   }
  }
 },
 "nbformat": 4,
 "nbformat_minor": 2
}
