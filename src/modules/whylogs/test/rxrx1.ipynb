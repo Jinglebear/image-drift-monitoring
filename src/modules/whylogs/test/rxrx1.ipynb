{
 "cells": [
  {
   "cell_type": "code",
   "execution_count": 4,
   "metadata": {},
   "outputs": [
    {
     "name": "stdout",
     "output_type": "stream",
     "text": [
      "['/home/ubuntu/image-drift-monitoring/src/modules/whylogs/test', '/home/ubuntu/miniconda3/envs/alibitorchwhy/lib/python38.zip', '/home/ubuntu/miniconda3/envs/alibitorchwhy/lib/python3.8', '/home/ubuntu/miniconda3/envs/alibitorchwhy/lib/python3.8/lib-dynload', '', '/home/ubuntu/miniconda3/envs/alibitorchwhy/lib/python3.8/site-packages', '/home/ubuntu/image-drift-monitoring/src/modules/whylogs', '/home/ubuntu/image-drift-monitoring/src/modules/whylogs']\n"
     ]
    }
   ],
   "source": [
    "import sys\n",
    "sys.path.append('/home/ubuntu/image-drift-monitoring/src/modules/whylogs')\n",
    "from whylogs_logger import Whylogs_Logger"
   ]
  },
  {
   "attachments": {},
   "cell_type": "markdown",
   "metadata": {},
   "source": [
    "rxrx train 5-100% (ID) on rxrx test 10 - 200 Images (OOD)"
   ]
  },
  {
   "attachments": {},
   "cell_type": "markdown",
   "metadata": {},
   "source": [
    "Loop"
   ]
  },
  {
   "cell_type": "code",
   "execution_count": 15,
   "metadata": {},
   "outputs": [],
   "source": [
    "\n",
    "\n",
    "RXRX1_TRAIN_PATH = '/home/ubuntu/image-drift-monitoring/data/rxrx1_v1.0'\n",
    "RXRX1_SUDDEN_DRIFT_TEST_PATH = '/home/ubuntu/image-drift-monitoring/data/rxrx1_v1.0/drifted_data/sudden_drift'\n",
    "myLogger = Whylogs_Logger()\n",
    "\n",
    "for j in range(5,100,5):\n",
    "    rxrx1_train_j = myLogger.deserialize_profile(data_directory_path=RXRX1_TRAIN_PATH,binary_name='train_rxrx1_profile_{}'.format(j))\n",
    "    for i in range(10,210,10):\n",
    "        rxrx1_test_i = myLogger.deserialize_profile(data_directory_path=RXRX1_SUDDEN_DRIFT_TEST_PATH,binary_name='rxrx1_test_{}'.format(i))\n",
    "        myLogger.create_profile_compare_summary_json(rxrx1_test_i,rxrx1_train_j,RXRX1_SUDDEN_DRIFT_TEST_PATH,'rxrx1_{}_v_{}'.format(j,i))\n",
    "        myLogger.create_drift_metric_df_from_comp_summary_json(RXRX1_SUDDEN_DRIFT_TEST_PATH,'rxrx1_{}_v_{}'.format(j,i))"
   ]
  }
 ],
 "metadata": {
  "kernelspec": {
   "display_name": "alibitorchwhy",
   "language": "python",
   "name": "python3"
  },
  "language_info": {
   "codemirror_mode": {
    "name": "ipython",
    "version": 3
   },
   "file_extension": ".py",
   "mimetype": "text/x-python",
   "name": "python",
   "nbconvert_exporter": "python",
   "pygments_lexer": "ipython3",
   "version": "3.8.15"
  },
  "orig_nbformat": 4,
  "vscode": {
   "interpreter": {
    "hash": "401cebfcb5cce5f71138843ad74eb16632e47d40b3a47aa4ad883b3d134173ed"
   }
  }
 },
 "nbformat": 4,
 "nbformat_minor": 2
}
