{
 "cells": [
  {
   "cell_type": "code",
   "execution_count": 2,
   "metadata": {},
   "outputs": [],
   "source": [
    "import sys\n",
    "sys.path.append('/home/ubuntu/image-drift-monitoring/src/modules/whylogs')\n",
    "from whylogs_logger import Whylogs_Logger"
   ]
  },
  {
   "attachments": {},
   "cell_type": "markdown",
   "metadata": {},
   "source": [
    "iwildcam train 5-100% (ID) on iwildcam test 10 - 200 Images (OOD)"
   ]
  },
  {
   "attachments": {},
   "cell_type": "markdown",
   "metadata": {},
   "source": [
    "Loop"
   ]
  },
  {
   "cell_type": "code",
   "execution_count": 3,
   "metadata": {},
   "outputs": [],
   "source": [
    "\n",
    "iwildcam_TRAIN_PATH = '/home/ubuntu/image-drift-monitoring/data/iwildcam_v2.0'\n",
    "iwildcam_SUDDEN_DRIFT_TEST_PATH = '/home/ubuntu/image-drift-monitoring/data/iwildcam_v2.0/drifted_data/sudden_drift'\n",
    "myLogger = Whylogs_Logger()\n",
    "\n",
    "for j in range(5,100,5):\n",
    "    iwildcam_train_j = myLogger.deserialize_profile(data_directory_path=iwildcam_TRAIN_PATH,binary_name='train_iwildcam_profile_{}'.format(j))\n",
    "    for i in range(10,210,10):\n",
    "        iwildcam_test_i = myLogger.deserialize_profile(data_directory_path=iwildcam_SUDDEN_DRIFT_TEST_PATH,binary_name='iwildcam_test_{}'.format(i))\n",
    "        myLogger.create_profile_compare_summary_json(iwildcam_test_i,iwildcam_train_j,iwildcam_SUDDEN_DRIFT_TEST_PATH,'iwildcam_{}_v_{}'.format(j,i))\n",
    "        myLogger.create_drift_metric_df_from_comp_summary_json(iwildcam_SUDDEN_DRIFT_TEST_PATH,'iwildcam_{}_v_{}'.format(j,i))"
   ]
  }
 ],
 "metadata": {
  "kernelspec": {
   "display_name": "alibitorchwhy",
   "language": "python",
   "name": "python3"
  },
  "language_info": {
   "codemirror_mode": {
    "name": "ipython",
    "version": 3
   },
   "file_extension": ".py",
   "mimetype": "text/x-python",
   "name": "python",
   "nbconvert_exporter": "python",
   "pygments_lexer": "ipython3",
   "version": "3.8.15"
  },
  "orig_nbformat": 4,
  "vscode": {
   "interpreter": {
    "hash": "401cebfcb5cce5f71138843ad74eb16632e47d40b3a47aa4ad883b3d134173ed"
   }
  }
 },
 "nbformat": 4,
 "nbformat_minor": 2
}
