{
 "cells": [
  {
   "attachments": {},
   "cell_type": "markdown",
   "metadata": {},
   "source": [
    "load training dataset"
   ]
  },
  {
   "cell_type": "code",
   "execution_count": 1,
   "metadata": {},
   "outputs": [
    {
     "name": "stdout",
     "output_type": "stream",
     "text": [
      "/home/ubuntu/image-drift-monitoring/data/camelyon17_v1.0\n"
     ]
    }
   ],
   "source": [
    "import numpy as np\n",
    "%cd  '/home/ubuntu/image-drift-monitoring/data/camelyon17_v1.0'\n",
    "%pwd\n",
    "\n",
    "camelyon_train_comp = np.load('camelyon_train_ds.npz')"
   ]
  },
  {
   "attachments": {},
   "cell_type": "markdown",
   "metadata": {},
   "source": [
    "extract dataset and shuffle it"
   ]
  },
  {
   "cell_type": "code",
   "execution_count": 2,
   "metadata": {},
   "outputs": [],
   "source": [
    "camelyon_train = camelyon_train_comp['arr_0']\n",
    "\n",
    "np.random.shuffle(camelyon_train)"
   ]
  },
  {
   "attachments": {},
   "cell_type": "markdown",
   "metadata": {},
   "source": [
    "split dataset for training"
   ]
  },
  {
   "cell_type": "code",
   "execution_count": 3,
   "metadata": {},
   "outputs": [],
   "source": [
    "camelyon_train_0_25   = camelyon_train[:int(len(camelyon_train)/4)]\n",
    "camelyon_train_0_12_5  = camelyon_train_0_25[:int(len(camelyon_train_0_25)/2)]\n",
    "camelyon_train_12_5_25 = camelyon_train_0_25[int(len(camelyon_train_0_25)/2):]"
   ]
  },
  {
   "attachments": {},
   "cell_type": "markdown",
   "metadata": {},
   "source": [
    "open config"
   ]
  },
  {
   "cell_type": "code",
   "execution_count": 4,
   "metadata": {},
   "outputs": [
    {
     "name": "stdout",
     "output_type": "stream",
     "text": [
      "0.05\n"
     ]
    }
   ],
   "source": [
    "import json \n",
    "with open('/home/ubuntu/image-drift-monitoring/config/common/drift_detection_config.json') as config_file:\n",
    "        drift_detection_config = json.load(config_file)\n",
    "\n",
    "print(drift_detection_config['GENERAL']['P_VAL'])"
   ]
  },
  {
   "attachments": {},
   "cell_type": "markdown",
   "metadata": {},
   "source": [
    "PCA constructor call"
   ]
  },
  {
   "cell_type": "code",
   "execution_count": 5,
   "metadata": {},
   "outputs": [
    {
     "name": "stdout",
     "output_type": "stream",
     "text": [
      "/home/ubuntu/image-drift-monitoring\n"
     ]
    },
    {
     "name": "stderr",
     "output_type": "stream",
     "text": [
      "2023-02-09 13:03:28.656848: W tensorflow/stream_executor/platform/default/dso_loader.cc:64] Could not load dynamic library 'libcudart.so.11.0'; dlerror: libcudart.so.11.0: cannot open shared object file: No such file or directory\n",
      "2023-02-09 13:03:28.656904: I tensorflow/stream_executor/cuda/cudart_stub.cc:29] Ignore above cudart dlerror if you do not have a GPU set up on your machine.\n",
      "/home/ubuntu/miniconda3/envs/alibitorchwhy/lib/python3.8/site-packages/tqdm/auto.py:22: TqdmWarning: IProgress not found. Please update jupyter and ipywidgets. See https://ipywidgets.readthedocs.io/en/stable/user_install.html\n",
      "  from .autonotebook import tqdm as notebook_tqdm\n"
     ]
    }
   ],
   "source": [
    "%cd  '/home/ubuntu/image-drift-monitoring'\n",
    "%pwd\n",
    "from src.modules.alibi_detect.principal_component_analysis import PrincipalComponentAnalysis\n",
    "\n",
    "myPCA = PrincipalComponentAnalysis(drift_detection_config)"
   ]
  },
  {
   "cell_type": "code",
   "execution_count": 6,
   "metadata": {},
   "outputs": [
    {
     "name": "stdout",
     "output_type": "stream",
     "text": [
      "(37804, 27648)\n"
     ]
    },
    {
     "name": "stderr",
     "output_type": "stream",
     "text": [
      "2023-02-09 13:05:08,105 [INFO]  init_pca(): fitted x_ref to pca\n"
     ]
    },
    {
     "data": {
      "text/html": [
       "<style>#sk-container-id-1 {color: black;background-color: white;}#sk-container-id-1 pre{padding: 0;}#sk-container-id-1 div.sk-toggleable {background-color: white;}#sk-container-id-1 label.sk-toggleable__label {cursor: pointer;display: block;width: 100%;margin-bottom: 0;padding: 0.3em;box-sizing: border-box;text-align: center;}#sk-container-id-1 label.sk-toggleable__label-arrow:before {content: \"▸\";float: left;margin-right: 0.25em;color: #696969;}#sk-container-id-1 label.sk-toggleable__label-arrow:hover:before {color: black;}#sk-container-id-1 div.sk-estimator:hover label.sk-toggleable__label-arrow:before {color: black;}#sk-container-id-1 div.sk-toggleable__content {max-height: 0;max-width: 0;overflow: hidden;text-align: left;background-color: #f0f8ff;}#sk-container-id-1 div.sk-toggleable__content pre {margin: 0.2em;color: black;border-radius: 0.25em;background-color: #f0f8ff;}#sk-container-id-1 input.sk-toggleable__control:checked~div.sk-toggleable__content {max-height: 200px;max-width: 100%;overflow: auto;}#sk-container-id-1 input.sk-toggleable__control:checked~label.sk-toggleable__label-arrow:before {content: \"▾\";}#sk-container-id-1 div.sk-estimator input.sk-toggleable__control:checked~label.sk-toggleable__label {background-color: #d4ebff;}#sk-container-id-1 div.sk-label input.sk-toggleable__control:checked~label.sk-toggleable__label {background-color: #d4ebff;}#sk-container-id-1 input.sk-hidden--visually {border: 0;clip: rect(1px 1px 1px 1px);clip: rect(1px, 1px, 1px, 1px);height: 1px;margin: -1px;overflow: hidden;padding: 0;position: absolute;width: 1px;}#sk-container-id-1 div.sk-estimator {font-family: monospace;background-color: #f0f8ff;border: 1px dotted black;border-radius: 0.25em;box-sizing: border-box;margin-bottom: 0.5em;}#sk-container-id-1 div.sk-estimator:hover {background-color: #d4ebff;}#sk-container-id-1 div.sk-parallel-item::after {content: \"\";width: 100%;border-bottom: 1px solid gray;flex-grow: 1;}#sk-container-id-1 div.sk-label:hover label.sk-toggleable__label {background-color: #d4ebff;}#sk-container-id-1 div.sk-serial::before {content: \"\";position: absolute;border-left: 1px solid gray;box-sizing: border-box;top: 0;bottom: 0;left: 50%;z-index: 0;}#sk-container-id-1 div.sk-serial {display: flex;flex-direction: column;align-items: center;background-color: white;padding-right: 0.2em;padding-left: 0.2em;position: relative;}#sk-container-id-1 div.sk-item {position: relative;z-index: 1;}#sk-container-id-1 div.sk-parallel {display: flex;align-items: stretch;justify-content: center;background-color: white;position: relative;}#sk-container-id-1 div.sk-item::before, #sk-container-id-1 div.sk-parallel-item::before {content: \"\";position: absolute;border-left: 1px solid gray;box-sizing: border-box;top: 0;bottom: 0;left: 50%;z-index: -1;}#sk-container-id-1 div.sk-parallel-item {display: flex;flex-direction: column;z-index: 1;position: relative;background-color: white;}#sk-container-id-1 div.sk-parallel-item:first-child::after {align-self: flex-end;width: 50%;}#sk-container-id-1 div.sk-parallel-item:last-child::after {align-self: flex-start;width: 50%;}#sk-container-id-1 div.sk-parallel-item:only-child::after {width: 0;}#sk-container-id-1 div.sk-dashed-wrapped {border: 1px dashed gray;margin: 0 0.4em 0.5em 0.4em;box-sizing: border-box;padding-bottom: 0.4em;background-color: white;}#sk-container-id-1 div.sk-label label {font-family: monospace;font-weight: bold;display: inline-block;line-height: 1.2em;}#sk-container-id-1 div.sk-label-container {text-align: center;}#sk-container-id-1 div.sk-container {/* jupyter's `normalize.less` sets `[hidden] { display: none; }` but bootstrap.min.css set `[hidden] { display: none !important; }` so we also need the `!important` here to be able to override the default hidden behavior on the sphinx rendered scikit-learn.org. See: https://github.com/scikit-learn/scikit-learn/issues/21755 */display: inline-block !important;position: relative;}#sk-container-id-1 div.sk-text-repr-fallback {display: none;}</style><div id=\"sk-container-id-1\" class=\"sk-top-container\"><div class=\"sk-text-repr-fallback\"><pre>PCA(n_components=200)</pre><b>In a Jupyter environment, please rerun this cell to show the HTML representation or trust the notebook. <br />On GitHub, the HTML representation is unable to render, please try loading this page with nbviewer.org.</b></div><div class=\"sk-container\" hidden><div class=\"sk-item\"><div class=\"sk-estimator sk-toggleable\"><input class=\"sk-toggleable__control sk-hidden--visually\" id=\"sk-estimator-id-1\" type=\"checkbox\" checked><label for=\"sk-estimator-id-1\" class=\"sk-toggleable__label sk-toggleable__label-arrow\">PCA</label><div class=\"sk-toggleable__content\"><pre>PCA(n_components=200)</pre></div></div></div></div></div>"
      ],
      "text/plain": [
       "PCA(n_components=200)"
      ]
     },
     "execution_count": 6,
     "metadata": {},
     "output_type": "execute_result"
    }
   ],
   "source": [
    "myPCA.init_pca(camelyon_train_0_12_5)"
   ]
  },
  {
   "attachments": {},
   "cell_type": "markdown",
   "metadata": {},
   "source": [
    "init KS detector"
   ]
  },
  {
   "cell_type": "code",
   "execution_count": 7,
   "metadata": {},
   "outputs": [
    {
     "name": "stderr",
     "output_type": "stream",
     "text": [
      "2023-02-09 13:05:11,854 [INFO]  KS Detector initialized\n",
      "Directory /home/ubuntu/image-drift-monitoring/config/detectors/PCA_40_25_25_KS does not exist and is now created.\n",
      "Directory /home/ubuntu/image-drift-monitoring/config/detectors/PCA_40_25_25_KS/preprocess_fn does not exist and is now created.\n"
     ]
    }
   ],
   "source": [
    "myPCA.init_detector(detector_type='KS',reference_data=camelyon_train_12_5_25,detector_name='PCA_40_25_25_KS',save_dec=True)"
   ]
  },
  {
   "cell_type": "code",
   "execution_count": 8,
   "metadata": {},
   "outputs": [],
   "source": [
    "camelyon_train_25_50   = camelyon_train[int(len(camelyon_train)/4):int(len(camelyon_train)/2)]"
   ]
  },
  {
   "attachments": {},
   "cell_type": "markdown",
   "metadata": {},
   "source": [
    "# H0 Hypothesis testing"
   ]
  },
  {
   "cell_type": "code",
   "execution_count": 9,
   "metadata": {},
   "outputs": [
    {
     "name": "stdout",
     "output_type": "stream",
     "text": [
      "Drift? No!\n",
      "Feature-wise p-values:\n",
      "[3.86097193e-01 8.63012433e-01 6.25624597e-01 2.08642989e-01\n",
      " 7.91134000e-01 3.47840875e-01 1.20953113e-01 2.84521073e-01\n",
      " 8.89498964e-02 8.24236751e-01 7.10224152e-01 1.49997398e-01\n",
      " 5.64667583e-01 5.31199396e-01 7.08617330e-01 1.38883278e-01\n",
      " 8.24046850e-01 7.59759486e-01 7.86999702e-01 7.39424348e-01\n",
      " 5.81453025e-01 4.46978629e-01 8.21615577e-01 8.46444786e-01\n",
      " 7.64985919e-01 4.84371722e-01 8.72627020e-01 2.73290873e-01\n",
      " 6.36356771e-01 5.67545056e-01 2.67798513e-01 8.03106353e-02\n",
      " 8.00284684e-01 5.74740291e-01 6.40418902e-02 9.35245812e-01\n",
      " 1.19488142e-01 4.30880159e-01 1.36197865e-01 9.84131396e-01\n",
      " 4.44796085e-02 7.55020320e-01 1.03114352e-01 6.50243640e-01\n",
      " 5.12837470e-01 1.71198413e-01 5.90223551e-01 6.14350021e-01\n",
      " 3.33855927e-01 7.54617274e-01 7.31405437e-01 5.14700413e-01\n",
      " 8.04219842e-01 8.39292705e-01 2.56692708e-01 9.64064777e-01\n",
      " 2.64560789e-01 5.78325570e-01 9.65059996e-01 7.05648303e-01\n",
      " 8.68825436e-01 5.00292063e-01 2.87098527e-01 1.38400150e-02\n",
      " 9.33094621e-01 3.30656439e-01 8.15992653e-01 7.14065909e-01\n",
      " 9.21159565e-01 7.64360249e-01 1.59042343e-01 4.57955927e-01\n",
      " 9.82617795e-01 3.91885042e-01 3.95654529e-01 6.24531806e-01\n",
      " 1.49745300e-01 2.65684146e-02 4.03777570e-01 7.44082630e-01\n",
      " 2.18501359e-01 2.28353202e-01 6.43974066e-01 5.21379113e-01\n",
      " 9.24073279e-01 1.42767668e-01 4.93738830e-01 6.63507760e-01\n",
      " 7.63867795e-01 6.54145852e-02 8.25728297e-01 6.89390063e-01\n",
      " 1.68276325e-01 4.83043969e-01 1.04166895e-01 3.57595146e-01\n",
      " 7.44863510e-01 2.61768013e-01 5.29237613e-02 7.53395736e-01\n",
      " 8.91544819e-02 9.61905777e-01 8.23061764e-01 9.90557313e-01\n",
      " 4.36781049e-01 5.62005639e-01 7.87552118e-01 5.48549950e-01\n",
      " 4.28359032e-01 5.85855186e-01 2.22406581e-01 9.13775206e-01\n",
      " 9.60417867e-01 1.21198840e-01 2.87187189e-01 5.55573761e-01\n",
      " 2.11239278e-01 6.11776710e-01 1.63148582e-01 7.90137470e-01\n",
      " 8.24719787e-01 5.05999029e-01 2.31548652e-01 7.82052338e-01\n",
      " 2.26020053e-01 6.80044591e-01 8.32604706e-01 6.77150249e-01\n",
      " 9.29813832e-04 2.40864500e-01 6.76308692e-01 3.05911571e-01\n",
      " 8.74794900e-01 4.46163833e-01 5.97304106e-01 7.17403650e-01\n",
      " 8.81651700e-01 1.40451357e-01 4.30680603e-01 9.20941114e-01\n",
      " 3.08250964e-01 9.69197005e-02 1.95013598e-01 7.09515750e-01\n",
      " 7.06012174e-02 4.43195194e-01 9.24906611e-01 2.30331421e-01\n",
      " 3.94924670e-01 5.64311743e-01 3.34814817e-01 9.99115348e-01\n",
      " 3.05481493e-01 4.65482831e-01 4.62640733e-01 6.31794214e-01\n",
      " 3.55750680e-01 2.68371493e-01 3.24155129e-02 4.36619788e-01\n",
      " 8.73089314e-01 2.79359192e-01 7.19960451e-01 2.24449456e-01\n",
      " 9.37513471e-01 4.32655126e-01 6.24758899e-01 3.39403123e-01\n",
      " 5.24661958e-01 1.38955578e-01 7.47277379e-01 6.98924158e-03\n",
      " 3.75258952e-01 5.16948849e-02 2.87359089e-01 8.17055702e-01\n",
      " 5.12991607e-01 2.20571622e-01 7.26236224e-01 1.56119183e-01\n",
      " 1.41491234e-01 4.55554575e-01 8.47138539e-02 8.19230855e-01\n",
      " 1.72865931e-02 6.61174476e-01 9.52117920e-01 2.46243760e-01\n",
      " 9.22683299e-01 7.32594490e-01 3.68865430e-01 4.05626222e-02\n",
      " 7.28090584e-01 2.00032800e-01 5.05659506e-02 6.00128651e-01\n",
      " 1.04751810e-02 9.61066306e-01 5.71840525e-01 6.04500890e-01]\n",
      "len:200\n"
     ]
    },
    {
     "data": {
      "text/plain": [
       "{'data': {'is_drift': 0,\n",
       "  'distance': array([0.00569295, 0.00377886, 0.00472345, 0.00668807, 0.00409136,\n",
       "         0.00587515, 0.00745351, 0.0062087 , 0.0078517 , 0.00395328,\n",
       "         0.00440656, 0.00716137, 0.00495366, 0.00508296, 0.00441263,\n",
       "         0.00726724, 0.00395409, 0.00421634, 0.0041081 , 0.00429524,\n",
       "         0.00488973, 0.00542442, 0.00396451, 0.00385549, 0.00419583,\n",
       "         0.00526937, 0.00373259, 0.00627317, 0.00468332, 0.00494267,\n",
       "         0.0063054 , 0.00797966, 0.00405393, 0.00491524, 0.00825607,\n",
       "         0.00337615, 0.00746971, 0.00549327, 0.00729384, 0.00288866,\n",
       "         0.00868267, 0.00423485, 0.00766285, 0.00463145, 0.00515518,\n",
       "         0.00697573, 0.00485652, 0.0047657 , 0.005945  , 0.00423642,\n",
       "         0.00432601, 0.0051478 , 0.00403768, 0.00388753, 0.00637206,\n",
       "         0.00314176, 0.00632462, 0.0049016 , 0.00313185, 0.00442384,\n",
       "         0.00375106, 0.00520514, 0.00619416, 0.00992638, 0.00339089,\n",
       "         0.00596126, 0.00398841, 0.00439201, 0.00346822, 0.00419829,\n",
       "         0.00707976, 0.00537823, 0.0029137 , 0.00566639, 0.00564922,\n",
       "         0.00472754, 0.0071637 , 0.00925225, 0.00561255, 0.00427728,\n",
       "         0.00661906, 0.00655242, 0.00465486, 0.00512145, 0.00344997,\n",
       "         0.00722949, 0.00523147, 0.00458191, 0.00420022, 0.00823057,\n",
       "         0.00394686, 0.00448503, 0.00700019, 0.00527477, 0.0076497 ,\n",
       "         0.00582752, 0.00427426, 0.00634134, 0.00848191, 0.00424118,\n",
       "         0.0078488 , 0.00316267, 0.00395832, 0.00275795, 0.00546787,\n",
       "         0.00496385, 0.00410587, 0.00501559, 0.00550418, 0.00487305,\n",
       "         0.00659238, 0.00351291, 0.00317665, 0.00745081, 0.00619366,\n",
       "         0.00498853, 0.00666966, 0.00477535, 0.00704394, 0.0040954 ,\n",
       "         0.0039512 , 0.00518235, 0.00653128, 0.00412802, 0.006568  ,\n",
       "         0.00452006, 0.00391701, 0.0045309 , 0.01233168, 0.00647085,\n",
       "         0.00453405, 0.00609075, 0.00372195, 0.00542787, 0.00482979,\n",
       "         0.00437936, 0.00368772, 0.0072519 , 0.00549413, 0.00346957,\n",
       "         0.00607821, 0.0077426 , 0.00678774, 0.00440923, 0.00813815,\n",
       "         0.00544047, 0.00344468, 0.0065393 , 0.00565253, 0.00495502,\n",
       "         0.00594015, 0.00233347, 0.00609306, 0.0053469 , 0.0053587 ,\n",
       "         0.00470037, 0.00583646, 0.00630201, 0.00903664, 0.00546856,\n",
       "         0.00373033, 0.0062381 , 0.00436965, 0.00657856, 0.00336032,\n",
       "         0.00548561, 0.00472669, 0.00591707, 0.00510855, 0.00726653,\n",
       "         0.00426493, 0.01058667, 0.00574335, 0.00850932, 0.0061927 ,\n",
       "         0.00398391, 0.00515457, 0.00660487, 0.00434575, 0.00710572,\n",
       "         0.0072418 , 0.00538829, 0.00791307, 0.00397468, 0.00970178,\n",
       "         0.00459062, 0.0032492 , 0.00643675, 0.00345872, 0.00432145,\n",
       "         0.00577352, 0.00878727, 0.00433868, 0.00675043, 0.008535  ,\n",
       "         0.00481915, 0.01020076, 0.0031706 , 0.00492628, 0.00480269],\n",
       "        dtype=float32),\n",
       "  'p_val': array([3.86097193e-01, 8.63012433e-01, 6.25624597e-01, 2.08642989e-01,\n",
       "         7.91134000e-01, 3.47840875e-01, 1.20953113e-01, 2.84521073e-01,\n",
       "         8.89498964e-02, 8.24236751e-01, 7.10224152e-01, 1.49997398e-01,\n",
       "         5.64667583e-01, 5.31199396e-01, 7.08617330e-01, 1.38883278e-01,\n",
       "         8.24046850e-01, 7.59759486e-01, 7.86999702e-01, 7.39424348e-01,\n",
       "         5.81453025e-01, 4.46978629e-01, 8.21615577e-01, 8.46444786e-01,\n",
       "         7.64985919e-01, 4.84371722e-01, 8.72627020e-01, 2.73290873e-01,\n",
       "         6.36356771e-01, 5.67545056e-01, 2.67798513e-01, 8.03106353e-02,\n",
       "         8.00284684e-01, 5.74740291e-01, 6.40418902e-02, 9.35245812e-01,\n",
       "         1.19488142e-01, 4.30880159e-01, 1.36197865e-01, 9.84131396e-01,\n",
       "         4.44796085e-02, 7.55020320e-01, 1.03114352e-01, 6.50243640e-01,\n",
       "         5.12837470e-01, 1.71198413e-01, 5.90223551e-01, 6.14350021e-01,\n",
       "         3.33855927e-01, 7.54617274e-01, 7.31405437e-01, 5.14700413e-01,\n",
       "         8.04219842e-01, 8.39292705e-01, 2.56692708e-01, 9.64064777e-01,\n",
       "         2.64560789e-01, 5.78325570e-01, 9.65059996e-01, 7.05648303e-01,\n",
       "         8.68825436e-01, 5.00292063e-01, 2.87098527e-01, 1.38400150e-02,\n",
       "         9.33094621e-01, 3.30656439e-01, 8.15992653e-01, 7.14065909e-01,\n",
       "         9.21159565e-01, 7.64360249e-01, 1.59042343e-01, 4.57955927e-01,\n",
       "         9.82617795e-01, 3.91885042e-01, 3.95654529e-01, 6.24531806e-01,\n",
       "         1.49745300e-01, 2.65684146e-02, 4.03777570e-01, 7.44082630e-01,\n",
       "         2.18501359e-01, 2.28353202e-01, 6.43974066e-01, 5.21379113e-01,\n",
       "         9.24073279e-01, 1.42767668e-01, 4.93738830e-01, 6.63507760e-01,\n",
       "         7.63867795e-01, 6.54145852e-02, 8.25728297e-01, 6.89390063e-01,\n",
       "         1.68276325e-01, 4.83043969e-01, 1.04166895e-01, 3.57595146e-01,\n",
       "         7.44863510e-01, 2.61768013e-01, 5.29237613e-02, 7.53395736e-01,\n",
       "         8.91544819e-02, 9.61905777e-01, 8.23061764e-01, 9.90557313e-01,\n",
       "         4.36781049e-01, 5.62005639e-01, 7.87552118e-01, 5.48549950e-01,\n",
       "         4.28359032e-01, 5.85855186e-01, 2.22406581e-01, 9.13775206e-01,\n",
       "         9.60417867e-01, 1.21198840e-01, 2.87187189e-01, 5.55573761e-01,\n",
       "         2.11239278e-01, 6.11776710e-01, 1.63148582e-01, 7.90137470e-01,\n",
       "         8.24719787e-01, 5.05999029e-01, 2.31548652e-01, 7.82052338e-01,\n",
       "         2.26020053e-01, 6.80044591e-01, 8.32604706e-01, 6.77150249e-01,\n",
       "         9.29813832e-04, 2.40864500e-01, 6.76308692e-01, 3.05911571e-01,\n",
       "         8.74794900e-01, 4.46163833e-01, 5.97304106e-01, 7.17403650e-01,\n",
       "         8.81651700e-01, 1.40451357e-01, 4.30680603e-01, 9.20941114e-01,\n",
       "         3.08250964e-01, 9.69197005e-02, 1.95013598e-01, 7.09515750e-01,\n",
       "         7.06012174e-02, 4.43195194e-01, 9.24906611e-01, 2.30331421e-01,\n",
       "         3.94924670e-01, 5.64311743e-01, 3.34814817e-01, 9.99115348e-01,\n",
       "         3.05481493e-01, 4.65482831e-01, 4.62640733e-01, 6.31794214e-01,\n",
       "         3.55750680e-01, 2.68371493e-01, 3.24155129e-02, 4.36619788e-01,\n",
       "         8.73089314e-01, 2.79359192e-01, 7.19960451e-01, 2.24449456e-01,\n",
       "         9.37513471e-01, 4.32655126e-01, 6.24758899e-01, 3.39403123e-01,\n",
       "         5.24661958e-01, 1.38955578e-01, 7.47277379e-01, 6.98924158e-03,\n",
       "         3.75258952e-01, 5.16948849e-02, 2.87359089e-01, 8.17055702e-01,\n",
       "         5.12991607e-01, 2.20571622e-01, 7.26236224e-01, 1.56119183e-01,\n",
       "         1.41491234e-01, 4.55554575e-01, 8.47138539e-02, 8.19230855e-01,\n",
       "         1.72865931e-02, 6.61174476e-01, 9.52117920e-01, 2.46243760e-01,\n",
       "         9.22683299e-01, 7.32594490e-01, 3.68865430e-01, 4.05626222e-02,\n",
       "         7.28090584e-01, 2.00032800e-01, 5.05659506e-02, 6.00128651e-01,\n",
       "         1.04751810e-02, 9.61066306e-01, 5.71840525e-01, 6.04500890e-01],\n",
       "        dtype=float32),\n",
       "  'threshold': 0.00025},\n",
       " 'meta': {'name': 'KSDrift',\n",
       "  'online': False,\n",
       "  'data_type': None,\n",
       "  'version': '0.10.4',\n",
       "  'detector_type': 'drift'}}"
      ]
     },
     "execution_count": 9,
     "metadata": {},
     "output_type": "execute_result"
    }
   ],
   "source": [
    "myPCA.make_prediction(target_data=camelyon_train_25_50,detector_type='KS')"
   ]
  },
  {
   "attachments": {},
   "cell_type": "markdown",
   "metadata": {},
   "source": [
    "# drift testing"
   ]
  },
  {
   "cell_type": "code",
   "execution_count": 10,
   "metadata": {},
   "outputs": [],
   "source": [
    "camelyon_test_comp = np.load('/home/ubuntu/image-drift-monitoring/data/camelyon17_v1.0/camelyon_test_ds.npz')\n",
    "camelyon_test = camelyon_test_comp['arr_0']\n",
    "\n",
    "np.random.shuffle(camelyon_test)"
   ]
  },
  {
   "cell_type": "code",
   "execution_count": 11,
   "metadata": {},
   "outputs": [
    {
     "name": "stdout",
     "output_type": "stream",
     "text": [
      "Drift? Yes!\n",
      "Feature-wise p-values:\n",
      "[0.0000000e+00 0.0000000e+00 0.0000000e+00 0.0000000e+00 0.0000000e+00\n",
      " 0.0000000e+00 0.0000000e+00 0.0000000e+00 0.0000000e+00 0.0000000e+00\n",
      " 0.0000000e+00 0.0000000e+00 0.0000000e+00 0.0000000e+00 0.0000000e+00\n",
      " 0.0000000e+00 0.0000000e+00 0.0000000e+00 0.0000000e+00 0.0000000e+00\n",
      " 0.0000000e+00 0.0000000e+00 0.0000000e+00 0.0000000e+00 0.0000000e+00\n",
      " 0.0000000e+00 1.7651546e-35 0.0000000e+00 0.0000000e+00 0.0000000e+00\n",
      " 0.0000000e+00 0.0000000e+00 0.0000000e+00 0.0000000e+00 4.3887714e-25\n",
      " 1.3609936e-31 1.2219323e-42 9.9583873e-32 0.0000000e+00 0.0000000e+00\n",
      " 0.0000000e+00 3.4780228e-42 0.0000000e+00 1.7782981e-32 4.6381646e-33\n",
      " 1.5391791e-17 2.4018942e-23 2.9500715e-27 2.3775899e-24 2.2547787e-37\n",
      " 1.0108427e-35 1.2422299e-30 1.9664544e-35 7.3564795e-36 1.2480511e-35\n",
      " 2.7256842e-20 2.8181743e-23 4.4390210e-22 0.0000000e+00 0.0000000e+00\n",
      " 4.2038954e-45 2.9258718e-34 7.3173875e-27 3.8430184e-38 1.9295457e-15\n",
      " 0.0000000e+00 6.8623325e-33 0.0000000e+00 4.2530251e-30 1.0147983e-19\n",
      " 2.9619683e-19 1.0763027e-26 6.9337956e-18 4.1402960e-16 2.1496583e-14\n",
      " 9.4829485e-19 9.8195411e-15 5.7581668e-15 4.6899687e-21 4.4522770e-13\n",
      " 4.6323156e-13 1.2285580e-18 9.8575723e-14 9.4919096e-22 1.1828953e-18\n",
      " 9.2125438e-20 2.8006261e-15 1.6430287e-12 1.6121798e-13 5.7854163e-24\n",
      " 2.6424706e-19 4.1936263e-12 7.0152645e-15 1.2768620e-17 4.3861016e-11\n",
      " 8.8351959e-07 2.0091432e-14 2.0678702e-11 2.8651294e-20 9.3807089e-12\n",
      " 1.0441757e-15 4.7745415e-11 1.6962198e-15 3.1391105e-09 3.1327783e-09\n",
      " 5.1218039e-09 1.3403086e-05 4.6004797e-12 2.5755442e-09 3.9473679e-07\n",
      " 1.7123895e-09 1.4103051e-08 1.9729091e-13 1.3715811e-07 4.2190094e-14\n",
      " 1.2309382e-13 3.1063487e-14 6.0992905e-13 1.2560083e-11 6.4809950e-12\n",
      " 2.4582846e-07 3.9186251e-08 2.8648259e-10 1.0158584e-09 1.1123570e-14\n",
      " 2.3680264e-09 1.6951677e-14 2.4455338e-18 4.2877309e-05 7.9474166e-06\n",
      " 3.5078447e-06 1.9960893e-12 7.8568888e-07 9.1001048e-06 1.5445099e-05\n",
      " 1.5147663e-04 4.4789278e-05 1.1142916e-12 2.3190415e-11 3.9665040e-04\n",
      " 1.4789273e-10 2.7733092e-04 3.9430545e-04 1.2555265e-02 6.3682836e-04\n",
      " 1.3613331e-04 3.9642946e-05 9.3368513e-08 1.1925203e-16 2.7453893e-07\n",
      " 9.3981107e-09 7.3717206e-06 1.3283131e-14 7.4835112e-12 1.3100239e-17\n",
      " 2.4902167e-11 2.4507291e-04 5.1171943e-03 1.4189790e-06 5.1394670e-04\n",
      " 2.9342119e-14 3.8609232e-03 2.5056874e-02 4.5165649e-09 1.2854411e-01\n",
      " 3.6748103e-13 3.8976728e-11 2.0706760e-02 2.7493750e-06 7.1544573e-04\n",
      " 1.2515946e-05 5.1884442e-03 1.5838884e-06 9.6910531e-03 3.7785750e-04\n",
      " 4.2459914e-03 2.8715664e-04 3.0543508e-03 1.4804453e-01 1.6534581e-03\n",
      " 7.4399315e-02 5.3603947e-04 8.0060672e-06 2.5730236e-07 2.7124187e-02\n",
      " 1.1230237e-04 7.7646961e-05 4.1206556e-07 1.4074964e-05 3.5294030e-07\n",
      " 1.8386319e-06 4.0520485e-02 1.3699958e-03 1.0533683e-01 1.0381703e-03\n",
      " 7.4232303e-05 1.1716582e-02 1.1332196e-05 1.4488157e-03 9.3670174e-02]\n",
      "len:200\n"
     ]
    },
    {
     "data": {
      "text/plain": [
       "{'data': {'is_drift': 1,\n",
       "  'distance': array([0.26853055, 0.07075301, 0.06650463, 0.3003044 , 0.6596231 ,\n",
       "         0.2316378 , 0.08791003, 0.6596683 , 0.05340534, 0.05981456,\n",
       "         0.06122477, 0.12441053, 0.13386539, 0.0609575 , 0.15145355,\n",
       "         0.06450862, 0.05000011, 0.05568338, 0.04947095, 0.04999703,\n",
       "         0.05552132, 0.05502295, 0.05177731, 0.05200812, 0.05736   ,\n",
       "         0.05690961, 0.03925561, 0.04514154, 0.04855489, 0.05361851,\n",
       "         0.05124239, 0.05715392, 0.05341897, 0.04725331, 0.03292493,\n",
       "         0.03701554, 0.04307749, 0.037096  , 0.04545719, 0.0489812 ,\n",
       "         0.05349481, 0.04284512, 0.05873258, 0.03753665, 0.03787683,\n",
       "         0.0274291 , 0.03174331, 0.03434462, 0.03243136, 0.04030178,\n",
       "         0.03939091, 0.03644088, 0.03922934, 0.03946783, 0.0393398 ,\n",
       "         0.02955227, 0.03169521, 0.03085369, 0.04887794, 0.05224944,\n",
       "         0.04430725, 0.03856687, 0.03409121, 0.04071863, 0.02569258,\n",
       "         0.04510398, 0.03777799, 0.05533888, 0.03611707, 0.02912452,\n",
       "         0.02877127, 0.033983  , 0.02770526, 0.02625827, 0.02478063,\n",
       "         0.02838253, 0.02508068, 0.02528304, 0.03011541, 0.02358411,\n",
       "         0.02356805, 0.0282953 , 0.02418678, 0.03061764, 0.02830808,\n",
       "         0.0291562 , 0.02555377, 0.02304947, 0.02399181, 0.03216855,\n",
       "         0.02880911, 0.02265801, 0.02520837, 0.02749406, 0.02164627,\n",
       "         0.01671278, 0.02480666, 0.02197542, 0.02953615, 0.0223162 ,\n",
       "         0.02591975, 0.02160881, 0.02574043, 0.01967264, 0.01967362,\n",
       "         0.01943359, 0.01507953, 0.02261896, 0.01976844, 0.01716688,\n",
       "         0.0199646 , 0.01892943, 0.02391132, 0.01774505, 0.02451947,\n",
       "         0.02409894, 0.02463839, 0.02345634, 0.02219098, 0.02247384,\n",
       "         0.01742828, 0.01840677, 0.02080208, 0.02021276, 0.02503317,\n",
       "         0.01980897, 0.02487198, 0.02806207, 0.01432439, 0.01540687,\n",
       "         0.01590561, 0.0229687 , 0.01677969, 0.01532272, 0.01498948,\n",
       "         0.01345695, 0.01429528, 0.02320976, 0.02192556, 0.01275576,\n",
       "         0.02110336, 0.01302083, 0.0127602 , 0.00983602, 0.01239636,\n",
       "         0.01353251, 0.01437657, 0.01795078, 0.02670698, 0.01736766,\n",
       "         0.01913305, 0.0154534 , 0.02496541, 0.02241265, 0.02748515,\n",
       "         0.02189452, 0.01311118, 0.01067159, 0.0164399 , 0.01256037,\n",
       "         0.02466047, 0.01092067, 0.00914085, 0.01949527, 0.00723444,\n",
       "         0.02366167, 0.02169828, 0.00933786, 0.01605118, 0.01230638,\n",
       "         0.01512283, 0.01065921, 0.01637593, 0.01008418, 0.01279204,\n",
       "         0.01083725, 0.01299528, 0.01112363, 0.00704546, 0.0116384 ,\n",
       "         0.00792332, 0.01252834, 0.01540232, 0.01740327, 0.00905769,\n",
       "         0.0136676 , 0.01392298, 0.01714297, 0.01504853, 0.01722901,\n",
       "         0.01628874, 0.00862434, 0.01179165, 0.00749266, 0.0120141 ,\n",
       "         0.01395378, 0.00990289, 0.01518542, 0.01174628, 0.00764077],\n",
       "        dtype=float32),\n",
       "  'p_val': array([0.0000000e+00, 0.0000000e+00, 0.0000000e+00, 0.0000000e+00,\n",
       "         0.0000000e+00, 0.0000000e+00, 0.0000000e+00, 0.0000000e+00,\n",
       "         0.0000000e+00, 0.0000000e+00, 0.0000000e+00, 0.0000000e+00,\n",
       "         0.0000000e+00, 0.0000000e+00, 0.0000000e+00, 0.0000000e+00,\n",
       "         0.0000000e+00, 0.0000000e+00, 0.0000000e+00, 0.0000000e+00,\n",
       "         0.0000000e+00, 0.0000000e+00, 0.0000000e+00, 0.0000000e+00,\n",
       "         0.0000000e+00, 0.0000000e+00, 1.7651546e-35, 0.0000000e+00,\n",
       "         0.0000000e+00, 0.0000000e+00, 0.0000000e+00, 0.0000000e+00,\n",
       "         0.0000000e+00, 0.0000000e+00, 4.3887714e-25, 1.3609936e-31,\n",
       "         1.2219323e-42, 9.9583873e-32, 0.0000000e+00, 0.0000000e+00,\n",
       "         0.0000000e+00, 3.4780228e-42, 0.0000000e+00, 1.7782981e-32,\n",
       "         4.6381646e-33, 1.5391791e-17, 2.4018942e-23, 2.9500715e-27,\n",
       "         2.3775899e-24, 2.2547787e-37, 1.0108427e-35, 1.2422299e-30,\n",
       "         1.9664544e-35, 7.3564795e-36, 1.2480511e-35, 2.7256842e-20,\n",
       "         2.8181743e-23, 4.4390210e-22, 0.0000000e+00, 0.0000000e+00,\n",
       "         4.2038954e-45, 2.9258718e-34, 7.3173875e-27, 3.8430184e-38,\n",
       "         1.9295457e-15, 0.0000000e+00, 6.8623325e-33, 0.0000000e+00,\n",
       "         4.2530251e-30, 1.0147983e-19, 2.9619683e-19, 1.0763027e-26,\n",
       "         6.9337956e-18, 4.1402960e-16, 2.1496583e-14, 9.4829485e-19,\n",
       "         9.8195411e-15, 5.7581668e-15, 4.6899687e-21, 4.4522770e-13,\n",
       "         4.6323156e-13, 1.2285580e-18, 9.8575723e-14, 9.4919096e-22,\n",
       "         1.1828953e-18, 9.2125438e-20, 2.8006261e-15, 1.6430287e-12,\n",
       "         1.6121798e-13, 5.7854163e-24, 2.6424706e-19, 4.1936263e-12,\n",
       "         7.0152645e-15, 1.2768620e-17, 4.3861016e-11, 8.8351959e-07,\n",
       "         2.0091432e-14, 2.0678702e-11, 2.8651294e-20, 9.3807089e-12,\n",
       "         1.0441757e-15, 4.7745415e-11, 1.6962198e-15, 3.1391105e-09,\n",
       "         3.1327783e-09, 5.1218039e-09, 1.3403086e-05, 4.6004797e-12,\n",
       "         2.5755442e-09, 3.9473679e-07, 1.7123895e-09, 1.4103051e-08,\n",
       "         1.9729091e-13, 1.3715811e-07, 4.2190094e-14, 1.2309382e-13,\n",
       "         3.1063487e-14, 6.0992905e-13, 1.2560083e-11, 6.4809950e-12,\n",
       "         2.4582846e-07, 3.9186251e-08, 2.8648259e-10, 1.0158584e-09,\n",
       "         1.1123570e-14, 2.3680264e-09, 1.6951677e-14, 2.4455338e-18,\n",
       "         4.2877309e-05, 7.9474166e-06, 3.5078447e-06, 1.9960893e-12,\n",
       "         7.8568888e-07, 9.1001048e-06, 1.5445099e-05, 1.5147663e-04,\n",
       "         4.4789278e-05, 1.1142916e-12, 2.3190415e-11, 3.9665040e-04,\n",
       "         1.4789273e-10, 2.7733092e-04, 3.9430545e-04, 1.2555265e-02,\n",
       "         6.3682836e-04, 1.3613331e-04, 3.9642946e-05, 9.3368513e-08,\n",
       "         1.1925203e-16, 2.7453893e-07, 9.3981107e-09, 7.3717206e-06,\n",
       "         1.3283131e-14, 7.4835112e-12, 1.3100239e-17, 2.4902167e-11,\n",
       "         2.4507291e-04, 5.1171943e-03, 1.4189790e-06, 5.1394670e-04,\n",
       "         2.9342119e-14, 3.8609232e-03, 2.5056874e-02, 4.5165649e-09,\n",
       "         1.2854411e-01, 3.6748103e-13, 3.8976728e-11, 2.0706760e-02,\n",
       "         2.7493750e-06, 7.1544573e-04, 1.2515946e-05, 5.1884442e-03,\n",
       "         1.5838884e-06, 9.6910531e-03, 3.7785750e-04, 4.2459914e-03,\n",
       "         2.8715664e-04, 3.0543508e-03, 1.4804453e-01, 1.6534581e-03,\n",
       "         7.4399315e-02, 5.3603947e-04, 8.0060672e-06, 2.5730236e-07,\n",
       "         2.7124187e-02, 1.1230237e-04, 7.7646961e-05, 4.1206556e-07,\n",
       "         1.4074964e-05, 3.5294030e-07, 1.8386319e-06, 4.0520485e-02,\n",
       "         1.3699958e-03, 1.0533683e-01, 1.0381703e-03, 7.4232303e-05,\n",
       "         1.1716582e-02, 1.1332196e-05, 1.4488157e-03, 9.3670174e-02],\n",
       "        dtype=float32),\n",
       "  'threshold': 0.00025},\n",
       " 'meta': {'name': 'KSDrift',\n",
       "  'online': False,\n",
       "  'data_type': None,\n",
       "  'version': '0.10.4',\n",
       "  'detector_type': 'drift'}}"
      ]
     },
     "execution_count": 11,
     "metadata": {},
     "output_type": "execute_result"
    }
   ],
   "source": [
    "myPCA.make_prediction(target_data=camelyon_test,detector_type='KS')"
   ]
  }
 ],
 "metadata": {
  "kernelspec": {
   "display_name": "alibitorchwhy",
   "language": "python",
   "name": "python3"
  },
  "language_info": {
   "codemirror_mode": {
    "name": "ipython",
    "version": 3
   },
   "file_extension": ".py",
   "mimetype": "text/x-python",
   "name": "python",
   "nbconvert_exporter": "python",
   "pygments_lexer": "ipython3",
   "version": "3.8.15"
  },
  "orig_nbformat": 4,
  "vscode": {
   "interpreter": {
    "hash": "401cebfcb5cce5f71138843ad74eb16632e47d40b3a47aa4ad883b3d134173ed"
   }
  }
 },
 "nbformat": 4,
 "nbformat_minor": 2
}
