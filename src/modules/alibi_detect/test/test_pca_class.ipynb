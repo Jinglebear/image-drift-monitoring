{
 "cells": [
  {
   "attachments": {},
   "cell_type": "markdown",
   "metadata": {},
   "source": [
    "load training dataset"
   ]
  },
  {
   "cell_type": "code",
   "execution_count": 1,
   "metadata": {},
   "outputs": [
    {
     "name": "stdout",
     "output_type": "stream",
     "text": [
      "/home/ubuntu/image-drift-monitoring/data/camelyon17_v1.0\n"
     ]
    }
   ],
   "source": [
    "import numpy as np\n",
    "%cd  '/home/ubuntu/image-drift-monitoring/data/camelyon17_v1.0'\n",
    "%pwd\n",
    "\n",
    "camelyon_train_comp = np.load('camelyon_train_ds.npz')"
   ]
  },
  {
   "attachments": {},
   "cell_type": "markdown",
   "metadata": {},
   "source": [
    "extract dataset and shuffle it"
   ]
  },
  {
   "cell_type": "code",
   "execution_count": 2,
   "metadata": {},
   "outputs": [],
   "source": [
    "camelyon_train = camelyon_train_comp['arr_0']\n",
    "\n",
    "np.random.shuffle(camelyon_train)"
   ]
  },
  {
   "attachments": {},
   "cell_type": "markdown",
   "metadata": {},
   "source": [
    "split dataset for training"
   ]
  },
  {
   "cell_type": "code",
   "execution_count": 3,
   "metadata": {},
   "outputs": [],
   "source": [
    "camelyon_train_0_25   = camelyon_train[:int(len(camelyon_train)/4)]\n",
    "camelyon_train_0_12_5  = camelyon_train_0_25[:int(len(camelyon_train_0_25)/2)]\n",
    "camelyon_train_12_5_25 = camelyon_train_0_25[int(len(camelyon_train_0_25)/2):]"
   ]
  },
  {
   "attachments": {},
   "cell_type": "markdown",
   "metadata": {},
   "source": [
    "open config"
   ]
  },
  {
   "cell_type": "code",
   "execution_count": 4,
   "metadata": {},
   "outputs": [],
   "source": [
    "import json \n",
    "with open('/home/ubuntu/image-drift-monitoring/config/common/drift_detection_config.json') as config_file:\n",
    "        drift_detection_config = json.load(config_file)\n",
    "     "
   ]
  },
  {
   "attachments": {},
   "cell_type": "markdown",
   "metadata": {},
   "source": [
    "PCA constructor call"
   ]
  },
  {
   "cell_type": "code",
   "execution_count": 5,
   "metadata": {},
   "outputs": [
    {
     "name": "stdout",
     "output_type": "stream",
     "text": [
      "/home/ubuntu/image-drift-monitoring\n"
     ]
    },
    {
     "name": "stderr",
     "output_type": "stream",
     "text": [
      "2023-02-08 15:54:17.694156: W tensorflow/stream_executor/platform/default/dso_loader.cc:64] Could not load dynamic library 'libcudart.so.11.0'; dlerror: libcudart.so.11.0: cannot open shared object file: No such file or directory\n",
      "2023-02-08 15:54:17.694219: I tensorflow/stream_executor/cuda/cudart_stub.cc:29] Ignore above cudart dlerror if you do not have a GPU set up on your machine.\n",
      "/home/ubuntu/miniconda3/envs/alibitorchwhy/lib/python3.8/site-packages/tqdm/auto.py:22: TqdmWarning: IProgress not found. Please update jupyter and ipywidgets. See https://ipywidgets.readthedocs.io/en/stable/user_install.html\n",
      "  from .autonotebook import tqdm as notebook_tqdm\n"
     ]
    }
   ],
   "source": [
    "%cd  '/home/ubuntu/image-drift-monitoring'\n",
    "%pwd\n",
    "from src.modules.alibi_detect.principal_component_analysis import PrincipalComponentAnalysis\n",
    "\n",
    "myPCA = PrincipalComponentAnalysis(drift_detection_config)"
   ]
  },
  {
   "cell_type": "code",
   "execution_count": 6,
   "metadata": {},
   "outputs": [
    {
     "name": "stdout",
     "output_type": "stream",
     "text": [
      "(37804, 27648)\n"
     ]
    },
    {
     "name": "stderr",
     "output_type": "stream",
     "text": [
      "2023-02-08 15:55:30,805 [INFO]  init_pca(): fitted x_ref to pca\n"
     ]
    },
    {
     "data": {
      "text/html": [
       "<style>#sk-container-id-1 {color: black;background-color: white;}#sk-container-id-1 pre{padding: 0;}#sk-container-id-1 div.sk-toggleable {background-color: white;}#sk-container-id-1 label.sk-toggleable__label {cursor: pointer;display: block;width: 100%;margin-bottom: 0;padding: 0.3em;box-sizing: border-box;text-align: center;}#sk-container-id-1 label.sk-toggleable__label-arrow:before {content: \"▸\";float: left;margin-right: 0.25em;color: #696969;}#sk-container-id-1 label.sk-toggleable__label-arrow:hover:before {color: black;}#sk-container-id-1 div.sk-estimator:hover label.sk-toggleable__label-arrow:before {color: black;}#sk-container-id-1 div.sk-toggleable__content {max-height: 0;max-width: 0;overflow: hidden;text-align: left;background-color: #f0f8ff;}#sk-container-id-1 div.sk-toggleable__content pre {margin: 0.2em;color: black;border-radius: 0.25em;background-color: #f0f8ff;}#sk-container-id-1 input.sk-toggleable__control:checked~div.sk-toggleable__content {max-height: 200px;max-width: 100%;overflow: auto;}#sk-container-id-1 input.sk-toggleable__control:checked~label.sk-toggleable__label-arrow:before {content: \"▾\";}#sk-container-id-1 div.sk-estimator input.sk-toggleable__control:checked~label.sk-toggleable__label {background-color: #d4ebff;}#sk-container-id-1 div.sk-label input.sk-toggleable__control:checked~label.sk-toggleable__label {background-color: #d4ebff;}#sk-container-id-1 input.sk-hidden--visually {border: 0;clip: rect(1px 1px 1px 1px);clip: rect(1px, 1px, 1px, 1px);height: 1px;margin: -1px;overflow: hidden;padding: 0;position: absolute;width: 1px;}#sk-container-id-1 div.sk-estimator {font-family: monospace;background-color: #f0f8ff;border: 1px dotted black;border-radius: 0.25em;box-sizing: border-box;margin-bottom: 0.5em;}#sk-container-id-1 div.sk-estimator:hover {background-color: #d4ebff;}#sk-container-id-1 div.sk-parallel-item::after {content: \"\";width: 100%;border-bottom: 1px solid gray;flex-grow: 1;}#sk-container-id-1 div.sk-label:hover label.sk-toggleable__label {background-color: #d4ebff;}#sk-container-id-1 div.sk-serial::before {content: \"\";position: absolute;border-left: 1px solid gray;box-sizing: border-box;top: 0;bottom: 0;left: 50%;z-index: 0;}#sk-container-id-1 div.sk-serial {display: flex;flex-direction: column;align-items: center;background-color: white;padding-right: 0.2em;padding-left: 0.2em;position: relative;}#sk-container-id-1 div.sk-item {position: relative;z-index: 1;}#sk-container-id-1 div.sk-parallel {display: flex;align-items: stretch;justify-content: center;background-color: white;position: relative;}#sk-container-id-1 div.sk-item::before, #sk-container-id-1 div.sk-parallel-item::before {content: \"\";position: absolute;border-left: 1px solid gray;box-sizing: border-box;top: 0;bottom: 0;left: 50%;z-index: -1;}#sk-container-id-1 div.sk-parallel-item {display: flex;flex-direction: column;z-index: 1;position: relative;background-color: white;}#sk-container-id-1 div.sk-parallel-item:first-child::after {align-self: flex-end;width: 50%;}#sk-container-id-1 div.sk-parallel-item:last-child::after {align-self: flex-start;width: 50%;}#sk-container-id-1 div.sk-parallel-item:only-child::after {width: 0;}#sk-container-id-1 div.sk-dashed-wrapped {border: 1px dashed gray;margin: 0 0.4em 0.5em 0.4em;box-sizing: border-box;padding-bottom: 0.4em;background-color: white;}#sk-container-id-1 div.sk-label label {font-family: monospace;font-weight: bold;display: inline-block;line-height: 1.2em;}#sk-container-id-1 div.sk-label-container {text-align: center;}#sk-container-id-1 div.sk-container {/* jupyter's `normalize.less` sets `[hidden] { display: none; }` but bootstrap.min.css set `[hidden] { display: none !important; }` so we also need the `!important` here to be able to override the default hidden behavior on the sphinx rendered scikit-learn.org. See: https://github.com/scikit-learn/scikit-learn/issues/21755 */display: inline-block !important;position: relative;}#sk-container-id-1 div.sk-text-repr-fallback {display: none;}</style><div id=\"sk-container-id-1\" class=\"sk-top-container\"><div class=\"sk-text-repr-fallback\"><pre>PCA(n_components=200)</pre><b>In a Jupyter environment, please rerun this cell to show the HTML representation or trust the notebook. <br />On GitHub, the HTML representation is unable to render, please try loading this page with nbviewer.org.</b></div><div class=\"sk-container\" hidden><div class=\"sk-item\"><div class=\"sk-estimator sk-toggleable\"><input class=\"sk-toggleable__control sk-hidden--visually\" id=\"sk-estimator-id-1\" type=\"checkbox\" checked><label for=\"sk-estimator-id-1\" class=\"sk-toggleable__label sk-toggleable__label-arrow\">PCA</label><div class=\"sk-toggleable__content\"><pre>PCA(n_components=200)</pre></div></div></div></div></div>"
      ],
      "text/plain": [
       "PCA(n_components=200)"
      ]
     },
     "execution_count": 6,
     "metadata": {},
     "output_type": "execute_result"
    }
   ],
   "source": [
    "myPCA.init_pca(camelyon_train_0_12_5)"
   ]
  },
  {
   "attachments": {},
   "cell_type": "markdown",
   "metadata": {},
   "source": [
    "init KS detector"
   ]
  },
  {
   "cell_type": "code",
   "execution_count": 7,
   "metadata": {},
   "outputs": [
    {
     "name": "stderr",
     "output_type": "stream",
     "text": [
      "2023-02-08 15:55:33,084 [INFO]  KS Detector initialized\n",
      "Directory /home/ubuntu/image-drift-monitoring/config/detectors/PCA_40_25_25_KS does not exist and is now created.\n",
      "Directory /home/ubuntu/image-drift-monitoring/config/detectors/PCA_40_25_25_KS/preprocess_fn does not exist and is now created.\n"
     ]
    }
   ],
   "source": [
    "myPCA.init_detector(detector_type='KS',reference_data=camelyon_train_12_5_25,detector_name='PCA_40_25_25_KS',save_dec=True)"
   ]
  },
  {
   "cell_type": "code",
   "execution_count": 8,
   "metadata": {},
   "outputs": [],
   "source": [
    "camelyon_train_25_50   = camelyon_train[int(len(camelyon_train)/4):int(len(camelyon_train)/2)]"
   ]
  },
  {
   "attachments": {},
   "cell_type": "markdown",
   "metadata": {},
   "source": [
    "# H0 Hypothesis testing"
   ]
  },
  {
   "cell_type": "code",
   "execution_count": 9,
   "metadata": {},
   "outputs": [
    {
     "name": "stdout",
     "output_type": "stream",
     "text": [
      "Drift? No!\n",
      "Feature-wise p-values:\n",
      "[9.9399215e-01 6.8860328e-01 2.3854594e-01 7.8410876e-01 7.4741322e-01\n",
      " 5.0767702e-01 3.6949074e-01 7.7018911e-01 5.4831266e-01 2.5486317e-01\n",
      " 1.4041920e-01 1.5608083e-01 4.4068940e-02 4.8792887e-01 1.4849813e-01\n",
      " 7.6930031e-02 7.2389430e-01 6.6248339e-01 7.1872956e-01 6.3249439e-01\n",
      " 2.0012783e-01 8.9861967e-02 8.6446440e-01 1.5436164e-01 7.7431202e-01\n",
      " 7.5271988e-01 8.8949478e-01 7.9460628e-02 4.1512230e-01 9.9109352e-01\n",
      " 9.3651456e-01 3.3698243e-01 7.5735873e-01 2.0729432e-01 1.6205347e-01\n",
      " 4.1644657e-03 4.1608313e-01 4.0125677e-01 2.5279349e-01 5.9189218e-01\n",
      " 7.1881682e-01 5.0069708e-01 9.7817302e-02 4.3341056e-01 3.0336845e-01\n",
      " 8.2128930e-01 9.1690254e-01 5.8514357e-01 8.5840285e-01 6.4572561e-01\n",
      " 4.1025406e-01 8.3907377e-03 9.5842719e-01 6.9922286e-01 4.2968962e-01\n",
      " 7.4374753e-01 9.2906576e-01 8.1112325e-01 6.3259013e-02 9.8939225e-02\n",
      " 1.5304455e-01 1.0723390e-01 2.9545885e-01 7.4164212e-01 7.1226978e-01\n",
      " 5.5139792e-01 4.6875629e-01 6.9591504e-01 2.5996837e-01 1.7782363e-01\n",
      " 6.4294446e-01 9.9764985e-01 1.6359331e-01 6.1379248e-01 9.0387279e-01\n",
      " 4.3701932e-01 3.4910950e-01 1.5005793e-01 4.2812794e-01 9.4241184e-01\n",
      " 8.3835232e-01 9.7911245e-01 2.8241807e-01 9.5273942e-01 7.5260848e-01\n",
      " 9.9224573e-01 9.7794592e-01 2.5795439e-01 6.8155318e-01 6.9812274e-01\n",
      " 7.2678006e-01 4.7426522e-01 3.8287830e-01 7.4955618e-01 2.4494149e-01\n",
      " 7.9294884e-01 4.0128520e-01 9.3797833e-01 4.3722811e-01 4.4263288e-01\n",
      " 5.7935989e-01 4.5927128e-01 1.1300486e-01 8.4670222e-01 4.0868649e-01\n",
      " 4.7434461e-01 3.3595052e-02 8.5766125e-01 9.1526169e-01 3.9211363e-01\n",
      " 6.4493531e-01 8.0130541e-01 8.7894672e-01 5.9752506e-01 1.6382366e-01\n",
      " 4.3009597e-01 9.5464230e-01 5.1707083e-01 6.9250757e-01 3.4750319e-01\n",
      " 2.3048395e-01 5.8593774e-01 1.9801846e-01 1.3086951e-01 8.6105895e-01\n",
      " 2.5501579e-01 9.5657825e-01 4.4558585e-01 8.3263862e-01 6.7477018e-01\n",
      " 3.9503494e-01 7.2341686e-01 9.2046171e-01 8.3545452e-01 4.0580535e-01\n",
      " 7.6112169e-01 6.5561628e-01 9.0895486e-01 6.1458772e-01 1.1381954e-01\n",
      " 3.1639275e-01 6.2871474e-01 1.2120479e-01 4.3349090e-01 3.0334195e-01\n",
      " 2.9842022e-01 9.3457544e-01 6.2829119e-01 5.8711457e-01 6.8938881e-01\n",
      " 3.6014803e-04 7.3994595e-01 7.0902997e-01 4.3666545e-01 6.2000144e-02\n",
      " 9.9245524e-01 1.2003515e-01 9.2283642e-01 3.6985120e-01 2.1596009e-01\n",
      " 4.4974986e-01 3.6091936e-01 6.5752590e-01 5.4776406e-01 9.4230831e-01\n",
      " 2.6645648e-01 5.2182305e-01 2.6562229e-01 8.2013834e-01 4.9781957e-01\n",
      " 4.2635459e-01 8.3219129e-01 8.5724682e-01 5.1413459e-01 9.1463965e-01\n",
      " 4.9044243e-01 9.8067963e-01 3.9826086e-01 3.9236143e-01 1.0194108e-01\n",
      " 6.0396228e-02 1.5601140e-01 3.5343942e-01 8.3731043e-01 2.0584008e-01\n",
      " 9.4245845e-01 9.4025768e-02 4.5876077e-01 2.4593052e-01 1.2581392e-01\n",
      " 1.0957696e-01 2.7589387e-01 8.6080986e-01 8.1045312e-01 3.6332166e-01\n",
      " 6.0797513e-01 6.1473334e-01 5.5495614e-01 7.3371518e-01 3.3187672e-01]\n",
      "len:200\n"
     ]
    },
    {
     "data": {
      "text/plain": [
       "{'data': {'is_drift': 0,\n",
       "  'distance': array([0.00265811, 0.00448798, 0.00648572, 0.00411976, 0.0042644 ,\n",
       "         0.00517567, 0.00577056, 0.00417529, 0.00501651, 0.00638325,\n",
       "         0.00725221, 0.00710606, 0.00869325, 0.00525494, 0.00717527,\n",
       "         0.0080329 , 0.00435468, 0.00458574, 0.00437432, 0.00469775,\n",
       "         0.00674973, 0.00783881, 0.00377197, 0.00712152, 0.00415894,\n",
       "         0.00424381, 0.00364743, 0.00799286, 0.00556207, 0.00274437,\n",
       "         0.00336733, 0.00592922, 0.00422573, 0.00669771, 0.00705342,\n",
       "         0.01106088, 0.00555784, 0.00562388, 0.00639597, 0.00485022,\n",
       "         0.00437399, 0.00520352, 0.00773079, 0.00548235, 0.00610446,\n",
       "         0.0039659 , 0.00349424, 0.00487574, 0.00380055, 0.00464832,\n",
       "         0.00558363, 0.01041414, 0.00319485, 0.00444807, 0.00549842,\n",
       "         0.00427857, 0.00341779, 0.00400891, 0.00827082, 0.00771615,\n",
       "         0.00713345, 0.007612  , 0.00614764, 0.0042867 , 0.00439882,\n",
       "         0.0050046 , 0.00533335, 0.00446051, 0.00635218, 0.00692147,\n",
       "         0.00465871, 0.00248255, 0.0070401 , 0.00476779, 0.00356982,\n",
       "         0.00546685, 0.00586891, 0.00716081, 0.00550518, 0.00332494,\n",
       "         0.00389171, 0.00296637, 0.00622063, 0.00324405, 0.00424424,\n",
       "         0.00271301, 0.00298254, 0.00636439, 0.00451441, 0.00445221,\n",
       "         0.00434368, 0.00531066, 0.00570783, 0.0042561 , 0.00644496,\n",
       "         0.00408397, 0.00562376, 0.00335703, 0.00546595, 0.00544287,\n",
       "         0.00489768, 0.00537274, 0.00754341, 0.00385433, 0.00559061,\n",
       "         0.00531034, 0.00899735, 0.00380401, 0.00350408, 0.00566534,\n",
       "         0.00465127, 0.00404973, 0.00370133, 0.00482896, 0.00703811,\n",
       "         0.00549666, 0.00322802, 0.00513843, 0.00447332, 0.00587681,\n",
       "         0.0065383 , 0.00487274, 0.00676531, 0.00734792, 0.00378809,\n",
       "         0.00638231, 0.00321128, 0.00543032, 0.00391686, 0.00453981,\n",
       "         0.00565203, 0.0043565 , 0.00347254, 0.0039045 , 0.00560347,\n",
       "         0.004211  , 0.00461138, 0.00354101, 0.0047648 , 0.00753396,\n",
       "         0.00603506, 0.00471189, 0.00745075, 0.00548201, 0.00610461,\n",
       "         0.00613138, 0.00338078, 0.00471347, 0.00486828, 0.00448503,\n",
       "         0.01307196, 0.00429323, 0.00441107, 0.00546836, 0.00829488,\n",
       "         0.00270695, 0.00746364, 0.00345776, 0.00576885, 0.00663662,\n",
       "         0.0054127 , 0.00581148, 0.00460425, 0.00501862, 0.0033257 ,\n",
       "         0.00631334, 0.00511971, 0.0063183 , 0.00397081, 0.00521506,\n",
       "         0.00551288, 0.00391881, 0.00380594, 0.00515004, 0.00350779,\n",
       "         0.00524477, 0.00294364, 0.0056374 , 0.00566421, 0.00767764,\n",
       "         0.00832614, 0.00710669, 0.00584771, 0.00389632, 0.00670815,\n",
       "         0.00332459, 0.00778132, 0.00537487, 0.00643872, 0.0074009 ,\n",
       "         0.00758379, 0.00625806, 0.00378926, 0.00401172, 0.00579995,\n",
       "         0.00478963, 0.00476426, 0.00499091, 0.00431716, 0.00595505],\n",
       "        dtype=float32),\n",
       "  'p_val': array([9.9399215e-01, 6.8860328e-01, 2.3854594e-01, 7.8410876e-01,\n",
       "         7.4741322e-01, 5.0767702e-01, 3.6949074e-01, 7.7018911e-01,\n",
       "         5.4831266e-01, 2.5486317e-01, 1.4041920e-01, 1.5608083e-01,\n",
       "         4.4068940e-02, 4.8792887e-01, 1.4849813e-01, 7.6930031e-02,\n",
       "         7.2389430e-01, 6.6248339e-01, 7.1872956e-01, 6.3249439e-01,\n",
       "         2.0012783e-01, 8.9861967e-02, 8.6446440e-01, 1.5436164e-01,\n",
       "         7.7431202e-01, 7.5271988e-01, 8.8949478e-01, 7.9460628e-02,\n",
       "         4.1512230e-01, 9.9109352e-01, 9.3651456e-01, 3.3698243e-01,\n",
       "         7.5735873e-01, 2.0729432e-01, 1.6205347e-01, 4.1644657e-03,\n",
       "         4.1608313e-01, 4.0125677e-01, 2.5279349e-01, 5.9189218e-01,\n",
       "         7.1881682e-01, 5.0069708e-01, 9.7817302e-02, 4.3341056e-01,\n",
       "         3.0336845e-01, 8.2128930e-01, 9.1690254e-01, 5.8514357e-01,\n",
       "         8.5840285e-01, 6.4572561e-01, 4.1025406e-01, 8.3907377e-03,\n",
       "         9.5842719e-01, 6.9922286e-01, 4.2968962e-01, 7.4374753e-01,\n",
       "         9.2906576e-01, 8.1112325e-01, 6.3259013e-02, 9.8939225e-02,\n",
       "         1.5304455e-01, 1.0723390e-01, 2.9545885e-01, 7.4164212e-01,\n",
       "         7.1226978e-01, 5.5139792e-01, 4.6875629e-01, 6.9591504e-01,\n",
       "         2.5996837e-01, 1.7782363e-01, 6.4294446e-01, 9.9764985e-01,\n",
       "         1.6359331e-01, 6.1379248e-01, 9.0387279e-01, 4.3701932e-01,\n",
       "         3.4910950e-01, 1.5005793e-01, 4.2812794e-01, 9.4241184e-01,\n",
       "         8.3835232e-01, 9.7911245e-01, 2.8241807e-01, 9.5273942e-01,\n",
       "         7.5260848e-01, 9.9224573e-01, 9.7794592e-01, 2.5795439e-01,\n",
       "         6.8155318e-01, 6.9812274e-01, 7.2678006e-01, 4.7426522e-01,\n",
       "         3.8287830e-01, 7.4955618e-01, 2.4494149e-01, 7.9294884e-01,\n",
       "         4.0128520e-01, 9.3797833e-01, 4.3722811e-01, 4.4263288e-01,\n",
       "         5.7935989e-01, 4.5927128e-01, 1.1300486e-01, 8.4670222e-01,\n",
       "         4.0868649e-01, 4.7434461e-01, 3.3595052e-02, 8.5766125e-01,\n",
       "         9.1526169e-01, 3.9211363e-01, 6.4493531e-01, 8.0130541e-01,\n",
       "         8.7894672e-01, 5.9752506e-01, 1.6382366e-01, 4.3009597e-01,\n",
       "         9.5464230e-01, 5.1707083e-01, 6.9250757e-01, 3.4750319e-01,\n",
       "         2.3048395e-01, 5.8593774e-01, 1.9801846e-01, 1.3086951e-01,\n",
       "         8.6105895e-01, 2.5501579e-01, 9.5657825e-01, 4.4558585e-01,\n",
       "         8.3263862e-01, 6.7477018e-01, 3.9503494e-01, 7.2341686e-01,\n",
       "         9.2046171e-01, 8.3545452e-01, 4.0580535e-01, 7.6112169e-01,\n",
       "         6.5561628e-01, 9.0895486e-01, 6.1458772e-01, 1.1381954e-01,\n",
       "         3.1639275e-01, 6.2871474e-01, 1.2120479e-01, 4.3349090e-01,\n",
       "         3.0334195e-01, 2.9842022e-01, 9.3457544e-01, 6.2829119e-01,\n",
       "         5.8711457e-01, 6.8938881e-01, 3.6014803e-04, 7.3994595e-01,\n",
       "         7.0902997e-01, 4.3666545e-01, 6.2000144e-02, 9.9245524e-01,\n",
       "         1.2003515e-01, 9.2283642e-01, 3.6985120e-01, 2.1596009e-01,\n",
       "         4.4974986e-01, 3.6091936e-01, 6.5752590e-01, 5.4776406e-01,\n",
       "         9.4230831e-01, 2.6645648e-01, 5.2182305e-01, 2.6562229e-01,\n",
       "         8.2013834e-01, 4.9781957e-01, 4.2635459e-01, 8.3219129e-01,\n",
       "         8.5724682e-01, 5.1413459e-01, 9.1463965e-01, 4.9044243e-01,\n",
       "         9.8067963e-01, 3.9826086e-01, 3.9236143e-01, 1.0194108e-01,\n",
       "         6.0396228e-02, 1.5601140e-01, 3.5343942e-01, 8.3731043e-01,\n",
       "         2.0584008e-01, 9.4245845e-01, 9.4025768e-02, 4.5876077e-01,\n",
       "         2.4593052e-01, 1.2581392e-01, 1.0957696e-01, 2.7589387e-01,\n",
       "         8.6080986e-01, 8.1045312e-01, 3.6332166e-01, 6.0797513e-01,\n",
       "         6.1473334e-01, 5.5495614e-01, 7.3371518e-01, 3.3187672e-01],\n",
       "        dtype=float32),\n",
       "  'threshold': 0.00025},\n",
       " 'meta': {'name': 'KSDrift',\n",
       "  'online': False,\n",
       "  'data_type': None,\n",
       "  'version': '0.10.4',\n",
       "  'detector_type': 'drift'}}"
      ]
     },
     "execution_count": 9,
     "metadata": {},
     "output_type": "execute_result"
    }
   ],
   "source": [
    "myPCA.make_prediction(target_data=camelyon_train_25_50,detector_type='KS')"
   ]
  },
  {
   "attachments": {},
   "cell_type": "markdown",
   "metadata": {},
   "source": [
    "# drift testing"
   ]
  },
  {
   "cell_type": "code",
   "execution_count": 11,
   "metadata": {},
   "outputs": [],
   "source": [
    "camelyon_test_comp = np.load('/home/ubuntu/image-drift-monitoring/data/camelyon17_v1.0/camelyon_test_ds.npz')\n",
    "camelyon_test = camelyon_test_comp['arr_0']\n",
    "\n",
    "np.random.shuffle(camelyon_test)"
   ]
  },
  {
   "cell_type": "code",
   "execution_count": 12,
   "metadata": {},
   "outputs": [
    {
     "name": "stdout",
     "output_type": "stream",
     "text": [
      "Drift? Yes!\n",
      "Feature-wise p-values:\n",
      "[0.00000000e+00 0.00000000e+00 0.00000000e+00 0.00000000e+00\n",
      " 0.00000000e+00 0.00000000e+00 0.00000000e+00 0.00000000e+00\n",
      " 0.00000000e+00 0.00000000e+00 0.00000000e+00 0.00000000e+00\n",
      " 0.00000000e+00 0.00000000e+00 0.00000000e+00 0.00000000e+00\n",
      " 0.00000000e+00 0.00000000e+00 0.00000000e+00 2.94272678e-44\n",
      " 0.00000000e+00 3.00718650e-42 0.00000000e+00 0.00000000e+00\n",
      " 0.00000000e+00 0.00000000e+00 2.80259693e-45 0.00000000e+00\n",
      " 0.00000000e+00 0.00000000e+00 0.00000000e+00 0.00000000e+00\n",
      " 1.95805536e-39 0.00000000e+00 9.02999864e-23 1.05203409e-32\n",
      " 0.00000000e+00 8.88813284e-31 0.00000000e+00 0.00000000e+00\n",
      " 0.00000000e+00 0.00000000e+00 0.00000000e+00 3.16674426e-28\n",
      " 4.90270101e-25 5.60519386e-45 6.76547939e-36 8.52274378e-38\n",
      " 7.91733632e-43 5.17718523e-34 0.00000000e+00 4.95592460e-23\n",
      " 1.50812031e-32 1.66401000e-25 1.28251656e-37 3.39045011e-29\n",
      " 4.62428493e-44 2.04279715e-14 2.46527367e-36 0.00000000e+00\n",
      " 1.39088682e-40 5.32690663e-38 6.19385284e-34 0.00000000e+00\n",
      " 9.34134871e-33 1.27441132e-29 2.72529512e-23 0.00000000e+00\n",
      " 3.50723790e-13 5.17976829e-19 2.46893801e-24 2.47407136e-18\n",
      " 6.28406535e-26 8.58795199e-25 1.62480503e-19 1.68182983e-19\n",
      " 2.78526469e-13 4.36902824e-16 7.73933538e-31 1.50225275e-23\n",
      " 3.56357307e-18 2.13024001e-20 1.21546040e-09 1.96064199e-16\n",
      " 3.24741238e-13 1.98831076e-21 2.02283633e-19 2.39071496e-25\n",
      " 1.12283155e-10 3.47142185e-18 8.26516841e-11 1.02720272e-11\n",
      " 1.58971176e-12 2.54953021e-15 3.90361402e-15 3.70243519e-18\n",
      " 7.11719490e-42 1.49326799e-13 4.15972683e-20 5.75406368e-13\n",
      " 9.39237701e-14 1.28418587e-12 8.37410856e-14 8.86779192e-12\n",
      " 2.15002911e-11 2.03043160e-09 1.63068309e-10 4.55606776e-12\n",
      " 9.04630895e-07 8.54542240e-13 2.63928272e-11 8.47529336e-09\n",
      " 9.66196090e-13 5.92625793e-06 9.31626789e-17 2.76234573e-07\n",
      " 4.14120599e-10 1.28910937e-09 5.16120383e-14 2.36955881e-13\n",
      " 2.56482413e-09 1.46284440e-09 1.61550051e-04 1.23262032e-06\n",
      " 1.64765611e-14 2.65180436e-03 3.48206995e-05 6.76195526e-08\n",
      " 9.58911710e-21 3.05946969e-06 2.83975987e-05 1.51925239e-09\n",
      " 5.42862573e-08 3.80605343e-05 5.04511900e-06 2.32576429e-08\n",
      " 6.13969959e-08 1.72319483e-06 2.39097044e-08 3.16877799e-06\n",
      " 3.57681029e-06 3.11485178e-06 1.23296148e-11 2.33698474e-14\n",
      " 1.12214567e-08 3.03118810e-07 1.71684249e-07 7.37215742e-05\n",
      " 3.26055936e-17 4.55896476e-08 2.58181720e-09 3.26639893e-05\n",
      " 1.21957419e-06 3.70997819e-04 9.73051996e-04 1.89309534e-15\n",
      " 7.04002706e-03 3.51952053e-07 5.90154054e-12 8.32223013e-05\n",
      " 1.01230973e-18 8.69045779e-03 4.19185963e-04 1.11480540e-06\n",
      " 5.28097235e-06 5.53707905e-05 9.17376252e-04 2.97288398e-06\n",
      " 2.51635356e-05 1.06676007e-05 2.90391094e-04 2.36539832e-09\n",
      " 1.53511940e-02 5.72863828e-05 7.93474319e-05 4.41856188e-04\n",
      " 2.00626999e-02 6.91321111e-05 1.38490293e-02 6.41323044e-04\n",
      " 4.80171060e-03 3.24780785e-07 1.08283975e-05 3.79642963e-01\n",
      " 1.17692243e-05 4.56488378e-05 1.78980863e-05 1.91480256e-04\n",
      " 6.37489092e-03 1.98279114e-14 2.52423272e-03 4.96747624e-03\n",
      " 9.56460310e-04 4.68589924e-03 2.15165051e-06 2.09112018e-01\n",
      " 1.93236774e-05 5.12492852e-06 1.22641283e-03 1.50270507e-09]\n",
      "len:200\n"
     ]
    },
    {
     "data": {
      "text/plain": [
       "{'data': {'is_drift': 1,\n",
       "  'distance': array([0.26257014, 0.09471101, 0.07862324, 0.29771435, 0.66016996,\n",
       "         0.23524213, 0.07656252, 0.65010136, 0.06328565, 0.07791446,\n",
       "         0.0609365 , 0.05587572, 0.14900184, 0.05683143, 0.15772979,\n",
       "         0.06597766, 0.06308914, 0.0475777 , 0.04798108, 0.04389069,\n",
       "         0.04912136, 0.04287752, 0.05499408, 0.05700695, 0.06431524,\n",
       "         0.06653324, 0.04439591, 0.04710459, 0.04570182, 0.04925231,\n",
       "         0.0490686 , 0.0494208 , 0.04141047, 0.04754598, 0.03134253,\n",
       "         0.03766989, 0.04572513, 0.03652846, 0.0473441 , 0.04961384,\n",
       "         0.04770941, 0.04656998, 0.04721001, 0.03495938, 0.03289281,\n",
       "         0.0442673 , 0.03948808, 0.04053152, 0.0431737 , 0.03842538,\n",
       "         0.04756748, 0.03152474, 0.03757853, 0.03320492, 0.04043517,\n",
       "         0.03556421, 0.04379632, 0.02480027, 0.03973132, 0.04871831,\n",
       "         0.04201552, 0.04064203, 0.03838082, 0.05134609, 0.03769999,\n",
       "         0.03582586, 0.0317053 , 0.04780618, 0.0236805 , 0.02858521,\n",
       "         0.03242026, 0.02805812, 0.0334837 , 0.03272972, 0.02896982,\n",
       "         0.02895845, 0.02377324, 0.02623871, 0.0365646 , 0.03188413,\n",
       "         0.02793369, 0.02963179, 0.02012785, 0.02652865, 0.02371151,\n",
       "         0.03038622, 0.02889753, 0.03310058, 0.02122762, 0.02794264,\n",
       "         0.02136498, 0.02227733, 0.02306313, 0.02558884, 0.0254294 ,\n",
       "         0.02792062, 0.04268538, 0.02402228, 0.0294154 , 0.02348004,\n",
       "         0.02420585, 0.02315131, 0.02425107, 0.02234024, 0.02195848,\n",
       "         0.01988296, 0.02105912, 0.02262306, 0.01669929, 0.02331868,\n",
       "         0.02186916, 0.01918455, 0.02326834, 0.01558766, 0.02679509,\n",
       "         0.01736427, 0.02063227, 0.02009992, 0.02444086, 0.02383806,\n",
       "         0.01977045, 0.02003978, 0.0134112 , 0.01652147, 0.02488289,\n",
       "         0.01124427, 0.01446244, 0.01812158, 0.02988783, 0.01598749,\n",
       "         0.01459643, 0.02002175, 0.01823692, 0.01440359, 0.01568595,\n",
       "         0.01867541, 0.01817236, 0.0163267 , 0.01866127, 0.01596651,\n",
       "         0.01589392, 0.01597677, 0.02219894, 0.02474842, 0.01904436,\n",
       "         0.01731313, 0.01762383, 0.01395851, 0.02716658, 0.01832809,\n",
       "         0.01976726, 0.01450459, 0.01652761, 0.0128057 , 0.01206546,\n",
       "         0.02569967, 0.01038231, 0.01723057, 0.02251359, 0.01387535,\n",
       "         0.02836055, 0.01018682, 0.01271434, 0.01657942, 0.01565811,\n",
       "         0.01415293, 0.01211199, 0.01600462, 0.0146753 , 0.01522337,\n",
       "         0.01298705, 0.0198095 , 0.00963893, 0.01412997, 0.01390812,\n",
       "         0.01267473, 0.0093701 , 0.0140024 , 0.00974037, 0.01239094,\n",
       "         0.01072836, 0.01727503, 0.01521398, 0.00561604, 0.01516161,\n",
       "         0.01428258, 0.0148953 , 0.01328965, 0.01047316, 0.02481174,\n",
       "         0.01128605, 0.01069812, 0.01207906, 0.01075006, 0.01619633,\n",
       "         0.00655994, 0.0148461 , 0.01567639, 0.01188095, 0.02002697],\n",
       "        dtype=float32),\n",
       "  'p_val': array([0.00000000e+00, 0.00000000e+00, 0.00000000e+00, 0.00000000e+00,\n",
       "         0.00000000e+00, 0.00000000e+00, 0.00000000e+00, 0.00000000e+00,\n",
       "         0.00000000e+00, 0.00000000e+00, 0.00000000e+00, 0.00000000e+00,\n",
       "         0.00000000e+00, 0.00000000e+00, 0.00000000e+00, 0.00000000e+00,\n",
       "         0.00000000e+00, 0.00000000e+00, 0.00000000e+00, 2.94272678e-44,\n",
       "         0.00000000e+00, 3.00718650e-42, 0.00000000e+00, 0.00000000e+00,\n",
       "         0.00000000e+00, 0.00000000e+00, 2.80259693e-45, 0.00000000e+00,\n",
       "         0.00000000e+00, 0.00000000e+00, 0.00000000e+00, 0.00000000e+00,\n",
       "         1.95805536e-39, 0.00000000e+00, 9.02999864e-23, 1.05203409e-32,\n",
       "         0.00000000e+00, 8.88813284e-31, 0.00000000e+00, 0.00000000e+00,\n",
       "         0.00000000e+00, 0.00000000e+00, 0.00000000e+00, 3.16674426e-28,\n",
       "         4.90270101e-25, 5.60519386e-45, 6.76547939e-36, 8.52274378e-38,\n",
       "         7.91733632e-43, 5.17718523e-34, 0.00000000e+00, 4.95592460e-23,\n",
       "         1.50812031e-32, 1.66401000e-25, 1.28251656e-37, 3.39045011e-29,\n",
       "         4.62428493e-44, 2.04279715e-14, 2.46527367e-36, 0.00000000e+00,\n",
       "         1.39088682e-40, 5.32690663e-38, 6.19385284e-34, 0.00000000e+00,\n",
       "         9.34134871e-33, 1.27441132e-29, 2.72529512e-23, 0.00000000e+00,\n",
       "         3.50723790e-13, 5.17976829e-19, 2.46893801e-24, 2.47407136e-18,\n",
       "         6.28406535e-26, 8.58795199e-25, 1.62480503e-19, 1.68182983e-19,\n",
       "         2.78526469e-13, 4.36902824e-16, 7.73933538e-31, 1.50225275e-23,\n",
       "         3.56357307e-18, 2.13024001e-20, 1.21546040e-09, 1.96064199e-16,\n",
       "         3.24741238e-13, 1.98831076e-21, 2.02283633e-19, 2.39071496e-25,\n",
       "         1.12283155e-10, 3.47142185e-18, 8.26516841e-11, 1.02720272e-11,\n",
       "         1.58971176e-12, 2.54953021e-15, 3.90361402e-15, 3.70243519e-18,\n",
       "         7.11719490e-42, 1.49326799e-13, 4.15972683e-20, 5.75406368e-13,\n",
       "         9.39237701e-14, 1.28418587e-12, 8.37410856e-14, 8.86779192e-12,\n",
       "         2.15002911e-11, 2.03043160e-09, 1.63068309e-10, 4.55606776e-12,\n",
       "         9.04630895e-07, 8.54542240e-13, 2.63928272e-11, 8.47529336e-09,\n",
       "         9.66196090e-13, 5.92625793e-06, 9.31626789e-17, 2.76234573e-07,\n",
       "         4.14120599e-10, 1.28910937e-09, 5.16120383e-14, 2.36955881e-13,\n",
       "         2.56482413e-09, 1.46284440e-09, 1.61550051e-04, 1.23262032e-06,\n",
       "         1.64765611e-14, 2.65180436e-03, 3.48206995e-05, 6.76195526e-08,\n",
       "         9.58911710e-21, 3.05946969e-06, 2.83975987e-05, 1.51925239e-09,\n",
       "         5.42862573e-08, 3.80605343e-05, 5.04511900e-06, 2.32576429e-08,\n",
       "         6.13969959e-08, 1.72319483e-06, 2.39097044e-08, 3.16877799e-06,\n",
       "         3.57681029e-06, 3.11485178e-06, 1.23296148e-11, 2.33698474e-14,\n",
       "         1.12214567e-08, 3.03118810e-07, 1.71684249e-07, 7.37215742e-05,\n",
       "         3.26055936e-17, 4.55896476e-08, 2.58181720e-09, 3.26639893e-05,\n",
       "         1.21957419e-06, 3.70997819e-04, 9.73051996e-04, 1.89309534e-15,\n",
       "         7.04002706e-03, 3.51952053e-07, 5.90154054e-12, 8.32223013e-05,\n",
       "         1.01230973e-18, 8.69045779e-03, 4.19185963e-04, 1.11480540e-06,\n",
       "         5.28097235e-06, 5.53707905e-05, 9.17376252e-04, 2.97288398e-06,\n",
       "         2.51635356e-05, 1.06676007e-05, 2.90391094e-04, 2.36539832e-09,\n",
       "         1.53511940e-02, 5.72863828e-05, 7.93474319e-05, 4.41856188e-04,\n",
       "         2.00626999e-02, 6.91321111e-05, 1.38490293e-02, 6.41323044e-04,\n",
       "         4.80171060e-03, 3.24780785e-07, 1.08283975e-05, 3.79642963e-01,\n",
       "         1.17692243e-05, 4.56488378e-05, 1.78980863e-05, 1.91480256e-04,\n",
       "         6.37489092e-03, 1.98279114e-14, 2.52423272e-03, 4.96747624e-03,\n",
       "         9.56460310e-04, 4.68589924e-03, 2.15165051e-06, 2.09112018e-01,\n",
       "         1.93236774e-05, 5.12492852e-06, 1.22641283e-03, 1.50270507e-09],\n",
       "        dtype=float32),\n",
       "  'threshold': 0.00025},\n",
       " 'meta': {'name': 'KSDrift',\n",
       "  'online': False,\n",
       "  'data_type': None,\n",
       "  'version': '0.10.4',\n",
       "  'detector_type': 'drift'}}"
      ]
     },
     "execution_count": 12,
     "metadata": {},
     "output_type": "execute_result"
    }
   ],
   "source": [
    "myPCA.make_prediction(target_data=camelyon_test,detector_type='KS')"
   ]
  }
 ],
 "metadata": {
  "kernelspec": {
   "display_name": "alibitorchwhy",
   "language": "python",
   "name": "python3"
  },
  "language_info": {
   "codemirror_mode": {
    "name": "ipython",
    "version": 3
   },
   "file_extension": ".py",
   "mimetype": "text/x-python",
   "name": "python",
   "nbconvert_exporter": "python",
   "pygments_lexer": "ipython3",
   "version": "3.8.15"
  },
  "orig_nbformat": 4,
  "vscode": {
   "interpreter": {
    "hash": "401cebfcb5cce5f71138843ad74eb16632e47d40b3a47aa4ad883b3d134173ed"
   }
  }
 },
 "nbformat": 4,
 "nbformat_minor": 2
}
