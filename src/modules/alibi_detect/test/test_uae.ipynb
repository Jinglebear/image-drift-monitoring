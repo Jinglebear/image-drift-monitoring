{
 "cells": [
  {
   "cell_type": "code",
   "execution_count": 1,
   "metadata": {},
   "outputs": [
    {
     "name": "stdout",
     "output_type": "stream",
     "text": [
      "/home/ubuntu/image-drift-monitoring/data/camelyon17_v1.0\n"
     ]
    }
   ],
   "source": [
    "import numpy as np\n",
    "%cd  '/home/ubuntu/image-drift-monitoring/data/camelyon17_v1.0'\n",
    "%pwd\n",
    "\n",
    "camelyon_train_comp = np.load('camelyon_train_ds.npz')"
   ]
  },
  {
   "cell_type": "code",
   "execution_count": 2,
   "metadata": {},
   "outputs": [],
   "source": [
    "camelyon_train = camelyon_train_comp['arr_0']\n",
    "\n",
    "np.random.shuffle(camelyon_train)"
   ]
  },
  {
   "cell_type": "code",
   "execution_count": 8,
   "metadata": {},
   "outputs": [],
   "source": [
    "# np.random.shuffle(camelyon_train)\n",
    "# camelyon_train_5  = camelyon_train[:int(len(camelyon_train)/20)]\n",
    "np.random.shuffle(camelyon_train)\n",
    "camelyon_train_10 = camelyon_train[:int(len(camelyon_train)/10)]\n",
    "# np.random.shuffle(camelyon_train)\n",
    "# camelyon_train_15 = camelyon_train[:int(len(camelyon_train)/(20/3))]\n",
    "# np.random.shuffle(camelyon_train)\n",
    "# camelyon_train_20 = camelyon_train[:int(len(camelyon_train)/5)]\n",
    "# np.random.shuffle(camelyon_train)\n",
    "# camelyon_train_25 = camelyon_train[:int(len(camelyon_train)/4)]\n",
    "# np.random.shuffle(camelyon_train)\n",
    "# camelyon_train_30 = camelyon_train[:int(len(camelyon_train)/(10/3))]\n",
    "# np.random.shuffle(camelyon_train)\n",
    "# camelyon_train_35 = camelyon_train[:int(len(camelyon_train)/(20/7))]\n",
    "# np.random.shuffle(camelyon_train)\n",
    "# camelyon_train_40 = camelyon_train[:int(len(camelyon_train)/(5/2))]\n",
    "# np.random.shuffle(camelyon_train)\n",
    "# camelyon_train_45 = camelyon_train[:int(len(camelyon_train)/(20/9))]\n",
    "# np.random.shuffle(camelyon_train)\n",
    "# camelyon_train_50 = camelyon_train[:int(len(camelyon_train)/2)]\n",
    "# np.random.shuffle(camelyon_train)\n",
    "# camelyon_train_55 = camelyon_train[:int(len(camelyon_train)/(20/11))]\n",
    "# np.random.shuffle(camelyon_train)\n",
    "# camelyon_train_60 = camelyon_train[:int(len(camelyon_train)*0.6)]\n",
    "# np.random.shuffle(camelyon_train)\n",
    "# camelyon_train_65 = camelyon_train[:int(len(camelyon_train)*0.65)]\n",
    "# np.random.shuffle(camelyon_train)\n",
    "# camelyon_train_70 = camelyon_train[:int(len(camelyon_train)*0.7)]\n",
    "# np.random.shuffle(camelyon_train)\n",
    "# camelyon_train_75 = camelyon_train[:int(len(camelyon_train)*0.75)]\n",
    "# np.random.shuffle(camelyon_train)\n",
    "# camelyon_train_80 = camelyon_train[:int(len(camelyon_train)*0.8)]\n",
    "# np.random.shuffle(camelyon_train)\n",
    "# camelyon_train_85 = camelyon_train[:int(len(camelyon_train)*0.85)]\n",
    "# np.random.shuffle(camelyon_train)\n",
    "# camelyon_train_90 = camelyon_train[:int(len(camelyon_train)*0.9)]\n",
    "# np.random.shuffle(camelyon_train)\n",
    "# camelyon_train_95 = camelyon_train[:int(len(camelyon_train)*0.95)]\n",
    "# np.random.shuffle(camelyon_train)"
   ]
  },
  {
   "cell_type": "code",
   "execution_count": null,
   "metadata": {},
   "outputs": [],
   "source": [
    "camelyon_train.shape"
   ]
  },
  {
   "cell_type": "code",
   "execution_count": 9,
   "metadata": {},
   "outputs": [
    {
     "data": {
      "text/plain": [
       "(30243, 3, 96, 96)"
      ]
     },
     "execution_count": 9,
     "metadata": {},
     "output_type": "execute_result"
    }
   ],
   "source": [
    "camelyon_train_10.shape"
   ]
  },
  {
   "cell_type": "code",
   "execution_count": 10,
   "metadata": {},
   "outputs": [],
   "source": [
    "import json \n",
    "with open('/home/ubuntu/image-drift-monitoring/config/common/drift_detection_config.json') as config_file:\n",
    "        drift_detection_config = json.load(config_file)"
   ]
  },
  {
   "cell_type": "code",
   "execution_count": 11,
   "metadata": {},
   "outputs": [
    {
     "name": "stdout",
     "output_type": "stream",
     "text": [
      "/home/ubuntu/image-drift-monitoring\n"
     ]
    }
   ],
   "source": [
    "%cd  '/home/ubuntu/image-drift-monitoring'\n",
    "%pwd\n",
    "from src.modules.alibi_detect.untrained_encoder import UntrainedAutoencoder\n",
    "\n",
    "myUAE = UntrainedAutoencoder(drift_detection_config)"
   ]
  },
  {
   "cell_type": "code",
   "execution_count": 12,
   "metadata": {},
   "outputs": [
    {
     "name": "stderr",
     "output_type": "stream",
     "text": [
      "2023-02-10 15:34:06,336 [INFO]  CVM Detector initialized\n",
      "2023-02-10 15:34:06,336 [INFO]  CVM Detector initialized\n",
      "Directory /home/ubuntu/image-drift-monitoring/config/detectors/Camelyon/CVM/Camelyon_UAE_10_CVM does not exist and is now created.\n"
     ]
    }
   ],
   "source": [
    "myUAE.init_default_tf_encoder(encoding_dim=96,input_shape=camelyon_train_10.shape[1:])\n",
    "myUAE.init_detector(detector_type='CVM',reference_data=camelyon_train_10,detector_name='Camelyon_UAE_10_CVM',save_dec=True)"
   ]
  },
  {
   "cell_type": "markdown",
   "metadata": {},
   "source": [
    "# H0 Hypothesis testing"
   ]
  },
  {
   "cell_type": "code",
   "execution_count": null,
   "metadata": {},
   "outputs": [],
   "source": [
    "myUAE.make_prediction(target_data=camelyon_train_12_5_25,detector_type='KS')"
   ]
  },
  {
   "cell_type": "markdown",
   "metadata": {},
   "source": [
    "# drift testing"
   ]
  },
  {
   "cell_type": "code",
   "execution_count": null,
   "metadata": {},
   "outputs": [],
   "source": [
    "camelyon_test_comp = np.load('/home/ubuntu/image-drift-monitoring/data/camelyon17_v1.0/camelyon_test_ds.npz')\n",
    "camelyon_test = camelyon_test_comp['arr_0']\n",
    "\n",
    "np.random.shuffle(camelyon_test)"
   ]
  },
  {
   "cell_type": "code",
   "execution_count": null,
   "metadata": {},
   "outputs": [],
   "source": [
    "myUAE.make_prediction(target_data=camelyon_test,detector_type='KS')"
   ]
  }
 ],
 "metadata": {
  "kernelspec": {
   "display_name": "alibitorchwhy",
   "language": "python",
   "name": "python3"
  },
  "language_info": {
   "codemirror_mode": {
    "name": "ipython",
    "version": 3
   },
   "file_extension": ".py",
   "mimetype": "text/x-python",
   "name": "python",
   "nbconvert_exporter": "python",
   "pygments_lexer": "ipython3",
   "version": "3.8.15"
  },
  "orig_nbformat": 4,
  "vscode": {
   "interpreter": {
    "hash": "401cebfcb5cce5f71138843ad74eb16632e47d40b3a47aa4ad883b3d134173ed"
   }
  }
 },
 "nbformat": 4,
 "nbformat_minor": 2
}
