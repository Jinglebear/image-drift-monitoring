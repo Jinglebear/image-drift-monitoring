{
 "cells": [
  {
   "cell_type": "code",
   "execution_count": 1,
   "metadata": {},
   "outputs": [
    {
     "name": "stdout",
     "output_type": "stream",
     "text": [
      "/home/ubuntu/image-drift-monitoring/data/camelyon17_v1.0\n"
     ]
    }
   ],
   "source": [
    "import numpy as np\n",
    "%cd  '/home/ubuntu/image-drift-monitoring/data/camelyon17_v1.0'\n",
    "%pwd\n",
    "\n",
    "camelyon_train_comp = np.load('camelyon_train_ds.npz')"
   ]
  },
  {
   "cell_type": "code",
   "execution_count": 2,
   "metadata": {},
   "outputs": [],
   "source": [
    "camelyon_train = camelyon_train_comp['arr_0']\n",
    "\n",
    "np.random.shuffle(camelyon_train)"
   ]
  },
  {
   "cell_type": "code",
   "execution_count": 7,
   "metadata": {},
   "outputs": [],
   "source": [
    "# np.random.shuffle(camelyon_train)\n",
    "# camelyon_train_5  = camelyon_train[:int(len(camelyon_train)/20)]\n",
    "# np.random.shuffle(camelyon_train)\n",
    "# camelyon_train_10 = camelyon_train[:int(len(camelyon_train)/10)]\n",
    "np.random.shuffle(camelyon_train)\n",
    "camelyon_train_15 = camelyon_train[:int(len(camelyon_train)/(20/3))]\n",
    "np.random.shuffle(camelyon_train)\n",
    "camelyon_train_20 = camelyon_train[:int(len(camelyon_train)/5)]\n",
    "np.random.shuffle(camelyon_train)\n",
    "camelyon_train_25 = camelyon_train[:int(len(camelyon_train)/4)]\n",
    "np.random.shuffle(camelyon_train)\n",
    "camelyon_train_30 = camelyon_train[:int(len(camelyon_train)/(10/3))]\n",
    "np.random.shuffle(camelyon_train)\n",
    "camelyon_train_35 = camelyon_train[:int(len(camelyon_train)/(20/7))]\n",
    "np.random.shuffle(camelyon_train)\n",
    "camelyon_train_40 = camelyon_train[:int(len(camelyon_train)/(5/2))]\n",
    "np.random.shuffle(camelyon_train)\n",
    "camelyon_train_45 = camelyon_train[:int(len(camelyon_train)/(20/9))]\n",
    "np.random.shuffle(camelyon_train)\n",
    "camelyon_train_50 = camelyon_train[:int(len(camelyon_train)/2)]\n",
    "np.random.shuffle(camelyon_train)\n",
    "camelyon_train_55 = camelyon_train[:int(len(camelyon_train)/(20/11))]\n",
    "np.random.shuffle(camelyon_train)\n",
    "camelyon_train_60 = camelyon_train[:int(len(camelyon_train)*0.6)]\n",
    "np.random.shuffle(camelyon_train)\n",
    "camelyon_train_65 = camelyon_train[:int(len(camelyon_train)*0.65)]\n",
    "np.random.shuffle(camelyon_train)\n",
    "camelyon_train_70 = camelyon_train[:int(len(camelyon_train)*0.7)]\n",
    "np.random.shuffle(camelyon_train)\n",
    "camelyon_train_75 = camelyon_train[:int(len(camelyon_train)*0.75)]\n",
    "np.random.shuffle(camelyon_train)\n",
    "camelyon_train_80 = camelyon_train[:int(len(camelyon_train)*0.8)]\n",
    "np.random.shuffle(camelyon_train)\n",
    "camelyon_train_85 = camelyon_train[:int(len(camelyon_train)*0.85)]\n",
    "np.random.shuffle(camelyon_train)\n",
    "camelyon_train_90 = camelyon_train[:int(len(camelyon_train)*0.9)]\n",
    "np.random.shuffle(camelyon_train)\n",
    "camelyon_train_95 = camelyon_train[:int(len(camelyon_train)*0.95)]\n",
    "np.random.shuffle(camelyon_train)"
   ]
  },
  {
   "cell_type": "code",
   "execution_count": null,
   "metadata": {},
   "outputs": [],
   "source": [
    "camelyon_train_45.shape"
   ]
  },
  {
   "cell_type": "code",
   "execution_count": 4,
   "metadata": {},
   "outputs": [],
   "source": [
    "import json \n",
    "with open('/home/ubuntu/image-drift-monitoring/config/common/drift_detection_config.json') as config_file:\n",
    "        drift_detection_config = json.load(config_file)"
   ]
  },
  {
   "cell_type": "code",
   "execution_count": 5,
   "metadata": {},
   "outputs": [
    {
     "name": "stdout",
     "output_type": "stream",
     "text": [
      "/home/ubuntu/image-drift-monitoring\n"
     ]
    },
    {
     "name": "stderr",
     "output_type": "stream",
     "text": [
      "2023-02-10 16:27:57.690248: W tensorflow/stream_executor/platform/default/dso_loader.cc:64] Could not load dynamic library 'libcudart.so.11.0'; dlerror: libcudart.so.11.0: cannot open shared object file: No such file or directory\n",
      "2023-02-10 16:27:57.690310: I tensorflow/stream_executor/cuda/cudart_stub.cc:29] Ignore above cudart dlerror if you do not have a GPU set up on your machine.\n",
      "/home/ubuntu/miniconda3/envs/alibitorchwhy/lib/python3.8/site-packages/tqdm/auto.py:22: TqdmWarning: IProgress not found. Please update jupyter and ipywidgets. See https://ipywidgets.readthedocs.io/en/stable/user_install.html\n",
      "  from .autonotebook import tqdm as notebook_tqdm\n"
     ]
    }
   ],
   "source": [
    "%cd  '/home/ubuntu/image-drift-monitoring'\n",
    "%pwd\n",
    "from src.modules.alibi_detect.untrained_encoder import UntrainedAutoencoder"
   ]
  },
  {
   "cell_type": "code",
   "execution_count": 9,
   "metadata": {},
   "outputs": [],
   "source": [
    "# myUAE = UntrainedAutoencoder(drift_detection_config)\n",
    "# myUAE.init_default_tf_encoder(encoding_dim=96,input_shape=camelyon_train_5.shape[1:])\n",
    "# myUAE.init_detector(detector_type='MMD',reference_data=camelyon_train_5,detector_name='Camelyon_UAE_5_MMD',save_dec=True)\n",
    "\n",
    "# myUAE = UntrainedAutoencoder(drift_detection_config)\n",
    "# myUAE.init_default_tf_encoder(encoding_dim=96,input_shape=camelyon_train_10.shape[1:])\n",
    "# myUAE.init_detector(detector_type='MMD',reference_data=camelyon_train_10,detector_name='Camelyon_UAE_10_MMD',save_dec=True)\n",
    "\n",
    "myUAE = UntrainedAutoencoder(drift_detection_config)\n",
    "myUAE.init_default_tf_encoder(encoding_dim=96,input_shape=camelyon_train_15.shape[1:])\n",
    "myUAE.init_detector(detector_type='MMD',reference_data=camelyon_train_15,detector_name='Camelyon_UAE_15_MMD',save_dec=True)\n",
    "\n",
    "myUAE = UntrainedAutoencoder(drift_detection_config)\n",
    "myUAE.init_default_tf_encoder(encoding_dim=96,input_shape=camelyon_train_20.shape[1:])\n",
    "myUAE.init_detector(detector_type='MMD',reference_data=camelyon_train_20,detector_name='Camelyon_UAE_20_MMD',save_dec=True)\n",
    "\n",
    "myUAE = UntrainedAutoencoder(drift_detection_config)\n",
    "myUAE.init_default_tf_encoder(encoding_dim=96,input_shape=camelyon_train_25.shape[1:])\n",
    "myUAE.init_detector(detector_type='MMD',reference_data=camelyon_train_25,detector_name='Camelyon_UAE_25_MMD',save_dec=True)\n",
    "\n",
    "myUAE = UntrainedAutoencoder(drift_detection_config)\n",
    "myUAE.init_default_tf_encoder(encoding_dim=96,input_shape=camelyon_train_30.shape[1:])\n",
    "myUAE.init_detector(detector_type='MMD',reference_data=camelyon_train_30,detector_name='Camelyon_UAE_30_MMD',save_dec=True)\n",
    "\n",
    "myUAE = UntrainedAutoencoder(drift_detection_config)\n",
    "myUAE.init_default_tf_encoder(encoding_dim=96,input_shape=camelyon_train_35.shape[1:])\n",
    "myUAE.init_detector(detector_type='MMD',reference_data=camelyon_train_35,detector_name='Camelyon_UAE_35_MMD',save_dec=True)\n",
    "\n",
    "myUAE = UntrainedAutoencoder(drift_detection_config)\n",
    "myUAE.init_default_tf_encoder(encoding_dim=96,input_shape=camelyon_train_40.shape[1:])\n",
    "myUAE.init_detector(detector_type='MMD',reference_data=camelyon_train_40,detector_name='Camelyon_UAE_40_MMD',save_dec=True)\n",
    "\n",
    "# myUAE = UntrainedAutoencoder(drift_detection_config)\n",
    "# myUAE.init_default_tf_encoder(encoding_dim=96,input_shape=camelyon_train_45.shape[1:])\n",
    "# myUAE.init_detector(detector_type='MMD',reference_data=camelyon_train_45,detector_name='Camelyon_UAE_45_MMD',save_dec=True)\n",
    "\n",
    "# myUAE = UntrainedAutoencoder(drift_detection_config)\n",
    "# myUAE.init_default_tf_encoder(encoding_dim=96,input_shape=camelyon_train_50.shape[1:])\n",
    "# myUAE.init_detector(detector_type='MMD',reference_data=camelyon_train_50,detector_name='Camelyon_UAE_50_MMD',save_dec=True)\n",
    "\n",
    "# myUAE = UntrainedAutoencoder(drift_detection_config)\n",
    "# myUAE.init_default_tf_encoder(encoding_dim=96,input_shape=camelyon_train_55.shape[1:])\n",
    "# myUAE.init_detector(detector_type='MMD',reference_data=camelyon_train_55,detector_name='Camelyon_UAE_55_MMD',save_dec=True)\n",
    "\n",
    "# myUAE = UntrainedAutoencoder(drift_detection_config)\n",
    "# myUAE.init_default_tf_encoder(encoding_dim=96,input_shape=camelyon_train_60.shape[1:])\n",
    "# myUAE.init_detector(detector_type='MMD',reference_data=camelyon_train_60,detector_name='Camelyon_UAE_60_MMD',save_dec=True)\n",
    "\n",
    "# myUAE = UntrainedAutoencoder(drift_detection_config)\n",
    "# myUAE.init_default_tf_encoder(encoding_dim=96,input_shape=camelyon_train_65.shape[1:])\n",
    "# myUAE.init_detector(detector_type='MMD',reference_data=camelyon_train_65,detector_name='Camelyon_UAE_65_MMD',save_dec=True)\n",
    "\n",
    "# myUAE = UntrainedAutoencoder(drift_detection_config)\n",
    "# myUAE.init_default_tf_encoder(encoding_dim=96,input_shape=camelyon_train_70.shape[1:])\n",
    "# myUAE.init_detector(detector_type='MMD',reference_data=camelyon_train_70,detector_name='Camelyon_UAE_70_MMD',save_dec=True)\n",
    "\n",
    "# myUAE = UntrainedAutoencoder(drift_detection_config)\n",
    "# myUAE.init_default_tf_encoder(encoding_dim=96,input_shape=camelyon_train_75.shape[1:])\n",
    "# myUAE.init_detector(detector_type='MMD',reference_data=camelyon_train_75,detector_name='Camelyon_UAE_75_MMD',save_dec=True)\n",
    "\n",
    "# myUAE = UntrainedAutoencoder(drift_detection_config)\n",
    "# myUAE.init_default_tf_encoder(encoding_dim=96,input_shape=camelyon_train_80.shape[1:])\n",
    "# myUAE.init_detector(detector_type='MMD',reference_data=camelyon_train_80,detector_name='Camelyon_UAE_80_MMD',save_dec=True)\n",
    "\n",
    "# myUAE = UntrainedAutoencoder(drift_detection_config)\n",
    "# myUAE.init_default_tf_encoder(encoding_dim=96,input_shape=camelyon_train_85.shape[1:])\n",
    "# myUAE.init_detector(detector_type='MMD',reference_data=camelyon_train_85,detector_name='Camelyon_UAE_85_MMD',save_dec=True)\n",
    "\n",
    "# myUAE = UntrainedAutoencoder(drift_detection_config)\n",
    "# myUAE.init_default_tf_encoder(encoding_dim=96,input_shape=camelyon_train_90.shape[1:])\n",
    "# myUAE.init_detector(detector_type='MMD',reference_data=camelyon_train_90,detector_name='Camelyon_UAE_90_MMD',save_dec=True)\n",
    "\n",
    "# myUAE = UntrainedAutoencoder(drift_detection_config)\n",
    "# myUAE.init_default_tf_encoder(encoding_dim=96,input_shape=camelyon_train_95.shape[1:])\n",
    "# myUAE.init_detector(detector_type='MMD',reference_data=camelyon_train_95,detector_name='Camelyon_UAE_95_MMD',save_dec=True)\n",
    "\n",
    "# myUAE = UntrainedAutoencoder(drift_detection_config)\n",
    "# myUAE.init_default_tf_encoder(encoding_dim=96,input_shape=camelyon_train.shape[1:])\n",
    "# myUAE.init_detector(detector_type='MMD',reference_data=camelyon_train,detector_name='Camelyon_UAE_100_MMD',save_dec=True)\n"
   ]
  },
  {
   "cell_type": "markdown",
   "metadata": {},
   "source": [
    "# H0 Hypothesis testing"
   ]
  },
  {
   "cell_type": "code",
   "execution_count": null,
   "metadata": {},
   "outputs": [],
   "source": [
    "myUAE.make_prediction(target_data=camelyon_train_15,detector_type='CVM')"
   ]
  },
  {
   "cell_type": "markdown",
   "metadata": {},
   "source": [
    "# drift testing"
   ]
  },
  {
   "cell_type": "code",
   "execution_count": null,
   "metadata": {},
   "outputs": [],
   "source": [
    "camelyon_test_comp = np.load('/home/ubuntu/image-drift-monitoring/data/camelyon17_v1.0/camelyon_test_ds.npz')\n",
    "camelyon_test = camelyon_test_comp['arr_0']\n",
    "\n",
    "np.random.shuffle(camelyon_test)"
   ]
  },
  {
   "cell_type": "code",
   "execution_count": null,
   "metadata": {},
   "outputs": [],
   "source": [
    "myUAE.make_prediction(target_data=camelyon_test,detector_type='KS')"
   ]
  }
 ],
 "metadata": {
  "kernelspec": {
   "display_name": "alibitorchwhy",
   "language": "python",
   "name": "python3"
  },
  "language_info": {
   "codemirror_mode": {
    "name": "ipython",
    "version": 3
   },
   "file_extension": ".py",
   "mimetype": "text/x-python",
   "name": "python",
   "nbconvert_exporter": "python",
   "pygments_lexer": "ipython3",
   "version": "3.8.15"
  },
  "orig_nbformat": 4,
  "vscode": {
   "interpreter": {
    "hash": "401cebfcb5cce5f71138843ad74eb16632e47d40b3a47aa4ad883b3d134173ed"
   }
  }
 },
 "nbformat": 4,
 "nbformat_minor": 2
}
