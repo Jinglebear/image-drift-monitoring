{
 "cells": [
  {
   "cell_type": "code",
   "execution_count": null,
   "metadata": {},
   "outputs": [],
   "source": [
    "import numpy as np\n",
    "%cd  '/home/ubuntu/image-drift-monitoring/data/camelyon17_v1.0'\n",
    "%pwd\n",
    "\n",
    "camelyon_train_comp = np.load('camelyon_train_ds.npz')"
   ]
  },
  {
   "cell_type": "code",
   "execution_count": null,
   "metadata": {},
   "outputs": [],
   "source": [
    "camelyon_train = camelyon_train_comp['arr_0']\n",
    "\n",
    "np.random.shuffle(camelyon_train)"
   ]
  },
  {
   "cell_type": "code",
   "execution_count": null,
   "metadata": {},
   "outputs": [],
   "source": [
    "camelyon_train_0_25   = camelyon_train[:int(len(camelyon_train)/4)]\n",
    "camelyon_train_25_50  = camelyon_train[int(len(camelyon_train)/4):int(len(camelyon_train)/2)]\n",
    "camelyon_train_0_12_5  = camelyon_train_0_25[:int(len(camelyon_train_0_25)/2)]\n",
    "camelyon_train_12_5_25 = camelyon_train_0_25[int(len(camelyon_train_0_25)/2):]"
   ]
  },
  {
   "cell_type": "code",
   "execution_count": null,
   "metadata": {},
   "outputs": [],
   "source": [
    "import json \n",
    "with open('/home/ubuntu/image-drift-monitoring/config/common/drift_detection_config.json') as config_file:\n",
    "        drift_detection_config = json.load(config_file)"
   ]
  },
  {
   "cell_type": "code",
   "execution_count": null,
   "metadata": {},
   "outputs": [],
   "source": [
    "%cd  '/home/ubuntu/image-drift-monitoring'\n",
    "%pwd\n",
    "from src.modules.alibi_detect.untrained_encoder import UntrainedAutoencoder\n",
    "\n",
    "myUAE = UntrainedAutoencoder(drift_detection_config)"
   ]
  },
  {
   "cell_type": "code",
   "execution_count": null,
   "metadata": {},
   "outputs": [],
   "source": [
    "myUAE.init_default_tf_encoder(encoding_dim=32,input_shape=camelyon_train_0_25.shape)\n",
    "myUAE.init_detector(detector_type='KS',reference_data=camelyon_train_0_25,detector_name='UAE_40_KS')"
   ]
  },
  {
   "cell_type": "markdown",
   "metadata": {},
   "source": [
    "# H0 Hypothesis testing"
   ]
  },
  {
   "cell_type": "code",
   "execution_count": null,
   "metadata": {},
   "outputs": [],
   "source": [
    "myUAE.make_prediction(target_data=camelyon_train_25_50,detector_type='KS')"
   ]
  },
  {
   "cell_type": "markdown",
   "metadata": {},
   "source": [
    "# drift testing"
   ]
  },
  {
   "cell_type": "code",
   "execution_count": null,
   "metadata": {},
   "outputs": [],
   "source": [
    "camelyon_test_comp = np.load('/home/ubuntu/image-drift-monitoring/data/camelyon17_v1.0/camelyon_test_ds.npz')\n",
    "camelyon_test = camelyon_test_comp['arr_0']\n",
    "\n",
    "np.random.shuffle(camelyon_test)"
   ]
  },
  {
   "cell_type": "code",
   "execution_count": null,
   "metadata": {},
   "outputs": [],
   "source": [
    "myUAE.make_prediction(target_data=camelyon_test,detector_type='KS')"
   ]
  }
 ],
 "metadata": {
  "kernelspec": {
   "display_name": "alibitorchwhy",
   "language": "python",
   "name": "python3"
  },
  "language_info": {
   "codemirror_mode": {
    "name": "ipython",
    "version": 3
   },
   "file_extension": ".py",
   "mimetype": "text/x-python",
   "name": "python",
   "nbconvert_exporter": "python",
   "pygments_lexer": "ipython3",
   "version": "3.8.15"
  },
  "orig_nbformat": 4,
  "vscode": {
   "interpreter": {
    "hash": "401cebfcb5cce5f71138843ad74eb16632e47d40b3a47aa4ad883b3d134173ed"
   }
  }
 },
 "nbformat": 4,
 "nbformat_minor": 2
}
