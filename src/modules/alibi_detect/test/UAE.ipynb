{
 "cells": [
  {
   "cell_type": "code",
   "execution_count": 1,
   "metadata": {},
   "outputs": [
    {
     "name": "stderr",
     "output_type": "stream",
     "text": [
      "2023-02-03 08:50:50.054591: W tensorflow/stream_executor/platform/default/dso_loader.cc:64] Could not load dynamic library 'libcudart.so.11.0'; dlerror: libcudart.so.11.0: cannot open shared object file: No such file or directory\n",
      "2023-02-03 08:50:50.054623: I tensorflow/stream_executor/cuda/cudart_stub.cc:29] Ignore above cudart dlerror if you do not have a GPU set up on your machine.\n",
      "/home/ubuntu/miniconda3/envs/alibitorchwhy/lib/python3.8/site-packages/tqdm/auto.py:22: TqdmWarning: IProgress not found. Please update jupyter and ipywidgets. See https://ipywidgets.readthedocs.io/en/stable/user_install.html\n",
      "  from .autonotebook import tqdm as notebook_tqdm\n"
     ]
    }
   ],
   "source": [
    "# my class\n",
    "from untrained_encoder import UntrainedAutoencoder\n",
    "\n",
    "# wilds import\n",
    "from wilds.common.data_loaders import get_train_loader, get_eval_loader\n",
    "from wilds import get_dataset\n",
    "\n",
    "# torchvision transforms\n",
    "import torchvision.transforms as transforms\n",
    "\n",
    "# misc\n",
    "import numpy as np\n",
    "import os\n",
    "import json"
   ]
  },
  {
   "attachments": {},
   "cell_type": "markdown",
   "metadata": {},
   "source": [
    "CAMELYON TRAIN LOADING"
   ]
  },
  {
   "cell_type": "code",
   "execution_count": 2,
   "metadata": {},
   "outputs": [
    {
     "name": "stdout",
     "output_type": "stream",
     "text": [
      "/home/ubuntu/image-drift-monitoring\n"
     ]
    }
   ],
   "source": [
    "%cd  '/home/ubuntu/image-drift-monitoring'\n",
    "%pwd\n",
    "\n",
    "camelyon_train_comp = np.load('camelyon_train_ds.npz')\n",
    "\n",
    "camelyon_train = camelyon_train_comp['arr_0']"
   ]
  },
  {
   "cell_type": "code",
   "execution_count": 3,
   "metadata": {},
   "outputs": [
    {
     "data": {
      "text/plain": [
       "(302436, 3, 96, 96)"
      ]
     },
     "execution_count": 3,
     "metadata": {},
     "output_type": "execute_result"
    }
   ],
   "source": [
    "camelyon_train.shape"
   ]
  },
  {
   "attachments": {},
   "cell_type": "markdown",
   "metadata": {},
   "source": [
    "shuffling train"
   ]
  },
  {
   "cell_type": "code",
   "execution_count": 4,
   "metadata": {},
   "outputs": [],
   "source": [
    "import random\n",
    "\n",
    "np.random.shuffle(camelyon_train)"
   ]
  },
  {
   "cell_type": "code",
   "execution_count": 8,
   "metadata": {},
   "outputs": [
    {
     "name": "stderr",
     "output_type": "stream",
     "text": [
      "2023-02-03 09:18:21.957793: W tensorflow/stream_executor/platform/default/dso_loader.cc:64] Could not load dynamic library 'libcuda.so.1'; dlerror: libcuda.so.1: cannot open shared object file: No such file or directory\n",
      "2023-02-03 09:18:21.957848: W tensorflow/stream_executor/cuda/cuda_driver.cc:269] failed call to cuInit: UNKNOWN ERROR (303)\n",
      "2023-02-03 09:18:21.957870: I tensorflow/stream_executor/cuda/cuda_diagnostics.cc:156] kernel driver does not appear to be running on this host (render): /proc/driver/nvidia/version does not exist\n",
      "2023-02-03 09:18:21.961420: I tensorflow/core/platform/cpu_feature_guard.cc:193] This TensorFlow binary is optimized with oneAPI Deep Neural Network Library (oneDNN) to use the following CPU instructions in performance-critical operations:  FMA\n",
      "To enable them in other operations, rebuild TensorFlow with the appropriate compiler flags.\n"
     ]
    }
   ],
   "source": [
    "my_uae = UntrainedAutoencoder()\n",
    "\n",
    "encoder_fn = my_uae.init_default_tf_encoder(encoding_dim=96,input_shape=camelyon_train.shape[1:],batch_size=512)\n",
    "\n",
    "# encoder_fn_py = my_uae.init_default_pt_encoder(encoding_dim=96,input_shape=camelyon_train.shape[1:],batch_size=512)"
   ]
  },
  {
   "cell_type": "code",
   "execution_count": 7,
   "metadata": {},
   "outputs": [
    {
     "data": {
      "text/plain": [
       "302436"
      ]
     },
     "execution_count": 7,
     "metadata": {},
     "output_type": "execute_result"
    }
   ],
   "source": [
    "len(camelyon_train)"
   ]
  },
  {
   "cell_type": "code",
   "execution_count": 6,
   "metadata": {},
   "outputs": [],
   "source": [
    "camelyon_train_first = camelyon_train[:int(len(camelyon_train)/2)]"
   ]
  },
  {
   "cell_type": "code",
   "execution_count": 7,
   "metadata": {},
   "outputs": [],
   "source": [
    "camelyon_train_second = camelyon_train[int(len(camelyon_train)/2):]"
   ]
  },
  {
   "cell_type": "code",
   "execution_count": null,
   "metadata": {},
   "outputs": [],
   "source": [
    "camelyon_train_first.shape"
   ]
  },
  {
   "cell_type": "code",
   "execution_count": null,
   "metadata": {},
   "outputs": [],
   "source": [
    "import matplotlib.pyplot as plt\n",
    "plt.imshow(np.transpose(camelyon_train_first[0],(1,2,0)))"
   ]
  },
  {
   "cell_type": "code",
   "execution_count": null,
   "metadata": {},
   "outputs": [],
   "source": [
    "camelyon_train_second.shape"
   ]
  },
  {
   "cell_type": "code",
   "execution_count": null,
   "metadata": {},
   "outputs": [],
   "source": [
    "import matplotlib.pyplot as plt\n",
    "plt.imshow(np.transpose(camelyon_train_second[0],(1,2,0)))"
   ]
  },
  {
   "attachments": {},
   "cell_type": "markdown",
   "metadata": {},
   "source": [
    "INIT KS DETECTOR on first 50% of TRAIN"
   ]
  },
  {
   "cell_type": "code",
   "execution_count": 7,
   "metadata": {},
   "outputs": [
    {
     "name": "stderr",
     "output_type": "stream",
     "text": [
      "Directory camelyon_uae_ks does not exist and is now created.\n",
      "Directory camelyon_uae_ks/preprocess_fn/model does not exist and is now created.\n"
     ]
    },
    {
     "name": "stdout",
     "output_type": "stream",
     "text": [
      "WARNING:tensorflow:Compiled the loaded model, but the compiled metrics have yet to be built. `model.compile_metrics` will be empty until you train or evaluate the model.\n"
     ]
    },
    {
     "name": "stderr",
     "output_type": "stream",
     "text": [
      "2023-02-02 12:51:52,425 [INFO]  KS Detector initialized\n"
     ]
    }
   ],
   "source": [
    "# my_uae.init_ks_detector(reference_data=camelyon_train_first,encoder_fn=encoder_fn, p_val= 0.05, path='camelyon_uae_ks', save_dec=True)\n",
    "\n",
    "# my_uae.import_KS_detector('camelyon_uae_ks')"
   ]
  },
  {
   "attachments": {},
   "cell_type": "markdown",
   "metadata": {},
   "source": [
    "INIT MMD DETECTOR on first 50% of TRAIN"
   ]
  },
  {
   "cell_type": "code",
   "execution_count": null,
   "metadata": {},
   "outputs": [],
   "source": [
    "my_uae.init_mmd_detector(reference_data=camelyon_train_first[:int(len(camelyon_train_first)/2)],encoder_fn=encoder_fn,n_permutations=100 ,p_val=0.05,path='/home/ubuntu/image-drift-monitoring/src/modules/alibi_detect/camelyon_uae_ks/camelyon_uae_mmd',save_dec=True)"
   ]
  },
  {
   "cell_type": "code",
   "execution_count": 12,
   "metadata": {},
   "outputs": [],
   "source": [
    "import torch\n",
    "import torch.nn as nn\n",
    "from alibi_detect.cd.pytorch import preprocess_drift\n",
    "from functools import partial\n",
    "\n",
    "device = torch.device('cuda' if torch.cuda.is_available() else 'cpu')\n",
    "\n",
    "# define encoder\n",
    "encoder_net = nn.Sequential(\n",
    "    nn.Conv2d(3, 64, 4, stride=2, padding=0),\n",
    "    nn.ReLU(),\n",
    "    nn.Conv2d(64, 128, 4, stride=2, padding=0),\n",
    "    nn.ReLU(),\n",
    "    nn.Conv2d(128, 512, 4, stride=2, padding=0),\n",
    "    nn.ReLU(),\n",
    "    nn.Flatten(),\n",
    "    nn.Linear(2048, 96)\n",
    ").to(device).eval()\n",
    "\n",
    "preprocess_fn = partial(preprocess_drift, model=encoder_net, device=device, batch_size=512)"
   ]
  },
  {
   "cell_type": "code",
   "execution_count": 18,
   "metadata": {},
   "outputs": [
    {
     "ename": "RuntimeError",
     "evalue": "mat1 and mat2 shapes cannot be multiplied (512x51200 and 2048x96)",
     "output_type": "error",
     "traceback": [
      "\u001b[0;31m---------------------------------------------------------------------------\u001b[0m",
      "\u001b[0;31mRuntimeError\u001b[0m                              Traceback (most recent call last)",
      "Cell \u001b[0;32mIn [18], line 5\u001b[0m\n\u001b[1;32m      2\u001b[0m camelyon_train_first_quant \u001b[39m=\u001b[39m camelyon_train_first[:\u001b[39mint\u001b[39m(\u001b[39mlen\u001b[39m(camelyon_train_first)\u001b[39m/\u001b[39m\u001b[39m2\u001b[39m)]\n\u001b[1;32m      4\u001b[0m camelyon_train_first_quant\u001b[39m.\u001b[39mshape\n\u001b[0;32m----> 5\u001b[0m detector \u001b[39m=\u001b[39m MMDDrift(x_ref\u001b[39m=\u001b[39;49mcamelyon_train_first_quant,backend\u001b[39m=\u001b[39;49m\u001b[39m'\u001b[39;49m\u001b[39mpytorch\u001b[39;49m\u001b[39m'\u001b[39;49m,p_val\u001b[39m=\u001b[39;49m\u001b[39m0.05\u001b[39;49m,preprocess_fn\u001b[39m=\u001b[39;49mpreprocess_fn,n_permutations\u001b[39m=\u001b[39;49m\u001b[39m100\u001b[39;49m)\n",
      "File \u001b[0;32m~/miniconda3/envs/alibitorchwhy/lib/python3.8/site-packages/alibi_detect/utils/warnings.py:17\u001b[0m, in \u001b[0;36mdeprecated_alias.<locals>.deco.<locals>.wrapper\u001b[0;34m(*args, **kwargs)\u001b[0m\n\u001b[1;32m     14\u001b[0m \u001b[39m@functools\u001b[39m\u001b[39m.\u001b[39mwraps(f)\n\u001b[1;32m     15\u001b[0m \u001b[39mdef\u001b[39;00m \u001b[39mwrapper\u001b[39m(\u001b[39m*\u001b[39margs, \u001b[39m*\u001b[39m\u001b[39m*\u001b[39mkwargs):\n\u001b[1;32m     16\u001b[0m     _rename_kwargs(f\u001b[39m.\u001b[39m\u001b[39m__name__\u001b[39m, kwargs, aliases)\n\u001b[0;32m---> 17\u001b[0m     \u001b[39mreturn\u001b[39;00m f(\u001b[39m*\u001b[39;49margs, \u001b[39m*\u001b[39;49m\u001b[39m*\u001b[39;49mkwargs)\n",
      "File \u001b[0;32m~/miniconda3/envs/alibitorchwhy/lib/python3.8/site-packages/alibi_detect/cd/mmd.py:105\u001b[0m, in \u001b[0;36mMMDDrift.__init__\u001b[0;34m(self, x_ref, backend, p_val, x_ref_preprocessed, preprocess_at_init, update_x_ref, preprocess_fn, kernel, sigma, configure_kernel_from_x_ref, n_permutations, device, input_shape, data_type)\u001b[0m\n\u001b[1;32m    103\u001b[0m     \u001b[39mself\u001b[39m\u001b[39m.\u001b[39m_detector \u001b[39m=\u001b[39m MMDDriftTF(\u001b[39m*\u001b[39margs, \u001b[39m*\u001b[39m\u001b[39m*\u001b[39mkwargs)  \u001b[39m# type: ignore\u001b[39;00m\n\u001b[1;32m    104\u001b[0m \u001b[39melse\u001b[39;00m:\n\u001b[0;32m--> 105\u001b[0m     \u001b[39mself\u001b[39m\u001b[39m.\u001b[39m_detector \u001b[39m=\u001b[39m MMDDriftTorch(\u001b[39m*\u001b[39;49margs, \u001b[39m*\u001b[39;49m\u001b[39m*\u001b[39;49mkwargs)  \u001b[39m# type: ignore\u001b[39;00m\n\u001b[1;32m    106\u001b[0m \u001b[39mself\u001b[39m\u001b[39m.\u001b[39mmeta \u001b[39m=\u001b[39m \u001b[39mself\u001b[39m\u001b[39m.\u001b[39m_detector\u001b[39m.\u001b[39mmeta\n",
      "File \u001b[0;32m~/miniconda3/envs/alibitorchwhy/lib/python3.8/site-packages/alibi_detect/utils/warnings.py:17\u001b[0m, in \u001b[0;36mdeprecated_alias.<locals>.deco.<locals>.wrapper\u001b[0;34m(*args, **kwargs)\u001b[0m\n\u001b[1;32m     14\u001b[0m \u001b[39m@functools\u001b[39m\u001b[39m.\u001b[39mwraps(f)\n\u001b[1;32m     15\u001b[0m \u001b[39mdef\u001b[39;00m \u001b[39mwrapper\u001b[39m(\u001b[39m*\u001b[39margs, \u001b[39m*\u001b[39m\u001b[39m*\u001b[39mkwargs):\n\u001b[1;32m     16\u001b[0m     _rename_kwargs(f\u001b[39m.\u001b[39m\u001b[39m__name__\u001b[39m, kwargs, aliases)\n\u001b[0;32m---> 17\u001b[0m     \u001b[39mreturn\u001b[39;00m f(\u001b[39m*\u001b[39;49margs, \u001b[39m*\u001b[39;49m\u001b[39m*\u001b[39;49mkwargs)\n",
      "File \u001b[0;32m~/miniconda3/envs/alibitorchwhy/lib/python3.8/site-packages/alibi_detect/cd/pytorch/mmd.py:71\u001b[0m, in \u001b[0;36mMMDDriftTorch.__init__\u001b[0;34m(self, x_ref, p_val, x_ref_preprocessed, preprocess_at_init, update_x_ref, preprocess_fn, kernel, sigma, configure_kernel_from_x_ref, n_permutations, device, input_shape, data_type)\u001b[0m\n\u001b[1;32m     15\u001b[0m \u001b[39m@deprecated_alias\u001b[39m(preprocess_x_ref\u001b[39m=\u001b[39m\u001b[39m'\u001b[39m\u001b[39mpreprocess_at_init\u001b[39m\u001b[39m'\u001b[39m)\n\u001b[1;32m     16\u001b[0m \u001b[39mdef\u001b[39;00m \u001b[39m__init__\u001b[39m(\n\u001b[1;32m     17\u001b[0m         \u001b[39mself\u001b[39m,\n\u001b[0;32m   (...)\u001b[0m\n\u001b[1;32m     30\u001b[0m         data_type: Optional[\u001b[39mstr\u001b[39m] \u001b[39m=\u001b[39m \u001b[39mNone\u001b[39;00m\n\u001b[1;32m     31\u001b[0m ) \u001b[39m-\u001b[39m\u001b[39m>\u001b[39m \u001b[39mNone\u001b[39;00m:\n\u001b[1;32m     32\u001b[0m     \u001b[39m\"\"\"\u001b[39;00m\n\u001b[1;32m     33\u001b[0m \u001b[39m    Maximum Mean Discrepancy (MMD) data drift detector using a permutation test.\u001b[39;00m\n\u001b[1;32m     34\u001b[0m \n\u001b[0;32m   (...)\u001b[0m\n\u001b[1;32m     69\u001b[0m \u001b[39m        Optionally specify the data type (tabular, image or time-series). Added to metadata.\u001b[39;00m\n\u001b[1;32m     70\u001b[0m \u001b[39m    \"\"\"\u001b[39;00m\n\u001b[0;32m---> 71\u001b[0m     \u001b[39msuper\u001b[39;49m()\u001b[39m.\u001b[39;49m\u001b[39m__init__\u001b[39;49m(\n\u001b[1;32m     72\u001b[0m         x_ref\u001b[39m=\u001b[39;49mx_ref,\n\u001b[1;32m     73\u001b[0m         p_val\u001b[39m=\u001b[39;49mp_val,\n\u001b[1;32m     74\u001b[0m         x_ref_preprocessed\u001b[39m=\u001b[39;49mx_ref_preprocessed,\n\u001b[1;32m     75\u001b[0m         preprocess_at_init\u001b[39m=\u001b[39;49mpreprocess_at_init,\n\u001b[1;32m     76\u001b[0m         update_x_ref\u001b[39m=\u001b[39;49mupdate_x_ref,\n\u001b[1;32m     77\u001b[0m         preprocess_fn\u001b[39m=\u001b[39;49mpreprocess_fn,\n\u001b[1;32m     78\u001b[0m         sigma\u001b[39m=\u001b[39;49msigma,\n\u001b[1;32m     79\u001b[0m         configure_kernel_from_x_ref\u001b[39m=\u001b[39;49mconfigure_kernel_from_x_ref,\n\u001b[1;32m     80\u001b[0m         n_permutations\u001b[39m=\u001b[39;49mn_permutations,\n\u001b[1;32m     81\u001b[0m         input_shape\u001b[39m=\u001b[39;49minput_shape,\n\u001b[1;32m     82\u001b[0m         data_type\u001b[39m=\u001b[39;49mdata_type\n\u001b[1;32m     83\u001b[0m     )\n\u001b[1;32m     84\u001b[0m     \u001b[39mself\u001b[39m\u001b[39m.\u001b[39mmeta\u001b[39m.\u001b[39mupdate({\u001b[39m'\u001b[39m\u001b[39mbackend\u001b[39m\u001b[39m'\u001b[39m: \u001b[39m'\u001b[39m\u001b[39mpytorch\u001b[39m\u001b[39m'\u001b[39m})\n\u001b[1;32m     86\u001b[0m     \u001b[39m# set device\u001b[39;00m\n",
      "File \u001b[0;32m~/miniconda3/envs/alibitorchwhy/lib/python3.8/site-packages/alibi_detect/cd/base.py:564\u001b[0m, in \u001b[0;36mBaseMMDDrift.__init__\u001b[0;34m(self, x_ref, p_val, x_ref_preprocessed, preprocess_at_init, update_x_ref, preprocess_fn, sigma, configure_kernel_from_x_ref, n_permutations, input_shape, data_type)\u001b[0m\n\u001b[1;32m    562\u001b[0m     \u001b[39mraise\u001b[39;00m \u001b[39mValueError\u001b[39;00m(\u001b[39m\"\u001b[39m\u001b[39m`preprocess_fn` is not a valid Callable.\u001b[39m\u001b[39m\"\u001b[39m)\n\u001b[1;32m    563\u001b[0m \u001b[39mif\u001b[39;00m \u001b[39mself\u001b[39m\u001b[39m.\u001b[39mpreprocess_at_init \u001b[39mand\u001b[39;00m \u001b[39mnot\u001b[39;00m \u001b[39mself\u001b[39m\u001b[39m.\u001b[39mx_ref_preprocessed \u001b[39mand\u001b[39;00m preprocess_fn \u001b[39mis\u001b[39;00m \u001b[39mnot\u001b[39;00m \u001b[39mNone\u001b[39;00m:\n\u001b[0;32m--> 564\u001b[0m     \u001b[39mself\u001b[39m\u001b[39m.\u001b[39mx_ref \u001b[39m=\u001b[39m preprocess_fn(x_ref)\n\u001b[1;32m    565\u001b[0m \u001b[39melse\u001b[39;00m:\n\u001b[1;32m    566\u001b[0m     \u001b[39mself\u001b[39m\u001b[39m.\u001b[39mx_ref \u001b[39m=\u001b[39m x_ref\n",
      "File \u001b[0;32m~/miniconda3/envs/alibitorchwhy/lib/python3.8/site-packages/alibi_detect/cd/pytorch/preprocess.py:61\u001b[0m, in \u001b[0;36mpreprocess_drift\u001b[0;34m(x, model, device, preprocess_batch_fn, tokenizer, max_len, batch_size, dtype)\u001b[0m\n\u001b[1;32m     32\u001b[0m \u001b[39m\"\"\"\u001b[39;00m\n\u001b[1;32m     33\u001b[0m \u001b[39mPrediction function used for preprocessing step of drift detector.\u001b[39;00m\n\u001b[1;32m     34\u001b[0m \n\u001b[0;32m   (...)\u001b[0m\n\u001b[1;32m     58\u001b[0m \u001b[39mNumpy array or torch tensor with predictions.\u001b[39;00m\n\u001b[1;32m     59\u001b[0m \u001b[39m\"\"\"\u001b[39;00m\n\u001b[1;32m     60\u001b[0m \u001b[39mif\u001b[39;00m tokenizer \u001b[39mis\u001b[39;00m \u001b[39mNone\u001b[39;00m:\n\u001b[0;32m---> 61\u001b[0m     \u001b[39mreturn\u001b[39;00m predict_batch(x, model, device\u001b[39m=\u001b[39;49mdevice, batch_size\u001b[39m=\u001b[39;49mbatch_size,\n\u001b[1;32m     62\u001b[0m                          preprocess_fn\u001b[39m=\u001b[39;49mpreprocess_batch_fn, dtype\u001b[39m=\u001b[39;49mdtype)\n\u001b[1;32m     63\u001b[0m \u001b[39melse\u001b[39;00m:\n\u001b[1;32m     64\u001b[0m     \u001b[39mreturn\u001b[39;00m predict_batch_transformer(x, model, tokenizer, max_len, device\u001b[39m=\u001b[39mdevice,\n\u001b[1;32m     65\u001b[0m                                      batch_size\u001b[39m=\u001b[39mbatch_size, dtype\u001b[39m=\u001b[39mdtype)\n",
      "File \u001b[0;32m~/miniconda3/envs/alibitorchwhy/lib/python3.8/site-packages/alibi_detect/utils/pytorch/prediction.py:51\u001b[0m, in \u001b[0;36mpredict_batch\u001b[0;34m(x, model, device, batch_size, preprocess_fn, dtype)\u001b[0m\n\u001b[1;32m     49\u001b[0m \u001b[39mif\u001b[39;00m \u001b[39misinstance\u001b[39m(preprocess_fn, Callable):  \u001b[39m# type: ignore\u001b[39;00m\n\u001b[1;32m     50\u001b[0m     x_batch \u001b[39m=\u001b[39m preprocess_fn(x_batch)\n\u001b[0;32m---> 51\u001b[0m preds_tmp \u001b[39m=\u001b[39m model(x_batch\u001b[39m.\u001b[39;49mto(device))  \u001b[39m# type: ignore\u001b[39;00m\n\u001b[1;32m     52\u001b[0m \u001b[39mif\u001b[39;00m \u001b[39misinstance\u001b[39m(preds_tmp, (\u001b[39mlist\u001b[39m, \u001b[39mtuple\u001b[39m)):\n\u001b[1;32m     53\u001b[0m     \u001b[39mif\u001b[39;00m \u001b[39mlen\u001b[39m(preds) \u001b[39m==\u001b[39m \u001b[39m0\u001b[39m:  \u001b[39m# init tuple with lists to store predictions\u001b[39;00m\n",
      "File \u001b[0;32m~/miniconda3/envs/alibitorchwhy/lib/python3.8/site-packages/torch/nn/modules/module.py:1190\u001b[0m, in \u001b[0;36mModule._call_impl\u001b[0;34m(self, *input, **kwargs)\u001b[0m\n\u001b[1;32m   1186\u001b[0m \u001b[39m# If we don't have any hooks, we want to skip the rest of the logic in\u001b[39;00m\n\u001b[1;32m   1187\u001b[0m \u001b[39m# this function, and just call forward.\u001b[39;00m\n\u001b[1;32m   1188\u001b[0m \u001b[39mif\u001b[39;00m \u001b[39mnot\u001b[39;00m (\u001b[39mself\u001b[39m\u001b[39m.\u001b[39m_backward_hooks \u001b[39mor\u001b[39;00m \u001b[39mself\u001b[39m\u001b[39m.\u001b[39m_forward_hooks \u001b[39mor\u001b[39;00m \u001b[39mself\u001b[39m\u001b[39m.\u001b[39m_forward_pre_hooks \u001b[39mor\u001b[39;00m _global_backward_hooks\n\u001b[1;32m   1189\u001b[0m         \u001b[39mor\u001b[39;00m _global_forward_hooks \u001b[39mor\u001b[39;00m _global_forward_pre_hooks):\n\u001b[0;32m-> 1190\u001b[0m     \u001b[39mreturn\u001b[39;00m forward_call(\u001b[39m*\u001b[39;49m\u001b[39minput\u001b[39;49m, \u001b[39m*\u001b[39;49m\u001b[39m*\u001b[39;49mkwargs)\n\u001b[1;32m   1191\u001b[0m \u001b[39m# Do not call functions when jit is used\u001b[39;00m\n\u001b[1;32m   1192\u001b[0m full_backward_hooks, non_full_backward_hooks \u001b[39m=\u001b[39m [], []\n",
      "File \u001b[0;32m~/miniconda3/envs/alibitorchwhy/lib/python3.8/site-packages/torch/nn/modules/container.py:204\u001b[0m, in \u001b[0;36mSequential.forward\u001b[0;34m(self, input)\u001b[0m\n\u001b[1;32m    202\u001b[0m \u001b[39mdef\u001b[39;00m \u001b[39mforward\u001b[39m(\u001b[39mself\u001b[39m, \u001b[39minput\u001b[39m):\n\u001b[1;32m    203\u001b[0m     \u001b[39mfor\u001b[39;00m module \u001b[39min\u001b[39;00m \u001b[39mself\u001b[39m:\n\u001b[0;32m--> 204\u001b[0m         \u001b[39minput\u001b[39m \u001b[39m=\u001b[39m module(\u001b[39minput\u001b[39;49m)\n\u001b[1;32m    205\u001b[0m     \u001b[39mreturn\u001b[39;00m \u001b[39minput\u001b[39m\n",
      "File \u001b[0;32m~/miniconda3/envs/alibitorchwhy/lib/python3.8/site-packages/torch/nn/modules/module.py:1190\u001b[0m, in \u001b[0;36mModule._call_impl\u001b[0;34m(self, *input, **kwargs)\u001b[0m\n\u001b[1;32m   1186\u001b[0m \u001b[39m# If we don't have any hooks, we want to skip the rest of the logic in\u001b[39;00m\n\u001b[1;32m   1187\u001b[0m \u001b[39m# this function, and just call forward.\u001b[39;00m\n\u001b[1;32m   1188\u001b[0m \u001b[39mif\u001b[39;00m \u001b[39mnot\u001b[39;00m (\u001b[39mself\u001b[39m\u001b[39m.\u001b[39m_backward_hooks \u001b[39mor\u001b[39;00m \u001b[39mself\u001b[39m\u001b[39m.\u001b[39m_forward_hooks \u001b[39mor\u001b[39;00m \u001b[39mself\u001b[39m\u001b[39m.\u001b[39m_forward_pre_hooks \u001b[39mor\u001b[39;00m _global_backward_hooks\n\u001b[1;32m   1189\u001b[0m         \u001b[39mor\u001b[39;00m _global_forward_hooks \u001b[39mor\u001b[39;00m _global_forward_pre_hooks):\n\u001b[0;32m-> 1190\u001b[0m     \u001b[39mreturn\u001b[39;00m forward_call(\u001b[39m*\u001b[39;49m\u001b[39minput\u001b[39;49m, \u001b[39m*\u001b[39;49m\u001b[39m*\u001b[39;49mkwargs)\n\u001b[1;32m   1191\u001b[0m \u001b[39m# Do not call functions when jit is used\u001b[39;00m\n\u001b[1;32m   1192\u001b[0m full_backward_hooks, non_full_backward_hooks \u001b[39m=\u001b[39m [], []\n",
      "File \u001b[0;32m~/miniconda3/envs/alibitorchwhy/lib/python3.8/site-packages/torch/nn/modules/linear.py:114\u001b[0m, in \u001b[0;36mLinear.forward\u001b[0;34m(self, input)\u001b[0m\n\u001b[1;32m    113\u001b[0m \u001b[39mdef\u001b[39;00m \u001b[39mforward\u001b[39m(\u001b[39mself\u001b[39m, \u001b[39minput\u001b[39m: Tensor) \u001b[39m-\u001b[39m\u001b[39m>\u001b[39m Tensor:\n\u001b[0;32m--> 114\u001b[0m     \u001b[39mreturn\u001b[39;00m F\u001b[39m.\u001b[39;49mlinear(\u001b[39minput\u001b[39;49m, \u001b[39mself\u001b[39;49m\u001b[39m.\u001b[39;49mweight, \u001b[39mself\u001b[39;49m\u001b[39m.\u001b[39;49mbias)\n",
      "\u001b[0;31mRuntimeError\u001b[0m: mat1 and mat2 shapes cannot be multiplied (512x51200 and 2048x96)"
     ]
    }
   ],
   "source": [
    "from alibi_detect.cd import KSDrift, MMDDrift\n",
    "camelyon_train_first_quant = camelyon_train_first[:int(len(camelyon_train_first)/2)]\n",
    "\n",
    "camelyon_train_first_quant.shape\n",
    "detector = MMDDrift(x_ref=camelyon_train_first_quant,backend='pytorch',p_val=0.05,preprocess_fn=preprocess_fn,n_permutations=100)"
   ]
  },
  {
   "cell_type": "code",
   "execution_count": 8,
   "metadata": {},
   "outputs": [
    {
     "name": "stderr",
     "output_type": "stream",
     "text": [
      "Directory /home/ubuntu/image-drift-monitoring/src/modules/alibi_detect/camelyon_uae_ks/camelyon_uae_mmd does not exist and is now created.\n",
      "Directory /home/ubuntu/image-drift-monitoring/src/modules/alibi_detect/camelyon_uae_ks/camelyon_uae_mmd/preprocess_fn/model does not exist and is now created.\n"
     ]
    },
    {
     "name": "stdout",
     "output_type": "stream",
     "text": [
      "WARNING:tensorflow:Compiled the loaded model, but the compiled metrics have yet to be built. `model.compile_metrics` will be empty until you train or evaluate the model.\n"
     ]
    }
   ],
   "source": [
    "from alibi_detect.saving import save_detector, load_detector\n",
    "\n",
    "save_detector(detector=detector,filepath='/home/ubuntu/image-drift-monitoring/src/modules/alibi_detect/camelyon_uae_mmd')"
   ]
  },
  {
   "attachments": {},
   "cell_type": "markdown",
   "metadata": {},
   "source": [
    "MAKE KS PREDICTION ON SECOND 50% of TRAIN"
   ]
  },
  {
   "cell_type": "code",
   "execution_count": 9,
   "metadata": {},
   "outputs": [
    {
     "data": {
      "text/plain": [
       "37804"
      ]
     },
     "execution_count": 9,
     "metadata": {},
     "output_type": "execute_result"
    }
   ],
   "source": [
    "len(camelyon_train_first_quant)"
   ]
  },
  {
   "cell_type": "code",
   "execution_count": null,
   "metadata": {},
   "outputs": [],
   "source": [
    "my_uae.make_prediction(target_data=camelyon_train_second,type='KS')"
   ]
  },
  {
   "attachments": {},
   "cell_type": "markdown",
   "metadata": {},
   "source": [
    "MAKE MMD PREDICTION ON SECOND 50% of TRAIN"
   ]
  },
  {
   "cell_type": "code",
   "execution_count": null,
   "metadata": {},
   "outputs": [],
   "source": [
    "my_uae.make_prediction(target_data=camelyon_train_second,type='MMD')"
   ]
  }
 ],
 "metadata": {
  "kernelspec": {
   "display_name": "alibitorchwhy",
   "language": "python",
   "name": "python3"
  },
  "language_info": {
   "codemirror_mode": {
    "name": "ipython",
    "version": 3
   },
   "file_extension": ".py",
   "mimetype": "text/x-python",
   "name": "python",
   "nbconvert_exporter": "python",
   "pygments_lexer": "ipython3",
   "version": "3.8.15"
  },
  "orig_nbformat": 4,
  "vscode": {
   "interpreter": {
    "hash": "401cebfcb5cce5f71138843ad74eb16632e47d40b3a47aa4ad883b3d134173ed"
   }
  }
 },
 "nbformat": 4,
 "nbformat_minor": 2
}
