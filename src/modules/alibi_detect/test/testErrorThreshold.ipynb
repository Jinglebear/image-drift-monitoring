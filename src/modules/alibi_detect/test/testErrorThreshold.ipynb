{
 "cells": [
  {
   "cell_type": "code",
   "execution_count": null,
   "metadata": {},
   "outputs": [],
   "source": [
    "import numpy as np\n",
    "\n",
    "camelyon_train_20_comp = np.load('/home/ubuntu/image-drift-monitoring/data/camelyon17_v1.0/camelyon_train_20_ds.npz')\n",
    "camelyon_train_20 = camelyon_train_20_comp['arr_0']\n",
    "\n",
    "camelyon_train_20.shape"
   ]
  },
  {
   "cell_type": "code",
   "execution_count": null,
   "metadata": {},
   "outputs": [],
   "source": [
    "import numpy as np\n",
    "\n",
    "camelyon_train_15_comp = np.load('/home/ubuntu/image-drift-monitoring/data/camelyon17_v1.0/camelyon_train_15_ds.npz')\n",
    "camelyon_train_15 = camelyon_train_15_comp['arr_0']\n",
    "\n",
    "camelyon_train_15.shape"
   ]
  },
  {
   "cell_type": "code",
   "execution_count": null,
   "metadata": {},
   "outputs": [],
   "source": [
    "import numpy as np\n",
    "\n",
    "iwildcam_train_40_comp = np.load('/home/ubuntu/image-drift-monitoring/data/iwildcam_v2.0/iwildcam_train_40_ds.npz')\n",
    "iwildcam_train_40 = iwildcam_train_40_comp['arr_0']\n",
    "\n",
    "iwildcam_train_40.shape"
   ]
  },
  {
   "cell_type": "code",
   "execution_count": null,
   "metadata": {},
   "outputs": [],
   "source": [
    "import numpy as np\n",
    "\n",
    "iwildcam_train_35_comp = np.load('/home/ubuntu/image-drift-monitoring/data/iwildcam_v2.0/iwildcam_train_35_ds.npz')\n",
    "iwildcam_train_35 = iwildcam_train_35_comp['arr_0']\n",
    "\n",
    "iwildcam_train_35.shape"
   ]
  },
  {
   "cell_type": "code",
   "execution_count": null,
   "metadata": {},
   "outputs": [],
   "source": [
    "import numpy as np\n",
    "\n",
    "rxrx1_train_100_comp = np.load('/home/ubuntu/image-drift-monitoring/data/rxrx1_v1.0/rxrx1_train_ds.npz')\n",
    "rxrx1_train_100 = rxrx1_train_100_comp['arr_0']\n",
    "\n",
    "rxrx1_train_100.shape"
   ]
  },
  {
   "cell_type": "code",
   "execution_count": null,
   "metadata": {},
   "outputs": [],
   "source": [
    "import numpy as np\n",
    "\n",
    "globalwheat_train_100_comp = np.load('/home/ubuntu/image-drift-monitoring/data/globalwheat_v1.1/globalwheat_train_ds.npz')\n",
    "globalwheat_train_100 = globalwheat_train_100_comp['arr_0']\n",
    "\n",
    "globalwheat_train_100.shape"
   ]
  },
  {
   "cell_type": "code",
   "execution_count": null,
   "metadata": {},
   "outputs": [],
   "source": [
    "%cd  '/home/ubuntu/image-drift-monitoring'\n",
    "%pwd\n",
    "import numpy as np\n",
    "import json\n",
    "from src.modules.alibi_detect.untrained_encoder import UntrainedAutoencoder\n",
    "with open('/home/ubuntu/image-drift-monitoring/config/common/drift_detection_config.json') as config_file:\n",
    "        drift_detection_config = json.load(config_file)\n",
    "\n",
    "camelyon_train_100_comp = np.load('/home/ubuntu/image-drift-monitoring/data/camelyon17_v1.0/camelyon_train_ds.npz')\n",
    "camelyon_train_100 = camelyon_train_100_comp['arr_0']\n",
    "\n",
    "camelyon_train_50k = camelyon_train_100[:50000]\n",
    "camelyon_train_50k.shape\n",
    "\n",
    "myUAE = UntrainedAutoencoder(drift_detection_config)\n",
    "myUAE.init_default_tf_encoder(encoding_dim=96,input_shape=camelyon_train_50k.shape[1:])\n",
    "myUAE.init_detector(detector_type='MMD',reference_data=camelyon_train_50k,detector_name='camelyon_UAE_50k_MMD',save_dec=True)\n",
    "\n",
    "camelyon_train_100_comp = None\n",
    "camelyon_train_100 = None\n",
    "camelyon_train_50k = None\n",
    "myUAE = None"
   ]
  }
 ],
 "metadata": {
  "kernelspec": {
   "display_name": "alibitorchwhy",
   "language": "python",
   "name": "python3"
  },
  "language_info": {
   "codemirror_mode": {
    "name": "ipython",
    "version": 3
   },
   "file_extension": ".py",
   "mimetype": "text/x-python",
   "name": "python",
   "nbconvert_exporter": "python",
   "pygments_lexer": "ipython3",
   "version": "3.8.15"
  },
  "orig_nbformat": 4,
  "vscode": {
   "interpreter": {
    "hash": "401cebfcb5cce5f71138843ad74eb16632e47d40b3a47aa4ad883b3d134173ed"
   }
  }
 },
 "nbformat": 4,
 "nbformat_minor": 2
}
