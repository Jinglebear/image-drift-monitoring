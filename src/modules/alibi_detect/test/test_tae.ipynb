{
 "cells": [
  {
   "cell_type": "code",
   "execution_count": 1,
   "metadata": {},
   "outputs": [
    {
     "name": "stdout",
     "output_type": "stream",
     "text": [
      "/home/ubuntu/image-drift-monitoring/data/camelyon17_v1.0\n"
     ]
    }
   ],
   "source": [
    "import numpy as np\n",
    "%cd  '/home/ubuntu/image-drift-monitoring/data/camelyon17_v1.0'\n",
    "%pwd\n",
    "# TODO : FIX TESTING (TEST->TRAIN)\n",
    "camelyon_train_comp = np.load('camelyon_test_ds.npz')"
   ]
  },
  {
   "cell_type": "code",
   "execution_count": 2,
   "metadata": {},
   "outputs": [],
   "source": [
    "camelyon_train = camelyon_train_comp['arr_0']\n",
    "\n",
    "np.random.shuffle(camelyon_train)"
   ]
  },
  {
   "cell_type": "code",
   "execution_count": 3,
   "metadata": {},
   "outputs": [],
   "source": [
    "camelyon_train_0_25   = camelyon_train[:int(len(camelyon_train)/4)]\n",
    "camelyon_train_0_12_5  = camelyon_train_0_25[:int(len(camelyon_train_0_25)/2)]\n",
    "camelyon_train_12_5_25 = camelyon_train_0_25[int(len(camelyon_train_0_25)/2):]"
   ]
  },
  {
   "cell_type": "code",
   "execution_count": 4,
   "metadata": {},
   "outputs": [
    {
     "name": "stderr",
     "output_type": "stream",
     "text": [
      "/home/ubuntu/miniconda3/envs/alibitorchwhy/lib/python3.8/site-packages/tqdm/auto.py:22: TqdmWarning: IProgress not found. Please update jupyter and ipywidgets. See https://ipywidgets.readthedocs.io/en/stable/user_install.html\n",
      "  from .autonotebook import tqdm as notebook_tqdm\n"
     ]
    }
   ],
   "source": [
    "import torch\n",
    "camelyon_train_0_12_5 = torch.as_tensor(camelyon_train_0_12_5)"
   ]
  },
  {
   "cell_type": "code",
   "execution_count": 7,
   "metadata": {},
   "outputs": [
    {
     "name": "stdout",
     "output_type": "stream",
     "text": [
      "/home/ubuntu/image-drift-monitoring\n"
     ]
    }
   ],
   "source": [
    "%cd  '/home/ubuntu/image-drift-monitoring'\n",
    "%pwd\n",
    "from src.modules.alibi_detect.trained_autoencoder import TrainedAutoencoder\n",
    "\n",
    "myTAE = TrainedAutoencoder()\n",
    "from torch.utils.data import TensorDataset, DataLoader\n",
    "camelyon_train_0_12_5_dl = DataLoader(TensorDataset(camelyon_train_0_12_5,camelyon_train_0_12_5),32,shuffle=True)\n"
   ]
  },
  {
   "cell_type": "code",
   "execution_count": 8,
   "metadata": {},
   "outputs": [
    {
     "name": "stderr",
     "output_type": "stream",
     "text": [
      "  0%|          | 0/333 [00:00<?, ?it/s]\n"
     ]
    },
    {
     "ename": "ValueError",
     "evalue": "not enough values to unpack (expected 2, got 1)",
     "output_type": "error",
     "traceback": [
      "\u001b[0;31m---------------------------------------------------------------------------\u001b[0m",
      "\u001b[0;31mValueError\u001b[0m                                Traceback (most recent call last)",
      "Cell \u001b[0;32mIn [8], line 1\u001b[0m\n\u001b[0;32m----> 1\u001b[0m myTAE\u001b[39m.\u001b[39;49minit_default_pt_autoencoder(camelyon_train_0_12_5_dl)\n",
      "File \u001b[0;32m~/image-drift-monitoring/src/modules/alibi_detect/trained_autoencoder.py:102\u001b[0m, in \u001b[0;36mTrainedAutoencoder.init_default_pt_autoencoder\u001b[0;34m(self, dl)\u001b[0m\n\u001b[1;32m    100\u001b[0m device \u001b[39m=\u001b[39m torch\u001b[39m.\u001b[39mdevice(\u001b[39m'\u001b[39m\u001b[39mcpu\u001b[39m\u001b[39m'\u001b[39m)\n\u001b[1;32m    101\u001b[0m ae \u001b[39m=\u001b[39m nn\u001b[39m.\u001b[39mSequential(\u001b[39mself\u001b[39m\u001b[39m.\u001b[39mencoder,\u001b[39mself\u001b[39m\u001b[39m.\u001b[39mdecoder)\u001b[39m.\u001b[39mto(device)\n\u001b[0;32m--> 102\u001b[0m trainer(ae,nn\u001b[39m.\u001b[39;49mMSELoss(),dl,device,learning_rate\u001b[39m=\u001b[39;49mLEARNING_RATE,epochs\u001b[39m=\u001b[39;49mEPOCHS)\n",
      "File \u001b[0;32m~/miniconda3/envs/alibitorchwhy/lib/python3.8/site-packages/alibi_detect/models/pytorch/trainer.py:49\u001b[0m, in \u001b[0;36mtrainer\u001b[0;34m(model, loss_fn, dataloader, device, optimizer, learning_rate, preprocess_fn, epochs, reg_loss_fn, verbose)\u001b[0m\n\u001b[1;32m     47\u001b[0m dl \u001b[39m=\u001b[39m tqdm(\u001b[39menumerate\u001b[39m(dataloader), total\u001b[39m=\u001b[39m\u001b[39mlen\u001b[39m(dataloader)) \u001b[39mif\u001b[39;00m verbose \u001b[39m==\u001b[39m \u001b[39m1\u001b[39m \u001b[39melse\u001b[39;00m \u001b[39menumerate\u001b[39m(dataloader)\n\u001b[1;32m     48\u001b[0m loss_ma \u001b[39m=\u001b[39m \u001b[39m0\u001b[39m\n\u001b[0;32m---> 49\u001b[0m \u001b[39mfor\u001b[39;00m step, (x, y) \u001b[39min\u001b[39;00m dl:\n\u001b[1;32m     50\u001b[0m     \u001b[39mif\u001b[39;00m \u001b[39misinstance\u001b[39m(preprocess_fn, Callable):  \u001b[39m# type: ignore\u001b[39;00m\n\u001b[1;32m     51\u001b[0m         x \u001b[39m=\u001b[39m preprocess_fn(x)\n",
      "\u001b[0;31mValueError\u001b[0m: not enough values to unpack (expected 2, got 1)"
     ]
    }
   ],
   "source": [
    "myTAE.init_default_pt_autoencoder(camelyon_train_0_12_5_dl)"
   ]
  }
 ],
 "metadata": {
  "kernelspec": {
   "display_name": "alibitorchwhy",
   "language": "python",
   "name": "python3"
  },
  "language_info": {
   "codemirror_mode": {
    "name": "ipython",
    "version": 3
   },
   "file_extension": ".py",
   "mimetype": "text/x-python",
   "name": "python",
   "nbconvert_exporter": "python",
   "pygments_lexer": "ipython3",
   "version": "3.8.15"
  },
  "orig_nbformat": 4,
  "vscode": {
   "interpreter": {
    "hash": "401cebfcb5cce5f71138843ad74eb16632e47d40b3a47aa4ad883b3d134173ed"
   }
  }
 },
 "nbformat": 4,
 "nbformat_minor": 2
}
