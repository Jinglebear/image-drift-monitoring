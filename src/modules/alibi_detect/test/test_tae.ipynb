{
 "cells": [
  {
   "cell_type": "code",
   "execution_count": null,
   "metadata": {},
   "outputs": [],
   "source": [
    "import numpy as np\n",
    "%cd  '/home/ubuntu/image-drift-monitoring/data/camelyon17_v1.0'\n",
    "%pwd\n",
    "camelyon_train_comp = np.load('camelyon_train_ds.npz')"
   ]
  },
  {
   "cell_type": "code",
   "execution_count": null,
   "metadata": {},
   "outputs": [],
   "source": [
    "camelyon_train = camelyon_train_comp['arr_0']\n",
    "\n",
    "np.random.shuffle(camelyon_train)"
   ]
  },
  {
   "cell_type": "code",
   "execution_count": null,
   "metadata": {},
   "outputs": [],
   "source": [
    "camelyon_train_0_50 = camelyon_train[:int(len(camelyon_train)/2)]\n",
    "camelyon_train_50_100 = camelyon_train[:int(len(camelyon_train)/2)]"
   ]
  },
  {
   "cell_type": "code",
   "execution_count": null,
   "metadata": {},
   "outputs": [],
   "source": [
    "camelyon_train_0_25   = camelyon_train[:int(len(camelyon_train)/4)]\n",
    "camelyon_train_0_12_5  = camelyon_train_0_25[:int(len(camelyon_train_0_25)/2)]\n",
    "camelyon_train_12_5_25 = camelyon_train_0_25[int(len(camelyon_train_0_25)/2):]"
   ]
  },
  {
   "cell_type": "code",
   "execution_count": null,
   "metadata": {},
   "outputs": [],
   "source": [
    "import torch\n",
    "camelyon_train_0_12_5 = torch.as_tensor(camelyon_train_0_12_5)"
   ]
  },
  {
   "cell_type": "code",
   "execution_count": null,
   "metadata": {},
   "outputs": [],
   "source": [
    "%cd  '/home/ubuntu/image-drift-monitoring'\n",
    "%pwd\n",
    "from src.modules.alibi_detect.trained_autoencoder import TrainedAutoencoder\n",
    "\n",
    "myTAE = TrainedAutoencoder()\n",
    "from torch.utils.data import TensorDataset, DataLoader\n",
    "camelyon_train_0_12_5_dl = DataLoader(TensorDataset(camelyon_train_0_12_5,camelyon_train_0_12_5),32,shuffle=True)\n"
   ]
  },
  {
   "cell_type": "code",
   "execution_count": null,
   "metadata": {},
   "outputs": [],
   "source": [
    "myTAE.init_default_pt_autoencoder(camelyon_train_0_12_5_dl)"
   ]
  }
 ],
 "metadata": {
  "kernelspec": {
   "display_name": "alibitorchwhy",
   "language": "python",
   "name": "python3"
  },
  "language_info": {
   "codemirror_mode": {
    "name": "ipython",
    "version": 3
   },
   "file_extension": ".py",
   "mimetype": "text/x-python",
   "name": "python",
   "nbconvert_exporter": "python",
   "pygments_lexer": "ipython3",
   "version": "3.8.15"
  },
  "orig_nbformat": 4,
  "vscode": {
   "interpreter": {
    "hash": "401cebfcb5cce5f71138843ad74eb16632e47d40b3a47aa4ad883b3d134173ed"
   }
  }
 },
 "nbformat": 4,
 "nbformat_minor": 2
}
