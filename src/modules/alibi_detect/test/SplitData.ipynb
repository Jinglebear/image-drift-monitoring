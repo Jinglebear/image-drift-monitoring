{
 "cells": [
  {
   "cell_type": "code",
   "execution_count": 1,
   "metadata": {},
   "outputs": [],
   "source": [
    "import numpy as np\n",
    "# %cd  '/home/ubuntu/image-drift-monitoring/data/iwildcam17_v1.0'\n",
    "# %pwd\n",
    "\n",
    "iwildcam_train_comp = np.load('/home/ubuntu/image-drift-monitoring/data/iwildcam_v2.0/iwildcam_train_ds.npz')\n",
    "iwildcam_train = iwildcam_train_comp['arr_0']\n",
    "\n",
    "np.random.shuffle(iwildcam_train)"
   ]
  },
  {
   "cell_type": "code",
   "execution_count": 2,
   "metadata": {},
   "outputs": [],
   "source": [
    "iwildcam_train_5  = iwildcam_train[:int(len(iwildcam_train)/20)]\n",
    "np.savez_compressed('iwildcam_train_5_ds.npz',iwildcam_train_5)\n",
    "np.random.shuffle(iwildcam_train)\n",
    "iwildcam_train_10 = iwildcam_train[:int(len(iwildcam_train)/10)]\n",
    "np.savez_compressed('iwildcam_train_10_ds.npz',iwildcam_train_10)\n",
    "np.random.shuffle(iwildcam_train)\n",
    "iwildcam_train_15 = iwildcam_train[:int(len(iwildcam_train)/(20/3))]\n",
    "np.savez_compressed('iwildcam_train_15_ds.npz',iwildcam_train_15)\n",
    "np.random.shuffle(iwildcam_train)\n",
    "iwildcam_train_20 = iwildcam_train[:int(len(iwildcam_train)/5)]\n",
    "np.savez_compressed('iwildcam_train_20_ds.npz',iwildcam_train_20)\n",
    "np.random.shuffle(iwildcam_train)\n",
    "iwildcam_train_25 = iwildcam_train[:int(len(iwildcam_train)/4)]\n",
    "np.savez_compressed('iwildcam_train_25_ds.npz',iwildcam_train_25)\n",
    "np.random.shuffle(iwildcam_train)\n",
    "iwildcam_train_30 = iwildcam_train[:int(len(iwildcam_train)/(10/3))]\n",
    "np.savez_compressed('iwildcam_train_30_ds.npz',iwildcam_train_30)\n",
    "np.random.shuffle(iwildcam_train)\n",
    "iwildcam_train_35 = iwildcam_train[:int(len(iwildcam_train)/(20/7))]\n",
    "np.savez_compressed('iwildcam_train_35_ds.npz',iwildcam_train_35)\n",
    "np.random.shuffle(iwildcam_train)\n",
    "iwildcam_train_40 = iwildcam_train[:int(len(iwildcam_train)/(5/2))]\n",
    "np.savez_compressed('iwildcam_train_40_ds.npz',iwildcam_train_40)\n",
    "np.random.shuffle(iwildcam_train)\n",
    "iwildcam_train_45 = iwildcam_train[:int(len(iwildcam_train)/(20/9))]\n",
    "np.savez_compressed('iwildcam_train_45_ds.npz',iwildcam_train_45)\n",
    "np.random.shuffle(iwildcam_train)\n",
    "iwildcam_train_50 = iwildcam_train[:int(len(iwildcam_train)/2)]\n",
    "np.savez_compressed('iwildcam_train_50_ds.npz',iwildcam_train_50)\n",
    "np.random.shuffle(iwildcam_train)\n",
    "iwildcam_train_55 = iwildcam_train[:int(len(iwildcam_train)/(20/11))]\n",
    "np.savez_compressed('iwildcam_train_55_ds.npz',iwildcam_train_55)\n",
    "np.random.shuffle(iwildcam_train)\n",
    "iwildcam_train_60 = iwildcam_train[:int(len(iwildcam_train)*0.6)]\n",
    "np.savez_compressed('iwildcam_train_60_ds.npz',iwildcam_train_60)\n",
    "np.random.shuffle(iwildcam_train)\n",
    "iwildcam_train_65 = iwildcam_train[:int(len(iwildcam_train)*0.65)]\n",
    "np.savez_compressed('iwildcam_train_65_ds.npz',iwildcam_train_65)\n",
    "np.random.shuffle(iwildcam_train)\n",
    "iwildcam_train_70 = iwildcam_train[:int(len(iwildcam_train)*0.7)]\n",
    "np.savez_compressed('iwildcam_train_70_ds.npz',iwildcam_train_70)\n",
    "np.random.shuffle(iwildcam_train)\n",
    "iwildcam_train_75 = iwildcam_train[:int(len(iwildcam_train)*0.75)]\n",
    "np.savez_compressed('iwildcam_train_75_ds.npz',iwildcam_train_75)\n",
    "np.random.shuffle(iwildcam_train)\n",
    "iwildcam_train_80 = iwildcam_train[:int(len(iwildcam_train)*0.8)]\n",
    "np.savez_compressed('iwildcam_train_80_ds.npz',iwildcam_train_80)\n",
    "np.random.shuffle(iwildcam_train)\n",
    "iwildcam_train_85 = iwildcam_train[:int(len(iwildcam_train)*0.85)]\n",
    "np.savez_compressed('iwildcam_train_85_ds.npz',iwildcam_train_85)\n",
    "np.random.shuffle(iwildcam_train)\n",
    "iwildcam_train_90 = iwildcam_train[:int(len(iwildcam_train)*0.9)]\n",
    "np.savez_compressed('iwildcam_train_90_ds.npz',iwildcam_train_90)\n",
    "np.random.shuffle(iwildcam_train)\n",
    "iwildcam_train_95 = iwildcam_train[:int(len(iwildcam_train)*0.95)]\n",
    "np.savez_compressed('iwildcam_train_95_ds.npz',iwildcam_train_95)\n",
    "np.random.shuffle(iwildcam_train)"
   ]
  }
 ],
 "metadata": {
  "kernelspec": {
   "display_name": "alibitorchwhy",
   "language": "python",
   "name": "python3"
  },
  "language_info": {
   "codemirror_mode": {
    "name": "ipython",
    "version": 3
   },
   "file_extension": ".py",
   "mimetype": "text/x-python",
   "name": "python",
   "nbconvert_exporter": "python",
   "pygments_lexer": "ipython3",
   "version": "3.8.15"
  },
  "orig_nbformat": 4,
  "vscode": {
   "interpreter": {
    "hash": "401cebfcb5cce5f71138843ad74eb16632e47d40b3a47aa4ad883b3d134173ed"
   }
  }
 },
 "nbformat": 4,
 "nbformat_minor": 2
}
