{
 "cells": [
  {
   "cell_type": "code",
   "execution_count": 1,
   "metadata": {},
   "outputs": [
    {
     "name": "stdout",
     "output_type": "stream",
     "text": [
      "/home/ubuntu/image-drift-monitoring/data/camelyon17_v1.0\n"
     ]
    }
   ],
   "source": [
    "import numpy as np\n",
    "%cd  '/home/ubuntu/image-drift-monitoring/data/camelyon17_v1.0'\n",
    "%pwd\n",
    "\n",
    "camelyon_train_comp = np.load('camelyon_train_ds.npz')\n",
    "camelyon_train = camelyon_train_comp['arr_0']\n",
    "\n",
    "np.random.shuffle(camelyon_train)"
   ]
  },
  {
   "cell_type": "code",
   "execution_count": 2,
   "metadata": {},
   "outputs": [],
   "source": [
    "# camelyon_train_5  = camelyon_train[:int(len(camelyon_train)/20)]\n",
    "# np.savez_compressed('camelyon_train_5_ds.npz',camelyon_train_5)\n",
    "# np.random.shuffle(camelyon_train)\n",
    "# camelyon_train_10 = camelyon_train[:int(len(camelyon_train)/10)]\n",
    "# np.savez_compressed('camelyon_train_10_ds.npz',camelyon_train_10)\n",
    "# np.random.shuffle(camelyon_train)\n",
    "# camelyon_train_15 = camelyon_train[:int(len(camelyon_train)/(20/3))]\n",
    "# np.savez_compressed('camelyon_train_15_ds.npz',camelyon_train_15)\n",
    "# np.random.shuffle(camelyon_train)\n",
    "# camelyon_train_20 = camelyon_train[:int(len(camelyon_train)/5)]\n",
    "# np.savez_compressed('camelyon_train_20_ds.npz',camelyon_train_20)\n",
    "# np.random.shuffle(camelyon_train)\n",
    "# camelyon_train_25 = camelyon_train[:int(len(camelyon_train)/4)]\n",
    "# np.savez_compressed('camelyon_train_25_ds.npz',camelyon_train_25)\n",
    "# np.random.shuffle(camelyon_train)\n",
    "# camelyon_train_30 = camelyon_train[:int(len(camelyon_train)/(10/3))]\n",
    "# np.savez_compressed('camelyon_train_30_ds.npz',camelyon_train_30)\n",
    "# np.random.shuffle(camelyon_train)\n",
    "# camelyon_train_35 = camelyon_train[:int(len(camelyon_train)/(20/7))]\n",
    "# np.savez_compressed('camelyon_train_35_ds.npz',camelyon_train_35)\n",
    "# np.random.shuffle(camelyon_train)\n",
    "# camelyon_train_40 = camelyon_train[:int(len(camelyon_train)/(5/2))]\n",
    "# np.savez_compressed('camelyon_train_40_ds.npz',camelyon_train_40)\n",
    "# np.random.shuffle(camelyon_train)\n",
    "# camelyon_train_45 = camelyon_train[:int(len(camelyon_train)/(20/9))]\n",
    "# np.savez_compressed('camelyon_train_45_ds.npz',camelyon_train_45)\n",
    "# np.random.shuffle(camelyon_train)\n",
    "# camelyon_train_50 = camelyon_train[:int(len(camelyon_train)/2)]\n",
    "# np.savez_compressed('camelyon_train_50_ds.npz',camelyon_train_50)\n",
    "# np.random.shuffle(camelyon_train)\n",
    "# camelyon_train_55 = camelyon_train[:int(len(camelyon_train)/(20/11))]\n",
    "# np.savez_compressed('camelyon_train_55_ds.npz',camelyon_train_55)\n",
    "# np.random.shuffle(camelyon_train)\n",
    "# camelyon_train_60 = camelyon_train[:int(len(camelyon_train)*0.6)]\n",
    "# np.savez_compressed('camelyon_train_60_ds.npz',camelyon_train_60)\n",
    "# np.random.shuffle(camelyon_train)\n",
    "# camelyon_train_65 = camelyon_train[:int(len(camelyon_train)*0.65)]\n",
    "# np.savez_compressed('camelyon_train_65_ds.npz',camelyon_train_65)\n",
    "# np.random.shuffle(camelyon_train)\n",
    "# camelyon_train_70 = camelyon_train[:int(len(camelyon_train)*0.7)]\n",
    "# np.savez_compressed('camelyon_train_70_ds.npz',camelyon_train_70)\n",
    "# np.random.shuffle(camelyon_train)\n",
    "camelyon_train_75 = camelyon_train[:int(len(camelyon_train)*0.75)]\n",
    "np.savez_compressed('camelyon_train_75_ds.npz',camelyon_train_75)\n",
    "np.random.shuffle(camelyon_train)\n",
    "camelyon_train_80 = camelyon_train[:int(len(camelyon_train)*0.8)]\n",
    "np.savez_compressed('camelyon_train_80_ds.npz',camelyon_train_80)\n",
    "np.random.shuffle(camelyon_train)\n",
    "camelyon_train_85 = camelyon_train[:int(len(camelyon_train)*0.85)]\n",
    "np.savez_compressed('camelyon_train_85_ds.npz',camelyon_train_85)\n",
    "np.random.shuffle(camelyon_train)\n",
    "camelyon_train_90 = camelyon_train[:int(len(camelyon_train)*0.9)]\n",
    "np.savez_compressed('camelyon_train_90_ds.npz',camelyon_train_90)\n",
    "np.random.shuffle(camelyon_train)\n",
    "camelyon_train_95 = camelyon_train[:int(len(camelyon_train)*0.95)]\n",
    "np.savez_compressed('camelyon_train_95_ds.npz',camelyon_train_95)\n",
    "np.random.shuffle(camelyon_train)"
   ]
  }
 ],
 "metadata": {
  "kernelspec": {
   "display_name": "alibitorchwhy",
   "language": "python",
   "name": "python3"
  },
  "language_info": {
   "codemirror_mode": {
    "name": "ipython",
    "version": 3
   },
   "file_extension": ".py",
   "mimetype": "text/x-python",
   "name": "python",
   "nbconvert_exporter": "python",
   "pygments_lexer": "ipython3",
   "version": "3.8.15"
  },
  "orig_nbformat": 4,
  "vscode": {
   "interpreter": {
    "hash": "401cebfcb5cce5f71138843ad74eb16632e47d40b3a47aa4ad883b3d134173ed"
   }
  }
 },
 "nbformat": 4,
 "nbformat_minor": 2
}
