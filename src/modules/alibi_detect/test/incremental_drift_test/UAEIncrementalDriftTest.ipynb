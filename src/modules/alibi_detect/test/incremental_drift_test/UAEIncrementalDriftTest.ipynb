{
 "cells": [
  {
   "attachments": {},
   "cell_type": "markdown",
   "metadata": {},
   "source": [
    "Replace \\<DATASETNAME\\> for each Dataset & Adjust Data PATH"
   ]
  },
  {
   "attachments": {},
   "cell_type": "markdown",
   "metadata": {},
   "source": [
    "# UAE Incremental Drift Test"
   ]
  },
  {
   "cell_type": "code",
   "execution_count": null,
   "metadata": {},
   "outputs": [],
   "source": [
    "import pandas as pd\n",
    "data = {\n",
    "    \"100\":[\"{}\".format(i) for i in range(1,21,1)],\n",
    "    \"95\" : [\"{}\".format(i) for i in range(1,21,1)],\n",
    "    \"90\" : [\"{}\".format(i) for i in range(1,21,1)],\n",
    "    \"85\" : [\"{}\".format(i) for i in range(1,21,1)],\n",
    "    \"80\" : [\"{}\".format(i) for i in range(1,21,1)],\n",
    "    \"75\" : [\"{}\".format(i) for i in range(1,21,1)],\n",
    "    \"70\" : [\"{}\".format(i) for i in range(1,21,1)],\n",
    "    \"65\" : [\"{}\".format(i) for i in range(1,21,1)],\n",
    "    \"60\" : [\"{}\".format(i) for i in range(1,21,1)],\n",
    "    \"55\" : [\"{}\".format(i) for i in range(1,21,1)],\n",
    "    \"50\" : [\"{}\".format(i) for i in range(1,21,1)],\n",
    "    \"45\" : [\"{}\".format(i) for i in range(1,21,1)],\n",
    "    \"40\" : [\"{}\".format(i) for i in range(1,21,1)],\n",
    "    \"35\" : [\"{}\".format(i) for i in range(1,21,1)],\n",
    "    \"30\" : [\"{}\".format(i) for i in range(1,21,1)],\n",
    "    \"25\" : [\"{}\".format(i) for i in range(1,21,1)],\n",
    "    \"20\" : [\"{}\".format(i) for i in range(1,21,1)],\n",
    "    \"15\" : [\"{}\".format(i) for i in range(1,21,1)],\n",
    "    \"10\" : [\"{}\".format(i) for i in range(1,21,1)],\n",
    "    \"5\" : [\"{}\".format(i) for i in range(1,21,1)],\n",
    "}\n",
    "df_new = pd.DataFrame(data,index=[\"Size {}\".format(i) for i in range(10,210,10)])"
   ]
  },
  {
   "attachments": {},
   "cell_type": "markdown",
   "metadata": {},
   "source": [
    "### KS"
   ]
  },
  {
   "cell_type": "code",
   "execution_count": null,
   "metadata": {},
   "outputs": [],
   "source": [
    "%cd /home/ubuntu/image-drift-monitoring\n",
    "from src.modules.alibi_detect.untrained_encoder import UntrainedAutoencoder\n",
    "\n",
    "import numpy as np\n",
    "\n",
    "for j in range(20,120,20):\n",
    "        myUAE = UntrainedAutoencoder()\n",
    "        myUAE.import_detector(path='/home/ubuntu/image-drift-monitoring/config/detectors/GlobalWheat/UAE/KS/globalwheat_UAE_{}_KS'.format(j),detector_type='KS')\n",
    "        for i in range(10,210,10):\n",
    "                test_i_comp = np.load('/home/ubuntu/image-drift-monitoring/data/globalwheat_v1.1/drifted_data/incremental_drift/globalwheat_test_incremental_{}.npz'.format(i))\n",
    "                test_i = test_i_comp['arr_0']\n",
    "                res = myUAE.make_prediction(target_data=test_i, detector_type='KS')\n",
    "                df_new.loc['{}% OOD Bilder'.format(i)]['{}'.format(j)] = res['data']['is_drift']\n",
    "df_new.to_excel('globalwheat_uae_ks_results_incremental.xlsx')"
   ]
  },
  {
   "attachments": {},
   "cell_type": "markdown",
   "metadata": {},
   "source": [
    "### CVM"
   ]
  },
  {
   "cell_type": "code",
   "execution_count": null,
   "metadata": {},
   "outputs": [],
   "source": [
    "%cd /home/ubuntu/image-drift-monitoring\n",
    "from src.modules.alibi_detect.untrained_encoder import UntrainedAutoencoder\n",
    "\n",
    "import numpy as np\n",
    "\n",
    "for i in range(10,210,10):\n",
    "    test_i_comp = np.load('/home/ubuntu/image-drift-monitoring/data/globalwheat_v1.1/drifted_data/incremental_drift/globalwheat_test_{}.npz'.format(i))\n",
    "    test_i = test_i_comp['arr_0']\n",
    "    for j in range(5,105,5):\n",
    "        myUAE = UntrainedAutoencoder()\n",
    "        myUAE.import_detector(path='/home/ubuntu/image-drift-monitoring/config/detectors/GlobalWheat/UAE/CVM/globalwheat_UAE_{}_CVM'.format(j),detector_type='CVM')\n",
    "        res = myUAE.make_prediction(target_data=test_i, detector_type='CVM')\n",
    "\n",
    "        df_new.loc['Size {}'.format(i)]['{}'.format(j)] = res['data']['is_drift']\n",
    "df_new.to_excel('globalwheat_uae_cvm_inc_test_results.xlsx')"
   ]
  },
  {
   "attachments": {},
   "cell_type": "markdown",
   "metadata": {},
   "source": [
    "### MMD "
   ]
  },
  {
   "cell_type": "code",
   "execution_count": null,
   "metadata": {},
   "outputs": [],
   "source": [
    "%cd /home/ubuntu/image-drift-monitoring\n",
    "from src.modules.alibi_detect.untrained_encoder import UntrainedAutoencoder\n",
    "\n",
    "import numpy as np\n",
    "\n",
    "for i in range(10,210,10):\n",
    "    test_i_comp = np.load('/home/ubuntu/image-drift-monitoring/data/globalwheat_v1.1/drifted_data/incremental_drift/globalwheat_test_{}.npz'.format(i))\n",
    "    test_i = test_i_comp['arr_0']\n",
    "    for j in range(5,105,5):\n",
    "        myUAE = UntrainedAutoencoder()\n",
    "        myUAE.import_detector(path='/home/ubuntu/image-drift-monitoring/config/detectors/GlobalWheat/UAE/MMD/globalwheat_UAE_{}_MMD'.format(j),detector_type='MMD')\n",
    "        res = myUAE.make_prediction(target_data=test_i, detector_type='MMD')\n",
    "\n",
    "        df_new.loc['Size {}'.format(i)]['{}'.format(j)] = res['data']['is_drift']\n",
    "df_new.to_excel('globalwheat_uae_mmd_inc_test_results.xlsx')"
   ]
  },
  {
   "attachments": {},
   "cell_type": "markdown",
   "metadata": {},
   "source": [
    "### LSDD"
   ]
  },
  {
   "cell_type": "code",
   "execution_count": null,
   "metadata": {},
   "outputs": [],
   "source": [
    "%cd /home/ubuntu/image-drift-monitoring\n",
    "from src.modules.alibi_detect.untrained_encoder import UntrainedAutoencoder\n",
    "\n",
    "import numpy as np\n",
    "\n",
    "for i in range(10,210,10):\n",
    "    test_i_comp = np.load('/home/ubuntu/image-drift-monitoring/data/globalwheat_v1.1/drifted_data/incremental_drift/globalwheat_test_{}.npz'.format(i))\n",
    "    test_i = test_i_comp['arr_0']\n",
    "    for j in range(5,105,5):\n",
    "        myUAE = UntrainedAutoencoder()\n",
    "        myUAE.import_detector(path='/home/ubuntu/image-drift-monitoring/config/detectors/GlobalWheat/UAE/LSDD/globalwheat_UAE_{}_LSDD'.format(j),detector_type='LSDD')\n",
    "        res = myUAE.make_prediction(target_data=test_i, detector_type='LSDD')\n",
    "\n",
    "        df_new.loc['Size {}'.format(i)]['{}'.format(j)] = res['data']['is_drift']\n",
    "df_new.to_excel('globalwheat_uae_lsdd_inc_test_results.xlsx')"
   ]
  }
 ],
 "metadata": {
  "kernelspec": {
   "display_name": "alibitorchwhy",
   "language": "python",
   "name": "python3"
  },
  "language_info": {
   "name": "python",
   "version": "3.8.15"
  },
  "orig_nbformat": 4,
  "vscode": {
   "interpreter": {
    "hash": "401cebfcb5cce5f71138843ad74eb16632e47d40b3a47aa4ad883b3d134173ed"
   }
  }
 },
 "nbformat": 4,
 "nbformat_minor": 2
}
