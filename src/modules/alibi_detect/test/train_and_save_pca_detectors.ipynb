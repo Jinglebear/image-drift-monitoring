{
 "cells": [
  {
   "attachments": {},
   "cell_type": "markdown",
   "metadata": {},
   "source": [
    "# Replace \\<Datasetname\\> for each Dataset"
   ]
  },
  {
   "attachments": {},
   "cell_type": "markdown",
   "metadata": {},
   "source": [
    "KS"
   ]
  },
  {
   "cell_type": "code",
   "execution_count": null,
   "metadata": {},
   "outputs": [],
   "source": [
    "%cd  '/home/ubuntu/image-drift-monitoring'\n",
    "%pwd\n",
    "import numpy as np\n",
    "from src.modules.alibi_detect.principal_component_analysis import PrincipalComponentAnalysis\n",
    "import json \n",
    "\n",
    "\n",
    "\n",
    "with open('/home/ubuntu/image-drift-monitoring/config/common/drift_detection_config.json') as config_file:\n",
    "        drift_detection_config = json.load(config_file)\n",
    "\n",
    "for i in range(5,105,5):\n",
    "\n",
    "    if(i == 100):\n",
    "        globalwheat_train_comp = np.load('/home/ubuntu/image-drift-monitoring/data/globalwheat_v1.1/globalwheat_train_ds.npz')\n",
    "    else: \n",
    "        globalwheat_train_comp = np.load('/home/ubuntu/image-drift-monitoring/data/globalwheat_v1.1/globalwheat_train_{}_ds.npz'.format(i))\n",
    "    \n",
    "    globalwheat_train = globalwheat_train_comp['arr_0']\n",
    "\n",
    "    globalwheat_train_0_50   = globalwheat_train[:int(len(globalwheat_train)*0.5)]\n",
    "    globalwheat_train_50_100 = globalwheat_train[ int(len(globalwheat_train)*0.5):]\n",
    "\n",
    "    myPCA = PrincipalComponentAnalysis(drift_detection_config)\n",
    "    myPCA.init_pca(x_ref=globalwheat_train_0_50)\n",
    "    myPCA.init_detector(detector_type='KS',reference_data=globalwheat_train_50_100,detector_name='globalwheat_PCA_{}_KS'.format(i),save_dec=True)\n",
    "\n",
    "    globalwheat_train_comp = None\n",
    "    globalwheat_train = None\n",
    "    globalwheat_train_0_50 = None\n",
    "    globalwheat_train_50_100 =None\n",
    "    myPCA = None\n",
    "\n"
   ]
  },
  {
   "attachments": {},
   "cell_type": "markdown",
   "metadata": {},
   "source": [
    "CVM"
   ]
  },
  {
   "cell_type": "code",
   "execution_count": null,
   "metadata": {},
   "outputs": [],
   "source": [
    "%cd  '/home/ubuntu/image-drift-monitoring'\n",
    "%pwd\n",
    "import numpy as np\n",
    "from src.modules.alibi_detect.principal_component_analysis import PrincipalComponentAnalysis\n",
    "import json \n",
    "\n",
    "\n",
    "\n",
    "with open('/home/ubuntu/image-drift-monitoring/config/common/drift_detection_config.json') as config_file:\n",
    "        drift_detection_config = json.load(config_file)\n",
    "\n",
    "for i in range(5,105,5):\n",
    "        if(i == 100):\n",
    "                globalwheat_train_comp = np.load('/home/ubuntu/image-drift-monitoring/data/globalwheat_v1.1/globalwheat_train_ds.npz')\n",
    "        else: \n",
    "                globalwheat_train_comp = np.load('/home/ubuntu/image-drift-monitoring/data/globalwheat_v1.1/globalwheat_train_{}_ds.npz'.format(i))\n",
    "        \n",
    "        globalwheat_train = globalwheat_train_comp['arr_0']\n",
    "\n",
    "        globalwheat_train_0_50   = globalwheat_train[:int(len(globalwheat_train)*0.5)]\n",
    "        globalwheat_train_50_100 = globalwheat_train[ int(len(globalwheat_train)*0.5):]\n",
    "\n",
    "        myPCA = PrincipalComponentAnalysis(drift_detection_config)\n",
    "        myPCA.init_pca(x_ref=globalwheat_train_0_50)\n",
    "        myPCA.init_detector(detector_type='CVM',reference_data=globalwheat_train_50_100,detector_name='globalwheat_PCA_{}_CVM'.format(i),save_dec=True)\n",
    "\n",
    "        globalwheat_train_comp = None\n",
    "        globalwheat_train = None\n",
    "        globalwheat_train_0_50 = None\n",
    "        globalwheat_train_50_100 =None\n",
    "        myPCA = None"
   ]
  },
  {
   "attachments": {},
   "cell_type": "markdown",
   "metadata": {},
   "source": [
    "MMD"
   ]
  },
  {
   "cell_type": "code",
   "execution_count": null,
   "metadata": {},
   "outputs": [],
   "source": [
    "%cd  '/home/ubuntu/image-drift-monitoring'\n",
    "%pwd\n",
    "import numpy as np\n",
    "from src.modules.alibi_detect.principal_component_analysis import PrincipalComponentAnalysis\n",
    "import json \n",
    "\n",
    "\n",
    "\n",
    "with open('/home/ubuntu/image-drift-monitoring/config/common/drift_detection_config.json') as config_file:\n",
    "        drift_detection_config = json.load(config_file)\n",
    "\n",
    "for i in range(5,105,5):\n",
    "        if(i == 100):\n",
    "                globalwheat_train_comp = np.load('/home/ubuntu/image-drift-monitoring/data/globalwheat_v1.1/globalwheat_train_ds.npz')\n",
    "        else: \n",
    "                globalwheat_train_comp = np.load('/home/ubuntu/image-drift-monitoring/data/globalwheat_v1.1/globalwheat_train_{}_ds.npz'.format(i))\n",
    "\n",
    "        globalwheat_train = globalwheat_train_comp['arr_0']\n",
    "\n",
    "        globalwheat_train_0_50   = globalwheat_train[:int(len(globalwheat_train)*0.5)]\n",
    "        globalwheat_train_50_100 = globalwheat_train[ int(len(globalwheat_train)*0.5):]\n",
    "\n",
    "        myPCA = PrincipalComponentAnalysis(drift_detection_config)\n",
    "        myPCA.init_pca(x_ref=globalwheat_train_0_50)\n",
    "        myPCA.init_detector(detector_type='MMD',reference_data=globalwheat_train_50_100,detector_name='globalwheat_PCA_{}_MMD'.format(i),save_dec=True)\n",
    "\n",
    "        globalwheat_train_comp = None\n",
    "        globalwheat_train = None\n",
    "        globalwheat_train_0_50 = None\n",
    "        globalwheat_train_50_100 =None\n",
    "        myPCA = None"
   ]
  },
  {
   "attachments": {},
   "cell_type": "markdown",
   "metadata": {},
   "source": [
    "LSDD"
   ]
  },
  {
   "cell_type": "code",
   "execution_count": null,
   "metadata": {},
   "outputs": [],
   "source": [
    "%cd  '/home/ubuntu/image-drift-monitoring'\n",
    "%pwd\n",
    "import numpy as np\n",
    "from src.modules.alibi_detect.principal_component_analysis import PrincipalComponentAnalysis\n",
    "import json \n",
    "\n",
    "\n",
    "\n",
    "with open('/home/ubuntu/image-drift-monitoring/config/common/drift_detection_config.json') as config_file:\n",
    "        drift_detection_config = json.load(config_file)\n",
    "\n",
    "for i in range(5,105,5):\n",
    "        if(i == 100):\n",
    "                globalwheat_train_comp = np.load('/home/ubuntu/image-drift-monitoring/data/globalwheat_v1.1/globalwheat_train_ds.npz')\n",
    "        else: \n",
    "                globalwheat_train_comp = np.load('/home/ubuntu/image-drift-monitoring/data/globalwheat_v1.1/globalwheat_train_{}_ds.npz'.format(i))\n",
    "        globalwheat_train = globalwheat_train_comp['arr_0']\n",
    "\n",
    "        globalwheat_train_0_50   = globalwheat_train[:int(len(globalwheat_train)*0.5)]\n",
    "        globalwheat_train_50_100 = globalwheat_train[ int(len(globalwheat_train)*0.5):]\n",
    "\n",
    "        myPCA = PrincipalComponentAnalysis(drift_detection_config)\n",
    "        myPCA.init_pca(x_ref=globalwheat_train_0_50)\n",
    "        myPCA.init_detector(detector_type='LSDD',reference_data=globalwheat_train_50_100,detector_name='globalwheat_PCA_{}_LSDD'.format(i),save_dec=True)\n",
    "\n",
    "        globalwheat_train_comp = None\n",
    "        globalwheat_train = None\n",
    "        globalwheat_train_0_50 = None\n",
    "        globalwheat_train_50_100 =None\n",
    "        myPCA = None"
   ]
  }
 ],
 "metadata": {
  "kernelspec": {
   "display_name": "alibitorchwhy",
   "language": "python",
   "name": "python3"
  },
  "language_info": {
   "codemirror_mode": {
    "name": "ipython",
    "version": 3
   },
   "file_extension": ".py",
   "mimetype": "text/x-python",
   "name": "python",
   "nbconvert_exporter": "python",
   "pygments_lexer": "ipython3",
   "version": "3.8.15"
  },
  "orig_nbformat": 4,
  "vscode": {
   "interpreter": {
    "hash": "401cebfcb5cce5f71138843ad74eb16632e47d40b3a47aa4ad883b3d134173ed"
   }
  }
 },
 "nbformat": 4,
 "nbformat_minor": 2
}
