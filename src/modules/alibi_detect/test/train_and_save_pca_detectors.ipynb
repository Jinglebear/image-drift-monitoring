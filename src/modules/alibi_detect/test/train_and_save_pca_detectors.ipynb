{
 "cells": [
  {
   "attachments": {},
   "cell_type": "markdown",
   "metadata": {},
   "source": [
    "# Replace \\<Datasetname\\> for each Dataset"
   ]
  },
  {
   "attachments": {},
   "cell_type": "markdown",
   "metadata": {},
   "source": [
    "KS"
   ]
  },
  {
   "cell_type": "code",
   "execution_count": null,
   "metadata": {},
   "outputs": [],
   "source": [
    "%cd  '/home/ubuntu/image-drift-monitoring'\n",
    "%pwd\n",
    "import numpy as np\n",
    "from src.modules.alibi_detect.principal_component_analysis import PrincipalComponentAnalysis\n",
    "import json \n",
    "\n",
    "\n",
    "\n",
    "with open('/home/ubuntu/image-drift-monitoring/config/common/drift_detection_config.json') as config_file:\n",
    "        drift_detection_config = json.load(config_file)\n",
    "\n",
    "for i in range(5,105,5):\n",
    "\n",
    "    if(i == 100):\n",
    "        rxrx1_train_comp = np.load('/home/ubuntu/image-drift-monitoring/data/rxrx1_v1.0/rxrx1_train_ds.npz')\n",
    "    else: \n",
    "        rxrx1_train_comp = np.load('/home/ubuntu/image-drift-monitoring/data/rxrx1_v1.0/rxrx1_train_{}_ds.npz'.format(i))\n",
    "    \n",
    "    rxrx1_train = rxrx1_train_comp['arr_0']\n",
    "\n",
    "    rxrx1_train_0_50   = rxrx1_train[:int(len(rxrx1_train)*0.5)]\n",
    "    rxrx1_train_50_100 = rxrx1_train[ int(len(rxrx1_train)*0.5):]\n",
    "\n",
    "    myPCA = PrincipalComponentAnalysis(drift_detection_config)\n",
    "    myPCA.init_pca(x_ref=rxrx1_train_0_50)\n",
    "    myPCA.init_detector(detector_type='KS',reference_data=rxrx1_train_50_100,detector_name='rxrx1_PCA_{}_KS'.format(i),save_dec=True)\n",
    "\n",
    "    rxrx1_train_comp = None\n",
    "    rxrx1_train = None\n",
    "    rxrx1_train_0_50 = None\n",
    "    rxrx1_train_50_100 =None\n",
    "    myPCA = None\n",
    "\n"
   ]
  },
  {
   "attachments": {},
   "cell_type": "markdown",
   "metadata": {},
   "source": [
    "CVM"
   ]
  },
  {
   "cell_type": "code",
   "execution_count": 1,
   "metadata": {},
   "outputs": [
    {
     "name": "stdout",
     "output_type": "stream",
     "text": [
      "/home/ubuntu/image-drift-monitoring\n"
     ]
    },
    {
     "name": "stderr",
     "output_type": "stream",
     "text": [
      "2023-02-12 16:42:47.921928: I tensorflow/core/platform/cpu_feature_guard.cc:193] This TensorFlow binary is optimized with oneAPI Deep Neural Network Library (oneDNN) to use the following CPU instructions in performance-critical operations:  FMA\n",
      "To enable them in other operations, rebuild TensorFlow with the appropriate compiler flags.\n",
      "2023-02-12 16:42:48.054002: W tensorflow/compiler/xla/stream_executor/platform/default/dso_loader.cc:64] Could not load dynamic library 'libcudart.so.11.0'; dlerror: libcudart.so.11.0: cannot open shared object file: No such file or directory\n",
      "2023-02-12 16:42:48.054052: I tensorflow/compiler/xla/stream_executor/cuda/cudart_stub.cc:29] Ignore above cudart dlerror if you do not have a GPU set up on your machine.\n",
      "2023-02-12 16:42:48.613188: W tensorflow/compiler/xla/stream_executor/platform/default/dso_loader.cc:64] Could not load dynamic library 'libnvinfer.so.7'; dlerror: libnvinfer.so.7: cannot open shared object file: No such file or directory\n",
      "2023-02-12 16:42:48.613242: W tensorflow/compiler/xla/stream_executor/platform/default/dso_loader.cc:64] Could not load dynamic library 'libnvinfer_plugin.so.7'; dlerror: libnvinfer_plugin.so.7: cannot open shared object file: No such file or directory\n",
      "2023-02-12 16:42:48.613248: W tensorflow/compiler/tf2tensorrt/utils/py_utils.cc:38] TF-TRT Warning: Cannot dlopen some TensorRT libraries. If you would like to use Nvidia GPU with TensorRT, please make sure the missing libraries mentioned above are installed properly.\n",
      "2023-02-12 16:42:50.759573: W tensorflow/compiler/xla/stream_executor/platform/default/dso_loader.cc:64] Could not load dynamic library 'libcuda.so.1'; dlerror: libcuda.so.1: cannot open shared object file: No such file or directory\n",
      "2023-02-12 16:42:50.759646: W tensorflow/compiler/xla/stream_executor/cuda/cuda_driver.cc:265] failed call to cuInit: UNKNOWN ERROR (303)\n",
      "2023-02-12 16:42:50.759667: I tensorflow/compiler/xla/stream_executor/cuda/cuda_diagnostics.cc:156] kernel driver does not appear to be running on this host (render): /proc/driver/nvidia/version does not exist\n",
      "2023-02-12 16:42:50.760525: I tensorflow/core/platform/cpu_feature_guard.cc:193] This TensorFlow binary is optimized with oneAPI Deep Neural Network Library (oneDNN) to use the following CPU instructions in performance-critical operations:  FMA\n",
      "To enable them in other operations, rebuild TensorFlow with the appropriate compiler flags.\n"
     ]
    },
    {
     "name": "stdout",
     "output_type": "stream",
     "text": [
      "(8122, 30000)\n"
     ]
    },
    {
     "name": "stderr",
     "output_type": "stream",
     "text": [
      "2023-02-12 16:43:07,502 [INFO]  init_pca(): fitted x_ref to pca\n",
      "2023-02-12 16:43:08,260 [INFO]  CVM Detector initialized\n"
     ]
    },
    {
     "name": "stdout",
     "output_type": "stream",
     "text": [
      "(9137, 30000)\n"
     ]
    },
    {
     "name": "stderr",
     "output_type": "stream",
     "text": [
      "2023-02-12 16:43:34,404 [INFO]  init_pca(): fitted x_ref to pca\n",
      "2023-02-12 16:43:34,404 [INFO]  init_pca(): fitted x_ref to pca\n",
      "2023-02-12 16:43:35,086 [INFO]  CVM Detector initialized\n",
      "2023-02-12 16:43:35,086 [INFO]  CVM Detector initialized\n",
      "Directory /home/ubuntu/image-drift-monitoring/config/detectors/RxRx1/PCA/CVM/rxrx1_PCA_45_CVM does not exist and is now created.\n",
      "Directory /home/ubuntu/image-drift-monitoring/config/detectors/RxRx1/PCA/CVM/rxrx1_PCA_45_CVM/preprocess_fn does not exist and is now created.\n"
     ]
    },
    {
     "name": "stdout",
     "output_type": "stream",
     "text": [
      "(10153, 30000)\n"
     ]
    },
    {
     "name": "stderr",
     "output_type": "stream",
     "text": [
      "2023-02-12 16:44:04,236 [INFO]  init_pca(): fitted x_ref to pca\n",
      "2023-02-12 16:44:04,236 [INFO]  init_pca(): fitted x_ref to pca\n",
      "2023-02-12 16:44:04,236 [INFO]  init_pca(): fitted x_ref to pca\n",
      "2023-02-12 16:44:04,900 [INFO]  CVM Detector initialized\n",
      "2023-02-12 16:44:04,900 [INFO]  CVM Detector initialized\n",
      "2023-02-12 16:44:04,900 [INFO]  CVM Detector initialized\n",
      "Directory /home/ubuntu/image-drift-monitoring/config/detectors/RxRx1/PCA/CVM/rxrx1_PCA_50_CVM does not exist and is now created.\n",
      "Directory /home/ubuntu/image-drift-monitoring/config/detectors/RxRx1/PCA/CVM/rxrx1_PCA_50_CVM/preprocess_fn does not exist and is now created.\n"
     ]
    },
    {
     "name": "stdout",
     "output_type": "stream",
     "text": [
      "(11168, 30000)\n"
     ]
    }
   ],
   "source": [
    "%cd  '/home/ubuntu/image-drift-monitoring'\n",
    "%pwd\n",
    "import numpy as np\n",
    "from src.modules.alibi_detect.principal_component_analysis import PrincipalComponentAnalysis\n",
    "import json \n",
    "\n",
    "\n",
    "\n",
    "with open('/home/ubuntu/image-drift-monitoring/config/common/drift_detection_config.json') as config_file:\n",
    "        drift_detection_config = json.load(config_file)\n",
    "\n",
    "for i in range(5,105,5):\n",
    "        if(i == 100):\n",
    "                rxrx1_train_comp = np.load('/home/ubuntu/image-drift-monitoring/data/rxrx1_v1.0/rxrx1_train_ds.npz')\n",
    "        else: \n",
    "                rxrx1_train_comp = np.load('/home/ubuntu/image-drift-monitoring/data/rxrx1_v1.0/rxrx1_train_{}_ds.npz'.format(i))\n",
    "        \n",
    "        rxrx1_train = rxrx1_train_comp['arr_0']\n",
    "\n",
    "        rxrx1_train_0_50   = rxrx1_train[:int(len(rxrx1_train)*0.5)]\n",
    "        rxrx1_train_50_100 = rxrx1_train[ int(len(rxrx1_train)*0.5):]\n",
    "\n",
    "        myPCA = PrincipalComponentAnalysis(drift_detection_config)\n",
    "        myPCA.init_pca(x_ref=rxrx1_train_0_50)\n",
    "        myPCA.init_detector(detector_type='CVM',reference_data=rxrx1_train_50_100,detector_name='rxrx1_PCA_{}_CVM'.format(i),save_dec=True)\n",
    "\n",
    "        rxrx1_train_comp = None\n",
    "        rxrx1_train = None\n",
    "        rxrx1_train_0_50 = None\n",
    "        rxrx1_train_50_100 =None\n",
    "        myPCA = None"
   ]
  },
  {
   "attachments": {},
   "cell_type": "markdown",
   "metadata": {},
   "source": [
    "MMD"
   ]
  },
  {
   "cell_type": "code",
   "execution_count": null,
   "metadata": {},
   "outputs": [],
   "source": [
    "%cd  '/home/ubuntu/image-drift-monitoring'\n",
    "%pwd\n",
    "import numpy as np\n",
    "from src.modules.alibi_detect.principal_component_analysis import PrincipalComponentAnalysis\n",
    "import json \n",
    "\n",
    "\n",
    "\n",
    "with open('/home/ubuntu/image-drift-monitoring/config/common/drift_detection_config.json') as config_file:\n",
    "        drift_detection_config = json.load(config_file)\n",
    "\n",
    "for i in range(5,105,5):\n",
    "        if(i == 100):\n",
    "                rxrx1_train_comp = np.load('/home/ubuntu/image-drift-monitoring/data/rxrx1_v1.0/rxrx1_train_ds.npz')\n",
    "        else: \n",
    "                rxrx1_train_comp = np.load('/home/ubuntu/image-drift-monitoring/data/rxrx1_v1.0/rxrx1_train_{}_ds.npz'.format(i))\n",
    "\n",
    "        rxrx1_train = rxrx1_train_comp['arr_0']\n",
    "\n",
    "        rxrx1_train_0_50   = rxrx1_train[:int(len(rxrx1_train)*0.5)]\n",
    "        rxrx1_train_50_100 = rxrx1_train[ int(len(rxrx1_train)*0.5):]\n",
    "\n",
    "        myPCA = PrincipalComponentAnalysis(drift_detection_config)\n",
    "        myPCA.init_pca(x_ref=rxrx1_train_0_50)\n",
    "        myPCA.init_detector(detector_type='MMD',reference_data=rxrx1_train_50_100,detector_name='rxrx1_PCA_{}_MMD'.format(i),save_dec=True)\n",
    "\n",
    "        rxrx1_train_comp = None\n",
    "        rxrx1_train = None\n",
    "        rxrx1_train_0_50 = None\n",
    "        rxrx1_train_50_100 =None\n",
    "        myPCA = None"
   ]
  },
  {
   "attachments": {},
   "cell_type": "markdown",
   "metadata": {},
   "source": [
    "LSDD"
   ]
  },
  {
   "cell_type": "code",
   "execution_count": null,
   "metadata": {},
   "outputs": [],
   "source": [
    "%cd  '/home/ubuntu/image-drift-monitoring'\n",
    "%pwd\n",
    "import numpy as np\n",
    "from src.modules.alibi_detect.principal_component_analysis import PrincipalComponentAnalysis\n",
    "import json \n",
    "\n",
    "\n",
    "\n",
    "with open('/home/ubuntu/image-drift-monitoring/config/common/drift_detection_config.json') as config_file:\n",
    "        drift_detection_config = json.load(config_file)\n",
    "\n",
    "for i in range(5,105,5):\n",
    "        if(i == 100):\n",
    "                rxrx1_train_comp = np.load('/home/ubuntu/image-drift-monitoring/data/rxrx1_v1.0/rxrx1_train_ds.npz')\n",
    "        else: \n",
    "                rxrx1_train_comp = np.load('/home/ubuntu/image-drift-monitoring/data/rxrx1_v1.0/rxrx1_train_{}_ds.npz'.format(i))\n",
    "        rxrx1_train = rxrx1_train_comp['arr_0']\n",
    "\n",
    "        rxrx1_train_0_50   = rxrx1_train[:int(len(rxrx1_train)*0.5)]\n",
    "        rxrx1_train_50_100 = rxrx1_train[ int(len(rxrx1_train)*0.5):]\n",
    "\n",
    "        myPCA = PrincipalComponentAnalysis(drift_detection_config)\n",
    "        myPCA.init_pca(x_ref=rxrx1_train_0_50)\n",
    "        myPCA.init_detector(detector_type='LSDD',reference_data=rxrx1_train_50_100,detector_name='rxrx1_PCA_{}_LSDD'.format(i),save_dec=True)\n",
    "\n",
    "        rxrx1_train_comp = None\n",
    "        rxrx1_train = None\n",
    "        rxrx1_train_0_50 = None\n",
    "        rxrx1_train_50_100 =None\n",
    "        myPCA = None"
   ]
  }
 ],
 "metadata": {
  "kernelspec": {
   "display_name": "alibitorchwhy",
   "language": "python",
   "name": "python3"
  },
  "language_info": {
   "codemirror_mode": {
    "name": "ipython",
    "version": 3
   },
   "file_extension": ".py",
   "mimetype": "text/x-python",
   "name": "python",
   "nbconvert_exporter": "python",
   "pygments_lexer": "ipython3",
   "version": "3.8.15"
  },
  "orig_nbformat": 4,
  "vscode": {
   "interpreter": {
    "hash": "401cebfcb5cce5f71138843ad74eb16632e47d40b3a47aa4ad883b3d134173ed"
   }
  }
 },
 "nbformat": 4,
 "nbformat_minor": 2
}
