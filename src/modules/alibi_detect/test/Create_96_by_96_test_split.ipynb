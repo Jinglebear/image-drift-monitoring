{
 "cells": [
  {
   "attachments": {},
   "cell_type": "markdown",
   "metadata": {},
   "source": [
    "SUDDEN (GlobalWheat,RxRx1,iWildcam)"
   ]
  },
  {
   "cell_type": "code",
   "execution_count": null,
   "metadata": {},
   "outputs": [],
   "source": [
    "import numpy as np\n",
    "\n",
    "DATASET_NAME = 'rxrx1'\n",
    "DATASET_DRIFTED_DATA_PATH = '/home/ubuntu/image-drift-monitoring/data/rxrx1_v1.0/96_by_96_transform/rxrx1_96_test_ds.npz' \n",
    "DATASET_DRIFT_TYPE_DATA_PATH = '/home/ubuntu/image-drift-monitoring/data/rxrx1_v1.0/drifted_data/sudden_drift/96_by_96_transform'\n",
    "\n",
    "dataset_test_comp = np.load('{}'.format(DATASET_DRIFTED_DATA_PATH))\n",
    "dataset_test = dataset_test_comp['arr_0']\n",
    "for i in range(10,210,10):\n",
    "    dataset_test_i = dataset_test[:i]\n",
    "    np.savez_compressed('{}/{}_test_{}.npz'.format(DATASET_DRIFT_TYPE_DATA_PATH,DATASET_NAME,i),dataset_test_i)"
   ]
  },
  {
   "attachments": {},
   "cell_type": "markdown",
   "metadata": {},
   "source": [
    "Incremental (GlobalWheat,RxRx1,iWildcam)"
   ]
  },
  {
   "cell_type": "code",
   "execution_count": 3,
   "metadata": {},
   "outputs": [],
   "source": [
    "import numpy as np\n",
    "\n",
    "\n",
    "DATASET_NAME = 'globalwheat'\n",
    "DATASET_UNDRIFTED_DATA_PATH = '/home/ubuntu/image-drift-monitoring/data/globalwheat_v1.1/96_by_96_transform/globalwheat_96_train_ds.npz'\n",
    "DATASET_DRIFTED_DATA_PATH = '/home/ubuntu/image-drift-monitoring/data/globalwheat_v1.1/96_by_96_transform/globalwheat_96_test_ds.npz' \n",
    "DATASET_DRIFT_TYPE_DATA_PATH = '/home/ubuntu/image-drift-monitoring/data/globalwheat_v1.1/drifted_data/incremental_drift/96_by_96_transform'\n",
    "\n",
    "dataset_train_comp = np.load('{}'.format(DATASET_UNDRIFTED_DATA_PATH))\n",
    "dataset_train = dataset_train_comp['arr_0']\n",
    "\n",
    "dataset_test_comp = np.load('{}'.format(DATASET_DRIFTED_DATA_PATH))\n",
    "dataset_test = dataset_test_comp['arr_0']\n",
    "\n",
    "W_SIZE = 200\n",
    "\n",
    "for i in range(5,105,5):\n",
    "\n",
    "    np.random.shuffle(dataset_test)\n",
    "    np.random.shuffle(dataset_train)\n",
    "    p = i/100\n",
    "   \n",
    "    ood_part = dataset_test[:int(p*W_SIZE)]\n",
    "    id_part = dataset_train[:int(W_SIZE - ood_part.shape[0])]\n",
    "\n",
    "\n",
    "    combined_part = np.concatenate([ood_part,id_part])\n",
    "   \n",
    "    np.random.shuffle(combined_part)\n",
    "    np.savez_compressed('{}/{}_test_incremental_{}.npz'.format(DATASET_DRIFT_TYPE_DATA_PATH,DATASET_NAME,i),combined_part)"
   ]
  },
  {
   "attachments": {},
   "cell_type": "markdown",
   "metadata": {},
   "source": [
    "Recurring (GlobalWheat,RxRx1,iWildcam)"
   ]
  },
  {
   "cell_type": "code",
   "execution_count": 3,
   "metadata": {},
   "outputs": [],
   "source": [
    "import numpy as np\n",
    "\n",
    "DATASET_NAME = 'rxrx1'\n",
    "DATASET_UNDRIFTED_DATA_PATH = '/home/ubuntu/image-drift-monitoring/data/rxrx1_v1.0/96_by_96_transform/rxrx1_96_train_ds.npz'\n",
    "DATASET_DRIFTED_DATA_PATH = '/home/ubuntu/image-drift-monitoring/data/rxrx1_v1.0/96_by_96_transform/rxrx1_96_test_ds.npz' \n",
    "DATASET_DRIFT_TYPE_DATA_PATH = '/home/ubuntu/image-drift-monitoring/data/rxrx1_v1.0/drifted_data/recurring_drift/96_by_96_transform'\n",
    "\n",
    "dataset_train_comp = np.load('{}'.format(DATASET_UNDRIFTED_DATA_PATH))\n",
    "dataset_train = dataset_train_comp['arr_0']\n",
    "\n",
    "dataset_test_comp = np.load('{}'.format(DATASET_DRIFTED_DATA_PATH))\n",
    "dataset_test = dataset_test_comp['arr_0']\n",
    "\n",
    "W_SIZE = 200\n",
    "    \n",
    "\n",
    "for i in range(1,21,1):\n",
    "    if i in [1,2,5,6,9,10,13,14,17,18]:\n",
    "        np.random.shuffle(dataset_train)\n",
    "        dataset_frac = dataset_train[:W_SIZE]\n",
    "    if i in [3,4,7,8,11,12,15,16,19,20]:\n",
    "        np.random.shuffle(dataset_test)\n",
    "        dataset_frac = dataset_test[:W_SIZE]\n",
    "\n",
    "    np.savez_compressed('{}/{}_test_recurring_{}.npz'.format(DATASET_DRIFT_TYPE_DATA_PATH,DATASET_NAME,i),dataset_frac)"
   ]
  }
 ],
 "metadata": {
  "kernelspec": {
   "display_name": "alibiwhy",
   "language": "python",
   "name": "python3"
  },
  "language_info": {
   "codemirror_mode": {
    "name": "ipython",
    "version": 3
   },
   "file_extension": ".py",
   "mimetype": "text/x-python",
   "name": "python",
   "nbconvert_exporter": "python",
   "pygments_lexer": "ipython3",
   "version": "3.8.16"
  },
  "orig_nbformat": 4,
  "vscode": {
   "interpreter": {
    "hash": "98100c075901eb903bc518c83a1e565ba12fa6044992de8fecb9455902708d4b"
   }
  }
 },
 "nbformat": 4,
 "nbformat_minor": 2
}
