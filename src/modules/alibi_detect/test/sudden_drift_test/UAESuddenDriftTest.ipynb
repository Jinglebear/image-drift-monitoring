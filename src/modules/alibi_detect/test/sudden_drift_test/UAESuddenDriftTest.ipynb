{
 "cells": [
  {
   "attachments": {},
   "cell_type": "markdown",
   "metadata": {},
   "source": [
    "Replace \\<DATASETNAME\\> for each Dataset & Adjust Data PATH & Adjust Detector Path"
   ]
  },
  {
   "attachments": {},
   "cell_type": "markdown",
   "metadata": {},
   "source": [
    "# UAE Sudden Drift Test"
   ]
  },
  {
   "cell_type": "code",
   "execution_count": 1,
   "metadata": {},
   "outputs": [],
   "source": [
    "import pandas as pd\n",
    "data = {\n",
    "    \"100\":[\"{}\".format(i) for i in range(1,21,1)],\n",
    "    \"95\" : [\"{}\".format(i) for i in range(1,21,1)],\n",
    "    \"90\" : [\"{}\".format(i) for i in range(1,21,1)],\n",
    "    \"85\" : [\"{}\".format(i) for i in range(1,21,1)],\n",
    "    \"80\" : [\"{}\".format(i) for i in range(1,21,1)],\n",
    "    \"75\" : [\"{}\".format(i) for i in range(1,21,1)],\n",
    "    \"70\" : [\"{}\".format(i) for i in range(1,21,1)],\n",
    "    \"65\" : [\"{}\".format(i) for i in range(1,21,1)],\n",
    "    \"60\" : [\"{}\".format(i) for i in range(1,21,1)],\n",
    "    \"55\" : [\"{}\".format(i) for i in range(1,21,1)],\n",
    "    \"50\" : [\"{}\".format(i) for i in range(1,21,1)],\n",
    "    \"45\" : [\"{}\".format(i) for i in range(1,21,1)],\n",
    "    \"40\" : [\"{}\".format(i) for i in range(1,21,1)],\n",
    "    \"35\" : [\"{}\".format(i) for i in range(1,21,1)],\n",
    "    \"30\" : [\"{}\".format(i) for i in range(1,21,1)],\n",
    "    \"25\" : [\"{}\".format(i) for i in range(1,21,1)],\n",
    "    \"20\" : [\"{}\".format(i) for i in range(1,21,1)],\n",
    "    \"15\" : [\"{}\".format(i) for i in range(1,21,1)],\n",
    "    \"10\" : [\"{}\".format(i) for i in range(1,21,1)],\n",
    "    \"5\" : [\"{}\".format(i) for i in range(1,21,1)],\n",
    "}\n",
    "df_new = pd.DataFrame(data,index=[\"Size {}\".format(i) for i in range(10,210,10)])"
   ]
  },
  {
   "attachments": {},
   "cell_type": "markdown",
   "metadata": {},
   "source": [
    "### KS"
   ]
  },
  {
   "cell_type": "code",
   "execution_count": null,
   "metadata": {},
   "outputs": [],
   "source": [
    "%cd /home/ubuntu/image-drift-monitoring\n",
    "from src.modules.alibi_detect.untrained_encoder import UntrainedAutoencoder\n",
    "\n",
    "import numpy as np\n",
    "\n",
    "for i in range(10,210,10):\n",
    "    test_i_comp = np.load('/home/ubuntu/image-drift-monitoring/data/rxrx1_v1.0/drifted_data/sudden_drift/rxrx1_test_{}.npz'.format(i))\n",
    "    test_i = test_i_comp['arr_0']\n",
    "    for j in range(5,105,5):\n",
    "        myUAE = UntrainedAutoencoder()\n",
    "        myUAE.import_detector(path='/home/ubuntu/image-drift-monitoring/config/detectors/rxrx1/UAE/KS/rxrx1_UAE_{}_KS'.format(j),detector_type='KS')\n",
    "        res = myUAE.make_prediction(target_data=test_i, detector_type='KS')\n",
    "\n",
    "        df_new.loc['Size {}'.format(i)]['{}'.format(j)] = res['data']['is_drift']\n",
    "df_new.to_excel('rxrx1_uae_ks_results.xlsx')"
   ]
  },
  {
   "attachments": {},
   "cell_type": "markdown",
   "metadata": {},
   "source": [
    "### CVM"
   ]
  },
  {
   "cell_type": "code",
   "execution_count": null,
   "metadata": {},
   "outputs": [],
   "source": [
    "%cd /home/ubuntu/image-drift-monitoring\n",
    "from src.modules.alibi_detect.untrained_encoder import UntrainedAutoencoder\n",
    "\n",
    "import numpy as np\n",
    "\n",
    "for i in range(10,210,10):\n",
    "    test_i_comp = np.load('/home/ubuntu/image-drift-monitoring/data/rxrx1_v1.0/drifted_data/sudden_drift/rxrx1_test_{}.npz'.format(i))\n",
    "    test_i = test_i_comp['arr_0']\n",
    "    for j in range(5,105,5):\n",
    "        myUAE = UntrainedAutoencoder()\n",
    "        myUAE.import_detector(path='/home/ubuntu/image-drift-monitoring/config/detectors/rxrx1/UAE/CVM/rxrx1_UAE_{}_CVM'.format(j),detector_type='CVM')\n",
    "        res = myUAE.make_prediction(target_data=test_i, detector_type='CVM')\n",
    "\n",
    "        df_new.loc['Size {}'.format(i)]['{}'.format(j)] = res['data']['is_drift']\n",
    "df_new.to_excel('rxrx1_uae_cvm_results.xlsx')"
   ]
  },
  {
   "attachments": {},
   "cell_type": "markdown",
   "metadata": {},
   "source": [
    "### MMD "
   ]
  },
  {
   "cell_type": "code",
   "execution_count": 2,
   "metadata": {},
   "outputs": [
    {
     "name": "stdout",
     "output_type": "stream",
     "text": [
      "/home/ubuntu/image-drift-monitoring\n"
     ]
    },
    {
     "name": "stderr",
     "output_type": "stream",
     "text": [
      "2023-02-14 16:32:58.481789: I tensorflow/core/platform/cpu_feature_guard.cc:193] This TensorFlow binary is optimized with oneAPI Deep Neural Network Library (oneDNN) to use the following CPU instructions in performance-critical operations:  FMA\n",
      "To enable them in other operations, rebuild TensorFlow with the appropriate compiler flags.\n",
      "2023-02-14 16:32:58.634776: W tensorflow/compiler/xla/stream_executor/platform/default/dso_loader.cc:64] Could not load dynamic library 'libcudart.so.11.0'; dlerror: libcudart.so.11.0: cannot open shared object file: No such file or directory\n",
      "2023-02-14 16:32:58.634800: I tensorflow/compiler/xla/stream_executor/cuda/cudart_stub.cc:29] Ignore above cudart dlerror if you do not have a GPU set up on your machine.\n",
      "2023-02-14 16:32:59.290646: W tensorflow/compiler/xla/stream_executor/platform/default/dso_loader.cc:64] Could not load dynamic library 'libnvinfer.so.7'; dlerror: libnvinfer.so.7: cannot open shared object file: No such file or directory\n",
      "2023-02-14 16:32:59.290741: W tensorflow/compiler/xla/stream_executor/platform/default/dso_loader.cc:64] Could not load dynamic library 'libnvinfer_plugin.so.7'; dlerror: libnvinfer_plugin.so.7: cannot open shared object file: No such file or directory\n",
      "2023-02-14 16:32:59.290747: W tensorflow/compiler/tf2tensorrt/utils/py_utils.cc:38] TF-TRT Warning: Cannot dlopen some TensorRT libraries. If you would like to use Nvidia GPU with TensorRT, please make sure the missing libraries mentioned above are installed properly.\n",
      "2023-02-14 16:33:01.424509: W tensorflow/compiler/xla/stream_executor/platform/default/dso_loader.cc:64] Could not load dynamic library 'libcuda.so.1'; dlerror: libcuda.so.1: cannot open shared object file: No such file or directory\n",
      "2023-02-14 16:33:01.424593: W tensorflow/compiler/xla/stream_executor/cuda/cuda_driver.cc:265] failed call to cuInit: UNKNOWN ERROR (303)\n",
      "2023-02-14 16:33:01.424612: I tensorflow/compiler/xla/stream_executor/cuda/cuda_diagnostics.cc:156] kernel driver does not appear to be running on this host (render): /proc/driver/nvidia/version does not exist\n",
      "2023-02-14 16:33:01.425508: I tensorflow/core/platform/cpu_feature_guard.cc:193] This TensorFlow binary is optimized with oneAPI Deep Neural Network Library (oneDNN) to use the following CPU instructions in performance-critical operations:  FMA\n",
      "To enable them in other operations, rebuild TensorFlow with the appropriate compiler flags.\n"
     ]
    },
    {
     "name": "stdout",
     "output_type": "stream",
     "text": [
      "WARNING:tensorflow:No training configuration found in the save file, so the model was *not* compiled. Compile it manually.\n"
     ]
    },
    {
     "name": "stderr",
     "output_type": "stream",
     "text": [
      "2023-02-14 16:33:03,462 [INFO]  MMD Detector imported\n"
     ]
    },
    {
     "name": "stdout",
     "output_type": "stream",
     "text": [
      "WARNING:tensorflow:No training configuration found in the save file, so the model was *not* compiled. Compile it manually.\n"
     ]
    },
    {
     "name": "stderr",
     "output_type": "stream",
     "text": [
      "2023-02-14 16:33:10,342 [INFO]  MMD Detector imported\n",
      "2023-02-14 16:33:10,342 [INFO]  MMD Detector imported\n"
     ]
    },
    {
     "name": "stdout",
     "output_type": "stream",
     "text": [
      "WARNING:tensorflow:No training configuration found in the save file, so the model was *not* compiled. Compile it manually.\n"
     ]
    },
    {
     "name": "stderr",
     "output_type": "stream",
     "text": [
      "2023-02-14 16:33:29,400 [INFO]  MMD Detector imported\n",
      "2023-02-14 16:33:29,400 [INFO]  MMD Detector imported\n",
      "2023-02-14 16:33:29,400 [INFO]  MMD Detector imported\n"
     ]
    },
    {
     "name": "stdout",
     "output_type": "stream",
     "text": [
      "WARNING:tensorflow:No training configuration found in the save file, so the model was *not* compiled. Compile it manually.\n"
     ]
    },
    {
     "name": "stderr",
     "output_type": "stream",
     "text": [
      "2023-02-14 16:34:06,353 [INFO]  MMD Detector imported\n",
      "2023-02-14 16:34:06,353 [INFO]  MMD Detector imported\n",
      "2023-02-14 16:34:06,353 [INFO]  MMD Detector imported\n",
      "2023-02-14 16:34:06,353 [INFO]  MMD Detector imported\n"
     ]
    },
    {
     "name": "stdout",
     "output_type": "stream",
     "text": [
      "WARNING:tensorflow:No training configuration found in the save file, so the model was *not* compiled. Compile it manually.\n"
     ]
    },
    {
     "name": "stderr",
     "output_type": "stream",
     "text": [
      "2023-02-14 16:35:09,244 [INFO]  MMD Detector imported\n",
      "2023-02-14 16:35:09,244 [INFO]  MMD Detector imported\n",
      "2023-02-14 16:35:09,244 [INFO]  MMD Detector imported\n",
      "2023-02-14 16:35:09,244 [INFO]  MMD Detector imported\n",
      "2023-02-14 16:35:09,244 [INFO]  MMD Detector imported\n"
     ]
    },
    {
     "name": "stdout",
     "output_type": "stream",
     "text": [
      "WARNING:tensorflow:No training configuration found in the save file, so the model was *not* compiled. Compile it manually.\n"
     ]
    },
    {
     "name": "stderr",
     "output_type": "stream",
     "text": [
      "2023-02-14 16:36:45,087 [INFO]  MMD Detector imported\n",
      "2023-02-14 16:36:45,087 [INFO]  MMD Detector imported\n",
      "2023-02-14 16:36:45,087 [INFO]  MMD Detector imported\n",
      "2023-02-14 16:36:45,087 [INFO]  MMD Detector imported\n",
      "2023-02-14 16:36:45,087 [INFO]  MMD Detector imported\n",
      "2023-02-14 16:36:45,087 [INFO]  MMD Detector imported\n"
     ]
    },
    {
     "name": "stdout",
     "output_type": "stream",
     "text": [
      "WARNING:tensorflow:No training configuration found in the save file, so the model was *not* compiled. Compile it manually.\n"
     ]
    },
    {
     "name": "stderr",
     "output_type": "stream",
     "text": [
      "2023-02-14 16:39:02,832 [INFO]  MMD Detector imported\n",
      "2023-02-14 16:39:02,832 [INFO]  MMD Detector imported\n",
      "2023-02-14 16:39:02,832 [INFO]  MMD Detector imported\n",
      "2023-02-14 16:39:02,832 [INFO]  MMD Detector imported\n",
      "2023-02-14 16:39:02,832 [INFO]  MMD Detector imported\n",
      "2023-02-14 16:39:02,832 [INFO]  MMD Detector imported\n",
      "2023-02-14 16:39:02,832 [INFO]  MMD Detector imported\n"
     ]
    },
    {
     "name": "stdout",
     "output_type": "stream",
     "text": [
      "WARNING:tensorflow:No training configuration found in the save file, so the model was *not* compiled. Compile it manually.\n"
     ]
    },
    {
     "name": "stderr",
     "output_type": "stream",
     "text": [
      "2023-02-14 16:42:12,976 [INFO]  MMD Detector imported\n",
      "2023-02-14 16:42:12,976 [INFO]  MMD Detector imported\n",
      "2023-02-14 16:42:12,976 [INFO]  MMD Detector imported\n",
      "2023-02-14 16:42:12,976 [INFO]  MMD Detector imported\n",
      "2023-02-14 16:42:12,976 [INFO]  MMD Detector imported\n",
      "2023-02-14 16:42:12,976 [INFO]  MMD Detector imported\n",
      "2023-02-14 16:42:12,976 [INFO]  MMD Detector imported\n",
      "2023-02-14 16:42:12,976 [INFO]  MMD Detector imported\n"
     ]
    },
    {
     "name": "stdout",
     "output_type": "stream",
     "text": [
      "WARNING:tensorflow:No training configuration found in the save file, so the model was *not* compiled. Compile it manually.\n"
     ]
    },
    {
     "name": "stderr",
     "output_type": "stream",
     "text": [
      "2023-02-14 16:46:25,565 [INFO]  MMD Detector imported\n",
      "2023-02-14 16:46:25,565 [INFO]  MMD Detector imported\n",
      "2023-02-14 16:46:25,565 [INFO]  MMD Detector imported\n",
      "2023-02-14 16:46:25,565 [INFO]  MMD Detector imported\n",
      "2023-02-14 16:46:25,565 [INFO]  MMD Detector imported\n",
      "2023-02-14 16:46:25,565 [INFO]  MMD Detector imported\n",
      "2023-02-14 16:46:25,565 [INFO]  MMD Detector imported\n",
      "2023-02-14 16:46:25,565 [INFO]  MMD Detector imported\n",
      "2023-02-14 16:46:25,565 [INFO]  MMD Detector imported\n"
     ]
    },
    {
     "name": "stdout",
     "output_type": "stream",
     "text": [
      "WARNING:tensorflow:No training configuration found in the save file, so the model was *not* compiled. Compile it manually.\n"
     ]
    },
    {
     "name": "stderr",
     "output_type": "stream",
     "text": [
      "2023-02-14 16:51:57,242 [INFO]  MMD Detector imported\n",
      "2023-02-14 16:51:57,242 [INFO]  MMD Detector imported\n",
      "2023-02-14 16:51:57,242 [INFO]  MMD Detector imported\n",
      "2023-02-14 16:51:57,242 [INFO]  MMD Detector imported\n",
      "2023-02-14 16:51:57,242 [INFO]  MMD Detector imported\n",
      "2023-02-14 16:51:57,242 [INFO]  MMD Detector imported\n",
      "2023-02-14 16:51:57,242 [INFO]  MMD Detector imported\n",
      "2023-02-14 16:51:57,242 [INFO]  MMD Detector imported\n",
      "2023-02-14 16:51:57,242 [INFO]  MMD Detector imported\n",
      "2023-02-14 16:51:57,242 [INFO]  MMD Detector imported\n"
     ]
    },
    {
     "name": "stdout",
     "output_type": "stream",
     "text": [
      "WARNING:tensorflow:No training configuration found in the save file, so the model was *not* compiled. Compile it manually.\n"
     ]
    },
    {
     "name": "stderr",
     "output_type": "stream",
     "text": [
      "2023-02-14 16:58:40,395 [INFO]  MMD Detector imported\n",
      "2023-02-14 16:58:40,395 [INFO]  MMD Detector imported\n",
      "2023-02-14 16:58:40,395 [INFO]  MMD Detector imported\n",
      "2023-02-14 16:58:40,395 [INFO]  MMD Detector imported\n",
      "2023-02-14 16:58:40,395 [INFO]  MMD Detector imported\n",
      "2023-02-14 16:58:40,395 [INFO]  MMD Detector imported\n",
      "2023-02-14 16:58:40,395 [INFO]  MMD Detector imported\n",
      "2023-02-14 16:58:40,395 [INFO]  MMD Detector imported\n",
      "2023-02-14 16:58:40,395 [INFO]  MMD Detector imported\n",
      "2023-02-14 16:58:40,395 [INFO]  MMD Detector imported\n",
      "2023-02-14 16:58:40,395 [INFO]  MMD Detector imported\n"
     ]
    },
    {
     "name": "stdout",
     "output_type": "stream",
     "text": [
      "WARNING:tensorflow:No training configuration found in the save file, so the model was *not* compiled. Compile it manually.\n"
     ]
    },
    {
     "name": "stderr",
     "output_type": "stream",
     "text": [
      "2023-02-14 17:07:11,425 [INFO]  MMD Detector imported\n",
      "2023-02-14 17:07:11,425 [INFO]  MMD Detector imported\n",
      "2023-02-14 17:07:11,425 [INFO]  MMD Detector imported\n",
      "2023-02-14 17:07:11,425 [INFO]  MMD Detector imported\n",
      "2023-02-14 17:07:11,425 [INFO]  MMD Detector imported\n",
      "2023-02-14 17:07:11,425 [INFO]  MMD Detector imported\n",
      "2023-02-14 17:07:11,425 [INFO]  MMD Detector imported\n",
      "2023-02-14 17:07:11,425 [INFO]  MMD Detector imported\n",
      "2023-02-14 17:07:11,425 [INFO]  MMD Detector imported\n",
      "2023-02-14 17:07:11,425 [INFO]  MMD Detector imported\n",
      "2023-02-14 17:07:11,425 [INFO]  MMD Detector imported\n",
      "2023-02-14 17:07:11,425 [INFO]  MMD Detector imported\n"
     ]
    },
    {
     "name": "stdout",
     "output_type": "stream",
     "text": [
      "WARNING:tensorflow:No training configuration found in the save file, so the model was *not* compiled. Compile it manually.\n"
     ]
    },
    {
     "name": "stderr",
     "output_type": "stream",
     "text": [
      "2023-02-14 17:17:25,200 [INFO]  MMD Detector imported\n",
      "2023-02-14 17:17:25,200 [INFO]  MMD Detector imported\n",
      "2023-02-14 17:17:25,200 [INFO]  MMD Detector imported\n",
      "2023-02-14 17:17:25,200 [INFO]  MMD Detector imported\n",
      "2023-02-14 17:17:25,200 [INFO]  MMD Detector imported\n",
      "2023-02-14 17:17:25,200 [INFO]  MMD Detector imported\n",
      "2023-02-14 17:17:25,200 [INFO]  MMD Detector imported\n",
      "2023-02-14 17:17:25,200 [INFO]  MMD Detector imported\n",
      "2023-02-14 17:17:25,200 [INFO]  MMD Detector imported\n",
      "2023-02-14 17:17:25,200 [INFO]  MMD Detector imported\n",
      "2023-02-14 17:17:25,200 [INFO]  MMD Detector imported\n",
      "2023-02-14 17:17:25,200 [INFO]  MMD Detector imported\n",
      "2023-02-14 17:17:25,200 [INFO]  MMD Detector imported\n"
     ]
    },
    {
     "name": "stdout",
     "output_type": "stream",
     "text": [
      "WARNING:tensorflow:No training configuration found in the save file, so the model was *not* compiled. Compile it manually.\n"
     ]
    },
    {
     "name": "stderr",
     "output_type": "stream",
     "text": [
      "2023-02-14 17:29:58,055 [INFO]  MMD Detector imported\n",
      "2023-02-14 17:29:58,055 [INFO]  MMD Detector imported\n",
      "2023-02-14 17:29:58,055 [INFO]  MMD Detector imported\n",
      "2023-02-14 17:29:58,055 [INFO]  MMD Detector imported\n",
      "2023-02-14 17:29:58,055 [INFO]  MMD Detector imported\n",
      "2023-02-14 17:29:58,055 [INFO]  MMD Detector imported\n",
      "2023-02-14 17:29:58,055 [INFO]  MMD Detector imported\n",
      "2023-02-14 17:29:58,055 [INFO]  MMD Detector imported\n",
      "2023-02-14 17:29:58,055 [INFO]  MMD Detector imported\n",
      "2023-02-14 17:29:58,055 [INFO]  MMD Detector imported\n",
      "2023-02-14 17:29:58,055 [INFO]  MMD Detector imported\n",
      "2023-02-14 17:29:58,055 [INFO]  MMD Detector imported\n",
      "2023-02-14 17:29:58,055 [INFO]  MMD Detector imported\n",
      "2023-02-14 17:29:58,055 [INFO]  MMD Detector imported\n"
     ]
    },
    {
     "name": "stdout",
     "output_type": "stream",
     "text": [
      "WARNING:tensorflow:No training configuration found in the save file, so the model was *not* compiled. Compile it manually.\n"
     ]
    },
    {
     "name": "stderr",
     "output_type": "stream",
     "text": [
      "2023-02-14 17:44:30,820 [INFO]  MMD Detector imported\n",
      "2023-02-14 17:44:30,820 [INFO]  MMD Detector imported\n",
      "2023-02-14 17:44:30,820 [INFO]  MMD Detector imported\n",
      "2023-02-14 17:44:30,820 [INFO]  MMD Detector imported\n",
      "2023-02-14 17:44:30,820 [INFO]  MMD Detector imported\n",
      "2023-02-14 17:44:30,820 [INFO]  MMD Detector imported\n",
      "2023-02-14 17:44:30,820 [INFO]  MMD Detector imported\n",
      "2023-02-14 17:44:30,820 [INFO]  MMD Detector imported\n",
      "2023-02-14 17:44:30,820 [INFO]  MMD Detector imported\n",
      "2023-02-14 17:44:30,820 [INFO]  MMD Detector imported\n",
      "2023-02-14 17:44:30,820 [INFO]  MMD Detector imported\n",
      "2023-02-14 17:44:30,820 [INFO]  MMD Detector imported\n",
      "2023-02-14 17:44:30,820 [INFO]  MMD Detector imported\n",
      "2023-02-14 17:44:30,820 [INFO]  MMD Detector imported\n",
      "2023-02-14 17:44:30,820 [INFO]  MMD Detector imported\n"
     ]
    },
    {
     "name": "stdout",
     "output_type": "stream",
     "text": [
      "WARNING:tensorflow:No training configuration found in the save file, so the model was *not* compiled. Compile it manually.\n"
     ]
    },
    {
     "name": "stderr",
     "output_type": "stream",
     "text": [
      "2023-02-14 18:01:55,519 [INFO]  MMD Detector imported\n",
      "2023-02-14 18:01:55,519 [INFO]  MMD Detector imported\n",
      "2023-02-14 18:01:55,519 [INFO]  MMD Detector imported\n",
      "2023-02-14 18:01:55,519 [INFO]  MMD Detector imported\n",
      "2023-02-14 18:01:55,519 [INFO]  MMD Detector imported\n",
      "2023-02-14 18:01:55,519 [INFO]  MMD Detector imported\n",
      "2023-02-14 18:01:55,519 [INFO]  MMD Detector imported\n",
      "2023-02-14 18:01:55,519 [INFO]  MMD Detector imported\n",
      "2023-02-14 18:01:55,519 [INFO]  MMD Detector imported\n",
      "2023-02-14 18:01:55,519 [INFO]  MMD Detector imported\n",
      "2023-02-14 18:01:55,519 [INFO]  MMD Detector imported\n",
      "2023-02-14 18:01:55,519 [INFO]  MMD Detector imported\n",
      "2023-02-14 18:01:55,519 [INFO]  MMD Detector imported\n",
      "2023-02-14 18:01:55,519 [INFO]  MMD Detector imported\n",
      "2023-02-14 18:01:55,519 [INFO]  MMD Detector imported\n",
      "2023-02-14 18:01:55,519 [INFO]  MMD Detector imported\n"
     ]
    },
    {
     "name": "stdout",
     "output_type": "stream",
     "text": [
      "WARNING:tensorflow:No training configuration found in the save file, so the model was *not* compiled. Compile it manually.\n"
     ]
    },
    {
     "name": "stderr",
     "output_type": "stream",
     "text": [
      "2023-02-14 18:22:06,969 [INFO]  MMD Detector imported\n",
      "2023-02-14 18:22:06,969 [INFO]  MMD Detector imported\n",
      "2023-02-14 18:22:06,969 [INFO]  MMD Detector imported\n",
      "2023-02-14 18:22:06,969 [INFO]  MMD Detector imported\n",
      "2023-02-14 18:22:06,969 [INFO]  MMD Detector imported\n",
      "2023-02-14 18:22:06,969 [INFO]  MMD Detector imported\n",
      "2023-02-14 18:22:06,969 [INFO]  MMD Detector imported\n",
      "2023-02-14 18:22:06,969 [INFO]  MMD Detector imported\n",
      "2023-02-14 18:22:06,969 [INFO]  MMD Detector imported\n",
      "2023-02-14 18:22:06,969 [INFO]  MMD Detector imported\n",
      "2023-02-14 18:22:06,969 [INFO]  MMD Detector imported\n",
      "2023-02-14 18:22:06,969 [INFO]  MMD Detector imported\n",
      "2023-02-14 18:22:06,969 [INFO]  MMD Detector imported\n",
      "2023-02-14 18:22:06,969 [INFO]  MMD Detector imported\n",
      "2023-02-14 18:22:06,969 [INFO]  MMD Detector imported\n",
      "2023-02-14 18:22:06,969 [INFO]  MMD Detector imported\n",
      "2023-02-14 18:22:06,969 [INFO]  MMD Detector imported\n"
     ]
    },
    {
     "name": "stdout",
     "output_type": "stream",
     "text": [
      "WARNING:tensorflow:No training configuration found in the save file, so the model was *not* compiled. Compile it manually.\n"
     ]
    },
    {
     "name": "stderr",
     "output_type": "stream",
     "text": [
      "2023-02-14 18:50:13,062 [INFO]  MMD Detector imported\n",
      "2023-02-14 18:50:13,062 [INFO]  MMD Detector imported\n",
      "2023-02-14 18:50:13,062 [INFO]  MMD Detector imported\n",
      "2023-02-14 18:50:13,062 [INFO]  MMD Detector imported\n",
      "2023-02-14 18:50:13,062 [INFO]  MMD Detector imported\n",
      "2023-02-14 18:50:13,062 [INFO]  MMD Detector imported\n",
      "2023-02-14 18:50:13,062 [INFO]  MMD Detector imported\n",
      "2023-02-14 18:50:13,062 [INFO]  MMD Detector imported\n",
      "2023-02-14 18:50:13,062 [INFO]  MMD Detector imported\n",
      "2023-02-14 18:50:13,062 [INFO]  MMD Detector imported\n",
      "2023-02-14 18:50:13,062 [INFO]  MMD Detector imported\n",
      "2023-02-14 18:50:13,062 [INFO]  MMD Detector imported\n",
      "2023-02-14 18:50:13,062 [INFO]  MMD Detector imported\n",
      "2023-02-14 18:50:13,062 [INFO]  MMD Detector imported\n",
      "2023-02-14 18:50:13,062 [INFO]  MMD Detector imported\n",
      "2023-02-14 18:50:13,062 [INFO]  MMD Detector imported\n",
      "2023-02-14 18:50:13,062 [INFO]  MMD Detector imported\n",
      "2023-02-14 18:50:13,062 [INFO]  MMD Detector imported\n"
     ]
    },
    {
     "name": "stdout",
     "output_type": "stream",
     "text": [
      "WARNING:tensorflow:No training configuration found in the save file, so the model was *not* compiled. Compile it manually.\n"
     ]
    },
    {
     "name": "stderr",
     "output_type": "stream",
     "text": [
      "2023-02-14 19:16:27,917 [INFO]  MMD Detector imported\n",
      "2023-02-14 19:16:27,917 [INFO]  MMD Detector imported\n",
      "2023-02-14 19:16:27,917 [INFO]  MMD Detector imported\n",
      "2023-02-14 19:16:27,917 [INFO]  MMD Detector imported\n",
      "2023-02-14 19:16:27,917 [INFO]  MMD Detector imported\n",
      "2023-02-14 19:16:27,917 [INFO]  MMD Detector imported\n",
      "2023-02-14 19:16:27,917 [INFO]  MMD Detector imported\n",
      "2023-02-14 19:16:27,917 [INFO]  MMD Detector imported\n",
      "2023-02-14 19:16:27,917 [INFO]  MMD Detector imported\n",
      "2023-02-14 19:16:27,917 [INFO]  MMD Detector imported\n",
      "2023-02-14 19:16:27,917 [INFO]  MMD Detector imported\n",
      "2023-02-14 19:16:27,917 [INFO]  MMD Detector imported\n",
      "2023-02-14 19:16:27,917 [INFO]  MMD Detector imported\n",
      "2023-02-14 19:16:27,917 [INFO]  MMD Detector imported\n",
      "2023-02-14 19:16:27,917 [INFO]  MMD Detector imported\n",
      "2023-02-14 19:16:27,917 [INFO]  MMD Detector imported\n",
      "2023-02-14 19:16:27,917 [INFO]  MMD Detector imported\n",
      "2023-02-14 19:16:27,917 [INFO]  MMD Detector imported\n",
      "2023-02-14 19:16:27,917 [INFO]  MMD Detector imported\n"
     ]
    },
    {
     "name": "stdout",
     "output_type": "stream",
     "text": [
      "WARNING:tensorflow:No training configuration found in the save file, so the model was *not* compiled. Compile it manually.\n"
     ]
    },
    {
     "name": "stderr",
     "output_type": "stream",
     "text": [
      "2023-02-14 19:47:12,114 [INFO]  MMD Detector imported\n",
      "2023-02-14 19:47:12,114 [INFO]  MMD Detector imported\n",
      "2023-02-14 19:47:12,114 [INFO]  MMD Detector imported\n",
      "2023-02-14 19:47:12,114 [INFO]  MMD Detector imported\n",
      "2023-02-14 19:47:12,114 [INFO]  MMD Detector imported\n",
      "2023-02-14 19:47:12,114 [INFO]  MMD Detector imported\n",
      "2023-02-14 19:47:12,114 [INFO]  MMD Detector imported\n",
      "2023-02-14 19:47:12,114 [INFO]  MMD Detector imported\n",
      "2023-02-14 19:47:12,114 [INFO]  MMD Detector imported\n",
      "2023-02-14 19:47:12,114 [INFO]  MMD Detector imported\n",
      "2023-02-14 19:47:12,114 [INFO]  MMD Detector imported\n",
      "2023-02-14 19:47:12,114 [INFO]  MMD Detector imported\n",
      "2023-02-14 19:47:12,114 [INFO]  MMD Detector imported\n",
      "2023-02-14 19:47:12,114 [INFO]  MMD Detector imported\n",
      "2023-02-14 19:47:12,114 [INFO]  MMD Detector imported\n",
      "2023-02-14 19:47:12,114 [INFO]  MMD Detector imported\n",
      "2023-02-14 19:47:12,114 [INFO]  MMD Detector imported\n",
      "2023-02-14 19:47:12,114 [INFO]  MMD Detector imported\n",
      "2023-02-14 19:47:12,114 [INFO]  MMD Detector imported\n",
      "2023-02-14 19:47:12,114 [INFO]  MMD Detector imported\n"
     ]
    },
    {
     "name": "stdout",
     "output_type": "stream",
     "text": [
      "WARNING:tensorflow:No training configuration found in the save file, so the model was *not* compiled. Compile it manually.\n"
     ]
    },
    {
     "name": "stderr",
     "output_type": "stream",
     "text": [
      "2023-02-14 19:54:30,893 [INFO]  MMD Detector imported\n",
      "2023-02-14 19:54:30,893 [INFO]  MMD Detector imported\n",
      "2023-02-14 19:54:30,893 [INFO]  MMD Detector imported\n",
      "2023-02-14 19:54:30,893 [INFO]  MMD Detector imported\n",
      "2023-02-14 19:54:30,893 [INFO]  MMD Detector imported\n",
      "2023-02-14 19:54:30,893 [INFO]  MMD Detector imported\n",
      "2023-02-14 19:54:30,893 [INFO]  MMD Detector imported\n",
      "2023-02-14 19:54:30,893 [INFO]  MMD Detector imported\n",
      "2023-02-14 19:54:30,893 [INFO]  MMD Detector imported\n",
      "2023-02-14 19:54:30,893 [INFO]  MMD Detector imported\n",
      "2023-02-14 19:54:30,893 [INFO]  MMD Detector imported\n",
      "2023-02-14 19:54:30,893 [INFO]  MMD Detector imported\n",
      "2023-02-14 19:54:30,893 [INFO]  MMD Detector imported\n",
      "2023-02-14 19:54:30,893 [INFO]  MMD Detector imported\n",
      "2023-02-14 19:54:30,893 [INFO]  MMD Detector imported\n",
      "2023-02-14 19:54:30,893 [INFO]  MMD Detector imported\n",
      "2023-02-14 19:54:30,893 [INFO]  MMD Detector imported\n",
      "2023-02-14 19:54:30,893 [INFO]  MMD Detector imported\n",
      "2023-02-14 19:54:30,893 [INFO]  MMD Detector imported\n",
      "2023-02-14 19:54:30,893 [INFO]  MMD Detector imported\n",
      "2023-02-14 19:54:30,893 [INFO]  MMD Detector imported\n"
     ]
    },
    {
     "name": "stdout",
     "output_type": "stream",
     "text": [
      "WARNING:tensorflow:No training configuration found in the save file, so the model was *not* compiled. Compile it manually.\n"
     ]
    },
    {
     "name": "stderr",
     "output_type": "stream",
     "text": [
      "2023-02-14 19:54:37,085 [INFO]  MMD Detector imported\n",
      "2023-02-14 19:54:37,085 [INFO]  MMD Detector imported\n",
      "2023-02-14 19:54:37,085 [INFO]  MMD Detector imported\n",
      "2023-02-14 19:54:37,085 [INFO]  MMD Detector imported\n",
      "2023-02-14 19:54:37,085 [INFO]  MMD Detector imported\n",
      "2023-02-14 19:54:37,085 [INFO]  MMD Detector imported\n",
      "2023-02-14 19:54:37,085 [INFO]  MMD Detector imported\n",
      "2023-02-14 19:54:37,085 [INFO]  MMD Detector imported\n",
      "2023-02-14 19:54:37,085 [INFO]  MMD Detector imported\n",
      "2023-02-14 19:54:37,085 [INFO]  MMD Detector imported\n",
      "2023-02-14 19:54:37,085 [INFO]  MMD Detector imported\n",
      "2023-02-14 19:54:37,085 [INFO]  MMD Detector imported\n",
      "2023-02-14 19:54:37,085 [INFO]  MMD Detector imported\n",
      "2023-02-14 19:54:37,085 [INFO]  MMD Detector imported\n",
      "2023-02-14 19:54:37,085 [INFO]  MMD Detector imported\n",
      "2023-02-14 19:54:37,085 [INFO]  MMD Detector imported\n",
      "2023-02-14 19:54:37,085 [INFO]  MMD Detector imported\n",
      "2023-02-14 19:54:37,085 [INFO]  MMD Detector imported\n",
      "2023-02-14 19:54:37,085 [INFO]  MMD Detector imported\n",
      "2023-02-14 19:54:37,085 [INFO]  MMD Detector imported\n",
      "2023-02-14 19:54:37,085 [INFO]  MMD Detector imported\n",
      "2023-02-14 19:54:37,085 [INFO]  MMD Detector imported\n"
     ]
    },
    {
     "name": "stdout",
     "output_type": "stream",
     "text": [
      "WARNING:tensorflow:No training configuration found in the save file, so the model was *not* compiled. Compile it manually.\n"
     ]
    },
    {
     "name": "stderr",
     "output_type": "stream",
     "text": [
      "2023-02-14 19:54:56,245 [INFO]  MMD Detector imported\n",
      "2023-02-14 19:54:56,245 [INFO]  MMD Detector imported\n",
      "2023-02-14 19:54:56,245 [INFO]  MMD Detector imported\n",
      "2023-02-14 19:54:56,245 [INFO]  MMD Detector imported\n",
      "2023-02-14 19:54:56,245 [INFO]  MMD Detector imported\n",
      "2023-02-14 19:54:56,245 [INFO]  MMD Detector imported\n",
      "2023-02-14 19:54:56,245 [INFO]  MMD Detector imported\n",
      "2023-02-14 19:54:56,245 [INFO]  MMD Detector imported\n",
      "2023-02-14 19:54:56,245 [INFO]  MMD Detector imported\n",
      "2023-02-14 19:54:56,245 [INFO]  MMD Detector imported\n",
      "2023-02-14 19:54:56,245 [INFO]  MMD Detector imported\n",
      "2023-02-14 19:54:56,245 [INFO]  MMD Detector imported\n",
      "2023-02-14 19:54:56,245 [INFO]  MMD Detector imported\n",
      "2023-02-14 19:54:56,245 [INFO]  MMD Detector imported\n",
      "2023-02-14 19:54:56,245 [INFO]  MMD Detector imported\n",
      "2023-02-14 19:54:56,245 [INFO]  MMD Detector imported\n",
      "2023-02-14 19:54:56,245 [INFO]  MMD Detector imported\n",
      "2023-02-14 19:54:56,245 [INFO]  MMD Detector imported\n",
      "2023-02-14 19:54:56,245 [INFO]  MMD Detector imported\n",
      "2023-02-14 19:54:56,245 [INFO]  MMD Detector imported\n",
      "2023-02-14 19:54:56,245 [INFO]  MMD Detector imported\n",
      "2023-02-14 19:54:56,245 [INFO]  MMD Detector imported\n",
      "2023-02-14 19:54:56,245 [INFO]  MMD Detector imported\n"
     ]
    },
    {
     "name": "stdout",
     "output_type": "stream",
     "text": [
      "WARNING:tensorflow:No training configuration found in the save file, so the model was *not* compiled. Compile it manually.\n"
     ]
    },
    {
     "name": "stderr",
     "output_type": "stream",
     "text": [
      "2023-02-14 19:55:33,469 [INFO]  MMD Detector imported\n",
      "2023-02-14 19:55:33,469 [INFO]  MMD Detector imported\n",
      "2023-02-14 19:55:33,469 [INFO]  MMD Detector imported\n",
      "2023-02-14 19:55:33,469 [INFO]  MMD Detector imported\n",
      "2023-02-14 19:55:33,469 [INFO]  MMD Detector imported\n",
      "2023-02-14 19:55:33,469 [INFO]  MMD Detector imported\n",
      "2023-02-14 19:55:33,469 [INFO]  MMD Detector imported\n",
      "2023-02-14 19:55:33,469 [INFO]  MMD Detector imported\n",
      "2023-02-14 19:55:33,469 [INFO]  MMD Detector imported\n",
      "2023-02-14 19:55:33,469 [INFO]  MMD Detector imported\n",
      "2023-02-14 19:55:33,469 [INFO]  MMD Detector imported\n",
      "2023-02-14 19:55:33,469 [INFO]  MMD Detector imported\n",
      "2023-02-14 19:55:33,469 [INFO]  MMD Detector imported\n",
      "2023-02-14 19:55:33,469 [INFO]  MMD Detector imported\n",
      "2023-02-14 19:55:33,469 [INFO]  MMD Detector imported\n",
      "2023-02-14 19:55:33,469 [INFO]  MMD Detector imported\n",
      "2023-02-14 19:55:33,469 [INFO]  MMD Detector imported\n",
      "2023-02-14 19:55:33,469 [INFO]  MMD Detector imported\n",
      "2023-02-14 19:55:33,469 [INFO]  MMD Detector imported\n",
      "2023-02-14 19:55:33,469 [INFO]  MMD Detector imported\n",
      "2023-02-14 19:55:33,469 [INFO]  MMD Detector imported\n",
      "2023-02-14 19:55:33,469 [INFO]  MMD Detector imported\n",
      "2023-02-14 19:55:33,469 [INFO]  MMD Detector imported\n",
      "2023-02-14 19:55:33,469 [INFO]  MMD Detector imported\n"
     ]
    },
    {
     "name": "stdout",
     "output_type": "stream",
     "text": [
      "WARNING:tensorflow:No training configuration found in the save file, so the model was *not* compiled. Compile it manually.\n"
     ]
    },
    {
     "name": "stderr",
     "output_type": "stream",
     "text": [
      "2023-02-14 19:56:33,852 [INFO]  MMD Detector imported\n",
      "2023-02-14 19:56:33,852 [INFO]  MMD Detector imported\n",
      "2023-02-14 19:56:33,852 [INFO]  MMD Detector imported\n",
      "2023-02-14 19:56:33,852 [INFO]  MMD Detector imported\n",
      "2023-02-14 19:56:33,852 [INFO]  MMD Detector imported\n",
      "2023-02-14 19:56:33,852 [INFO]  MMD Detector imported\n",
      "2023-02-14 19:56:33,852 [INFO]  MMD Detector imported\n",
      "2023-02-14 19:56:33,852 [INFO]  MMD Detector imported\n",
      "2023-02-14 19:56:33,852 [INFO]  MMD Detector imported\n",
      "2023-02-14 19:56:33,852 [INFO]  MMD Detector imported\n",
      "2023-02-14 19:56:33,852 [INFO]  MMD Detector imported\n",
      "2023-02-14 19:56:33,852 [INFO]  MMD Detector imported\n",
      "2023-02-14 19:56:33,852 [INFO]  MMD Detector imported\n",
      "2023-02-14 19:56:33,852 [INFO]  MMD Detector imported\n",
      "2023-02-14 19:56:33,852 [INFO]  MMD Detector imported\n",
      "2023-02-14 19:56:33,852 [INFO]  MMD Detector imported\n",
      "2023-02-14 19:56:33,852 [INFO]  MMD Detector imported\n",
      "2023-02-14 19:56:33,852 [INFO]  MMD Detector imported\n",
      "2023-02-14 19:56:33,852 [INFO]  MMD Detector imported\n",
      "2023-02-14 19:56:33,852 [INFO]  MMD Detector imported\n",
      "2023-02-14 19:56:33,852 [INFO]  MMD Detector imported\n",
      "2023-02-14 19:56:33,852 [INFO]  MMD Detector imported\n",
      "2023-02-14 19:56:33,852 [INFO]  MMD Detector imported\n",
      "2023-02-14 19:56:33,852 [INFO]  MMD Detector imported\n",
      "2023-02-14 19:56:33,852 [INFO]  MMD Detector imported\n"
     ]
    },
    {
     "name": "stdout",
     "output_type": "stream",
     "text": [
      "WARNING:tensorflow:No training configuration found in the save file, so the model was *not* compiled. Compile it manually.\n"
     ]
    },
    {
     "name": "stderr",
     "output_type": "stream",
     "text": [
      "2023-02-14 19:58:06,023 [INFO]  MMD Detector imported\n",
      "2023-02-14 19:58:06,023 [INFO]  MMD Detector imported\n",
      "2023-02-14 19:58:06,023 [INFO]  MMD Detector imported\n",
      "2023-02-14 19:58:06,023 [INFO]  MMD Detector imported\n",
      "2023-02-14 19:58:06,023 [INFO]  MMD Detector imported\n",
      "2023-02-14 19:58:06,023 [INFO]  MMD Detector imported\n",
      "2023-02-14 19:58:06,023 [INFO]  MMD Detector imported\n",
      "2023-02-14 19:58:06,023 [INFO]  MMD Detector imported\n",
      "2023-02-14 19:58:06,023 [INFO]  MMD Detector imported\n",
      "2023-02-14 19:58:06,023 [INFO]  MMD Detector imported\n",
      "2023-02-14 19:58:06,023 [INFO]  MMD Detector imported\n",
      "2023-02-14 19:58:06,023 [INFO]  MMD Detector imported\n",
      "2023-02-14 19:58:06,023 [INFO]  MMD Detector imported\n",
      "2023-02-14 19:58:06,023 [INFO]  MMD Detector imported\n",
      "2023-02-14 19:58:06,023 [INFO]  MMD Detector imported\n",
      "2023-02-14 19:58:06,023 [INFO]  MMD Detector imported\n",
      "2023-02-14 19:58:06,023 [INFO]  MMD Detector imported\n",
      "2023-02-14 19:58:06,023 [INFO]  MMD Detector imported\n",
      "2023-02-14 19:58:06,023 [INFO]  MMD Detector imported\n",
      "2023-02-14 19:58:06,023 [INFO]  MMD Detector imported\n",
      "2023-02-14 19:58:06,023 [INFO]  MMD Detector imported\n",
      "2023-02-14 19:58:06,023 [INFO]  MMD Detector imported\n",
      "2023-02-14 19:58:06,023 [INFO]  MMD Detector imported\n",
      "2023-02-14 19:58:06,023 [INFO]  MMD Detector imported\n",
      "2023-02-14 19:58:06,023 [INFO]  MMD Detector imported\n",
      "2023-02-14 19:58:06,023 [INFO]  MMD Detector imported\n"
     ]
    },
    {
     "name": "stdout",
     "output_type": "stream",
     "text": [
      "WARNING:tensorflow:No training configuration found in the save file, so the model was *not* compiled. Compile it manually.\n"
     ]
    },
    {
     "name": "stderr",
     "output_type": "stream",
     "text": [
      "2023-02-14 20:00:20,623 [INFO]  MMD Detector imported\n",
      "2023-02-14 20:00:20,623 [INFO]  MMD Detector imported\n",
      "2023-02-14 20:00:20,623 [INFO]  MMD Detector imported\n",
      "2023-02-14 20:00:20,623 [INFO]  MMD Detector imported\n",
      "2023-02-14 20:00:20,623 [INFO]  MMD Detector imported\n",
      "2023-02-14 20:00:20,623 [INFO]  MMD Detector imported\n",
      "2023-02-14 20:00:20,623 [INFO]  MMD Detector imported\n",
      "2023-02-14 20:00:20,623 [INFO]  MMD Detector imported\n",
      "2023-02-14 20:00:20,623 [INFO]  MMD Detector imported\n",
      "2023-02-14 20:00:20,623 [INFO]  MMD Detector imported\n",
      "2023-02-14 20:00:20,623 [INFO]  MMD Detector imported\n",
      "2023-02-14 20:00:20,623 [INFO]  MMD Detector imported\n",
      "2023-02-14 20:00:20,623 [INFO]  MMD Detector imported\n",
      "2023-02-14 20:00:20,623 [INFO]  MMD Detector imported\n",
      "2023-02-14 20:00:20,623 [INFO]  MMD Detector imported\n",
      "2023-02-14 20:00:20,623 [INFO]  MMD Detector imported\n",
      "2023-02-14 20:00:20,623 [INFO]  MMD Detector imported\n",
      "2023-02-14 20:00:20,623 [INFO]  MMD Detector imported\n",
      "2023-02-14 20:00:20,623 [INFO]  MMD Detector imported\n",
      "2023-02-14 20:00:20,623 [INFO]  MMD Detector imported\n",
      "2023-02-14 20:00:20,623 [INFO]  MMD Detector imported\n",
      "2023-02-14 20:00:20,623 [INFO]  MMD Detector imported\n",
      "2023-02-14 20:00:20,623 [INFO]  MMD Detector imported\n",
      "2023-02-14 20:00:20,623 [INFO]  MMD Detector imported\n",
      "2023-02-14 20:00:20,623 [INFO]  MMD Detector imported\n",
      "2023-02-14 20:00:20,623 [INFO]  MMD Detector imported\n",
      "2023-02-14 20:00:20,623 [INFO]  MMD Detector imported\n"
     ]
    },
    {
     "name": "stdout",
     "output_type": "stream",
     "text": [
      "WARNING:tensorflow:No training configuration found in the save file, so the model was *not* compiled. Compile it manually.\n"
     ]
    },
    {
     "name": "stderr",
     "output_type": "stream",
     "text": [
      "2023-02-14 20:03:23,114 [INFO]  MMD Detector imported\n",
      "2023-02-14 20:03:23,114 [INFO]  MMD Detector imported\n",
      "2023-02-14 20:03:23,114 [INFO]  MMD Detector imported\n",
      "2023-02-14 20:03:23,114 [INFO]  MMD Detector imported\n",
      "2023-02-14 20:03:23,114 [INFO]  MMD Detector imported\n",
      "2023-02-14 20:03:23,114 [INFO]  MMD Detector imported\n",
      "2023-02-14 20:03:23,114 [INFO]  MMD Detector imported\n",
      "2023-02-14 20:03:23,114 [INFO]  MMD Detector imported\n",
      "2023-02-14 20:03:23,114 [INFO]  MMD Detector imported\n",
      "2023-02-14 20:03:23,114 [INFO]  MMD Detector imported\n",
      "2023-02-14 20:03:23,114 [INFO]  MMD Detector imported\n",
      "2023-02-14 20:03:23,114 [INFO]  MMD Detector imported\n",
      "2023-02-14 20:03:23,114 [INFO]  MMD Detector imported\n",
      "2023-02-14 20:03:23,114 [INFO]  MMD Detector imported\n",
      "2023-02-14 20:03:23,114 [INFO]  MMD Detector imported\n",
      "2023-02-14 20:03:23,114 [INFO]  MMD Detector imported\n",
      "2023-02-14 20:03:23,114 [INFO]  MMD Detector imported\n",
      "2023-02-14 20:03:23,114 [INFO]  MMD Detector imported\n",
      "2023-02-14 20:03:23,114 [INFO]  MMD Detector imported\n",
      "2023-02-14 20:03:23,114 [INFO]  MMD Detector imported\n",
      "2023-02-14 20:03:23,114 [INFO]  MMD Detector imported\n",
      "2023-02-14 20:03:23,114 [INFO]  MMD Detector imported\n",
      "2023-02-14 20:03:23,114 [INFO]  MMD Detector imported\n",
      "2023-02-14 20:03:23,114 [INFO]  MMD Detector imported\n",
      "2023-02-14 20:03:23,114 [INFO]  MMD Detector imported\n",
      "2023-02-14 20:03:23,114 [INFO]  MMD Detector imported\n",
      "2023-02-14 20:03:23,114 [INFO]  MMD Detector imported\n",
      "2023-02-14 20:03:23,114 [INFO]  MMD Detector imported\n"
     ]
    },
    {
     "name": "stdout",
     "output_type": "stream",
     "text": [
      "WARNING:tensorflow:No training configuration found in the save file, so the model was *not* compiled. Compile it manually.\n"
     ]
    },
    {
     "name": "stderr",
     "output_type": "stream",
     "text": [
      "2023-02-14 20:07:24,232 [INFO]  MMD Detector imported\n",
      "2023-02-14 20:07:24,232 [INFO]  MMD Detector imported\n",
      "2023-02-14 20:07:24,232 [INFO]  MMD Detector imported\n",
      "2023-02-14 20:07:24,232 [INFO]  MMD Detector imported\n",
      "2023-02-14 20:07:24,232 [INFO]  MMD Detector imported\n",
      "2023-02-14 20:07:24,232 [INFO]  MMD Detector imported\n",
      "2023-02-14 20:07:24,232 [INFO]  MMD Detector imported\n",
      "2023-02-14 20:07:24,232 [INFO]  MMD Detector imported\n",
      "2023-02-14 20:07:24,232 [INFO]  MMD Detector imported\n",
      "2023-02-14 20:07:24,232 [INFO]  MMD Detector imported\n",
      "2023-02-14 20:07:24,232 [INFO]  MMD Detector imported\n",
      "2023-02-14 20:07:24,232 [INFO]  MMD Detector imported\n",
      "2023-02-14 20:07:24,232 [INFO]  MMD Detector imported\n",
      "2023-02-14 20:07:24,232 [INFO]  MMD Detector imported\n",
      "2023-02-14 20:07:24,232 [INFO]  MMD Detector imported\n",
      "2023-02-14 20:07:24,232 [INFO]  MMD Detector imported\n",
      "2023-02-14 20:07:24,232 [INFO]  MMD Detector imported\n",
      "2023-02-14 20:07:24,232 [INFO]  MMD Detector imported\n",
      "2023-02-14 20:07:24,232 [INFO]  MMD Detector imported\n",
      "2023-02-14 20:07:24,232 [INFO]  MMD Detector imported\n",
      "2023-02-14 20:07:24,232 [INFO]  MMD Detector imported\n",
      "2023-02-14 20:07:24,232 [INFO]  MMD Detector imported\n",
      "2023-02-14 20:07:24,232 [INFO]  MMD Detector imported\n",
      "2023-02-14 20:07:24,232 [INFO]  MMD Detector imported\n",
      "2023-02-14 20:07:24,232 [INFO]  MMD Detector imported\n",
      "2023-02-14 20:07:24,232 [INFO]  MMD Detector imported\n",
      "2023-02-14 20:07:24,232 [INFO]  MMD Detector imported\n",
      "2023-02-14 20:07:24,232 [INFO]  MMD Detector imported\n",
      "2023-02-14 20:07:24,232 [INFO]  MMD Detector imported\n"
     ]
    },
    {
     "name": "stdout",
     "output_type": "stream",
     "text": [
      "WARNING:tensorflow:No training configuration found in the save file, so the model was *not* compiled. Compile it manually.\n"
     ]
    },
    {
     "name": "stderr",
     "output_type": "stream",
     "text": [
      "2023-02-14 20:12:26,024 [INFO]  MMD Detector imported\n",
      "2023-02-14 20:12:26,024 [INFO]  MMD Detector imported\n",
      "2023-02-14 20:12:26,024 [INFO]  MMD Detector imported\n",
      "2023-02-14 20:12:26,024 [INFO]  MMD Detector imported\n",
      "2023-02-14 20:12:26,024 [INFO]  MMD Detector imported\n",
      "2023-02-14 20:12:26,024 [INFO]  MMD Detector imported\n",
      "2023-02-14 20:12:26,024 [INFO]  MMD Detector imported\n",
      "2023-02-14 20:12:26,024 [INFO]  MMD Detector imported\n",
      "2023-02-14 20:12:26,024 [INFO]  MMD Detector imported\n",
      "2023-02-14 20:12:26,024 [INFO]  MMD Detector imported\n",
      "2023-02-14 20:12:26,024 [INFO]  MMD Detector imported\n",
      "2023-02-14 20:12:26,024 [INFO]  MMD Detector imported\n",
      "2023-02-14 20:12:26,024 [INFO]  MMD Detector imported\n",
      "2023-02-14 20:12:26,024 [INFO]  MMD Detector imported\n",
      "2023-02-14 20:12:26,024 [INFO]  MMD Detector imported\n",
      "2023-02-14 20:12:26,024 [INFO]  MMD Detector imported\n",
      "2023-02-14 20:12:26,024 [INFO]  MMD Detector imported\n",
      "2023-02-14 20:12:26,024 [INFO]  MMD Detector imported\n",
      "2023-02-14 20:12:26,024 [INFO]  MMD Detector imported\n",
      "2023-02-14 20:12:26,024 [INFO]  MMD Detector imported\n",
      "2023-02-14 20:12:26,024 [INFO]  MMD Detector imported\n",
      "2023-02-14 20:12:26,024 [INFO]  MMD Detector imported\n",
      "2023-02-14 20:12:26,024 [INFO]  MMD Detector imported\n",
      "2023-02-14 20:12:26,024 [INFO]  MMD Detector imported\n",
      "2023-02-14 20:12:26,024 [INFO]  MMD Detector imported\n",
      "2023-02-14 20:12:26,024 [INFO]  MMD Detector imported\n",
      "2023-02-14 20:12:26,024 [INFO]  MMD Detector imported\n",
      "2023-02-14 20:12:26,024 [INFO]  MMD Detector imported\n",
      "2023-02-14 20:12:26,024 [INFO]  MMD Detector imported\n",
      "2023-02-14 20:12:26,024 [INFO]  MMD Detector imported\n"
     ]
    },
    {
     "name": "stdout",
     "output_type": "stream",
     "text": [
      "WARNING:tensorflow:No training configuration found in the save file, so the model was *not* compiled. Compile it manually.\n"
     ]
    },
    {
     "name": "stderr",
     "output_type": "stream",
     "text": [
      "2023-02-14 20:19:00,606 [INFO]  MMD Detector imported\n",
      "2023-02-14 20:19:00,606 [INFO]  MMD Detector imported\n",
      "2023-02-14 20:19:00,606 [INFO]  MMD Detector imported\n",
      "2023-02-14 20:19:00,606 [INFO]  MMD Detector imported\n",
      "2023-02-14 20:19:00,606 [INFO]  MMD Detector imported\n",
      "2023-02-14 20:19:00,606 [INFO]  MMD Detector imported\n",
      "2023-02-14 20:19:00,606 [INFO]  MMD Detector imported\n",
      "2023-02-14 20:19:00,606 [INFO]  MMD Detector imported\n",
      "2023-02-14 20:19:00,606 [INFO]  MMD Detector imported\n",
      "2023-02-14 20:19:00,606 [INFO]  MMD Detector imported\n",
      "2023-02-14 20:19:00,606 [INFO]  MMD Detector imported\n",
      "2023-02-14 20:19:00,606 [INFO]  MMD Detector imported\n",
      "2023-02-14 20:19:00,606 [INFO]  MMD Detector imported\n",
      "2023-02-14 20:19:00,606 [INFO]  MMD Detector imported\n",
      "2023-02-14 20:19:00,606 [INFO]  MMD Detector imported\n",
      "2023-02-14 20:19:00,606 [INFO]  MMD Detector imported\n",
      "2023-02-14 20:19:00,606 [INFO]  MMD Detector imported\n",
      "2023-02-14 20:19:00,606 [INFO]  MMD Detector imported\n",
      "2023-02-14 20:19:00,606 [INFO]  MMD Detector imported\n",
      "2023-02-14 20:19:00,606 [INFO]  MMD Detector imported\n",
      "2023-02-14 20:19:00,606 [INFO]  MMD Detector imported\n",
      "2023-02-14 20:19:00,606 [INFO]  MMD Detector imported\n",
      "2023-02-14 20:19:00,606 [INFO]  MMD Detector imported\n",
      "2023-02-14 20:19:00,606 [INFO]  MMD Detector imported\n",
      "2023-02-14 20:19:00,606 [INFO]  MMD Detector imported\n",
      "2023-02-14 20:19:00,606 [INFO]  MMD Detector imported\n",
      "2023-02-14 20:19:00,606 [INFO]  MMD Detector imported\n",
      "2023-02-14 20:19:00,606 [INFO]  MMD Detector imported\n",
      "2023-02-14 20:19:00,606 [INFO]  MMD Detector imported\n",
      "2023-02-14 20:19:00,606 [INFO]  MMD Detector imported\n",
      "2023-02-14 20:19:00,606 [INFO]  MMD Detector imported\n"
     ]
    },
    {
     "name": "stdout",
     "output_type": "stream",
     "text": [
      "WARNING:tensorflow:No training configuration found in the save file, so the model was *not* compiled. Compile it manually.\n"
     ]
    },
    {
     "name": "stderr",
     "output_type": "stream",
     "text": [
      "2023-02-14 20:27:43,865 [INFO]  MMD Detector imported\n",
      "2023-02-14 20:27:43,865 [INFO]  MMD Detector imported\n",
      "2023-02-14 20:27:43,865 [INFO]  MMD Detector imported\n",
      "2023-02-14 20:27:43,865 [INFO]  MMD Detector imported\n",
      "2023-02-14 20:27:43,865 [INFO]  MMD Detector imported\n",
      "2023-02-14 20:27:43,865 [INFO]  MMD Detector imported\n",
      "2023-02-14 20:27:43,865 [INFO]  MMD Detector imported\n",
      "2023-02-14 20:27:43,865 [INFO]  MMD Detector imported\n",
      "2023-02-14 20:27:43,865 [INFO]  MMD Detector imported\n",
      "2023-02-14 20:27:43,865 [INFO]  MMD Detector imported\n",
      "2023-02-14 20:27:43,865 [INFO]  MMD Detector imported\n",
      "2023-02-14 20:27:43,865 [INFO]  MMD Detector imported\n",
      "2023-02-14 20:27:43,865 [INFO]  MMD Detector imported\n",
      "2023-02-14 20:27:43,865 [INFO]  MMD Detector imported\n",
      "2023-02-14 20:27:43,865 [INFO]  MMD Detector imported\n",
      "2023-02-14 20:27:43,865 [INFO]  MMD Detector imported\n",
      "2023-02-14 20:27:43,865 [INFO]  MMD Detector imported\n",
      "2023-02-14 20:27:43,865 [INFO]  MMD Detector imported\n",
      "2023-02-14 20:27:43,865 [INFO]  MMD Detector imported\n",
      "2023-02-14 20:27:43,865 [INFO]  MMD Detector imported\n",
      "2023-02-14 20:27:43,865 [INFO]  MMD Detector imported\n",
      "2023-02-14 20:27:43,865 [INFO]  MMD Detector imported\n",
      "2023-02-14 20:27:43,865 [INFO]  MMD Detector imported\n",
      "2023-02-14 20:27:43,865 [INFO]  MMD Detector imported\n",
      "2023-02-14 20:27:43,865 [INFO]  MMD Detector imported\n",
      "2023-02-14 20:27:43,865 [INFO]  MMD Detector imported\n",
      "2023-02-14 20:27:43,865 [INFO]  MMD Detector imported\n",
      "2023-02-14 20:27:43,865 [INFO]  MMD Detector imported\n",
      "2023-02-14 20:27:43,865 [INFO]  MMD Detector imported\n",
      "2023-02-14 20:27:43,865 [INFO]  MMD Detector imported\n",
      "2023-02-14 20:27:43,865 [INFO]  MMD Detector imported\n",
      "2023-02-14 20:27:43,865 [INFO]  MMD Detector imported\n"
     ]
    },
    {
     "name": "stdout",
     "output_type": "stream",
     "text": [
      "WARNING:tensorflow:No training configuration found in the save file, so the model was *not* compiled. Compile it manually.\n"
     ]
    },
    {
     "name": "stderr",
     "output_type": "stream",
     "text": [
      "2023-02-14 20:46:25,784 [INFO]  MMD Detector imported\n",
      "2023-02-14 20:46:25,784 [INFO]  MMD Detector imported\n",
      "2023-02-14 20:46:25,784 [INFO]  MMD Detector imported\n",
      "2023-02-14 20:46:25,784 [INFO]  MMD Detector imported\n",
      "2023-02-14 20:46:25,784 [INFO]  MMD Detector imported\n",
      "2023-02-14 20:46:25,784 [INFO]  MMD Detector imported\n",
      "2023-02-14 20:46:25,784 [INFO]  MMD Detector imported\n",
      "2023-02-14 20:46:25,784 [INFO]  MMD Detector imported\n",
      "2023-02-14 20:46:25,784 [INFO]  MMD Detector imported\n",
      "2023-02-14 20:46:25,784 [INFO]  MMD Detector imported\n",
      "2023-02-14 20:46:25,784 [INFO]  MMD Detector imported\n",
      "2023-02-14 20:46:25,784 [INFO]  MMD Detector imported\n",
      "2023-02-14 20:46:25,784 [INFO]  MMD Detector imported\n",
      "2023-02-14 20:46:25,784 [INFO]  MMD Detector imported\n",
      "2023-02-14 20:46:25,784 [INFO]  MMD Detector imported\n",
      "2023-02-14 20:46:25,784 [INFO]  MMD Detector imported\n",
      "2023-02-14 20:46:25,784 [INFO]  MMD Detector imported\n",
      "2023-02-14 20:46:25,784 [INFO]  MMD Detector imported\n",
      "2023-02-14 20:46:25,784 [INFO]  MMD Detector imported\n",
      "2023-02-14 20:46:25,784 [INFO]  MMD Detector imported\n",
      "2023-02-14 20:46:25,784 [INFO]  MMD Detector imported\n",
      "2023-02-14 20:46:25,784 [INFO]  MMD Detector imported\n",
      "2023-02-14 20:46:25,784 [INFO]  MMD Detector imported\n",
      "2023-02-14 20:46:25,784 [INFO]  MMD Detector imported\n",
      "2023-02-14 20:46:25,784 [INFO]  MMD Detector imported\n",
      "2023-02-14 20:46:25,784 [INFO]  MMD Detector imported\n",
      "2023-02-14 20:46:25,784 [INFO]  MMD Detector imported\n",
      "2023-02-14 20:46:25,784 [INFO]  MMD Detector imported\n",
      "2023-02-14 20:46:25,784 [INFO]  MMD Detector imported\n",
      "2023-02-14 20:46:25,784 [INFO]  MMD Detector imported\n",
      "2023-02-14 20:46:25,784 [INFO]  MMD Detector imported\n",
      "2023-02-14 20:46:25,784 [INFO]  MMD Detector imported\n",
      "2023-02-14 20:46:25,784 [INFO]  MMD Detector imported\n"
     ]
    },
    {
     "name": "stdout",
     "output_type": "stream",
     "text": [
      "WARNING:tensorflow:No training configuration found in the save file, so the model was *not* compiled. Compile it manually.\n"
     ]
    },
    {
     "name": "stderr",
     "output_type": "stream",
     "text": [
      "2023-02-14 20:59:11,956 [INFO]  MMD Detector imported\n",
      "2023-02-14 20:59:11,956 [INFO]  MMD Detector imported\n",
      "2023-02-14 20:59:11,956 [INFO]  MMD Detector imported\n",
      "2023-02-14 20:59:11,956 [INFO]  MMD Detector imported\n",
      "2023-02-14 20:59:11,956 [INFO]  MMD Detector imported\n",
      "2023-02-14 20:59:11,956 [INFO]  MMD Detector imported\n",
      "2023-02-14 20:59:11,956 [INFO]  MMD Detector imported\n",
      "2023-02-14 20:59:11,956 [INFO]  MMD Detector imported\n",
      "2023-02-14 20:59:11,956 [INFO]  MMD Detector imported\n",
      "2023-02-14 20:59:11,956 [INFO]  MMD Detector imported\n",
      "2023-02-14 20:59:11,956 [INFO]  MMD Detector imported\n",
      "2023-02-14 20:59:11,956 [INFO]  MMD Detector imported\n",
      "2023-02-14 20:59:11,956 [INFO]  MMD Detector imported\n",
      "2023-02-14 20:59:11,956 [INFO]  MMD Detector imported\n",
      "2023-02-14 20:59:11,956 [INFO]  MMD Detector imported\n",
      "2023-02-14 20:59:11,956 [INFO]  MMD Detector imported\n",
      "2023-02-14 20:59:11,956 [INFO]  MMD Detector imported\n",
      "2023-02-14 20:59:11,956 [INFO]  MMD Detector imported\n",
      "2023-02-14 20:59:11,956 [INFO]  MMD Detector imported\n",
      "2023-02-14 20:59:11,956 [INFO]  MMD Detector imported\n",
      "2023-02-14 20:59:11,956 [INFO]  MMD Detector imported\n",
      "2023-02-14 20:59:11,956 [INFO]  MMD Detector imported\n",
      "2023-02-14 20:59:11,956 [INFO]  MMD Detector imported\n",
      "2023-02-14 20:59:11,956 [INFO]  MMD Detector imported\n",
      "2023-02-14 20:59:11,956 [INFO]  MMD Detector imported\n",
      "2023-02-14 20:59:11,956 [INFO]  MMD Detector imported\n",
      "2023-02-14 20:59:11,956 [INFO]  MMD Detector imported\n",
      "2023-02-14 20:59:11,956 [INFO]  MMD Detector imported\n",
      "2023-02-14 20:59:11,956 [INFO]  MMD Detector imported\n",
      "2023-02-14 20:59:11,956 [INFO]  MMD Detector imported\n",
      "2023-02-14 20:59:11,956 [INFO]  MMD Detector imported\n",
      "2023-02-14 20:59:11,956 [INFO]  MMD Detector imported\n",
      "2023-02-14 20:59:11,956 [INFO]  MMD Detector imported\n",
      "2023-02-14 20:59:11,956 [INFO]  MMD Detector imported\n"
     ]
    },
    {
     "name": "stdout",
     "output_type": "stream",
     "text": [
      "WARNING:tensorflow:No training configuration found in the save file, so the model was *not* compiled. Compile it manually.\n"
     ]
    },
    {
     "name": "stderr",
     "output_type": "stream",
     "text": [
      "2023-02-14 21:13:34,171 [INFO]  MMD Detector imported\n",
      "2023-02-14 21:13:34,171 [INFO]  MMD Detector imported\n",
      "2023-02-14 21:13:34,171 [INFO]  MMD Detector imported\n",
      "2023-02-14 21:13:34,171 [INFO]  MMD Detector imported\n",
      "2023-02-14 21:13:34,171 [INFO]  MMD Detector imported\n",
      "2023-02-14 21:13:34,171 [INFO]  MMD Detector imported\n",
      "2023-02-14 21:13:34,171 [INFO]  MMD Detector imported\n",
      "2023-02-14 21:13:34,171 [INFO]  MMD Detector imported\n",
      "2023-02-14 21:13:34,171 [INFO]  MMD Detector imported\n",
      "2023-02-14 21:13:34,171 [INFO]  MMD Detector imported\n",
      "2023-02-14 21:13:34,171 [INFO]  MMD Detector imported\n",
      "2023-02-14 21:13:34,171 [INFO]  MMD Detector imported\n",
      "2023-02-14 21:13:34,171 [INFO]  MMD Detector imported\n",
      "2023-02-14 21:13:34,171 [INFO]  MMD Detector imported\n",
      "2023-02-14 21:13:34,171 [INFO]  MMD Detector imported\n",
      "2023-02-14 21:13:34,171 [INFO]  MMD Detector imported\n",
      "2023-02-14 21:13:34,171 [INFO]  MMD Detector imported\n",
      "2023-02-14 21:13:34,171 [INFO]  MMD Detector imported\n",
      "2023-02-14 21:13:34,171 [INFO]  MMD Detector imported\n",
      "2023-02-14 21:13:34,171 [INFO]  MMD Detector imported\n",
      "2023-02-14 21:13:34,171 [INFO]  MMD Detector imported\n",
      "2023-02-14 21:13:34,171 [INFO]  MMD Detector imported\n",
      "2023-02-14 21:13:34,171 [INFO]  MMD Detector imported\n",
      "2023-02-14 21:13:34,171 [INFO]  MMD Detector imported\n",
      "2023-02-14 21:13:34,171 [INFO]  MMD Detector imported\n",
      "2023-02-14 21:13:34,171 [INFO]  MMD Detector imported\n",
      "2023-02-14 21:13:34,171 [INFO]  MMD Detector imported\n",
      "2023-02-14 21:13:34,171 [INFO]  MMD Detector imported\n",
      "2023-02-14 21:13:34,171 [INFO]  MMD Detector imported\n",
      "2023-02-14 21:13:34,171 [INFO]  MMD Detector imported\n",
      "2023-02-14 21:13:34,171 [INFO]  MMD Detector imported\n",
      "2023-02-14 21:13:34,171 [INFO]  MMD Detector imported\n",
      "2023-02-14 21:13:34,171 [INFO]  MMD Detector imported\n",
      "2023-02-14 21:13:34,171 [INFO]  MMD Detector imported\n",
      "2023-02-14 21:13:34,171 [INFO]  MMD Detector imported\n"
     ]
    },
    {
     "name": "stdout",
     "output_type": "stream",
     "text": [
      "WARNING:tensorflow:No training configuration found in the save file, so the model was *not* compiled. Compile it manually.\n"
     ]
    }
   ],
   "source": [
    "%cd /home/ubuntu/image-drift-monitoring\n",
    "from src.modules.alibi_detect.untrained_encoder import UntrainedAutoencoder\n",
    "\n",
    "import numpy as np\n",
    "\n",
    "for i in range(10,210,10):\n",
    "    test_i_comp = np.load('/home/ubuntu/image-drift-monitoring/data/rxrx1_v1.0/drifted_data/sudden_drift/rxrx1_test_{}.npz'.format(i))\n",
    "    test_i = test_i_comp['arr_0']\n",
    "    for j in range(5,105,5):\n",
    "        myUAE = UntrainedAutoencoder()\n",
    "        myUAE.import_detector(path='/home/ubuntu/image-drift-monitoring/config/detectors/RxRx1/UAE/MMD/rxrx1_UAE_{}_MMD'.format(j),detector_type='MMD')\n",
    "        res = myUAE.make_prediction(target_data=test_i, detector_type='MMD')\n",
    "\n",
    "        df_new.loc['Size {}'.format(i)]['{}'.format(j)] = res['data']['is_drift']\n",
    "df_new.to_excel('rxrx1_uae_mmd_results.xlsx')"
   ]
  },
  {
   "attachments": {},
   "cell_type": "markdown",
   "metadata": {},
   "source": [
    "### LSDD"
   ]
  },
  {
   "cell_type": "code",
   "execution_count": null,
   "metadata": {},
   "outputs": [],
   "source": [
    "%cd /home/ubuntu/image-drift-monitoring\n",
    "from src.modules.alibi_detect.untrained_encoder import UntrainedAutoencoder\n",
    "\n",
    "import numpy as np\n",
    "\n",
    "for i in range(10,210,10):\n",
    "    test_i_comp = np.load('/home/ubuntu/image-drift-monitoring/data/rxrx1_v1.0/drifted_data/sudden_drift/rxrx1_test_{}.npz'.format(i))\n",
    "    test_i = test_i_comp['arr_0']\n",
    "    for j in range(5,105,5):\n",
    "        myUAE = UntrainedAutoencoder()\n",
    "        myUAE.import_detector(path='/home/ubuntu/image-drift-monitoring/config/detectors/RxRx1/UAE/LSDD/rxrx1_UAE_{}_LSDD'.format(j),detector_type='LSDD')\n",
    "        res = myUAE.make_prediction(target_data=test_i, detector_type='LSDD')\n",
    "\n",
    "        df_new.loc['Size {}'.format(i)]['{}'.format(j)] = res['data']['is_drift']\n",
    "df_new.to_excel('rxrx1_uae_lsdd_results.xlsx')"
   ]
  }
 ],
 "metadata": {
  "kernelspec": {
   "display_name": "alibitorchwhy",
   "language": "python",
   "name": "python3"
  },
  "language_info": {
   "codemirror_mode": {
    "name": "ipython",
    "version": 3
   },
   "file_extension": ".py",
   "mimetype": "text/x-python",
   "name": "python",
   "nbconvert_exporter": "python",
   "pygments_lexer": "ipython3",
   "version": "3.8.15"
  },
  "orig_nbformat": 4,
  "vscode": {
   "interpreter": {
    "hash": "401cebfcb5cce5f71138843ad74eb16632e47d40b3a47aa4ad883b3d134173ed"
   }
  }
 },
 "nbformat": 4,
 "nbformat_minor": 2
}
