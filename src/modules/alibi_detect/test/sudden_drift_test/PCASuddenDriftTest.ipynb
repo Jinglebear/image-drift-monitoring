{
 "cells": [
  {
   "attachments": {},
   "cell_type": "markdown",
   "metadata": {},
   "source": [
    "Replace \\<DATASETNAME\\> for each Dataset & Adjust Data PATH"
   ]
  },
  {
   "attachments": {},
   "cell_type": "markdown",
   "metadata": {},
   "source": [
    "# PCA Sudden Drift Test"
   ]
  },
  {
   "cell_type": "code",
   "execution_count": 2,
   "metadata": {},
   "outputs": [],
   "source": [
    "import pandas as pd\n",
    "data = {\n",
    "    \"100\":[\"{}\".format(i) for i in range(1,21,1)],\n",
    "    \"80\" : [\"{}\".format(i) for i in range(1,21,1)],\n",
    "    \"60\" : [\"{}\".format(i) for i in range(1,21,1)],\n",
    "    \"40\" : [\"{}\".format(i) for i in range(1,21,1)],\n",
    "    \"20\" : [\"{}\".format(i) for i in range(1,21,1)]\n",
    "}\n",
    "df_new = pd.DataFrame(data,index=[\"{} OOD Bilder\".format(i) for i in range(10,210,10)])"
   ]
  },
  {
   "attachments": {},
   "cell_type": "markdown",
   "metadata": {},
   "source": [
    "### KS"
   ]
  },
  {
   "cell_type": "code",
   "execution_count": null,
   "metadata": {},
   "outputs": [],
   "source": [
    "%cd /home/ubuntu/image-drift-monitoring\n",
    "\n",
    "from src.modules.alibi_detect.principal_component_analysis import PrincipalComponentAnalysis\n",
    "import numpy as np\n",
    "\n",
    "for i in range(10,210,10):\n",
    "    test_i_comp = np.load('/home/ubuntu/image-drift-monitoring/data/rxrx1_v1.0/drifted_data/sudden_drift/rxrx1_test_{}.npz'.format(i))\n",
    "    test_i = test_i_comp['arr_0']\n",
    "    for j in range(20,120,20):\n",
    "        myPCA = PrincipalComponentAnalysis()\n",
    "        myPCA.import_detector(path='/home/ubuntu/image-drift-monitoring/config/detectors/RxRx1/PCA_n_100/KS/rxrx1_PCA_{}_KS'.format(j),detector_type='KS')\n",
    "        res = myPCA.make_prediction(target_data=test_i, detector_type='KS')\n",
    "\n",
    "        df_new.loc['{} OOD Bilder'.format(i)]['{}'.format(j)] = res['data']['is_drift']\n",
    "df_new.to_excel('rxrx1_pca_ks_results_sudden.xlsx')"
   ]
  },
  {
   "attachments": {},
   "cell_type": "markdown",
   "metadata": {},
   "source": [
    "### CVM"
   ]
  },
  {
   "cell_type": "code",
   "execution_count": null,
   "metadata": {},
   "outputs": [],
   "source": [
    "%cd /home/ubuntu/image-drift-monitoring\n",
    "from src.modules.alibi_detect.principal_component_analysis import PrincipalComponentAnalysis\n",
    "\n",
    "import numpy as np\n",
    "\n",
    "for i in range(10,210,10):\n",
    "    test_i_comp = np.load('/home/ubuntu/image-drift-monitoring/data/rxrx1_v1.0/drifted_data/sudden_drift/rxrx1_test_{}.npz'.format(i))\n",
    "    test_i = test_i_comp['arr_0']\n",
    "    for j in range(20,120,20):\n",
    "        myPCA = PrincipalComponentAnalysis()\n",
    "        myPCA.import_detector(path='/home/ubuntu/image-drift-monitoring/config/detectors/RxRx1/PCA_n_100/CVM/rxrx1_PCA_{}_CVM'.format(j),detector_type='CVM')\n",
    "        res = myPCA.make_prediction(target_data=test_i, detector_type='CVM')\n",
    "\n",
    "        df_new.loc['{} OOD Bilder'.format(i)]['{}'.format(j)] = res['data']['is_drift']\n",
    "df_new.to_excel('rxrx1_pca_cvm_results_sudden.xlsx')"
   ]
  },
  {
   "attachments": {},
   "cell_type": "markdown",
   "metadata": {},
   "source": [
    "### MMD "
   ]
  },
  {
   "cell_type": "code",
   "execution_count": 3,
   "metadata": {},
   "outputs": [
    {
     "name": "stdout",
     "output_type": "stream",
     "text": [
      "/home/ubuntu/image-drift-monitoring\n"
     ]
    },
    {
     "name": "stderr",
     "output_type": "stream",
     "text": [
      "2023-02-14 22:00:50,387 [INFO]  MMD Detector imported\n",
      "2023-02-14 22:00:50,387 [INFO]  MMD Detector imported\n",
      "2023-02-14 22:04:11,568 [INFO]  MMD Detector imported\n",
      "2023-02-14 22:04:11,568 [INFO]  MMD Detector imported\n",
      "2023-02-14 22:04:11,568 [INFO]  MMD Detector imported\n",
      "2023-02-14 22:13:56,389 [INFO]  MMD Detector imported\n",
      "2023-02-14 22:13:56,389 [INFO]  MMD Detector imported\n",
      "2023-02-14 22:13:56,389 [INFO]  MMD Detector imported\n",
      "2023-02-14 22:13:56,389 [INFO]  MMD Detector imported\n",
      "2023-02-14 22:33:33,046 [INFO]  MMD Detector imported\n",
      "2023-02-14 22:33:33,046 [INFO]  MMD Detector imported\n",
      "2023-02-14 22:33:33,046 [INFO]  MMD Detector imported\n",
      "2023-02-14 22:33:33,046 [INFO]  MMD Detector imported\n",
      "2023-02-14 22:33:33,046 [INFO]  MMD Detector imported\n"
     ]
    },
    {
     "ename": "KeyboardInterrupt",
     "evalue": "",
     "output_type": "error",
     "traceback": [
      "\u001b[0;31m---------------------------------------------------------------------------\u001b[0m",
      "\u001b[0;31mKeyboardInterrupt\u001b[0m                         Traceback (most recent call last)",
      "Cell \u001b[0;32mIn[3], line 12\u001b[0m\n\u001b[1;32m     10\u001b[0m         test_i_comp \u001b[39m=\u001b[39m np\u001b[39m.\u001b[39mload(\u001b[39m'\u001b[39m\u001b[39m/home/ubuntu/image-drift-monitoring/data/rxrx1_v1.0/drifted_data/sudden_drift/rxrx1_test_\u001b[39m\u001b[39m{}\u001b[39;00m\u001b[39m.npz\u001b[39m\u001b[39m'\u001b[39m\u001b[39m.\u001b[39mformat(i))\n\u001b[1;32m     11\u001b[0m         test_i \u001b[39m=\u001b[39m test_i_comp[\u001b[39m'\u001b[39m\u001b[39marr_0\u001b[39m\u001b[39m'\u001b[39m]\n\u001b[0;32m---> 12\u001b[0m         res \u001b[39m=\u001b[39m myPCA\u001b[39m.\u001b[39;49mmake_prediction(target_data\u001b[39m=\u001b[39;49mtest_i, detector_type\u001b[39m=\u001b[39;49m\u001b[39m'\u001b[39;49m\u001b[39mMMD\u001b[39;49m\u001b[39m'\u001b[39;49m)\n\u001b[1;32m     13\u001b[0m         df_new\u001b[39m.\u001b[39mloc[\u001b[39m'\u001b[39m\u001b[39m{}\u001b[39;00m\u001b[39m OOD Bilder\u001b[39m\u001b[39m'\u001b[39m\u001b[39m.\u001b[39mformat(i)][\u001b[39m'\u001b[39m\u001b[39m{}\u001b[39;00m\u001b[39m'\u001b[39m\u001b[39m.\u001b[39mformat(j)] \u001b[39m=\u001b[39m res[\u001b[39m'\u001b[39m\u001b[39mdata\u001b[39m\u001b[39m'\u001b[39m][\u001b[39m'\u001b[39m\u001b[39mis_drift\u001b[39m\u001b[39m'\u001b[39m]\n\u001b[1;32m     14\u001b[0m df_new\u001b[39m.\u001b[39mto_excel(\u001b[39m'\u001b[39m\u001b[39mrxrx1_pca_mmd_results_sudden.xlsx\u001b[39m\u001b[39m'\u001b[39m)\n",
      "File \u001b[0;32m~/image-drift-monitoring/src/modules/alibi_detect/principal_component_analysis.py:105\u001b[0m, in \u001b[0;36mPrincipalComponentAnalysis.make_prediction\u001b[0;34m(self, target_data, detector_type)\u001b[0m\n\u001b[1;32m    103\u001b[0m     preds \u001b[39m=\u001b[39m \u001b[39mself\u001b[39m\u001b[39m.\u001b[39mdetectorKS\u001b[39m.\u001b[39mpredict(x\u001b[39m=\u001b[39mtarget_data) \n\u001b[1;32m    104\u001b[0m \u001b[39melif\u001b[39;00m detector_type \u001b[39m==\u001b[39m \u001b[39m'\u001b[39m\u001b[39mMMD\u001b[39m\u001b[39m'\u001b[39m \u001b[39mand\u001b[39;00m \u001b[39mself\u001b[39m\u001b[39m.\u001b[39mdetectorMMD \u001b[39mis\u001b[39;00m \u001b[39mnot\u001b[39;00m \u001b[39mNone\u001b[39;00m:\n\u001b[0;32m--> 105\u001b[0m     preds \u001b[39m=\u001b[39m \u001b[39mself\u001b[39;49m\u001b[39m.\u001b[39;49mdetectorMMD\u001b[39m.\u001b[39;49mpredict(x\u001b[39m=\u001b[39;49mtarget_data) \n\u001b[1;32m    106\u001b[0m \u001b[39melif\u001b[39;00m detector_type \u001b[39m==\u001b[39m \u001b[39m'\u001b[39m\u001b[39mCVM\u001b[39m\u001b[39m'\u001b[39m \u001b[39mand\u001b[39;00m \u001b[39mself\u001b[39m\u001b[39m.\u001b[39mdetectorCVM \u001b[39mis\u001b[39;00m \u001b[39mnot\u001b[39;00m \u001b[39mNone\u001b[39;00m:\n\u001b[1;32m    107\u001b[0m     preds \u001b[39m=\u001b[39m \u001b[39mself\u001b[39m\u001b[39m.\u001b[39mdetectorCVM\u001b[39m.\u001b[39mpredict(x\u001b[39m=\u001b[39mtarget_data) \n",
      "File \u001b[0;32m~/miniconda3/envs/alibitorchwhy/lib/python3.8/site-packages/alibi_detect/cd/mmd.py:142\u001b[0m, in \u001b[0;36mMMDDrift.predict\u001b[0;34m(self, x, return_p_val, return_distance)\u001b[0m\n\u001b[1;32m    122\u001b[0m \u001b[39mdef\u001b[39;00m \u001b[39mpredict\u001b[39m(\u001b[39mself\u001b[39m, x: Union[np\u001b[39m.\u001b[39mndarray, \u001b[39mlist\u001b[39m], return_p_val: \u001b[39mbool\u001b[39m \u001b[39m=\u001b[39m \u001b[39mTrue\u001b[39;00m, return_distance: \u001b[39mbool\u001b[39m \u001b[39m=\u001b[39m \u001b[39mTrue\u001b[39;00m) \\\n\u001b[1;32m    123\u001b[0m         \u001b[39m-\u001b[39m\u001b[39m>\u001b[39m Dict[Dict[\u001b[39mstr\u001b[39m, \u001b[39mstr\u001b[39m], Dict[\u001b[39mstr\u001b[39m, Union[\u001b[39mint\u001b[39m, \u001b[39mfloat\u001b[39m]]]:\n\u001b[1;32m    124\u001b[0m     \u001b[39m\"\"\"\u001b[39;00m\n\u001b[1;32m    125\u001b[0m \u001b[39m    Predict whether a batch of data has drifted from the reference data.\u001b[39;00m\n\u001b[1;32m    126\u001b[0m \n\u001b[0;32m   (...)\u001b[0m\n\u001b[1;32m    140\u001b[0m \u001b[39m    'data' contains the drift prediction and optionally the p-value, threshold and MMD metric.\u001b[39;00m\n\u001b[1;32m    141\u001b[0m \u001b[39m    \"\"\"\u001b[39;00m\n\u001b[0;32m--> 142\u001b[0m     \u001b[39mreturn\u001b[39;00m \u001b[39mself\u001b[39;49m\u001b[39m.\u001b[39;49m_detector\u001b[39m.\u001b[39;49mpredict(x, return_p_val, return_distance)\n",
      "File \u001b[0;32m~/miniconda3/envs/alibitorchwhy/lib/python3.8/site-packages/alibi_detect/cd/base.py:634\u001b[0m, in \u001b[0;36mBaseMMDDrift.predict\u001b[0;34m(self, x, return_p_val, return_distance)\u001b[0m\n\u001b[1;32m    615\u001b[0m \u001b[39m\"\"\"\u001b[39;00m\n\u001b[1;32m    616\u001b[0m \u001b[39mPredict whether a batch of data has drifted from the reference data.\u001b[39;00m\n\u001b[1;32m    617\u001b[0m \n\u001b[0;32m   (...)\u001b[0m\n\u001b[1;32m    631\u001b[0m \u001b[39m'data' contains the drift prediction and optionally the p-value, threshold and MMD metric.\u001b[39;00m\n\u001b[1;32m    632\u001b[0m \u001b[39m\"\"\"\u001b[39;00m\n\u001b[1;32m    633\u001b[0m \u001b[39m# compute drift scores\u001b[39;00m\n\u001b[0;32m--> 634\u001b[0m p_val, dist, distance_threshold \u001b[39m=\u001b[39m \u001b[39mself\u001b[39;49m\u001b[39m.\u001b[39;49mscore(x)\n\u001b[1;32m    635\u001b[0m drift_pred \u001b[39m=\u001b[39m \u001b[39mint\u001b[39m(p_val \u001b[39m<\u001b[39m \u001b[39mself\u001b[39m\u001b[39m.\u001b[39mp_val)\n\u001b[1;32m    637\u001b[0m \u001b[39m# update reference dataset\u001b[39;00m\n",
      "File \u001b[0;32m~/miniconda3/envs/alibitorchwhy/lib/python3.8/site-packages/alibi_detect/cd/tensorflow/mmd.py:124\u001b[0m, in \u001b[0;36mMMDDriftTF.score\u001b[0;34m(self, x)\u001b[0m\n\u001b[1;32m    121\u001b[0m kernel_mat \u001b[39m=\u001b[39m kernel_mat \u001b[39m-\u001b[39m tf\u001b[39m.\u001b[39mlinalg\u001b[39m.\u001b[39mdiag(tf\u001b[39m.\u001b[39mlinalg\u001b[39m.\u001b[39mdiag_part(kernel_mat))  \u001b[39m# zero diagonal\u001b[39;00m\n\u001b[1;32m    122\u001b[0m mmd2 \u001b[39m=\u001b[39m mmd2_from_kernel_matrix(kernel_mat, n, permute\u001b[39m=\u001b[39m\u001b[39mFalse\u001b[39;00m, zero_diag\u001b[39m=\u001b[39m\u001b[39mFalse\u001b[39;00m)\u001b[39m.\u001b[39mnumpy()\n\u001b[1;32m    123\u001b[0m mmd2_permuted \u001b[39m=\u001b[39m np\u001b[39m.\u001b[39marray(\n\u001b[0;32m--> 124\u001b[0m     [mmd2_from_kernel_matrix(kernel_mat, n, permute\u001b[39m=\u001b[39m\u001b[39mTrue\u001b[39;00m, zero_diag\u001b[39m=\u001b[39m\u001b[39mFalse\u001b[39;00m)\u001b[39m.\u001b[39mnumpy()\n\u001b[1;32m    125\u001b[0m      \u001b[39mfor\u001b[39;00m _ \u001b[39min\u001b[39;00m \u001b[39mrange\u001b[39m(\u001b[39mself\u001b[39m\u001b[39m.\u001b[39mn_permutations)]\n\u001b[1;32m    126\u001b[0m )\n\u001b[1;32m    127\u001b[0m p_val \u001b[39m=\u001b[39m (mmd2 \u001b[39m<\u001b[39m\u001b[39m=\u001b[39m mmd2_permuted)\u001b[39m.\u001b[39mmean()\n\u001b[1;32m    128\u001b[0m \u001b[39m# compute distance threshold\u001b[39;00m\n",
      "File \u001b[0;32m~/miniconda3/envs/alibitorchwhy/lib/python3.8/site-packages/alibi_detect/cd/tensorflow/mmd.py:124\u001b[0m, in \u001b[0;36m<listcomp>\u001b[0;34m(.0)\u001b[0m\n\u001b[1;32m    121\u001b[0m kernel_mat \u001b[39m=\u001b[39m kernel_mat \u001b[39m-\u001b[39m tf\u001b[39m.\u001b[39mlinalg\u001b[39m.\u001b[39mdiag(tf\u001b[39m.\u001b[39mlinalg\u001b[39m.\u001b[39mdiag_part(kernel_mat))  \u001b[39m# zero diagonal\u001b[39;00m\n\u001b[1;32m    122\u001b[0m mmd2 \u001b[39m=\u001b[39m mmd2_from_kernel_matrix(kernel_mat, n, permute\u001b[39m=\u001b[39m\u001b[39mFalse\u001b[39;00m, zero_diag\u001b[39m=\u001b[39m\u001b[39mFalse\u001b[39;00m)\u001b[39m.\u001b[39mnumpy()\n\u001b[1;32m    123\u001b[0m mmd2_permuted \u001b[39m=\u001b[39m np\u001b[39m.\u001b[39marray(\n\u001b[0;32m--> 124\u001b[0m     [mmd2_from_kernel_matrix(kernel_mat, n, permute\u001b[39m=\u001b[39;49m\u001b[39mTrue\u001b[39;49;00m, zero_diag\u001b[39m=\u001b[39;49m\u001b[39mFalse\u001b[39;49;00m)\u001b[39m.\u001b[39mnumpy()\n\u001b[1;32m    125\u001b[0m      \u001b[39mfor\u001b[39;00m _ \u001b[39min\u001b[39;00m \u001b[39mrange\u001b[39m(\u001b[39mself\u001b[39m\u001b[39m.\u001b[39mn_permutations)]\n\u001b[1;32m    126\u001b[0m )\n\u001b[1;32m    127\u001b[0m p_val \u001b[39m=\u001b[39m (mmd2 \u001b[39m<\u001b[39m\u001b[39m=\u001b[39m mmd2_permuted)\u001b[39m.\u001b[39mmean()\n\u001b[1;32m    128\u001b[0m \u001b[39m# compute distance threshold\u001b[39;00m\n",
      "File \u001b[0;32m~/miniconda3/envs/alibitorchwhy/lib/python3.8/site-packages/alibi_detect/utils/tensorflow/distance.py:113\u001b[0m, in \u001b[0;36mmmd2_from_kernel_matrix\u001b[0;34m(kernel_mat, m, permute, zero_diag)\u001b[0m\n\u001b[1;32m    111\u001b[0m     idx \u001b[39m=\u001b[39m np\u001b[39m.\u001b[39mrandom\u001b[39m.\u001b[39mpermutation(kernel_mat\u001b[39m.\u001b[39mshape[\u001b[39m0\u001b[39m])\n\u001b[1;32m    112\u001b[0m     kernel_mat \u001b[39m=\u001b[39m tf\u001b[39m.\u001b[39mgather(tf\u001b[39m.\u001b[39mgather(kernel_mat, indices\u001b[39m=\u001b[39midx, axis\u001b[39m=\u001b[39m\u001b[39m0\u001b[39m), indices\u001b[39m=\u001b[39midx, axis\u001b[39m=\u001b[39m\u001b[39m1\u001b[39m)\n\u001b[0;32m--> 113\u001b[0m k_xx, k_yy, k_xy \u001b[39m=\u001b[39m kernel_mat[:\u001b[39m-\u001b[39;49mm, :\u001b[39m-\u001b[39;49mm], kernel_mat[\u001b[39m-\u001b[39mm:, \u001b[39m-\u001b[39mm:], kernel_mat[\u001b[39m-\u001b[39mm:, :\u001b[39m-\u001b[39mm]\n\u001b[1;32m    114\u001b[0m c_xx, c_yy \u001b[39m=\u001b[39m \u001b[39m1\u001b[39m \u001b[39m/\u001b[39m (n \u001b[39m*\u001b[39m (n \u001b[39m-\u001b[39m \u001b[39m1\u001b[39m)), \u001b[39m1\u001b[39m \u001b[39m/\u001b[39m (m \u001b[39m*\u001b[39m (m \u001b[39m-\u001b[39m \u001b[39m1\u001b[39m))\n\u001b[1;32m    115\u001b[0m mmd2 \u001b[39m=\u001b[39m c_xx \u001b[39m*\u001b[39m tf\u001b[39m.\u001b[39mreduce_sum(k_xx) \u001b[39m+\u001b[39m c_yy \u001b[39m*\u001b[39m tf\u001b[39m.\u001b[39mreduce_sum(k_yy) \u001b[39m-\u001b[39m \u001b[39m2.\u001b[39m \u001b[39m*\u001b[39m tf\u001b[39m.\u001b[39mreduce_mean(k_xy)\n",
      "File \u001b[0;32m~/miniconda3/envs/alibitorchwhy/lib/python3.8/site-packages/tensorflow/python/util/traceback_utils.py:150\u001b[0m, in \u001b[0;36mfilter_traceback.<locals>.error_handler\u001b[0;34m(*args, **kwargs)\u001b[0m\n\u001b[1;32m    148\u001b[0m filtered_tb \u001b[39m=\u001b[39m \u001b[39mNone\u001b[39;00m\n\u001b[1;32m    149\u001b[0m \u001b[39mtry\u001b[39;00m:\n\u001b[0;32m--> 150\u001b[0m   \u001b[39mreturn\u001b[39;00m fn(\u001b[39m*\u001b[39;49margs, \u001b[39m*\u001b[39;49m\u001b[39m*\u001b[39;49mkwargs)\n\u001b[1;32m    151\u001b[0m \u001b[39mexcept\u001b[39;00m \u001b[39mException\u001b[39;00m \u001b[39mas\u001b[39;00m e:\n\u001b[1;32m    152\u001b[0m   filtered_tb \u001b[39m=\u001b[39m _process_traceback_frames(e\u001b[39m.\u001b[39m__traceback__)\n",
      "File \u001b[0;32m~/miniconda3/envs/alibitorchwhy/lib/python3.8/site-packages/tensorflow/python/util/dispatch.py:1176\u001b[0m, in \u001b[0;36madd_dispatch_support.<locals>.decorator.<locals>.op_dispatch_handler\u001b[0;34m(*args, **kwargs)\u001b[0m\n\u001b[1;32m   1174\u001b[0m \u001b[39m# Fallback dispatch system (dispatch v1):\u001b[39;00m\n\u001b[1;32m   1175\u001b[0m \u001b[39mtry\u001b[39;00m:\n\u001b[0;32m-> 1176\u001b[0m   \u001b[39mreturn\u001b[39;00m dispatch_target(\u001b[39m*\u001b[39;49margs, \u001b[39m*\u001b[39;49m\u001b[39m*\u001b[39;49mkwargs)\n\u001b[1;32m   1177\u001b[0m \u001b[39mexcept\u001b[39;00m (\u001b[39mTypeError\u001b[39;00m, \u001b[39mValueError\u001b[39;00m):\n\u001b[1;32m   1178\u001b[0m   \u001b[39m# Note: convert_to_eager_tensor currently raises a ValueError, not a\u001b[39;00m\n\u001b[1;32m   1179\u001b[0m   \u001b[39m# TypeError, when given unexpected types.  So we need to catch both.\u001b[39;00m\n\u001b[1;32m   1180\u001b[0m   result \u001b[39m=\u001b[39m dispatch(op_dispatch_handler, args, kwargs)\n",
      "File \u001b[0;32m~/miniconda3/envs/alibitorchwhy/lib/python3.8/site-packages/tensorflow/python/ops/array_ops.py:1096\u001b[0m, in \u001b[0;36m_slice_helper\u001b[0;34m(tensor, slice_spec, var)\u001b[0m\n\u001b[1;32m   1094\u001b[0m   var_empty \u001b[39m=\u001b[39m constant([], dtype\u001b[39m=\u001b[39mdtypes\u001b[39m.\u001b[39mint32)\n\u001b[1;32m   1095\u001b[0m   packed_begin \u001b[39m=\u001b[39m packed_end \u001b[39m=\u001b[39m packed_strides \u001b[39m=\u001b[39m var_empty\n\u001b[0;32m-> 1096\u001b[0m \u001b[39mreturn\u001b[39;00m strided_slice(\n\u001b[1;32m   1097\u001b[0m     tensor,\n\u001b[1;32m   1098\u001b[0m     packed_begin,\n\u001b[1;32m   1099\u001b[0m     packed_end,\n\u001b[1;32m   1100\u001b[0m     packed_strides,\n\u001b[1;32m   1101\u001b[0m     begin_mask\u001b[39m=\u001b[39;49mbegin_mask,\n\u001b[1;32m   1102\u001b[0m     end_mask\u001b[39m=\u001b[39;49mend_mask,\n\u001b[1;32m   1103\u001b[0m     shrink_axis_mask\u001b[39m=\u001b[39;49mshrink_axis_mask,\n\u001b[1;32m   1104\u001b[0m     new_axis_mask\u001b[39m=\u001b[39;49mnew_axis_mask,\n\u001b[1;32m   1105\u001b[0m     ellipsis_mask\u001b[39m=\u001b[39;49mellipsis_mask,\n\u001b[1;32m   1106\u001b[0m     var\u001b[39m=\u001b[39;49mvar,\n\u001b[1;32m   1107\u001b[0m     name\u001b[39m=\u001b[39;49mname)\n",
      "File \u001b[0;32m~/miniconda3/envs/alibitorchwhy/lib/python3.8/site-packages/tensorflow/python/util/traceback_utils.py:150\u001b[0m, in \u001b[0;36mfilter_traceback.<locals>.error_handler\u001b[0;34m(*args, **kwargs)\u001b[0m\n\u001b[1;32m    148\u001b[0m filtered_tb \u001b[39m=\u001b[39m \u001b[39mNone\u001b[39;00m\n\u001b[1;32m    149\u001b[0m \u001b[39mtry\u001b[39;00m:\n\u001b[0;32m--> 150\u001b[0m   \u001b[39mreturn\u001b[39;00m fn(\u001b[39m*\u001b[39;49margs, \u001b[39m*\u001b[39;49m\u001b[39m*\u001b[39;49mkwargs)\n\u001b[1;32m    151\u001b[0m \u001b[39mexcept\u001b[39;00m \u001b[39mException\u001b[39;00m \u001b[39mas\u001b[39;00m e:\n\u001b[1;32m    152\u001b[0m   filtered_tb \u001b[39m=\u001b[39m _process_traceback_frames(e\u001b[39m.\u001b[39m__traceback__)\n",
      "File \u001b[0;32m~/miniconda3/envs/alibitorchwhy/lib/python3.8/site-packages/tensorflow/python/util/dispatch.py:1176\u001b[0m, in \u001b[0;36madd_dispatch_support.<locals>.decorator.<locals>.op_dispatch_handler\u001b[0;34m(*args, **kwargs)\u001b[0m\n\u001b[1;32m   1174\u001b[0m \u001b[39m# Fallback dispatch system (dispatch v1):\u001b[39;00m\n\u001b[1;32m   1175\u001b[0m \u001b[39mtry\u001b[39;00m:\n\u001b[0;32m-> 1176\u001b[0m   \u001b[39mreturn\u001b[39;00m dispatch_target(\u001b[39m*\u001b[39;49margs, \u001b[39m*\u001b[39;49m\u001b[39m*\u001b[39;49mkwargs)\n\u001b[1;32m   1177\u001b[0m \u001b[39mexcept\u001b[39;00m (\u001b[39mTypeError\u001b[39;00m, \u001b[39mValueError\u001b[39;00m):\n\u001b[1;32m   1178\u001b[0m   \u001b[39m# Note: convert_to_eager_tensor currently raises a ValueError, not a\u001b[39;00m\n\u001b[1;32m   1179\u001b[0m   \u001b[39m# TypeError, when given unexpected types.  So we need to catch both.\u001b[39;00m\n\u001b[1;32m   1180\u001b[0m   result \u001b[39m=\u001b[39m dispatch(op_dispatch_handler, args, kwargs)\n",
      "File \u001b[0;32m~/miniconda3/envs/alibitorchwhy/lib/python3.8/site-packages/tensorflow/python/ops/array_ops.py:1269\u001b[0m, in \u001b[0;36mstrided_slice\u001b[0;34m(input_, begin, end, strides, begin_mask, end_mask, ellipsis_mask, new_axis_mask, shrink_axis_mask, var, name)\u001b[0m\n\u001b[1;32m   1266\u001b[0m \u001b[39mif\u001b[39;00m strides \u001b[39mis\u001b[39;00m \u001b[39mNone\u001b[39;00m:\n\u001b[1;32m   1267\u001b[0m   strides \u001b[39m=\u001b[39m ones_like(begin)\n\u001b[0;32m-> 1269\u001b[0m op \u001b[39m=\u001b[39m gen_array_ops\u001b[39m.\u001b[39;49mstrided_slice(\n\u001b[1;32m   1270\u001b[0m     \u001b[39minput\u001b[39;49m\u001b[39m=\u001b[39;49minput_,\n\u001b[1;32m   1271\u001b[0m     begin\u001b[39m=\u001b[39;49mbegin,\n\u001b[1;32m   1272\u001b[0m     end\u001b[39m=\u001b[39;49mend,\n\u001b[1;32m   1273\u001b[0m     strides\u001b[39m=\u001b[39;49mstrides,\n\u001b[1;32m   1274\u001b[0m     name\u001b[39m=\u001b[39;49mname,\n\u001b[1;32m   1275\u001b[0m     begin_mask\u001b[39m=\u001b[39;49mbegin_mask,\n\u001b[1;32m   1276\u001b[0m     end_mask\u001b[39m=\u001b[39;49mend_mask,\n\u001b[1;32m   1277\u001b[0m     ellipsis_mask\u001b[39m=\u001b[39;49mellipsis_mask,\n\u001b[1;32m   1278\u001b[0m     new_axis_mask\u001b[39m=\u001b[39;49mnew_axis_mask,\n\u001b[1;32m   1279\u001b[0m     shrink_axis_mask\u001b[39m=\u001b[39;49mshrink_axis_mask)\n\u001b[1;32m   1281\u001b[0m parent_name \u001b[39m=\u001b[39m name\n\u001b[1;32m   1283\u001b[0m \u001b[39mif\u001b[39;00m var \u001b[39mis\u001b[39;00m \u001b[39mnot\u001b[39;00m \u001b[39mNone\u001b[39;00m:\n",
      "File \u001b[0;32m~/miniconda3/envs/alibitorchwhy/lib/python3.8/site-packages/tensorflow/python/ops/gen_array_ops.py:10672\u001b[0m, in \u001b[0;36mstrided_slice\u001b[0;34m(input, begin, end, strides, begin_mask, end_mask, ellipsis_mask, new_axis_mask, shrink_axis_mask, name)\u001b[0m\n\u001b[1;32m  10670\u001b[0m \u001b[39mif\u001b[39;00m tld\u001b[39m.\u001b[39mis_eager:\n\u001b[1;32m  10671\u001b[0m   \u001b[39mtry\u001b[39;00m:\n\u001b[0;32m> 10672\u001b[0m     _result \u001b[39m=\u001b[39m pywrap_tfe\u001b[39m.\u001b[39;49mTFE_Py_FastPathExecute(\n\u001b[1;32m  10673\u001b[0m       _ctx, \u001b[39m\"\u001b[39;49m\u001b[39mStridedSlice\u001b[39;49m\u001b[39m\"\u001b[39;49m, name, \u001b[39minput\u001b[39;49m, begin, end, strides, \u001b[39m\"\u001b[39;49m\u001b[39mbegin_mask\u001b[39;49m\u001b[39m\"\u001b[39;49m,\n\u001b[1;32m  10674\u001b[0m       begin_mask, \u001b[39m\"\u001b[39;49m\u001b[39mend_mask\u001b[39;49m\u001b[39m\"\u001b[39;49m, end_mask, \u001b[39m\"\u001b[39;49m\u001b[39mellipsis_mask\u001b[39;49m\u001b[39m\"\u001b[39;49m, ellipsis_mask,\n\u001b[1;32m  10675\u001b[0m       \u001b[39m\"\u001b[39;49m\u001b[39mnew_axis_mask\u001b[39;49m\u001b[39m\"\u001b[39;49m, new_axis_mask, \u001b[39m\"\u001b[39;49m\u001b[39mshrink_axis_mask\u001b[39;49m\u001b[39m\"\u001b[39;49m, shrink_axis_mask)\n\u001b[1;32m  10676\u001b[0m     \u001b[39mreturn\u001b[39;00m _result\n\u001b[1;32m  10677\u001b[0m   \u001b[39mexcept\u001b[39;00m _core\u001b[39m.\u001b[39m_NotOkStatusException \u001b[39mas\u001b[39;00m e:\n",
      "\u001b[0;31mKeyboardInterrupt\u001b[0m: "
     ]
    }
   ],
   "source": [
    "%cd /home/ubuntu/image-drift-monitoring\n",
    "from src.modules.alibi_detect.principal_component_analysis import PrincipalComponentAnalysis\n",
    "\n",
    "import numpy as np\n",
    "\n",
    "for j in range(20,120,20):\n",
    "    myPCA = PrincipalComponentAnalysis()\n",
    "    myPCA.import_detector(path='/home/ubuntu/image-drift-monitoring/config/detectors/RxRx1/PCA_n_100/MMD/rxrx1_PCA_{}_MMD'.format(j),detector_type='MMD')\n",
    "    for i in range(10,210,10):\n",
    "        test_i_comp = np.load('/home/ubuntu/image-drift-monitoring/data/rxrx1_v1.0/drifted_data/sudden_drift/rxrx1_test_{}.npz'.format(i))\n",
    "        test_i = test_i_comp['arr_0']\n",
    "        res = myPCA.make_prediction(target_data=test_i, detector_type='MMD')\n",
    "        df_new.loc['{} OOD Bilder'.format(i)]['{}'.format(j)] = res['data']['is_drift']\n",
    "df_new.to_excel('rxrx1_pca_mmd_results_sudden.xlsx')"
   ]
  },
  {
   "attachments": {},
   "cell_type": "markdown",
   "metadata": {},
   "source": [
    "### LSDD"
   ]
  },
  {
   "cell_type": "code",
   "execution_count": null,
   "metadata": {},
   "outputs": [],
   "source": [
    "%cd /home/ubuntu/image-drift-monitoring\n",
    "from src.modules.alibi_detect.principal_component_analysis import PrincipalComponentAnalysis\n",
    "\n",
    "import numpy as np\n",
    "\n",
    "for i in range(10,210,10):\n",
    "    test_i_comp = np.load('/home/ubuntu/image-drift-monitoring/data/rxrx1_v1.0/drifted_data/sudden_drift/rxrx1_test_{}.npz'.format(i))\n",
    "    test_i = test_i_comp['arr_0']\n",
    "    for j in range(5,105,5):\n",
    "        myPCA = PrincipalComponentAnalysis()\n",
    "        myPCA.import_detector(path='/home/ubuntu/image-drift-monitoring/config/detectors/rxrx1/PCA_n_70/LSDD/rxrx1_PCA_{}_LSDD'.format(j),detector_type='LSDD')\n",
    "        res = myPCA.make_prediction(target_data=test_i, detector_type='LSDD')\n",
    "\n",
    "        df_new.loc['Size {}'.format(i)]['{}'.format(j)] = res['data']['is_drift']\n",
    "df_new.to_excel('rxrx1_pca_lsdd_results_sudden.xlsx')"
   ]
  }
 ],
 "metadata": {
  "kernelspec": {
   "display_name": "alibitorchwhy",
   "language": "python",
   "name": "python3"
  },
  "language_info": {
   "codemirror_mode": {
    "name": "ipython",
    "version": 3
   },
   "file_extension": ".py",
   "mimetype": "text/x-python",
   "name": "python",
   "nbconvert_exporter": "python",
   "pygments_lexer": "ipython3",
   "version": "3.8.15"
  },
  "orig_nbformat": 4,
  "vscode": {
   "interpreter": {
    "hash": "401cebfcb5cce5f71138843ad74eb16632e47d40b3a47aa4ad883b3d134173ed"
   }
  }
 },
 "nbformat": 4,
 "nbformat_minor": 2
}
