{
 "cells": [
  {
   "attachments": {},
   "cell_type": "markdown",
   "metadata": {},
   "source": [
    "# UAE"
   ]
  },
  {
   "cell_type": "code",
   "execution_count": null,
   "metadata": {},
   "outputs": [],
   "source": [
    "import pandas as pd\n",
    "data = {\n",
    "    \"100\":[\"{}\".format(i) for i in range(1,21,1)],\n",
    "    \"95\" : [\"{}\".format(i) for i in range(1,21,1)],\n",
    "    \"90\" : [\"{}\".format(i) for i in range(1,21,1)],\n",
    "    \"85\" : [\"{}\".format(i) for i in range(1,21,1)],\n",
    "    \"80\" : [\"{}\".format(i) for i in range(1,21,1)],\n",
    "    \"75\" : [\"{}\".format(i) for i in range(1,21,1)],\n",
    "    \"70\" : [\"{}\".format(i) for i in range(1,21,1)],\n",
    "    \"65\" : [\"{}\".format(i) for i in range(1,21,1)],\n",
    "    \"60\" : [\"{}\".format(i) for i in range(1,21,1)],\n",
    "    \"55\" : [\"{}\".format(i) for i in range(1,21,1)],\n",
    "    \"50\" : [\"{}\".format(i) for i in range(1,21,1)],\n",
    "    \"45\" : [\"{}\".format(i) for i in range(1,21,1)],\n",
    "    \"40\" : [\"{}\".format(i) for i in range(1,21,1)],\n",
    "    \"35\" : [\"{}\".format(i) for i in range(1,21,1)],\n",
    "    \"30\" : [\"{}\".format(i) for i in range(1,21,1)],\n",
    "    \"25\" : [\"{}\".format(i) for i in range(1,21,1)],\n",
    "    \"20\" : [\"{}\".format(i) for i in range(1,21,1)],\n",
    "    \"15\" : [\"{}\".format(i) for i in range(1,21,1)],\n",
    "    \"10\" : [\"{}\".format(i) for i in range(1,21,1)],\n",
    "    \"5\" : [\"{}\".format(i) for i in range(1,21,1)],\n",
    "}\n",
    "df_new = pd.DataFrame(data,index=[\"Size {}\".format(i) for i in range(10,210,10)])"
   ]
  },
  {
   "attachments": {},
   "cell_type": "markdown",
   "metadata": {},
   "source": [
    "KS"
   ]
  },
  {
   "cell_type": "code",
   "execution_count": null,
   "metadata": {},
   "outputs": [],
   "source": [
    "%cd /home/ubuntu/image-drift-monitoring\n",
    "from src.modules.alibi_detect.untrained_encoder import UntrainedAutoencoder\n",
    "\n",
    "import numpy as np\n",
    "\n",
    "for i in range(10,210,10):\n",
    "    test_i_comp = np.load('/home/ubuntu/image-drift-monitoring/data/rxrx1_v1.0/drifted_data/sudden_drift/rxrx1_test_{}.npz'.format(i))\n",
    "    test_i = test_i_comp['arr_0']\n",
    "    for j in range(5,105,5):\n",
    "        myUAE = UntrainedAutoencoder()\n",
    "        myUAE.import_detector(path='/home/ubuntu/image-drift-monitoring/config/detectors/RxRx1/UAE/KS/rxrx1_UAE_{}_KS'.format(j),detector_type='KS')\n",
    "        res = myUAE.make_prediction(target_data=test_i, detector_type='KS')\n",
    "\n",
    "        df_new.loc['Size {}'.format(i)]['{}'.format(j)] = res['data']['is_drift']\n",
    "df_new.to_excel('rxrx1_uae_ks_results.xlsx')"
   ]
  },
  {
   "attachments": {},
   "cell_type": "markdown",
   "metadata": {},
   "source": [
    "CVM"
   ]
  },
  {
   "cell_type": "code",
   "execution_count": null,
   "metadata": {},
   "outputs": [],
   "source": [
    "%cd /home/ubuntu/image-drift-monitoring\n",
    "from src.modules.alibi_detect.untrained_encoder import UntrainedAutoencoder\n",
    "\n",
    "import numpy as np\n",
    "\n",
    "for i in range(10,210,10):\n",
    "    test_i_comp = np.load('/home/ubuntu/image-drift-monitoring/data/rxrx1_v1.0/drifted_data/sudden_drift/rxrx1_test_{}.npz'.format(i))\n",
    "    test_i = test_i_comp['arr_0']\n",
    "    for j in range(5,105,5):\n",
    "        myUAE = UntrainedAutoencoder()\n",
    "        myUAE.import_detector(path='/home/ubuntu/image-drift-monitoring/config/detectors/RxRx1/UAE/CVM/rxrx1_UAE_{}_CVM'.format(j),detector_type='CVM')\n",
    "        res = myUAE.make_prediction(target_data=test_i, detector_type='CVM')\n",
    "\n",
    "        df_new.loc['Size {}'.format(i)]['{}'.format(j)] = res['data']['is_drift']\n",
    "df_new.to_excel('rxrx1_uae_cvm_results.xlsx')"
   ]
  },
  {
   "attachments": {},
   "cell_type": "markdown",
   "metadata": {},
   "source": [
    "MMD"
   ]
  },
  {
   "cell_type": "code",
   "execution_count": null,
   "metadata": {},
   "outputs": [],
   "source": [
    "%cd /home/ubuntu/image-drift-monitoring\n",
    "from src.modules.alibi_detect.untrained_encoder import UntrainedAutoencoder\n",
    "\n",
    "import numpy as np\n",
    "\n",
    "for i in range(10,210,10):\n",
    "    test_i_comp = np.load('/home/ubuntu/image-drift-monitoring/data/rxrx1_v1.0/drifted_data/sudden_drift/rxrx1_test_{}.npz'.format(i))\n",
    "    test_i = test_i_comp['arr_0']\n",
    "    for j in range(5,105,5):\n",
    "        myUAE = UntrainedAutoencoder()\n",
    "        myUAE.import_detector(path='/home/ubuntu/image-drift-monitoring/config/detectors/RxRx1/UAE/MMD/rxrx1_UAE_{}_MMD'.format(j),detector_type='MMD')\n",
    "        res = myUAE.make_prediction(target_data=test_i, detector_type='MMD')\n",
    "\n",
    "        df_new.loc['Size {}'.format(i)]['{}'.format(j)] = res['data']['is_drift']\n",
    "df_new.to_excel('rxrx1_uae_mmd_results.xlsx')"
   ]
  },
  {
   "attachments": {},
   "cell_type": "markdown",
   "metadata": {},
   "source": [
    "LSDD"
   ]
  },
  {
   "cell_type": "code",
   "execution_count": null,
   "metadata": {},
   "outputs": [],
   "source": [
    "%cd /home/ubuntu/image-drift-monitoring\n",
    "from src.modules.alibi_detect.untrained_encoder import UntrainedAutoencoder\n",
    "\n",
    "import numpy as np\n",
    "\n",
    "for i in range(10,210,10):\n",
    "    test_i_comp = np.load('/home/ubuntu/image-drift-monitoring/data/rxrx1_v1.0/drifted_data/sudden_drift/rxrx1_test_{}.npz'.format(i))\n",
    "    test_i = test_i_comp['arr_0']\n",
    "    for j in range(5,105,5):\n",
    "        myUAE = UntrainedAutoencoder()\n",
    "        myUAE.import_detector(path='/home/ubuntu/image-drift-monitoring/config/detectors/RxRx1/UAE/LSDD/rxrx1_UAE_{}_LSDD'.format(j),detector_type='LSDD')\n",
    "        res = myUAE.make_prediction(target_data=test_i, detector_type='LSDD')\n",
    "\n",
    "        df_new.loc['Size {}'.format(i)]['{}'.format(j)] = res['data']['is_drift']\n",
    "df_new.to_excel('rxrx1_uae_lsdd_results.xlsx')"
   ]
  },
  {
   "cell_type": "code",
   "execution_count": 1,
   "metadata": {},
   "outputs": [
    {
     "ename": "NameError",
     "evalue": "name 'pd' is not defined",
     "output_type": "error",
     "traceback": [
      "\u001b[0;31m---------------------------------------------------------------------------\u001b[0m",
      "\u001b[0;31mNameError\u001b[0m                                 Traceback (most recent call last)",
      "Cell \u001b[0;32mIn[1], line 23\u001b[0m\n\u001b[1;32m      1\u001b[0m data \u001b[39m=\u001b[39m {\n\u001b[1;32m      2\u001b[0m         \u001b[39m\"\u001b[39m\u001b[39m100\u001b[39m\u001b[39m\"\u001b[39m:[\u001b[39m\"\u001b[39m\u001b[39m{}\u001b[39;00m\u001b[39m\"\u001b[39m\u001b[39m.\u001b[39mformat(i) \u001b[39mfor\u001b[39;00m i \u001b[39min\u001b[39;00m \u001b[39mrange\u001b[39m(\u001b[39m1\u001b[39m,\u001b[39m21\u001b[39m,\u001b[39m1\u001b[39m)],\n\u001b[1;32m      3\u001b[0m         \u001b[39m\"\u001b[39m\u001b[39m95\u001b[39m\u001b[39m\"\u001b[39m : [\u001b[39m\"\u001b[39m\u001b[39m{}\u001b[39;00m\u001b[39m\"\u001b[39m\u001b[39m.\u001b[39mformat(i) \u001b[39mfor\u001b[39;00m i \u001b[39min\u001b[39;00m \u001b[39mrange\u001b[39m(\u001b[39m1\u001b[39m,\u001b[39m21\u001b[39m,\u001b[39m1\u001b[39m)],\n\u001b[0;32m   (...)\u001b[0m\n\u001b[1;32m     21\u001b[0m         \u001b[39m\"\u001b[39m\u001b[39m5\u001b[39m\u001b[39m\"\u001b[39m : [\u001b[39m\"\u001b[39m\u001b[39m{}\u001b[39;00m\u001b[39m\"\u001b[39m\u001b[39m.\u001b[39mformat(i) \u001b[39mfor\u001b[39;00m i \u001b[39min\u001b[39;00m \u001b[39mrange\u001b[39m(\u001b[39m1\u001b[39m,\u001b[39m21\u001b[39m,\u001b[39m1\u001b[39m)],\n\u001b[1;32m     22\u001b[0m         }\n\u001b[0;32m---> 23\u001b[0m df_new \u001b[39m=\u001b[39m pd\u001b[39m.\u001b[39mDataFrame(data,index\u001b[39m=\u001b[39m[\u001b[39m\"\u001b[39m\u001b[39mSize \u001b[39m\u001b[39m{}\u001b[39;00m\u001b[39m\"\u001b[39m\u001b[39m.\u001b[39mformat(i) \u001b[39mfor\u001b[39;00m i \u001b[39min\u001b[39;00m \u001b[39mrange\u001b[39m(\u001b[39m10\u001b[39m,\u001b[39m210\u001b[39m,\u001b[39m10\u001b[39m)])\n",
      "\u001b[0;31mNameError\u001b[0m: name 'pd' is not defined"
     ]
    }
   ],
   "source": [
    "import pandas as pd\n",
    "data = {\n",
    "        \"100\":[\"{}\".format(i) for i in range(1,21,1)],\n",
    "        \"95\" : [\"{}\".format(i) for i in range(1,21,1)],\n",
    "        \"90\" : [\"{}\".format(i) for i in range(1,21,1)],\n",
    "        \"85\" : [\"{}\".format(i) for i in range(1,21,1)],\n",
    "        \"80\" : [\"{}\".format(i) for i in range(1,21,1)],\n",
    "        \"75\" : [\"{}\".format(i) for i in range(1,21,1)],\n",
    "        \"70\" : [\"{}\".format(i) for i in range(1,21,1)],\n",
    "        \"65\" : [\"{}\".format(i) for i in range(1,21,1)],\n",
    "        \"60\" : [\"{}\".format(i) for i in range(1,21,1)],\n",
    "        \"55\" : [\"{}\".format(i) for i in range(1,21,1)],\n",
    "        \"50\" : [\"{}\".format(i) for i in range(1,21,1)],\n",
    "        \"45\" : [\"{}\".format(i) for i in range(1,21,1)],\n",
    "        \"40\" : [\"{}\".format(i) for i in range(1,21,1)],\n",
    "        \"35\" : [\"{}\".format(i) for i in range(1,21,1)],\n",
    "        \"30\" : [\"{}\".format(i) for i in range(1,21,1)],\n",
    "        \"25\" : [\"{}\".format(i) for i in range(1,21,1)],\n",
    "        \"20\" : [\"{}\".format(i) for i in range(1,21,1)],\n",
    "        \"15\" : [\"{}\".format(i) for i in range(1,21,1)],\n",
    "        \"10\" : [\"{}\".format(i) for i in range(1,21,1)],\n",
    "        \"5\" : [\"{}\".format(i) for i in range(1,21,1)],\n",
    "        }\n",
    "df_new = pd.DataFrame(data,index=[\"Size {}\".format(i) for i in range(10,210,10)])"
   ]
  },
  {
   "cell_type": "code",
   "execution_count": null,
   "metadata": {},
   "outputs": [],
   "source": [
    "df_new"
   ]
  }
 ],
 "metadata": {
  "kernelspec": {
   "display_name": "alibitorchwhy",
   "language": "python",
   "name": "python3"
  },
  "language_info": {
   "codemirror_mode": {
    "name": "ipython",
    "version": 3
   },
   "file_extension": ".py",
   "mimetype": "text/x-python",
   "name": "python",
   "nbconvert_exporter": "python",
   "pygments_lexer": "ipython3",
   "version": "3.8.15"
  },
  "orig_nbformat": 4,
  "vscode": {
   "interpreter": {
    "hash": "401cebfcb5cce5f71138843ad74eb16632e47d40b3a47aa4ad883b3d134173ed"
   }
  }
 },
 "nbformat": 4,
 "nbformat_minor": 2
}
