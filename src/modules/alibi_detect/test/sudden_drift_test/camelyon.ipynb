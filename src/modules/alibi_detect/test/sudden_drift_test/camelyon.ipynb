{
 "cells": [
  {
   "attachments": {},
   "cell_type": "markdown",
   "metadata": {},
   "source": [
    "UAE"
   ]
  },
  {
   "attachments": {},
   "cell_type": "markdown",
   "metadata": {},
   "source": [
    "KS"
   ]
  },
  {
   "cell_type": "code",
   "execution_count": 6,
   "metadata": {},
   "outputs": [],
   "source": [
    "import pandas as pd\n",
    "data = {\n",
    "    \"100\":[\"{}\".format(i) for i in range(1,21,1)],\n",
    "    \"95\" : [\"{}\".format(i) for i in range(1,21,1)],\n",
    "    \"90\" : [\"{}\".format(i) for i in range(1,21,1)],\n",
    "    \"85\" : [\"{}\".format(i) for i in range(1,21,1)],\n",
    "    \"80\" : [\"{}\".format(i) for i in range(1,21,1)],\n",
    "    \"75\" : [\"{}\".format(i) for i in range(1,21,1)],\n",
    "    \"70\" : [\"{}\".format(i) for i in range(1,21,1)],\n",
    "    \"65\" : [\"{}\".format(i) for i in range(1,21,1)],\n",
    "    \"60\" : [\"{}\".format(i) for i in range(1,21,1)],\n",
    "    \"55\" : [\"{}\".format(i) for i in range(1,21,1)],\n",
    "    \"50\" : [\"{}\".format(i) for i in range(1,21,1)],\n",
    "    \"45\" : [\"{}\".format(i) for i in range(1,21,1)],\n",
    "    \"40\" : [\"{}\".format(i) for i in range(1,21,1)],\n",
    "    \"35\" : [\"{}\".format(i) for i in range(1,21,1)],\n",
    "    \"30\" : [\"{}\".format(i) for i in range(1,21,1)],\n",
    "    \"25\" : [\"{}\".format(i) for i in range(1,21,1)],\n",
    "    \"20\" : [\"{}\".format(i) for i in range(1,21,1)],\n",
    "    \"15\" : [\"{}\".format(i) for i in range(1,21,1)],\n",
    "    \"10\" : [\"{}\".format(i) for i in range(1,21,1)],\n",
    "    \"5\" : [\"{}\".format(i) for i in range(1,21,1)],\n",
    "}\n",
    "df_new = pd.DataFrame(data,index=[\"Size {}\".format(i) for i in range(10,210,10)])"
   ]
  },
  {
   "cell_type": "code",
   "execution_count": 7,
   "metadata": {},
   "outputs": [
    {
     "name": "stdout",
     "output_type": "stream",
     "text": [
      "/home/ubuntu/image-drift-monitoring\n"
     ]
    },
    {
     "ename": "FileNotFoundError",
     "evalue": "[Errno 2] No such file or directory: '/home/ubuntu/image-drift-monitoring/data/camelyon17_v1.0/drifted_data/sudden_drift/camelyon_test_5.npz'",
     "output_type": "error",
     "traceback": [
      "\u001b[0;31m---------------------------------------------------------------------------\u001b[0m",
      "\u001b[0;31mFileNotFoundError\u001b[0m                         Traceback (most recent call last)",
      "Cell \u001b[0;32mIn[7], line 8\u001b[0m\n\u001b[1;32m      6\u001b[0m \u001b[39mfor\u001b[39;00m i \u001b[39min\u001b[39;00m \u001b[39mrange\u001b[39m(\u001b[39m5\u001b[39m,\u001b[39m105\u001b[39m,\u001b[39m5\u001b[39m):\n\u001b[1;32m      7\u001b[0m     \u001b[39mfor\u001b[39;00m j \u001b[39min\u001b[39;00m \u001b[39mrange\u001b[39m(\u001b[39m10\u001b[39m,\u001b[39m210\u001b[39m,\u001b[39m10\u001b[39m):\n\u001b[0;32m----> 8\u001b[0m         test_i_comp \u001b[39m=\u001b[39m np\u001b[39m.\u001b[39;49mload(\u001b[39m'\u001b[39;49m\u001b[39m/home/ubuntu/image-drift-monitoring/data/camelyon17_v1.0/drifted_data/sudden_drift/camelyon_test_\u001b[39;49m\u001b[39m{}\u001b[39;49;00m\u001b[39m.npz\u001b[39;49m\u001b[39m'\u001b[39;49m\u001b[39m.\u001b[39;49mformat(i))\n\u001b[1;32m      9\u001b[0m         test_i \u001b[39m=\u001b[39m test_i_comp[\u001b[39m'\u001b[39m\u001b[39marr_0\u001b[39m\u001b[39m'\u001b[39m]\n\u001b[1;32m     11\u001b[0m         myUAE \u001b[39m=\u001b[39m UntrainedAutoencoder()\n",
      "File \u001b[0;32m~/miniconda3/envs/alibitorchwhy/lib/python3.8/site-packages/numpy/lib/npyio.py:390\u001b[0m, in \u001b[0;36mload\u001b[0;34m(file, mmap_mode, allow_pickle, fix_imports, encoding)\u001b[0m\n\u001b[1;32m    388\u001b[0m     own_fid \u001b[39m=\u001b[39m \u001b[39mFalse\u001b[39;00m\n\u001b[1;32m    389\u001b[0m \u001b[39melse\u001b[39;00m:\n\u001b[0;32m--> 390\u001b[0m     fid \u001b[39m=\u001b[39m stack\u001b[39m.\u001b[39menter_context(\u001b[39mopen\u001b[39;49m(os_fspath(file), \u001b[39m\"\u001b[39;49m\u001b[39mrb\u001b[39;49m\u001b[39m\"\u001b[39;49m))\n\u001b[1;32m    391\u001b[0m     own_fid \u001b[39m=\u001b[39m \u001b[39mTrue\u001b[39;00m\n\u001b[1;32m    393\u001b[0m \u001b[39m# Code to distinguish from NumPy binary files and pickles.\u001b[39;00m\n",
      "\u001b[0;31mFileNotFoundError\u001b[0m: [Errno 2] No such file or directory: '/home/ubuntu/image-drift-monitoring/data/camelyon17_v1.0/drifted_data/sudden_drift/camelyon_test_5.npz'"
     ]
    }
   ],
   "source": [
    "%cd /home/ubuntu/image-drift-monitoring\n",
    "from src.modules.alibi_detect.untrained_encoder import UntrainedAutoencoder\n",
    "\n",
    "import numpy as np\n",
    "\n",
    "for i in range(10,210,10):\n",
    "    for j in range(5,105,5):\n",
    "        test_i_comp = np.load('/home/ubuntu/image-drift-monitoring/data/camelyon17_v1.0/drifted_data/sudden_drift/camelyon_test_{}.npz'.format(i))\n",
    "        test_i = test_i_comp['arr_0']\n",
    "\n",
    "        myUAE = UntrainedAutoencoder()\n",
    "        myUAE.import_detector(path='/home/ubuntu/image-drift-monitoring/config/detectors/Camelyon/UAE/KS/Camelyon_UAE_{}_KS'.format(j),detector_type='KS')\n",
    "        res = myUAE.make_prediction(target_data=test_i, detector_type='KS')\n",
    "\n",
    "        df_new.loc['Size {}'.format(i)]['{}'.format(j)] = res['data']['is_drift']\n",
    "df_new.to_excel('camelyon_uae_results.xlsx')"
   ]
  }
 ],
 "metadata": {
  "kernelspec": {
   "display_name": "alibitorchwhy",
   "language": "python",
   "name": "python3"
  },
  "language_info": {
   "codemirror_mode": {
    "name": "ipython",
    "version": 3
   },
   "file_extension": ".py",
   "mimetype": "text/x-python",
   "name": "python",
   "nbconvert_exporter": "python",
   "pygments_lexer": "ipython3",
   "version": "3.8.15"
  },
  "orig_nbformat": 4,
  "vscode": {
   "interpreter": {
    "hash": "401cebfcb5cce5f71138843ad74eb16632e47d40b3a47aa4ad883b3d134173ed"
   }
  }
 },
 "nbformat": 4,
 "nbformat_minor": 2
}
