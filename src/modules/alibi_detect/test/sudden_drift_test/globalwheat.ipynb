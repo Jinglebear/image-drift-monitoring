{
 "cells": [
  {
   "attachments": {},
   "cell_type": "markdown",
   "metadata": {},
   "source": [
    "# UAE"
   ]
  },
  {
   "attachments": {},
   "cell_type": "markdown",
   "metadata": {},
   "source": [
    "KS"
   ]
  },
  {
   "cell_type": "code",
   "execution_count": 2,
   "metadata": {},
   "outputs": [],
   "source": [
    "import pandas as pd\n",
    "data = {\n",
    "    \"100\":[\"{}\".format(i) for i in range(1,21,1)],\n",
    "    \"95\" : [\"{}\".format(i) for i in range(1,21,1)],\n",
    "    \"90\" : [\"{}\".format(i) for i in range(1,21,1)],\n",
    "    \"85\" : [\"{}\".format(i) for i in range(1,21,1)],\n",
    "    \"80\" : [\"{}\".format(i) for i in range(1,21,1)],\n",
    "    \"75\" : [\"{}\".format(i) for i in range(1,21,1)],\n",
    "    \"70\" : [\"{}\".format(i) for i in range(1,21,1)],\n",
    "    \"65\" : [\"{}\".format(i) for i in range(1,21,1)],\n",
    "    \"60\" : [\"{}\".format(i) for i in range(1,21,1)],\n",
    "    \"55\" : [\"{}\".format(i) for i in range(1,21,1)],\n",
    "    \"50\" : [\"{}\".format(i) for i in range(1,21,1)],\n",
    "    \"45\" : [\"{}\".format(i) for i in range(1,21,1)],\n",
    "    \"40\" : [\"{}\".format(i) for i in range(1,21,1)],\n",
    "    \"35\" : [\"{}\".format(i) for i in range(1,21,1)],\n",
    "    \"30\" : [\"{}\".format(i) for i in range(1,21,1)],\n",
    "    \"25\" : [\"{}\".format(i) for i in range(1,21,1)],\n",
    "    \"20\" : [\"{}\".format(i) for i in range(1,21,1)],\n",
    "    \"15\" : [\"{}\".format(i) for i in range(1,21,1)],\n",
    "    \"10\" : [\"{}\".format(i) for i in range(1,21,1)],\n",
    "    \"5\" : [\"{}\".format(i) for i in range(1,21,1)],\n",
    "}\n",
    "df_new = pd.DataFrame(data,index=[\"Size {}\".format(i) for i in range(10,210,10)])"
   ]
  },
  {
   "cell_type": "code",
   "execution_count": 3,
   "metadata": {},
   "outputs": [
    {
     "name": "stdout",
     "output_type": "stream",
     "text": [
      "/home/ubuntu/image-drift-monitoring\n"
     ]
    },
    {
     "name": "stderr",
     "output_type": "stream",
     "text": [
      "2023-02-13 18:54:09.020476: I tensorflow/core/platform/cpu_feature_guard.cc:193] This TensorFlow binary is optimized with oneAPI Deep Neural Network Library (oneDNN) to use the following CPU instructions in performance-critical operations:  FMA\n",
      "To enable them in other operations, rebuild TensorFlow with the appropriate compiler flags.\n",
      "2023-02-13 18:54:09.145494: W tensorflow/compiler/xla/stream_executor/platform/default/dso_loader.cc:64] Could not load dynamic library 'libcudart.so.11.0'; dlerror: libcudart.so.11.0: cannot open shared object file: No such file or directory\n",
      "2023-02-13 18:54:09.145515: I tensorflow/compiler/xla/stream_executor/cuda/cudart_stub.cc:29] Ignore above cudart dlerror if you do not have a GPU set up on your machine.\n",
      "2023-02-13 18:54:09.758976: W tensorflow/compiler/xla/stream_executor/platform/default/dso_loader.cc:64] Could not load dynamic library 'libnvinfer.so.7'; dlerror: libnvinfer.so.7: cannot open shared object file: No such file or directory\n",
      "2023-02-13 18:54:09.759041: W tensorflow/compiler/xla/stream_executor/platform/default/dso_loader.cc:64] Could not load dynamic library 'libnvinfer_plugin.so.7'; dlerror: libnvinfer_plugin.so.7: cannot open shared object file: No such file or directory\n",
      "2023-02-13 18:54:09.759047: W tensorflow/compiler/tf2tensorrt/utils/py_utils.cc:38] TF-TRT Warning: Cannot dlopen some TensorRT libraries. If you would like to use Nvidia GPU with TensorRT, please make sure the missing libraries mentioned above are installed properly.\n",
      "2023-02-13 18:54:11.548120: W tensorflow/compiler/xla/stream_executor/platform/default/dso_loader.cc:64] Could not load dynamic library 'libcuda.so.1'; dlerror: libcuda.so.1: cannot open shared object file: No such file or directory\n",
      "2023-02-13 18:54:11.548154: W tensorflow/compiler/xla/stream_executor/cuda/cuda_driver.cc:265] failed call to cuInit: UNKNOWN ERROR (303)\n",
      "2023-02-13 18:54:11.548170: I tensorflow/compiler/xla/stream_executor/cuda/cuda_diagnostics.cc:156] kernel driver does not appear to be running on this host (render): /proc/driver/nvidia/version does not exist\n",
      "2023-02-13 18:54:11.548950: I tensorflow/core/platform/cpu_feature_guard.cc:193] This TensorFlow binary is optimized with oneAPI Deep Neural Network Library (oneDNN) to use the following CPU instructions in performance-critical operations:  FMA\n",
      "To enable them in other operations, rebuild TensorFlow with the appropriate compiler flags.\n",
      "--- Logging error ---\n",
      "Traceback (most recent call last):\n",
      "  File \"/home/ubuntu/image-drift-monitoring/src/modules/alibi_detect/untrained_encoder.py\", line 100, in import_detector\n",
      "    self.detectorKS = load_detector(path)\n",
      "  File \"/home/ubuntu/miniconda3/envs/alibitorchwhy/lib/python3.8/site-packages/alibi_detect/saving/loading.py\", line 109, in load_detector\n",
      "    raise ValueError(\"load_detector accepts only a filepath to a directory, or a config.toml file.\")\n",
      "ValueError: load_detector accepts only a filepath to a directory, or a config.toml file.\n",
      "\n",
      "During handling of the above exception, another exception occurred:\n",
      "\n",
      "Traceback (most recent call last):\n",
      "  File \"/home/ubuntu/miniconda3/envs/alibitorchwhy/lib/python3.8/logging/__init__.py\", line 1085, in emit\n",
      "    msg = self.format(record)\n",
      "  File \"/home/ubuntu/miniconda3/envs/alibitorchwhy/lib/python3.8/logging/__init__.py\", line 929, in format\n",
      "    return fmt.format(record)\n",
      "  File \"/home/ubuntu/miniconda3/envs/alibitorchwhy/lib/python3.8/logging/__init__.py\", line 668, in format\n",
      "    record.message = record.getMessage()\n",
      "  File \"/home/ubuntu/miniconda3/envs/alibitorchwhy/lib/python3.8/logging/__init__.py\", line 373, in getMessage\n",
      "    msg = msg % self.args\n",
      "TypeError: not all arguments converted during string formatting\n",
      "Call stack:\n",
      "  File \"/home/ubuntu/miniconda3/envs/alibitorchwhy/lib/python3.8/runpy.py\", line 194, in _run_module_as_main\n",
      "    return _run_code(code, main_globals, None,\n",
      "  File \"/home/ubuntu/miniconda3/envs/alibitorchwhy/lib/python3.8/runpy.py\", line 87, in _run_code\n",
      "    exec(code, run_globals)\n",
      "  File \"/home/ubuntu/miniconda3/envs/alibitorchwhy/lib/python3.8/site-packages/ipykernel_launcher.py\", line 17, in <module>\n",
      "    app.launch_new_instance()\n",
      "  File \"/home/ubuntu/miniconda3/envs/alibitorchwhy/lib/python3.8/site-packages/traitlets/config/application.py\", line 992, in launch_instance\n",
      "    app.start()\n",
      "  File \"/home/ubuntu/miniconda3/envs/alibitorchwhy/lib/python3.8/site-packages/ipykernel/kernelapp.py\", line 711, in start\n",
      "    self.io_loop.start()\n",
      "  File \"/home/ubuntu/miniconda3/envs/alibitorchwhy/lib/python3.8/site-packages/tornado/platform/asyncio.py\", line 215, in start\n",
      "    self.asyncio_loop.run_forever()\n",
      "  File \"/home/ubuntu/miniconda3/envs/alibitorchwhy/lib/python3.8/asyncio/base_events.py\", line 570, in run_forever\n",
      "    self._run_once()\n",
      "  File \"/home/ubuntu/miniconda3/envs/alibitorchwhy/lib/python3.8/asyncio/base_events.py\", line 1859, in _run_once\n",
      "    handle._run()\n",
      "  File \"/home/ubuntu/miniconda3/envs/alibitorchwhy/lib/python3.8/asyncio/events.py\", line 81, in _run\n",
      "    self._context.run(self._callback, *self._args)\n",
      "  File \"/home/ubuntu/miniconda3/envs/alibitorchwhy/lib/python3.8/site-packages/ipykernel/kernelbase.py\", line 510, in dispatch_queue\n",
      "    await self.process_one()\n",
      "  File \"/home/ubuntu/miniconda3/envs/alibitorchwhy/lib/python3.8/site-packages/ipykernel/kernelbase.py\", line 499, in process_one\n",
      "    await dispatch(*args)\n",
      "  File \"/home/ubuntu/miniconda3/envs/alibitorchwhy/lib/python3.8/site-packages/ipykernel/kernelbase.py\", line 406, in dispatch_shell\n",
      "    await result\n",
      "  File \"/home/ubuntu/miniconda3/envs/alibitorchwhy/lib/python3.8/site-packages/ipykernel/kernelbase.py\", line 729, in execute_request\n",
      "    reply_content = await reply_content\n",
      "  File \"/home/ubuntu/miniconda3/envs/alibitorchwhy/lib/python3.8/site-packages/ipykernel/ipkernel.py\", line 411, in do_execute\n",
      "    res = shell.run_cell(\n",
      "  File \"/home/ubuntu/miniconda3/envs/alibitorchwhy/lib/python3.8/site-packages/ipykernel/zmqshell.py\", line 531, in run_cell\n",
      "    return super().run_cell(*args, **kwargs)\n",
      "  File \"/home/ubuntu/miniconda3/envs/alibitorchwhy/lib/python3.8/site-packages/IPython/core/interactiveshell.py\", line 2945, in run_cell\n",
      "    result = self._run_cell(\n",
      "  File \"/home/ubuntu/miniconda3/envs/alibitorchwhy/lib/python3.8/site-packages/IPython/core/interactiveshell.py\", line 3000, in _run_cell\n",
      "    return runner(coro)\n",
      "  File \"/home/ubuntu/miniconda3/envs/alibitorchwhy/lib/python3.8/site-packages/IPython/core/async_helpers.py\", line 129, in _pseudo_sync_runner\n",
      "    coro.send(None)\n",
      "  File \"/home/ubuntu/miniconda3/envs/alibitorchwhy/lib/python3.8/site-packages/IPython/core/interactiveshell.py\", line 3203, in run_cell_async\n",
      "    has_raised = await self.run_ast_nodes(code_ast.body, cell_name,\n",
      "  File \"/home/ubuntu/miniconda3/envs/alibitorchwhy/lib/python3.8/site-packages/IPython/core/interactiveshell.py\", line 3382, in run_ast_nodes\n",
      "    if await self.run_code(code, result, async_=asy):\n",
      "  File \"/home/ubuntu/miniconda3/envs/alibitorchwhy/lib/python3.8/site-packages/IPython/core/interactiveshell.py\", line 3442, in run_code\n",
      "    exec(code_obj, self.user_global_ns, self.user_ns)\n",
      "  File \"/tmp/ipykernel_21656/3330527961.py\", line 11, in <module>\n",
      "    myUAE.import_detector(path='/home/ubuntu/image-drift-monitoring/config/detectors/globalwheat/UAE/KS/globalwheat_UAE_{}_KS'.format(j),detector_type='KS')\n",
      "  File \"/home/ubuntu/image-drift-monitoring/src/modules/alibi_detect/untrained_encoder.py\", line 114, in import_detector\n",
      "    self.logger.exception('Error in import_KS_detector(): Error Importing Detector',e)\n",
      "Message: 'Error in import_KS_detector(): Error Importing Detector'\n",
      "Arguments: (ValueError('load_detector accepts only a filepath to a directory, or a config.toml file.'),)\n"
     ]
    },
    {
     "ename": "ValueError",
     "evalue": "Wrong Detector Type / No KS detector initialized",
     "output_type": "error",
     "traceback": [
      "\u001b[0;31m---------------------------------------------------------------------------\u001b[0m",
      "\u001b[0;31mValueError\u001b[0m                                Traceback (most recent call last)",
      "Cell \u001b[0;32mIn[3], line 12\u001b[0m\n\u001b[1;32m     10\u001b[0m         myUAE \u001b[39m=\u001b[39m UntrainedAutoencoder()\n\u001b[1;32m     11\u001b[0m         myUAE\u001b[39m.\u001b[39mimport_detector(path\u001b[39m=\u001b[39m\u001b[39m'\u001b[39m\u001b[39m/home/ubuntu/image-drift-monitoring/config/detectors/globalwheat/UAE/KS/globalwheat_UAE_\u001b[39m\u001b[39m{}\u001b[39;00m\u001b[39m_KS\u001b[39m\u001b[39m'\u001b[39m\u001b[39m.\u001b[39mformat(j),detector_type\u001b[39m=\u001b[39m\u001b[39m'\u001b[39m\u001b[39mKS\u001b[39m\u001b[39m'\u001b[39m)\n\u001b[0;32m---> 12\u001b[0m         res \u001b[39m=\u001b[39m myUAE\u001b[39m.\u001b[39;49mmake_prediction(target_data\u001b[39m=\u001b[39;49mtest_i, detector_type\u001b[39m=\u001b[39;49m\u001b[39m'\u001b[39;49m\u001b[39mKS\u001b[39;49m\u001b[39m'\u001b[39;49m)\n\u001b[1;32m     14\u001b[0m         df_new\u001b[39m.\u001b[39mloc[\u001b[39m'\u001b[39m\u001b[39mSize \u001b[39m\u001b[39m{}\u001b[39;00m\u001b[39m'\u001b[39m\u001b[39m.\u001b[39mformat(i)][\u001b[39m'\u001b[39m\u001b[39m{}\u001b[39;00m\u001b[39m'\u001b[39m\u001b[39m.\u001b[39mformat(j)] \u001b[39m=\u001b[39m res[\u001b[39m'\u001b[39m\u001b[39mdata\u001b[39m\u001b[39m'\u001b[39m][\u001b[39m'\u001b[39m\u001b[39mis_drift\u001b[39m\u001b[39m'\u001b[39m]\n\u001b[1;32m     15\u001b[0m df_new\u001b[39m.\u001b[39mto_excel(\u001b[39m'\u001b[39m\u001b[39mglobalwheat_uae_ks_results.xlsx\u001b[39m\u001b[39m'\u001b[39m)\n",
      "File \u001b[0;32m~/image-drift-monitoring/src/modules/alibi_detect/untrained_encoder.py:128\u001b[0m, in \u001b[0;36mUntrainedAutoencoder.make_prediction\u001b[0;34m(self, target_data, detector_type)\u001b[0m\n\u001b[1;32m    126\u001b[0m     preds \u001b[39m=\u001b[39m \u001b[39mself\u001b[39m\u001b[39m.\u001b[39mdetectorCVM\u001b[39m.\u001b[39mpredict(x\u001b[39m=\u001b[39mtarget_data) \n\u001b[1;32m    127\u001b[0m \u001b[39melse\u001b[39;00m:\n\u001b[0;32m--> 128\u001b[0m     \u001b[39mraise\u001b[39;00m \u001b[39mValueError\u001b[39;00m(\u001b[39m'\u001b[39m\u001b[39mWrong Detector Type / No \u001b[39m\u001b[39m{}\u001b[39;00m\u001b[39m detector initialized\u001b[39m\u001b[39m'\u001b[39m\u001b[39m.\u001b[39mformat(detector_type))\n\u001b[1;32m    131\u001b[0m \u001b[39mprint\u001b[39m(\u001b[39m'\u001b[39m\u001b[39mDrift? \u001b[39m\u001b[39m{}\u001b[39;00m\u001b[39m'\u001b[39m\u001b[39m.\u001b[39mformat(labels[preds[\u001b[39m'\u001b[39m\u001b[39mdata\u001b[39m\u001b[39m'\u001b[39m][\u001b[39m'\u001b[39m\u001b[39mis_drift\u001b[39m\u001b[39m'\u001b[39m]]))\n\u001b[1;32m    132\u001b[0m \u001b[39mprint\u001b[39m(\u001b[39m'\u001b[39m\u001b[39mFeature-wise p-values:\u001b[39m\u001b[39m'\u001b[39m)\n",
      "\u001b[0;31mValueError\u001b[0m: Wrong Detector Type / No KS detector initialized"
     ]
    }
   ],
   "source": [
    "%cd /home/ubuntu/image-drift-monitoring\n",
    "from src.modules.alibi_detect.untrained_encoder import UntrainedAutoencoder\n",
    "\n",
    "import numpy as np\n",
    "\n",
    "for i in range(10,210,10):\n",
    "    test_i_comp = np.load('/home/ubuntu/image-drift-monitoring/data/globalwheat_v1.1/drifted_data/sudden_drift/globalwheat_test_{}.npz'.format(i))\n",
    "    test_i = test_i_comp['arr_0']\n",
    "    for j in range(5,105,5):\n",
    "        myUAE = UntrainedAutoencoder()\n",
    "        myUAE.import_detector(path='/home/ubuntu/image-drift-monitoring/config/detectors/GlobalWheat/UAE/KS/globalwheat_UAE_{}_KS'.format(j),detector_type='KS')\n",
    "        res = myUAE.make_prediction(target_data=test_i, detector_type='KS')\n",
    "\n",
    "        df_new.loc['Size {}'.format(i)]['{}'.format(j)] = res['data']['is_drift']\n",
    "df_new.to_excel('globalwheat_uae_ks_results.xlsx')"
   ]
  }
 ],
 "metadata": {
  "kernelspec": {
   "display_name": "alibitorchwhy",
   "language": "python",
   "name": "python3"
  },
  "language_info": {
   "codemirror_mode": {
    "name": "ipython",
    "version": 3
   },
   "file_extension": ".py",
   "mimetype": "text/x-python",
   "name": "python",
   "nbconvert_exporter": "python",
   "pygments_lexer": "ipython3",
   "version": "3.8.15"
  },
  "orig_nbformat": 4,
  "vscode": {
   "interpreter": {
    "hash": "401cebfcb5cce5f71138843ad74eb16632e47d40b3a47aa4ad883b3d134173ed"
   }
  }
 },
 "nbformat": 4,
 "nbformat_minor": 2
}
