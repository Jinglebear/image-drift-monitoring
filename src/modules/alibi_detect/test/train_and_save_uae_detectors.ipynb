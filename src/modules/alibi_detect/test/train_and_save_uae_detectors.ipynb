{
 "cells": [
  {
   "attachments": {},
   "cell_type": "markdown",
   "metadata": {},
   "source": [
    "KS init UAE"
   ]
  },
  {
   "cell_type": "code",
   "execution_count": null,
   "metadata": {},
   "outputs": [],
   "source": [
    "%cd  '/home/ubuntu/image-drift-monitoring'\n",
    "%pwd\n",
    "import numpy as np\n",
    "from src.modules.alibi_detect.untrained_encoder import UntrainedAutoencoder\n",
    "import json \n",
    "\n",
    "\n",
    "\n",
    "with open('/home/ubuntu/image-drift-monitoring/config/common/drift_detection_config.json') as config_file:\n",
    "        drift_detection_config = json.load(config_file)\n",
    "\n",
    "for i in range(5,105,5):\n",
    "        if i == 100 :\n",
    "                rxrx1_train_i_comp = np.load('/home/ubuntu/image-drift-monitoring/data/rxrx1_v1.0/rxrx1_train_ds.npz'.format(i))        \n",
    "        else :\n",
    "                rxrx1_train_i_comp = np.load('/home/ubuntu/image-drift-monitoring/data/rxrx1_v1.0/rxrx1_train_{}_ds.npz'.format(i))\n",
    "                \n",
    "        rxrx1_train_i = rxrx1_train_i_comp['arr_0']\n",
    "\n",
    "        myUAE = UntrainedAutoencoder(drift_detection_config)\n",
    "        myUAE.init_default_tf_encoder(encoding_dim=100,input_shape=rxrx1_train_i.shape[1:])\n",
    "        myUAE.init_detector(detector_type='KS',reference_data=rxrx1_train_i,detector_name='rxrx1_UAE_{}_KS'.format(i),save_dec=True)\n",
    "\n",
    "        rxrx1_train_i_comp = None\n",
    "        rxrx1_train_i = None\n",
    "        myUAE = None"
   ]
  },
  {
   "attachments": {},
   "cell_type": "markdown",
   "metadata": {},
   "source": [
    "CVM init UAE"
   ]
  },
  {
   "cell_type": "code",
   "execution_count": null,
   "metadata": {},
   "outputs": [],
   "source": [
    "%cd  '/home/ubuntu/image-drift-monitoring'\n",
    "%pwd\n",
    "import numpy as np\n",
    "from src.modules.alibi_detect.untrained_encoder import UntrainedAutoencoder\n",
    "import json \n",
    "\n",
    "\n",
    "\n",
    "with open('/home/ubuntu/image-drift-monitoring/config/common/drift_detection_config.json') as config_file:\n",
    "        drift_detection_config = json.load(config_file)\n",
    "\n",
    "for i in range(5,105,5):\n",
    "        if i == 100 :\n",
    "                rxrx1_train_i_comp = np.load('/home/ubuntu/image-drift-monitoring/data/rxrx1_v1.0/rxrx1_train_ds.npz'.format(i))        \n",
    "        else :\n",
    "                rxrx1_train_i_comp = np.load('/home/ubuntu/image-drift-monitoring/data/rxrx1_v1.0/rxrx1_train_{}_ds.npz'.format(i))\n",
    "                \n",
    "        rxrx1_train_i = rxrx1_train_i_comp['arr_0']\n",
    "\n",
    "        myUAE = UntrainedAutoencoder(drift_detection_config)\n",
    "        myUAE.init_default_tf_encoder(encoding_dim=100,input_shape=rxrx1_train_i.shape[1:])\n",
    "        myUAE.init_detector(detector_type='CVM',reference_data=rxrx1_train_i,detector_name='rxrx1_UAE_{}_CVM'.format(i),save_dec=True)\n",
    "\n",
    "        rxrx1_train_i_comp = None\n",
    "        rxrx1_train_i = None\n",
    "        myUAE = None"
   ]
  },
  {
   "attachments": {},
   "cell_type": "markdown",
   "metadata": {},
   "source": [
    "MMD init UAE"
   ]
  },
  {
   "cell_type": "code",
   "execution_count": 1,
   "metadata": {},
   "outputs": [
    {
     "name": "stdout",
     "output_type": "stream",
     "text": [
      "/home/ubuntu/image-drift-monitoring\n"
     ]
    },
    {
     "name": "stderr",
     "output_type": "stream",
     "text": [
      "2023-02-14 14:01:01.274406: I tensorflow/core/platform/cpu_feature_guard.cc:193] This TensorFlow binary is optimized with oneAPI Deep Neural Network Library (oneDNN) to use the following CPU instructions in performance-critical operations:  FMA\n",
      "To enable them in other operations, rebuild TensorFlow with the appropriate compiler flags.\n",
      "2023-02-14 14:01:01.427658: W tensorflow/compiler/xla/stream_executor/platform/default/dso_loader.cc:64] Could not load dynamic library 'libcudart.so.11.0'; dlerror: libcudart.so.11.0: cannot open shared object file: No such file or directory\n",
      "2023-02-14 14:01:01.427738: I tensorflow/compiler/xla/stream_executor/cuda/cudart_stub.cc:29] Ignore above cudart dlerror if you do not have a GPU set up on your machine.\n",
      "2023-02-14 14:01:02.033814: W tensorflow/compiler/xla/stream_executor/platform/default/dso_loader.cc:64] Could not load dynamic library 'libnvinfer.so.7'; dlerror: libnvinfer.so.7: cannot open shared object file: No such file or directory\n",
      "2023-02-14 14:01:02.033934: W tensorflow/compiler/xla/stream_executor/platform/default/dso_loader.cc:64] Could not load dynamic library 'libnvinfer_plugin.so.7'; dlerror: libnvinfer_plugin.so.7: cannot open shared object file: No such file or directory\n",
      "2023-02-14 14:01:02.033941: W tensorflow/compiler/tf2tensorrt/utils/py_utils.cc:38] TF-TRT Warning: Cannot dlopen some TensorRT libraries. If you would like to use Nvidia GPU with TensorRT, please make sure the missing libraries mentioned above are installed properly.\n",
      "2023-02-14 14:01:04.452332: W tensorflow/compiler/xla/stream_executor/platform/default/dso_loader.cc:64] Could not load dynamic library 'libcuda.so.1'; dlerror: libcuda.so.1: cannot open shared object file: No such file or directory\n",
      "2023-02-14 14:01:04.452418: W tensorflow/compiler/xla/stream_executor/cuda/cuda_driver.cc:265] failed call to cuInit: UNKNOWN ERROR (303)\n",
      "2023-02-14 14:01:04.452444: I tensorflow/compiler/xla/stream_executor/cuda/cuda_diagnostics.cc:156] kernel driver does not appear to be running on this host (render): /proc/driver/nvidia/version does not exist\n",
      "2023-02-14 14:01:04.454267: I tensorflow/core/platform/cpu_feature_guard.cc:193] This TensorFlow binary is optimized with oneAPI Deep Neural Network Library (oneDNN) to use the following CPU instructions in performance-critical operations:  FMA\n",
      "To enable them in other operations, rebuild TensorFlow with the appropriate compiler flags.\n",
      "2023-02-14 14:01:08,082 [INFO]  MMD Detector initialized\n",
      "Directory /home/ubuntu/image-drift-monitoring/config/detectors/RxRx1/UAE/rxrx1_UAE_5_MMD does not exist and is now created.\n",
      "Directory /home/ubuntu/image-drift-monitoring/config/detectors/RxRx1/UAE/rxrx1_UAE_5_MMD/preprocess_fn/model does not exist and is now created.\n"
     ]
    },
    {
     "name": "stdout",
     "output_type": "stream",
     "text": [
      "WARNING:tensorflow:Compiled the loaded model, but the compiled metrics have yet to be built. `model.compile_metrics` will be empty until you train or evaluate the model.\n"
     ]
    },
    {
     "name": "stderr",
     "output_type": "stream",
     "text": [
      "2023-02-14 14:01:17,097 [INFO]  MMD Detector initialized\n",
      "2023-02-14 14:01:17,097 [INFO]  MMD Detector initialized\n",
      "Directory /home/ubuntu/image-drift-monitoring/config/detectors/RxRx1/UAE/rxrx1_UAE_10_MMD does not exist and is now created.\n",
      "Directory /home/ubuntu/image-drift-monitoring/config/detectors/RxRx1/UAE/rxrx1_UAE_10_MMD/preprocess_fn/model does not exist and is now created.\n"
     ]
    },
    {
     "name": "stdout",
     "output_type": "stream",
     "text": [
      "WARNING:tensorflow:Compiled the loaded model, but the compiled metrics have yet to be built. `model.compile_metrics` will be empty until you train or evaluate the model.\n"
     ]
    },
    {
     "name": "stderr",
     "output_type": "stream",
     "text": [
      "2023-02-14 14:01:35,598 [INFO]  MMD Detector initialized\n",
      "2023-02-14 14:01:35,598 [INFO]  MMD Detector initialized\n",
      "2023-02-14 14:01:35,598 [INFO]  MMD Detector initialized\n",
      "Directory /home/ubuntu/image-drift-monitoring/config/detectors/RxRx1/UAE/rxrx1_UAE_15_MMD does not exist and is now created.\n",
      "Directory /home/ubuntu/image-drift-monitoring/config/detectors/RxRx1/UAE/rxrx1_UAE_15_MMD/preprocess_fn/model does not exist and is now created.\n"
     ]
    },
    {
     "name": "stdout",
     "output_type": "stream",
     "text": [
      "WARNING:tensorflow:Compiled the loaded model, but the compiled metrics have yet to be built. `model.compile_metrics` will be empty until you train or evaluate the model.\n"
     ]
    },
    {
     "name": "stderr",
     "output_type": "stream",
     "text": [
      "2023-02-14 14:02:08,340 [INFO]  MMD Detector initialized\n",
      "2023-02-14 14:02:08,340 [INFO]  MMD Detector initialized\n",
      "2023-02-14 14:02:08,340 [INFO]  MMD Detector initialized\n",
      "2023-02-14 14:02:08,340 [INFO]  MMD Detector initialized\n",
      "Directory /home/ubuntu/image-drift-monitoring/config/detectors/RxRx1/UAE/rxrx1_UAE_20_MMD does not exist and is now created.\n",
      "Directory /home/ubuntu/image-drift-monitoring/config/detectors/RxRx1/UAE/rxrx1_UAE_20_MMD/preprocess_fn/model does not exist and is now created.\n"
     ]
    },
    {
     "name": "stdout",
     "output_type": "stream",
     "text": [
      "WARNING:tensorflow:Compiled the loaded model, but the compiled metrics have yet to be built. `model.compile_metrics` will be empty until you train or evaluate the model.\n"
     ]
    },
    {
     "name": "stderr",
     "output_type": "stream",
     "text": [
      "2023-02-14 14:02:59,838 [INFO]  MMD Detector initialized\n",
      "2023-02-14 14:02:59,838 [INFO]  MMD Detector initialized\n",
      "2023-02-14 14:02:59,838 [INFO]  MMD Detector initialized\n",
      "2023-02-14 14:02:59,838 [INFO]  MMD Detector initialized\n",
      "2023-02-14 14:02:59,838 [INFO]  MMD Detector initialized\n",
      "Directory /home/ubuntu/image-drift-monitoring/config/detectors/RxRx1/UAE/rxrx1_UAE_25_MMD does not exist and is now created.\n",
      "Directory /home/ubuntu/image-drift-monitoring/config/detectors/RxRx1/UAE/rxrx1_UAE_25_MMD/preprocess_fn/model does not exist and is now created.\n"
     ]
    },
    {
     "name": "stdout",
     "output_type": "stream",
     "text": [
      "WARNING:tensorflow:Compiled the loaded model, but the compiled metrics have yet to be built. `model.compile_metrics` will be empty until you train or evaluate the model.\n"
     ]
    },
    {
     "name": "stderr",
     "output_type": "stream",
     "text": [
      "2023-02-14 14:04:14,978 [INFO]  MMD Detector initialized\n",
      "2023-02-14 14:04:14,978 [INFO]  MMD Detector initialized\n",
      "2023-02-14 14:04:14,978 [INFO]  MMD Detector initialized\n",
      "2023-02-14 14:04:14,978 [INFO]  MMD Detector initialized\n",
      "2023-02-14 14:04:14,978 [INFO]  MMD Detector initialized\n",
      "2023-02-14 14:04:14,978 [INFO]  MMD Detector initialized\n",
      "Directory /home/ubuntu/image-drift-monitoring/config/detectors/RxRx1/UAE/rxrx1_UAE_30_MMD does not exist and is now created.\n",
      "Directory /home/ubuntu/image-drift-monitoring/config/detectors/RxRx1/UAE/rxrx1_UAE_30_MMD/preprocess_fn/model does not exist and is now created.\n"
     ]
    },
    {
     "name": "stdout",
     "output_type": "stream",
     "text": [
      "WARNING:tensorflow:Compiled the loaded model, but the compiled metrics have yet to be built. `model.compile_metrics` will be empty until you train or evaluate the model.\n"
     ]
    },
    {
     "name": "stderr",
     "output_type": "stream",
     "text": [
      "2023-02-14 14:06:01,896 [INFO]  MMD Detector initialized\n",
      "2023-02-14 14:06:01,896 [INFO]  MMD Detector initialized\n",
      "2023-02-14 14:06:01,896 [INFO]  MMD Detector initialized\n",
      "2023-02-14 14:06:01,896 [INFO]  MMD Detector initialized\n",
      "2023-02-14 14:06:01,896 [INFO]  MMD Detector initialized\n",
      "2023-02-14 14:06:01,896 [INFO]  MMD Detector initialized\n",
      "2023-02-14 14:06:01,896 [INFO]  MMD Detector initialized\n",
      "Directory /home/ubuntu/image-drift-monitoring/config/detectors/RxRx1/UAE/rxrx1_UAE_35_MMD does not exist and is now created.\n",
      "Directory /home/ubuntu/image-drift-monitoring/config/detectors/RxRx1/UAE/rxrx1_UAE_35_MMD/preprocess_fn/model does not exist and is now created.\n"
     ]
    },
    {
     "name": "stdout",
     "output_type": "stream",
     "text": [
      "WARNING:tensorflow:Compiled the loaded model, but the compiled metrics have yet to be built. `model.compile_metrics` will be empty until you train or evaluate the model.\n"
     ]
    },
    {
     "name": "stderr",
     "output_type": "stream",
     "text": [
      "2023-02-14 14:08:25,358 [INFO]  MMD Detector initialized\n",
      "2023-02-14 14:08:25,358 [INFO]  MMD Detector initialized\n",
      "2023-02-14 14:08:25,358 [INFO]  MMD Detector initialized\n",
      "2023-02-14 14:08:25,358 [INFO]  MMD Detector initialized\n",
      "2023-02-14 14:08:25,358 [INFO]  MMD Detector initialized\n",
      "2023-02-14 14:08:25,358 [INFO]  MMD Detector initialized\n",
      "2023-02-14 14:08:25,358 [INFO]  MMD Detector initialized\n",
      "2023-02-14 14:08:25,358 [INFO]  MMD Detector initialized\n",
      "Directory /home/ubuntu/image-drift-monitoring/config/detectors/RxRx1/UAE/rxrx1_UAE_40_MMD does not exist and is now created.\n",
      "Directory /home/ubuntu/image-drift-monitoring/config/detectors/RxRx1/UAE/rxrx1_UAE_40_MMD/preprocess_fn/model does not exist and is now created.\n"
     ]
    },
    {
     "name": "stdout",
     "output_type": "stream",
     "text": [
      "WARNING:tensorflow:Compiled the loaded model, but the compiled metrics have yet to be built. `model.compile_metrics` will be empty until you train or evaluate the model.\n"
     ]
    },
    {
     "name": "stderr",
     "output_type": "stream",
     "text": [
      "2023-02-14 14:11:35,707 [INFO]  MMD Detector initialized\n",
      "2023-02-14 14:11:35,707 [INFO]  MMD Detector initialized\n",
      "2023-02-14 14:11:35,707 [INFO]  MMD Detector initialized\n",
      "2023-02-14 14:11:35,707 [INFO]  MMD Detector initialized\n",
      "2023-02-14 14:11:35,707 [INFO]  MMD Detector initialized\n",
      "2023-02-14 14:11:35,707 [INFO]  MMD Detector initialized\n",
      "2023-02-14 14:11:35,707 [INFO]  MMD Detector initialized\n",
      "2023-02-14 14:11:35,707 [INFO]  MMD Detector initialized\n",
      "2023-02-14 14:11:35,707 [INFO]  MMD Detector initialized\n",
      "Directory /home/ubuntu/image-drift-monitoring/config/detectors/RxRx1/UAE/rxrx1_UAE_45_MMD does not exist and is now created.\n",
      "Directory /home/ubuntu/image-drift-monitoring/config/detectors/RxRx1/UAE/rxrx1_UAE_45_MMD/preprocess_fn/model does not exist and is now created.\n"
     ]
    },
    {
     "name": "stdout",
     "output_type": "stream",
     "text": [
      "WARNING:tensorflow:Compiled the loaded model, but the compiled metrics have yet to be built. `model.compile_metrics` will be empty until you train or evaluate the model.\n"
     ]
    },
    {
     "name": "stderr",
     "output_type": "stream",
     "text": [
      "2023-02-14 14:15:44,378 [INFO]  MMD Detector initialized\n",
      "2023-02-14 14:15:44,378 [INFO]  MMD Detector initialized\n",
      "2023-02-14 14:15:44,378 [INFO]  MMD Detector initialized\n",
      "2023-02-14 14:15:44,378 [INFO]  MMD Detector initialized\n",
      "2023-02-14 14:15:44,378 [INFO]  MMD Detector initialized\n",
      "2023-02-14 14:15:44,378 [INFO]  MMD Detector initialized\n",
      "2023-02-14 14:15:44,378 [INFO]  MMD Detector initialized\n",
      "2023-02-14 14:15:44,378 [INFO]  MMD Detector initialized\n",
      "2023-02-14 14:15:44,378 [INFO]  MMD Detector initialized\n",
      "2023-02-14 14:15:44,378 [INFO]  MMD Detector initialized\n",
      "Directory /home/ubuntu/image-drift-monitoring/config/detectors/RxRx1/UAE/rxrx1_UAE_50_MMD does not exist and is now created.\n",
      "Directory /home/ubuntu/image-drift-monitoring/config/detectors/RxRx1/UAE/rxrx1_UAE_50_MMD/preprocess_fn/model does not exist and is now created.\n"
     ]
    },
    {
     "name": "stdout",
     "output_type": "stream",
     "text": [
      "WARNING:tensorflow:Compiled the loaded model, but the compiled metrics have yet to be built. `model.compile_metrics` will be empty until you train or evaluate the model.\n"
     ]
    },
    {
     "name": "stderr",
     "output_type": "stream",
     "text": [
      "2023-02-14 14:21:00,804 [INFO]  MMD Detector initialized\n",
      "2023-02-14 14:21:00,804 [INFO]  MMD Detector initialized\n",
      "2023-02-14 14:21:00,804 [INFO]  MMD Detector initialized\n",
      "2023-02-14 14:21:00,804 [INFO]  MMD Detector initialized\n",
      "2023-02-14 14:21:00,804 [INFO]  MMD Detector initialized\n",
      "2023-02-14 14:21:00,804 [INFO]  MMD Detector initialized\n",
      "2023-02-14 14:21:00,804 [INFO]  MMD Detector initialized\n",
      "2023-02-14 14:21:00,804 [INFO]  MMD Detector initialized\n",
      "2023-02-14 14:21:00,804 [INFO]  MMD Detector initialized\n",
      "2023-02-14 14:21:00,804 [INFO]  MMD Detector initialized\n",
      "2023-02-14 14:21:00,804 [INFO]  MMD Detector initialized\n",
      "Directory /home/ubuntu/image-drift-monitoring/config/detectors/RxRx1/UAE/rxrx1_UAE_55_MMD does not exist and is now created.\n",
      "Directory /home/ubuntu/image-drift-monitoring/config/detectors/RxRx1/UAE/rxrx1_UAE_55_MMD/preprocess_fn/model does not exist and is now created.\n"
     ]
    },
    {
     "name": "stdout",
     "output_type": "stream",
     "text": [
      "WARNING:tensorflow:Compiled the loaded model, but the compiled metrics have yet to be built. `model.compile_metrics` will be empty until you train or evaluate the model.\n"
     ]
    },
    {
     "name": "stderr",
     "output_type": "stream",
     "text": [
      "2023-02-14 14:27:26,383 [INFO]  MMD Detector initialized\n",
      "2023-02-14 14:27:26,383 [INFO]  MMD Detector initialized\n",
      "2023-02-14 14:27:26,383 [INFO]  MMD Detector initialized\n",
      "2023-02-14 14:27:26,383 [INFO]  MMD Detector initialized\n",
      "2023-02-14 14:27:26,383 [INFO]  MMD Detector initialized\n",
      "2023-02-14 14:27:26,383 [INFO]  MMD Detector initialized\n",
      "2023-02-14 14:27:26,383 [INFO]  MMD Detector initialized\n",
      "2023-02-14 14:27:26,383 [INFO]  MMD Detector initialized\n",
      "2023-02-14 14:27:26,383 [INFO]  MMD Detector initialized\n",
      "2023-02-14 14:27:26,383 [INFO]  MMD Detector initialized\n",
      "2023-02-14 14:27:26,383 [INFO]  MMD Detector initialized\n",
      "2023-02-14 14:27:26,383 [INFO]  MMD Detector initialized\n",
      "Directory /home/ubuntu/image-drift-monitoring/config/detectors/RxRx1/UAE/rxrx1_UAE_60_MMD does not exist and is now created.\n",
      "Directory /home/ubuntu/image-drift-monitoring/config/detectors/RxRx1/UAE/rxrx1_UAE_60_MMD/preprocess_fn/model does not exist and is now created.\n"
     ]
    },
    {
     "name": "stdout",
     "output_type": "stream",
     "text": [
      "WARNING:tensorflow:Compiled the loaded model, but the compiled metrics have yet to be built. `model.compile_metrics` will be empty until you train or evaluate the model.\n"
     ]
    },
    {
     "name": "stderr",
     "output_type": "stream",
     "text": [
      "2023-02-14 14:35:29,154 [INFO]  MMD Detector initialized\n",
      "2023-02-14 14:35:29,154 [INFO]  MMD Detector initialized\n",
      "2023-02-14 14:35:29,154 [INFO]  MMD Detector initialized\n",
      "2023-02-14 14:35:29,154 [INFO]  MMD Detector initialized\n",
      "2023-02-14 14:35:29,154 [INFO]  MMD Detector initialized\n",
      "2023-02-14 14:35:29,154 [INFO]  MMD Detector initialized\n",
      "2023-02-14 14:35:29,154 [INFO]  MMD Detector initialized\n",
      "2023-02-14 14:35:29,154 [INFO]  MMD Detector initialized\n",
      "2023-02-14 14:35:29,154 [INFO]  MMD Detector initialized\n",
      "2023-02-14 14:35:29,154 [INFO]  MMD Detector initialized\n",
      "2023-02-14 14:35:29,154 [INFO]  MMD Detector initialized\n",
      "2023-02-14 14:35:29,154 [INFO]  MMD Detector initialized\n",
      "2023-02-14 14:35:29,154 [INFO]  MMD Detector initialized\n",
      "Directory /home/ubuntu/image-drift-monitoring/config/detectors/RxRx1/UAE/rxrx1_UAE_65_MMD does not exist and is now created.\n",
      "Directory /home/ubuntu/image-drift-monitoring/config/detectors/RxRx1/UAE/rxrx1_UAE_65_MMD/preprocess_fn/model does not exist and is now created.\n"
     ]
    },
    {
     "name": "stdout",
     "output_type": "stream",
     "text": [
      "WARNING:tensorflow:Compiled the loaded model, but the compiled metrics have yet to be built. `model.compile_metrics` will be empty until you train or evaluate the model.\n"
     ]
    },
    {
     "name": "stderr",
     "output_type": "stream",
     "text": [
      "2023-02-14 14:45:20,277 [INFO]  MMD Detector initialized\n",
      "2023-02-14 14:45:20,277 [INFO]  MMD Detector initialized\n",
      "2023-02-14 14:45:20,277 [INFO]  MMD Detector initialized\n",
      "2023-02-14 14:45:20,277 [INFO]  MMD Detector initialized\n",
      "2023-02-14 14:45:20,277 [INFO]  MMD Detector initialized\n",
      "2023-02-14 14:45:20,277 [INFO]  MMD Detector initialized\n",
      "2023-02-14 14:45:20,277 [INFO]  MMD Detector initialized\n",
      "2023-02-14 14:45:20,277 [INFO]  MMD Detector initialized\n",
      "2023-02-14 14:45:20,277 [INFO]  MMD Detector initialized\n",
      "2023-02-14 14:45:20,277 [INFO]  MMD Detector initialized\n",
      "2023-02-14 14:45:20,277 [INFO]  MMD Detector initialized\n",
      "2023-02-14 14:45:20,277 [INFO]  MMD Detector initialized\n",
      "2023-02-14 14:45:20,277 [INFO]  MMD Detector initialized\n",
      "2023-02-14 14:45:20,277 [INFO]  MMD Detector initialized\n",
      "Directory /home/ubuntu/image-drift-monitoring/config/detectors/RxRx1/UAE/rxrx1_UAE_70_MMD does not exist and is now created.\n",
      "Directory /home/ubuntu/image-drift-monitoring/config/detectors/RxRx1/UAE/rxrx1_UAE_70_MMD/preprocess_fn/model does not exist and is now created.\n"
     ]
    },
    {
     "name": "stdout",
     "output_type": "stream",
     "text": [
      "WARNING:tensorflow:Compiled the loaded model, but the compiled metrics have yet to be built. `model.compile_metrics` will be empty until you train or evaluate the model.\n"
     ]
    },
    {
     "name": "stderr",
     "output_type": "stream",
     "text": [
      "2023-02-14 14:57:04,672 [INFO]  MMD Detector initialized\n",
      "2023-02-14 14:57:04,672 [INFO]  MMD Detector initialized\n",
      "2023-02-14 14:57:04,672 [INFO]  MMD Detector initialized\n",
      "2023-02-14 14:57:04,672 [INFO]  MMD Detector initialized\n",
      "2023-02-14 14:57:04,672 [INFO]  MMD Detector initialized\n",
      "2023-02-14 14:57:04,672 [INFO]  MMD Detector initialized\n",
      "2023-02-14 14:57:04,672 [INFO]  MMD Detector initialized\n",
      "2023-02-14 14:57:04,672 [INFO]  MMD Detector initialized\n",
      "2023-02-14 14:57:04,672 [INFO]  MMD Detector initialized\n",
      "2023-02-14 14:57:04,672 [INFO]  MMD Detector initialized\n",
      "2023-02-14 14:57:04,672 [INFO]  MMD Detector initialized\n",
      "2023-02-14 14:57:04,672 [INFO]  MMD Detector initialized\n",
      "2023-02-14 14:57:04,672 [INFO]  MMD Detector initialized\n",
      "2023-02-14 14:57:04,672 [INFO]  MMD Detector initialized\n",
      "2023-02-14 14:57:04,672 [INFO]  MMD Detector initialized\n",
      "Directory /home/ubuntu/image-drift-monitoring/config/detectors/RxRx1/UAE/rxrx1_UAE_75_MMD does not exist and is now created.\n",
      "Directory /home/ubuntu/image-drift-monitoring/config/detectors/RxRx1/UAE/rxrx1_UAE_75_MMD/preprocess_fn/model does not exist and is now created.\n"
     ]
    },
    {
     "name": "stdout",
     "output_type": "stream",
     "text": [
      "WARNING:tensorflow:Compiled the loaded model, but the compiled metrics have yet to be built. `model.compile_metrics` will be empty until you train or evaluate the model.\n"
     ]
    },
    {
     "name": "stderr",
     "output_type": "stream",
     "text": [
      "2023-02-14 15:10:35,110 [INFO]  MMD Detector initialized\n",
      "2023-02-14 15:10:35,110 [INFO]  MMD Detector initialized\n",
      "2023-02-14 15:10:35,110 [INFO]  MMD Detector initialized\n",
      "2023-02-14 15:10:35,110 [INFO]  MMD Detector initialized\n",
      "2023-02-14 15:10:35,110 [INFO]  MMD Detector initialized\n",
      "2023-02-14 15:10:35,110 [INFO]  MMD Detector initialized\n",
      "2023-02-14 15:10:35,110 [INFO]  MMD Detector initialized\n",
      "2023-02-14 15:10:35,110 [INFO]  MMD Detector initialized\n",
      "2023-02-14 15:10:35,110 [INFO]  MMD Detector initialized\n",
      "2023-02-14 15:10:35,110 [INFO]  MMD Detector initialized\n",
      "2023-02-14 15:10:35,110 [INFO]  MMD Detector initialized\n",
      "2023-02-14 15:10:35,110 [INFO]  MMD Detector initialized\n",
      "2023-02-14 15:10:35,110 [INFO]  MMD Detector initialized\n",
      "2023-02-14 15:10:35,110 [INFO]  MMD Detector initialized\n",
      "2023-02-14 15:10:35,110 [INFO]  MMD Detector initialized\n",
      "2023-02-14 15:10:35,110 [INFO]  MMD Detector initialized\n",
      "Directory /home/ubuntu/image-drift-monitoring/config/detectors/RxRx1/UAE/rxrx1_UAE_80_MMD does not exist and is now created.\n",
      "Directory /home/ubuntu/image-drift-monitoring/config/detectors/RxRx1/UAE/rxrx1_UAE_80_MMD/preprocess_fn/model does not exist and is now created.\n"
     ]
    },
    {
     "name": "stdout",
     "output_type": "stream",
     "text": [
      "WARNING:tensorflow:Compiled the loaded model, but the compiled metrics have yet to be built. `model.compile_metrics` will be empty until you train or evaluate the model.\n"
     ]
    },
    {
     "name": "stderr",
     "output_type": "stream",
     "text": [
      "2023-02-14 15:26:08,899 [INFO]  MMD Detector initialized\n",
      "2023-02-14 15:26:08,899 [INFO]  MMD Detector initialized\n",
      "2023-02-14 15:26:08,899 [INFO]  MMD Detector initialized\n",
      "2023-02-14 15:26:08,899 [INFO]  MMD Detector initialized\n",
      "2023-02-14 15:26:08,899 [INFO]  MMD Detector initialized\n",
      "2023-02-14 15:26:08,899 [INFO]  MMD Detector initialized\n",
      "2023-02-14 15:26:08,899 [INFO]  MMD Detector initialized\n",
      "2023-02-14 15:26:08,899 [INFO]  MMD Detector initialized\n",
      "2023-02-14 15:26:08,899 [INFO]  MMD Detector initialized\n",
      "2023-02-14 15:26:08,899 [INFO]  MMD Detector initialized\n",
      "2023-02-14 15:26:08,899 [INFO]  MMD Detector initialized\n",
      "2023-02-14 15:26:08,899 [INFO]  MMD Detector initialized\n",
      "2023-02-14 15:26:08,899 [INFO]  MMD Detector initialized\n",
      "2023-02-14 15:26:08,899 [INFO]  MMD Detector initialized\n",
      "2023-02-14 15:26:08,899 [INFO]  MMD Detector initialized\n",
      "2023-02-14 15:26:08,899 [INFO]  MMD Detector initialized\n",
      "2023-02-14 15:26:08,899 [INFO]  MMD Detector initialized\n",
      "Directory /home/ubuntu/image-drift-monitoring/config/detectors/RxRx1/UAE/rxrx1_UAE_85_MMD does not exist and is now created.\n",
      "Directory /home/ubuntu/image-drift-monitoring/config/detectors/RxRx1/UAE/rxrx1_UAE_85_MMD/preprocess_fn/model does not exist and is now created.\n"
     ]
    },
    {
     "name": "stdout",
     "output_type": "stream",
     "text": [
      "WARNING:tensorflow:Compiled the loaded model, but the compiled metrics have yet to be built. `model.compile_metrics` will be empty until you train or evaluate the model.\n"
     ]
    },
    {
     "name": "stderr",
     "output_type": "stream",
     "text": [
      "2023-02-14 15:44:06,849 [INFO]  MMD Detector initialized\n",
      "2023-02-14 15:44:06,849 [INFO]  MMD Detector initialized\n",
      "2023-02-14 15:44:06,849 [INFO]  MMD Detector initialized\n",
      "2023-02-14 15:44:06,849 [INFO]  MMD Detector initialized\n",
      "2023-02-14 15:44:06,849 [INFO]  MMD Detector initialized\n",
      "2023-02-14 15:44:06,849 [INFO]  MMD Detector initialized\n",
      "2023-02-14 15:44:06,849 [INFO]  MMD Detector initialized\n",
      "2023-02-14 15:44:06,849 [INFO]  MMD Detector initialized\n",
      "2023-02-14 15:44:06,849 [INFO]  MMD Detector initialized\n",
      "2023-02-14 15:44:06,849 [INFO]  MMD Detector initialized\n",
      "2023-02-14 15:44:06,849 [INFO]  MMD Detector initialized\n",
      "2023-02-14 15:44:06,849 [INFO]  MMD Detector initialized\n",
      "2023-02-14 15:44:06,849 [INFO]  MMD Detector initialized\n",
      "2023-02-14 15:44:06,849 [INFO]  MMD Detector initialized\n",
      "2023-02-14 15:44:06,849 [INFO]  MMD Detector initialized\n",
      "2023-02-14 15:44:06,849 [INFO]  MMD Detector initialized\n",
      "2023-02-14 15:44:06,849 [INFO]  MMD Detector initialized\n",
      "2023-02-14 15:44:06,849 [INFO]  MMD Detector initialized\n",
      "Directory /home/ubuntu/image-drift-monitoring/config/detectors/RxRx1/UAE/rxrx1_UAE_90_MMD does not exist and is now created.\n",
      "Directory /home/ubuntu/image-drift-monitoring/config/detectors/RxRx1/UAE/rxrx1_UAE_90_MMD/preprocess_fn/model does not exist and is now created.\n"
     ]
    },
    {
     "name": "stdout",
     "output_type": "stream",
     "text": [
      "WARNING:tensorflow:Compiled the loaded model, but the compiled metrics have yet to be built. `model.compile_metrics` will be empty until you train or evaluate the model.\n"
     ]
    },
    {
     "name": "stderr",
     "output_type": "stream",
     "text": [
      "2023-02-14 16:05:29,117 [INFO]  MMD Detector initialized\n",
      "2023-02-14 16:05:29,117 [INFO]  MMD Detector initialized\n",
      "2023-02-14 16:05:29,117 [INFO]  MMD Detector initialized\n",
      "2023-02-14 16:05:29,117 [INFO]  MMD Detector initialized\n",
      "2023-02-14 16:05:29,117 [INFO]  MMD Detector initialized\n",
      "2023-02-14 16:05:29,117 [INFO]  MMD Detector initialized\n",
      "2023-02-14 16:05:29,117 [INFO]  MMD Detector initialized\n",
      "2023-02-14 16:05:29,117 [INFO]  MMD Detector initialized\n",
      "2023-02-14 16:05:29,117 [INFO]  MMD Detector initialized\n",
      "2023-02-14 16:05:29,117 [INFO]  MMD Detector initialized\n",
      "2023-02-14 16:05:29,117 [INFO]  MMD Detector initialized\n",
      "2023-02-14 16:05:29,117 [INFO]  MMD Detector initialized\n",
      "2023-02-14 16:05:29,117 [INFO]  MMD Detector initialized\n",
      "2023-02-14 16:05:29,117 [INFO]  MMD Detector initialized\n",
      "2023-02-14 16:05:29,117 [INFO]  MMD Detector initialized\n",
      "2023-02-14 16:05:29,117 [INFO]  MMD Detector initialized\n",
      "2023-02-14 16:05:29,117 [INFO]  MMD Detector initialized\n",
      "2023-02-14 16:05:29,117 [INFO]  MMD Detector initialized\n",
      "2023-02-14 16:05:29,117 [INFO]  MMD Detector initialized\n",
      "Directory /home/ubuntu/image-drift-monitoring/config/detectors/RxRx1/UAE/rxrx1_UAE_95_MMD does not exist and is now created.\n",
      "Directory /home/ubuntu/image-drift-monitoring/config/detectors/RxRx1/UAE/rxrx1_UAE_95_MMD/preprocess_fn/model does not exist and is now created.\n"
     ]
    },
    {
     "name": "stdout",
     "output_type": "stream",
     "text": [
      "WARNING:tensorflow:Compiled the loaded model, but the compiled metrics have yet to be built. `model.compile_metrics` will be empty until you train or evaluate the model.\n"
     ]
    },
    {
     "name": "stderr",
     "output_type": "stream",
     "text": [
      "2023-02-14 16:28:24,321 [INFO]  MMD Detector initialized\n",
      "2023-02-14 16:28:24,321 [INFO]  MMD Detector initialized\n",
      "2023-02-14 16:28:24,321 [INFO]  MMD Detector initialized\n",
      "2023-02-14 16:28:24,321 [INFO]  MMD Detector initialized\n",
      "2023-02-14 16:28:24,321 [INFO]  MMD Detector initialized\n",
      "2023-02-14 16:28:24,321 [INFO]  MMD Detector initialized\n",
      "2023-02-14 16:28:24,321 [INFO]  MMD Detector initialized\n",
      "2023-02-14 16:28:24,321 [INFO]  MMD Detector initialized\n",
      "2023-02-14 16:28:24,321 [INFO]  MMD Detector initialized\n",
      "2023-02-14 16:28:24,321 [INFO]  MMD Detector initialized\n",
      "2023-02-14 16:28:24,321 [INFO]  MMD Detector initialized\n",
      "2023-02-14 16:28:24,321 [INFO]  MMD Detector initialized\n",
      "2023-02-14 16:28:24,321 [INFO]  MMD Detector initialized\n",
      "2023-02-14 16:28:24,321 [INFO]  MMD Detector initialized\n",
      "2023-02-14 16:28:24,321 [INFO]  MMD Detector initialized\n",
      "2023-02-14 16:28:24,321 [INFO]  MMD Detector initialized\n",
      "2023-02-14 16:28:24,321 [INFO]  MMD Detector initialized\n",
      "2023-02-14 16:28:24,321 [INFO]  MMD Detector initialized\n",
      "2023-02-14 16:28:24,321 [INFO]  MMD Detector initialized\n",
      "2023-02-14 16:28:24,321 [INFO]  MMD Detector initialized\n",
      "Directory /home/ubuntu/image-drift-monitoring/config/detectors/RxRx1/UAE/rxrx1_UAE_100_MMD does not exist and is now created.\n",
      "Directory /home/ubuntu/image-drift-monitoring/config/detectors/RxRx1/UAE/rxrx1_UAE_100_MMD/preprocess_fn/model does not exist and is now created.\n"
     ]
    },
    {
     "name": "stdout",
     "output_type": "stream",
     "text": [
      "WARNING:tensorflow:Compiled the loaded model, but the compiled metrics have yet to be built. `model.compile_metrics` will be empty until you train or evaluate the model.\n"
     ]
    }
   ],
   "source": [
    "%cd  '/home/ubuntu/image-drift-monitoring'\n",
    "%pwd\n",
    "import numpy as np\n",
    "from src.modules.alibi_detect.untrained_encoder import UntrainedAutoencoder\n",
    "import json \n",
    "import os\n",
    "\n",
    "\n",
    "with open('/home/ubuntu/image-drift-monitoring/config/common/drift_detection_config.json') as config_file:\n",
    "        drift_detection_config = json.load(config_file)\n",
    "\n",
    "\n",
    "for i in range(5,105,5):\n",
    "        if i == 100 :\n",
    "                rxrx1_train_i_comp = np.load('/home/ubuntu/image-drift-monitoring/data/rxrx1_v1.0/rxrx1_train_ds.npz'.format(i))        \n",
    "        else :\n",
    "                rxrx1_train_i_comp = np.load('/home/ubuntu/image-drift-monitoring/data/rxrx1_v1.0/rxrx1_train_{}_ds.npz'.format(i))\n",
    "                \n",
    "        rxrx1_train_i = rxrx1_train_i_comp['arr_0']\n",
    "\n",
    "        myUAE = UntrainedAutoencoder(drift_detection_config)\n",
    "        myUAE.init_default_tf_encoder(encoding_dim=100,input_shape=rxrx1_train_i.shape[1:])\n",
    "        myUAE.init_detector(detector_type='MMD',reference_data=rxrx1_train_i,detector_name='rxrx1_UAE_{}_MMD'.format(i),save_dec=True)\n",
    "\n",
    "        rxrx1_train_i_comp = None\n",
    "        rxrx1_train_i = None\n",
    "        myUAE = None\n",
    "\n"
   ]
  },
  {
   "attachments": {},
   "cell_type": "markdown",
   "metadata": {},
   "source": [
    "LSDD init UAE"
   ]
  },
  {
   "cell_type": "code",
   "execution_count": null,
   "metadata": {},
   "outputs": [],
   "source": [
    "%cd  '/home/ubuntu/image-drift-monitoring'\n",
    "%pwd\n",
    "import numpy as np\n",
    "from src.modules.alibi_detect.untrained_encoder import UntrainedAutoencoder\n",
    "import json \n",
    "\n",
    "\n",
    "\n",
    "with open('/home/ubuntu/image-drift-monitoring/config/common/drift_detection_config.json') as config_file:\n",
    "        drift_detection_config = json.load(config_file)\n",
    "\n",
    "for i in range(5,105,5):\n",
    "        if i == 100 :\n",
    "                rxrx1_train_i_comp = np.load('/home/ubuntu/image-drift-monitoring/data/rxrx1_v1.0/rxrx1_train_ds.npz'.format(i))        \n",
    "        else :\n",
    "                rxrx1_train_i_comp = np.load('/home/ubuntu/image-drift-monitoring/data/rxrx1_v1.0/rxrx1_train_{}_ds.npz'.format(i))\n",
    "                \n",
    "        rxrx1_train_i = rxrx1_train_i_comp['arr_0']\n",
    "\n",
    "        myUAE = UntrainedAutoencoder(drift_detection_config)\n",
    "        myUAE.init_default_tf_encoder(encoding_dim=100,input_shape=rxrx1_train_i.shape[1:])\n",
    "        myUAE.init_detector(detector_type='LSDD',reference_data=rxrx1_train_i,detector_name='rxrx1_UAE_{}_LSDD'.format(i),save_dec=True)\n",
    "\n",
    "        rxrx1_train_i_comp = None\n",
    "        rxrx1_train_i = None\n",
    "        myUAE = None"
   ]
  }
 ],
 "metadata": {
  "kernelspec": {
   "display_name": "alibitorchwhy",
   "language": "python",
   "name": "python3"
  },
  "language_info": {
   "codemirror_mode": {
    "name": "ipython",
    "version": 3
   },
   "file_extension": ".py",
   "mimetype": "text/x-python",
   "name": "python",
   "nbconvert_exporter": "python",
   "pygments_lexer": "ipython3",
   "version": "3.8.15"
  },
  "orig_nbformat": 4,
  "vscode": {
   "interpreter": {
    "hash": "401cebfcb5cce5f71138843ad74eb16632e47d40b3a47aa4ad883b3d134173ed"
   }
  }
 },
 "nbformat": 4,
 "nbformat_minor": 2
}
