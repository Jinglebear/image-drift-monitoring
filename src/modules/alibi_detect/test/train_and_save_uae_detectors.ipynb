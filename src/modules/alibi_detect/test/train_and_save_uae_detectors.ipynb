{
 "cells": [
  {
   "attachments": {},
   "cell_type": "markdown",
   "metadata": {},
   "source": [
    "KS init UAE"
   ]
  },
  {
   "cell_type": "code",
   "execution_count": null,
   "metadata": {},
   "outputs": [],
   "source": [
    "%cd  '/home/ubuntu/image-drift-monitoring'\n",
    "%pwd\n",
    "import numpy as np\n",
    "from src.modules.alibi_detect.untrained_encoder import UntrainedAutoencoder\n",
    "import json \n",
    "\n",
    "\n",
    "\n",
    "with open('/home/ubuntu/image-drift-monitoring/config/common/drift_detection_config.json') as config_file:\n",
    "        drift_detection_config = json.load(config_file)\n",
    "\n",
    "for i in range(5,105,5):\n",
    "        if i == 100 :\n",
    "                globalwheat_train_i_comp = np.load('/home/ubuntu/image-drift-monitoring/data/globalwheat_v1.1/globalwheat_train_ds.npz'.format(i))        \n",
    "        else :\n",
    "                globalwheat_train_i_comp = np.load('/home/ubuntu/image-drift-monitoring/data/globalwheat_v1.1/globalwheat_train_{}_ds.npz'.format(i))\n",
    "                \n",
    "        globalwheat_train_i = globalwheat_train_i_comp['arr_0']\n",
    "\n",
    "        myUAE = UntrainedAutoencoder(drift_detection_config)\n",
    "        myUAE.init_default_tf_encoder(encoding_dim=100,input_shape=globalwheat_train_i.shape[1:])\n",
    "        myUAE.init_detector(detector_type='KS',reference_data=globalwheat_train_i,detector_name='globalwheat_UAE_{}_KS'.format(i),save_dec=True)\n",
    "\n",
    "        globalwheat_train_i_comp = None\n",
    "        globalwheat_train_i = None\n",
    "        myUAE = None"
   ]
  },
  {
   "attachments": {},
   "cell_type": "markdown",
   "metadata": {},
   "source": [
    "CVM init UAE"
   ]
  },
  {
   "cell_type": "code",
   "execution_count": null,
   "metadata": {},
   "outputs": [],
   "source": [
    "%cd  '/home/ubuntu/image-drift-monitoring'\n",
    "%pwd\n",
    "import numpy as np\n",
    "from src.modules.alibi_detect.untrained_encoder import UntrainedAutoencoder\n",
    "import json \n",
    "\n",
    "\n",
    "\n",
    "with open('/home/ubuntu/image-drift-monitoring/config/common/drift_detection_config.json') as config_file:\n",
    "        drift_detection_config = json.load(config_file)\n",
    "\n",
    "for i in range(5,105,5):\n",
    "        if i == 100 :\n",
    "                globalwheat_train_i_comp = np.load('/home/ubuntu/image-drift-monitoring/data/globalwheat_v1.1/globalwheat_train_ds.npz'.format(i))        \n",
    "        else :\n",
    "                globalwheat_train_i_comp = np.load('/home/ubuntu/image-drift-monitoring/data/globalwheat_v1.1/globalwheat_train_{}_ds.npz'.format(i))\n",
    "                \n",
    "        globalwheat_train_i = globalwheat_train_i_comp['arr_0']\n",
    "\n",
    "        myUAE = UntrainedAutoencoder(drift_detection_config)\n",
    "        myUAE.init_default_tf_encoder(encoding_dim=100,input_shape=globalwheat_train_i.shape[1:])\n",
    "        myUAE.init_detector(detector_type='CVM',reference_data=globalwheat_train_i,detector_name='globalwheat_UAE_{}_CVM'.format(i),save_dec=True)\n",
    "\n",
    "        globalwheat_train_i_comp = None\n",
    "        globalwheat_train_i = None\n",
    "        myUAE = None"
   ]
  },
  {
   "attachments": {},
   "cell_type": "markdown",
   "metadata": {},
   "source": [
    "MMD init UAE"
   ]
  },
  {
   "cell_type": "code",
   "execution_count": null,
   "metadata": {},
   "outputs": [],
   "source": [
    "%cd  '/home/ubuntu/image-drift-monitoring'\n",
    "%pwd\n",
    "import numpy as np\n",
    "from src.modules.alibi_detect.untrained_encoder import UntrainedAutoencoder\n",
    "import json \n",
    "import os\n",
    "\n",
    "\n",
    "with open('/home/ubuntu/image-drift-monitoring/config/common/drift_detection_config.json') as config_file:\n",
    "        drift_detection_config = json.load(config_file)\n",
    "\n",
    "\n",
    "for i in range(5,105,5):\n",
    "        if i == 100 :\n",
    "                globalwheat_train_i_comp = np.load('/home/ubuntu/image-drift-monitoring/data/globalwheat_v1.1/globalwheat_train_ds.npz'.format(i))        \n",
    "        else :\n",
    "                globalwheat_train_i_comp = np.load('/home/ubuntu/image-drift-monitoring/data/globalwheat_v1.1/globalwheat_train_{}_ds.npz'.format(i))\n",
    "                \n",
    "        globalwheat_train_i = globalwheat_train_i_comp['arr_0']\n",
    "\n",
    "        myUAE = UntrainedAutoencoder(drift_detection_config)\n",
    "        myUAE.init_default_tf_encoder(encoding_dim=100,input_shape=globalwheat_train_i.shape[1:])\n",
    "        myUAE.init_detector(detector_type='MMD',reference_data=globalwheat_train_i,detector_name='globalwheat_UAE_{}_MMD'.format(i),save_dec=True)\n",
    "\n",
    "        globalwheat_train_i_comp = None\n",
    "        globalwheat_train_i = None\n",
    "        myUAE = None\n",
    "\n"
   ]
  },
  {
   "attachments": {},
   "cell_type": "markdown",
   "metadata": {},
   "source": [
    "LSDD init UAE"
   ]
  },
  {
   "cell_type": "code",
   "execution_count": 2,
   "metadata": {},
   "outputs": [
    {
     "name": "stdout",
     "output_type": "stream",
     "text": [
      "/home/ubuntu/image-drift-monitoring\n"
     ]
    },
    {
     "name": "stderr",
     "output_type": "stream",
     "text": [
      "2023-02-14 13:36:58,740 [INFO]  LSDD Detector initialized\n",
      "2023-02-14 13:36:58,740 [INFO]  LSDD Detector initialized\n",
      "Directory /home/ubuntu/image-drift-monitoring/config/detectors/GlobalWheat/UAE/globalwheat_UAE_5_LSDD does not exist and is now created.\n",
      "Directory /home/ubuntu/image-drift-monitoring/config/detectors/GlobalWheat/UAE/globalwheat_UAE_5_LSDD/preprocess_fn/model does not exist and is now created.\n"
     ]
    },
    {
     "name": "stdout",
     "output_type": "stream",
     "text": [
      "WARNING:tensorflow:Compiled the loaded model, but the compiled metrics have yet to be built. `model.compile_metrics` will be empty until you train or evaluate the model.\n"
     ]
    },
    {
     "name": "stderr",
     "output_type": "stream",
     "text": [
      "2023-02-14 13:36:59,303 [INFO]  LSDD Detector initialized\n",
      "2023-02-14 13:36:59,303 [INFO]  LSDD Detector initialized\n",
      "2023-02-14 13:36:59,303 [INFO]  LSDD Detector initialized\n",
      "Directory /home/ubuntu/image-drift-monitoring/config/detectors/GlobalWheat/UAE/globalwheat_UAE_10_LSDD does not exist and is now created.\n",
      "Directory /home/ubuntu/image-drift-monitoring/config/detectors/GlobalWheat/UAE/globalwheat_UAE_10_LSDD/preprocess_fn/model does not exist and is now created.\n"
     ]
    },
    {
     "name": "stdout",
     "output_type": "stream",
     "text": [
      "WARNING:tensorflow:Compiled the loaded model, but the compiled metrics have yet to be built. `model.compile_metrics` will be empty until you train or evaluate the model.\n"
     ]
    },
    {
     "name": "stderr",
     "output_type": "stream",
     "text": [
      "2023-02-14 13:37:00,007 [INFO]  LSDD Detector initialized\n",
      "2023-02-14 13:37:00,007 [INFO]  LSDD Detector initialized\n",
      "2023-02-14 13:37:00,007 [INFO]  LSDD Detector initialized\n",
      "2023-02-14 13:37:00,007 [INFO]  LSDD Detector initialized\n",
      "Directory /home/ubuntu/image-drift-monitoring/config/detectors/GlobalWheat/UAE/globalwheat_UAE_15_LSDD does not exist and is now created.\n",
      "Directory /home/ubuntu/image-drift-monitoring/config/detectors/GlobalWheat/UAE/globalwheat_UAE_15_LSDD/preprocess_fn/model does not exist and is now created.\n"
     ]
    },
    {
     "name": "stdout",
     "output_type": "stream",
     "text": [
      "WARNING:tensorflow:Compiled the loaded model, but the compiled metrics have yet to be built. `model.compile_metrics` will be empty until you train or evaluate the model.\n"
     ]
    },
    {
     "name": "stderr",
     "output_type": "stream",
     "text": [
      "2023-02-14 13:37:00,930 [INFO]  LSDD Detector initialized\n",
      "2023-02-14 13:37:00,930 [INFO]  LSDD Detector initialized\n",
      "2023-02-14 13:37:00,930 [INFO]  LSDD Detector initialized\n",
      "2023-02-14 13:37:00,930 [INFO]  LSDD Detector initialized\n",
      "2023-02-14 13:37:00,930 [INFO]  LSDD Detector initialized\n",
      "Directory /home/ubuntu/image-drift-monitoring/config/detectors/GlobalWheat/UAE/globalwheat_UAE_20_LSDD does not exist and is now created.\n",
      "Directory /home/ubuntu/image-drift-monitoring/config/detectors/GlobalWheat/UAE/globalwheat_UAE_20_LSDD/preprocess_fn/model does not exist and is now created.\n"
     ]
    },
    {
     "name": "stdout",
     "output_type": "stream",
     "text": [
      "WARNING:tensorflow:Compiled the loaded model, but the compiled metrics have yet to be built. `model.compile_metrics` will be empty until you train or evaluate the model.\n"
     ]
    },
    {
     "name": "stderr",
     "output_type": "stream",
     "text": [
      "2023-02-14 13:37:02,092 [INFO]  LSDD Detector initialized\n",
      "2023-02-14 13:37:02,092 [INFO]  LSDD Detector initialized\n",
      "2023-02-14 13:37:02,092 [INFO]  LSDD Detector initialized\n",
      "2023-02-14 13:37:02,092 [INFO]  LSDD Detector initialized\n",
      "2023-02-14 13:37:02,092 [INFO]  LSDD Detector initialized\n",
      "2023-02-14 13:37:02,092 [INFO]  LSDD Detector initialized\n",
      "Directory /home/ubuntu/image-drift-monitoring/config/detectors/GlobalWheat/UAE/globalwheat_UAE_25_LSDD does not exist and is now created.\n",
      "Directory /home/ubuntu/image-drift-monitoring/config/detectors/GlobalWheat/UAE/globalwheat_UAE_25_LSDD/preprocess_fn/model does not exist and is now created.\n"
     ]
    },
    {
     "name": "stdout",
     "output_type": "stream",
     "text": [
      "WARNING:tensorflow:Compiled the loaded model, but the compiled metrics have yet to be built. `model.compile_metrics` will be empty until you train or evaluate the model.\n"
     ]
    },
    {
     "name": "stderr",
     "output_type": "stream",
     "text": [
      "2023-02-14 13:37:03,404 [INFO]  LSDD Detector initialized\n",
      "2023-02-14 13:37:03,404 [INFO]  LSDD Detector initialized\n",
      "2023-02-14 13:37:03,404 [INFO]  LSDD Detector initialized\n",
      "2023-02-14 13:37:03,404 [INFO]  LSDD Detector initialized\n",
      "2023-02-14 13:37:03,404 [INFO]  LSDD Detector initialized\n",
      "2023-02-14 13:37:03,404 [INFO]  LSDD Detector initialized\n",
      "2023-02-14 13:37:03,404 [INFO]  LSDD Detector initialized\n",
      "Directory /home/ubuntu/image-drift-monitoring/config/detectors/GlobalWheat/UAE/globalwheat_UAE_30_LSDD does not exist and is now created.\n",
      "Directory /home/ubuntu/image-drift-monitoring/config/detectors/GlobalWheat/UAE/globalwheat_UAE_30_LSDD/preprocess_fn/model does not exist and is now created.\n"
     ]
    },
    {
     "name": "stdout",
     "output_type": "stream",
     "text": [
      "WARNING:tensorflow:Compiled the loaded model, but the compiled metrics have yet to be built. `model.compile_metrics` will be empty until you train or evaluate the model.\n"
     ]
    },
    {
     "name": "stderr",
     "output_type": "stream",
     "text": [
      "2023-02-14 13:37:04,951 [INFO]  LSDD Detector initialized\n",
      "2023-02-14 13:37:04,951 [INFO]  LSDD Detector initialized\n",
      "2023-02-14 13:37:04,951 [INFO]  LSDD Detector initialized\n",
      "2023-02-14 13:37:04,951 [INFO]  LSDD Detector initialized\n",
      "2023-02-14 13:37:04,951 [INFO]  LSDD Detector initialized\n",
      "2023-02-14 13:37:04,951 [INFO]  LSDD Detector initialized\n",
      "2023-02-14 13:37:04,951 [INFO]  LSDD Detector initialized\n",
      "2023-02-14 13:37:04,951 [INFO]  LSDD Detector initialized\n",
      "Directory /home/ubuntu/image-drift-monitoring/config/detectors/GlobalWheat/UAE/globalwheat_UAE_35_LSDD does not exist and is now created.\n",
      "Directory /home/ubuntu/image-drift-monitoring/config/detectors/GlobalWheat/UAE/globalwheat_UAE_35_LSDD/preprocess_fn/model does not exist and is now created.\n"
     ]
    },
    {
     "name": "stdout",
     "output_type": "stream",
     "text": [
      "WARNING:tensorflow:Compiled the loaded model, but the compiled metrics have yet to be built. `model.compile_metrics` will be empty until you train or evaluate the model.\n"
     ]
    },
    {
     "name": "stderr",
     "output_type": "stream",
     "text": [
      "2023-02-14 13:37:06,707 [INFO]  LSDD Detector initialized\n",
      "2023-02-14 13:37:06,707 [INFO]  LSDD Detector initialized\n",
      "2023-02-14 13:37:06,707 [INFO]  LSDD Detector initialized\n",
      "2023-02-14 13:37:06,707 [INFO]  LSDD Detector initialized\n",
      "2023-02-14 13:37:06,707 [INFO]  LSDD Detector initialized\n",
      "2023-02-14 13:37:06,707 [INFO]  LSDD Detector initialized\n",
      "2023-02-14 13:37:06,707 [INFO]  LSDD Detector initialized\n",
      "2023-02-14 13:37:06,707 [INFO]  LSDD Detector initialized\n",
      "2023-02-14 13:37:06,707 [INFO]  LSDD Detector initialized\n",
      "Directory /home/ubuntu/image-drift-monitoring/config/detectors/GlobalWheat/UAE/globalwheat_UAE_40_LSDD does not exist and is now created.\n",
      "Directory /home/ubuntu/image-drift-monitoring/config/detectors/GlobalWheat/UAE/globalwheat_UAE_40_LSDD/preprocess_fn/model does not exist and is now created.\n"
     ]
    },
    {
     "name": "stdout",
     "output_type": "stream",
     "text": [
      "WARNING:tensorflow:Compiled the loaded model, but the compiled metrics have yet to be built. `model.compile_metrics` will be empty until you train or evaluate the model.\n"
     ]
    },
    {
     "name": "stderr",
     "output_type": "stream",
     "text": [
      "2023-02-14 13:37:08,814 [INFO]  LSDD Detector initialized\n",
      "2023-02-14 13:37:08,814 [INFO]  LSDD Detector initialized\n",
      "2023-02-14 13:37:08,814 [INFO]  LSDD Detector initialized\n",
      "2023-02-14 13:37:08,814 [INFO]  LSDD Detector initialized\n",
      "2023-02-14 13:37:08,814 [INFO]  LSDD Detector initialized\n",
      "2023-02-14 13:37:08,814 [INFO]  LSDD Detector initialized\n",
      "2023-02-14 13:37:08,814 [INFO]  LSDD Detector initialized\n",
      "2023-02-14 13:37:08,814 [INFO]  LSDD Detector initialized\n",
      "2023-02-14 13:37:08,814 [INFO]  LSDD Detector initialized\n",
      "2023-02-14 13:37:08,814 [INFO]  LSDD Detector initialized\n",
      "Directory /home/ubuntu/image-drift-monitoring/config/detectors/GlobalWheat/UAE/globalwheat_UAE_45_LSDD does not exist and is now created.\n",
      "Directory /home/ubuntu/image-drift-monitoring/config/detectors/GlobalWheat/UAE/globalwheat_UAE_45_LSDD/preprocess_fn/model does not exist and is now created.\n"
     ]
    },
    {
     "name": "stdout",
     "output_type": "stream",
     "text": [
      "WARNING:tensorflow:Compiled the loaded model, but the compiled metrics have yet to be built. `model.compile_metrics` will be empty until you train or evaluate the model.\n"
     ]
    },
    {
     "name": "stderr",
     "output_type": "stream",
     "text": [
      "2023-02-14 13:37:11,246 [INFO]  LSDD Detector initialized\n",
      "2023-02-14 13:37:11,246 [INFO]  LSDD Detector initialized\n",
      "2023-02-14 13:37:11,246 [INFO]  LSDD Detector initialized\n",
      "2023-02-14 13:37:11,246 [INFO]  LSDD Detector initialized\n",
      "2023-02-14 13:37:11,246 [INFO]  LSDD Detector initialized\n",
      "2023-02-14 13:37:11,246 [INFO]  LSDD Detector initialized\n",
      "2023-02-14 13:37:11,246 [INFO]  LSDD Detector initialized\n",
      "2023-02-14 13:37:11,246 [INFO]  LSDD Detector initialized\n",
      "2023-02-14 13:37:11,246 [INFO]  LSDD Detector initialized\n",
      "2023-02-14 13:37:11,246 [INFO]  LSDD Detector initialized\n",
      "2023-02-14 13:37:11,246 [INFO]  LSDD Detector initialized\n",
      "Directory /home/ubuntu/image-drift-monitoring/config/detectors/GlobalWheat/UAE/globalwheat_UAE_50_LSDD does not exist and is now created.\n",
      "Directory /home/ubuntu/image-drift-monitoring/config/detectors/GlobalWheat/UAE/globalwheat_UAE_50_LSDD/preprocess_fn/model does not exist and is now created.\n"
     ]
    },
    {
     "name": "stdout",
     "output_type": "stream",
     "text": [
      "WARNING:tensorflow:Compiled the loaded model, but the compiled metrics have yet to be built. `model.compile_metrics` will be empty until you train or evaluate the model.\n"
     ]
    },
    {
     "name": "stderr",
     "output_type": "stream",
     "text": [
      "2023-02-14 13:37:14,034 [INFO]  LSDD Detector initialized\n",
      "2023-02-14 13:37:14,034 [INFO]  LSDD Detector initialized\n",
      "2023-02-14 13:37:14,034 [INFO]  LSDD Detector initialized\n",
      "2023-02-14 13:37:14,034 [INFO]  LSDD Detector initialized\n",
      "2023-02-14 13:37:14,034 [INFO]  LSDD Detector initialized\n",
      "2023-02-14 13:37:14,034 [INFO]  LSDD Detector initialized\n",
      "2023-02-14 13:37:14,034 [INFO]  LSDD Detector initialized\n",
      "2023-02-14 13:37:14,034 [INFO]  LSDD Detector initialized\n",
      "2023-02-14 13:37:14,034 [INFO]  LSDD Detector initialized\n",
      "2023-02-14 13:37:14,034 [INFO]  LSDD Detector initialized\n",
      "2023-02-14 13:37:14,034 [INFO]  LSDD Detector initialized\n",
      "2023-02-14 13:37:14,034 [INFO]  LSDD Detector initialized\n",
      "Directory /home/ubuntu/image-drift-monitoring/config/detectors/GlobalWheat/UAE/globalwheat_UAE_55_LSDD does not exist and is now created.\n",
      "Directory /home/ubuntu/image-drift-monitoring/config/detectors/GlobalWheat/UAE/globalwheat_UAE_55_LSDD/preprocess_fn/model does not exist and is now created.\n"
     ]
    },
    {
     "name": "stdout",
     "output_type": "stream",
     "text": [
      "WARNING:tensorflow:Compiled the loaded model, but the compiled metrics have yet to be built. `model.compile_metrics` will be empty until you train or evaluate the model.\n"
     ]
    },
    {
     "name": "stderr",
     "output_type": "stream",
     "text": [
      "2023-02-14 13:37:17,197 [INFO]  LSDD Detector initialized\n",
      "2023-02-14 13:37:17,197 [INFO]  LSDD Detector initialized\n",
      "2023-02-14 13:37:17,197 [INFO]  LSDD Detector initialized\n",
      "2023-02-14 13:37:17,197 [INFO]  LSDD Detector initialized\n",
      "2023-02-14 13:37:17,197 [INFO]  LSDD Detector initialized\n",
      "2023-02-14 13:37:17,197 [INFO]  LSDD Detector initialized\n",
      "2023-02-14 13:37:17,197 [INFO]  LSDD Detector initialized\n",
      "2023-02-14 13:37:17,197 [INFO]  LSDD Detector initialized\n",
      "2023-02-14 13:37:17,197 [INFO]  LSDD Detector initialized\n",
      "2023-02-14 13:37:17,197 [INFO]  LSDD Detector initialized\n",
      "2023-02-14 13:37:17,197 [INFO]  LSDD Detector initialized\n",
      "2023-02-14 13:37:17,197 [INFO]  LSDD Detector initialized\n",
      "2023-02-14 13:37:17,197 [INFO]  LSDD Detector initialized\n",
      "Directory /home/ubuntu/image-drift-monitoring/config/detectors/GlobalWheat/UAE/globalwheat_UAE_60_LSDD does not exist and is now created.\n",
      "Directory /home/ubuntu/image-drift-monitoring/config/detectors/GlobalWheat/UAE/globalwheat_UAE_60_LSDD/preprocess_fn/model does not exist and is now created.\n"
     ]
    },
    {
     "name": "stdout",
     "output_type": "stream",
     "text": [
      "WARNING:tensorflow:Compiled the loaded model, but the compiled metrics have yet to be built. `model.compile_metrics` will be empty until you train or evaluate the model.\n"
     ]
    },
    {
     "name": "stderr",
     "output_type": "stream",
     "text": [
      "2023-02-14 13:37:20,876 [INFO]  LSDD Detector initialized\n",
      "2023-02-14 13:37:20,876 [INFO]  LSDD Detector initialized\n",
      "2023-02-14 13:37:20,876 [INFO]  LSDD Detector initialized\n",
      "2023-02-14 13:37:20,876 [INFO]  LSDD Detector initialized\n",
      "2023-02-14 13:37:20,876 [INFO]  LSDD Detector initialized\n",
      "2023-02-14 13:37:20,876 [INFO]  LSDD Detector initialized\n",
      "2023-02-14 13:37:20,876 [INFO]  LSDD Detector initialized\n",
      "2023-02-14 13:37:20,876 [INFO]  LSDD Detector initialized\n",
      "2023-02-14 13:37:20,876 [INFO]  LSDD Detector initialized\n",
      "2023-02-14 13:37:20,876 [INFO]  LSDD Detector initialized\n",
      "2023-02-14 13:37:20,876 [INFO]  LSDD Detector initialized\n",
      "2023-02-14 13:37:20,876 [INFO]  LSDD Detector initialized\n",
      "2023-02-14 13:37:20,876 [INFO]  LSDD Detector initialized\n",
      "2023-02-14 13:37:20,876 [INFO]  LSDD Detector initialized\n",
      "Directory /home/ubuntu/image-drift-monitoring/config/detectors/GlobalWheat/UAE/globalwheat_UAE_65_LSDD does not exist and is now created.\n",
      "Directory /home/ubuntu/image-drift-monitoring/config/detectors/GlobalWheat/UAE/globalwheat_UAE_65_LSDD/preprocess_fn/model does not exist and is now created.\n"
     ]
    },
    {
     "name": "stdout",
     "output_type": "stream",
     "text": [
      "WARNING:tensorflow:Compiled the loaded model, but the compiled metrics have yet to be built. `model.compile_metrics` will be empty until you train or evaluate the model.\n"
     ]
    },
    {
     "name": "stderr",
     "output_type": "stream",
     "text": [
      "2023-02-14 13:37:24,601 [INFO]  LSDD Detector initialized\n",
      "2023-02-14 13:37:24,601 [INFO]  LSDD Detector initialized\n",
      "2023-02-14 13:37:24,601 [INFO]  LSDD Detector initialized\n",
      "2023-02-14 13:37:24,601 [INFO]  LSDD Detector initialized\n",
      "2023-02-14 13:37:24,601 [INFO]  LSDD Detector initialized\n",
      "2023-02-14 13:37:24,601 [INFO]  LSDD Detector initialized\n",
      "2023-02-14 13:37:24,601 [INFO]  LSDD Detector initialized\n",
      "2023-02-14 13:37:24,601 [INFO]  LSDD Detector initialized\n",
      "2023-02-14 13:37:24,601 [INFO]  LSDD Detector initialized\n",
      "2023-02-14 13:37:24,601 [INFO]  LSDD Detector initialized\n",
      "2023-02-14 13:37:24,601 [INFO]  LSDD Detector initialized\n",
      "2023-02-14 13:37:24,601 [INFO]  LSDD Detector initialized\n",
      "2023-02-14 13:37:24,601 [INFO]  LSDD Detector initialized\n",
      "2023-02-14 13:37:24,601 [INFO]  LSDD Detector initialized\n",
      "2023-02-14 13:37:24,601 [INFO]  LSDD Detector initialized\n",
      "Directory /home/ubuntu/image-drift-monitoring/config/detectors/GlobalWheat/UAE/globalwheat_UAE_70_LSDD does not exist and is now created.\n",
      "Directory /home/ubuntu/image-drift-monitoring/config/detectors/GlobalWheat/UAE/globalwheat_UAE_70_LSDD/preprocess_fn/model does not exist and is now created.\n"
     ]
    },
    {
     "name": "stdout",
     "output_type": "stream",
     "text": [
      "WARNING:tensorflow:Compiled the loaded model, but the compiled metrics have yet to be built. `model.compile_metrics` will be empty until you train or evaluate the model.\n"
     ]
    },
    {
     "name": "stderr",
     "output_type": "stream",
     "text": [
      "2023-02-14 13:37:28,825 [INFO]  LSDD Detector initialized\n",
      "2023-02-14 13:37:28,825 [INFO]  LSDD Detector initialized\n",
      "2023-02-14 13:37:28,825 [INFO]  LSDD Detector initialized\n",
      "2023-02-14 13:37:28,825 [INFO]  LSDD Detector initialized\n",
      "2023-02-14 13:37:28,825 [INFO]  LSDD Detector initialized\n",
      "2023-02-14 13:37:28,825 [INFO]  LSDD Detector initialized\n",
      "2023-02-14 13:37:28,825 [INFO]  LSDD Detector initialized\n",
      "2023-02-14 13:37:28,825 [INFO]  LSDD Detector initialized\n",
      "2023-02-14 13:37:28,825 [INFO]  LSDD Detector initialized\n",
      "2023-02-14 13:37:28,825 [INFO]  LSDD Detector initialized\n",
      "2023-02-14 13:37:28,825 [INFO]  LSDD Detector initialized\n",
      "2023-02-14 13:37:28,825 [INFO]  LSDD Detector initialized\n",
      "2023-02-14 13:37:28,825 [INFO]  LSDD Detector initialized\n",
      "2023-02-14 13:37:28,825 [INFO]  LSDD Detector initialized\n",
      "2023-02-14 13:37:28,825 [INFO]  LSDD Detector initialized\n",
      "2023-02-14 13:37:28,825 [INFO]  LSDD Detector initialized\n",
      "Directory /home/ubuntu/image-drift-monitoring/config/detectors/GlobalWheat/UAE/globalwheat_UAE_75_LSDD does not exist and is now created.\n",
      "Directory /home/ubuntu/image-drift-monitoring/config/detectors/GlobalWheat/UAE/globalwheat_UAE_75_LSDD/preprocess_fn/model does not exist and is now created.\n"
     ]
    },
    {
     "name": "stdout",
     "output_type": "stream",
     "text": [
      "WARNING:tensorflow:Compiled the loaded model, but the compiled metrics have yet to be built. `model.compile_metrics` will be empty until you train or evaluate the model.\n"
     ]
    },
    {
     "name": "stderr",
     "output_type": "stream",
     "text": [
      "2023-02-14 13:37:33,681 [INFO]  LSDD Detector initialized\n",
      "2023-02-14 13:37:33,681 [INFO]  LSDD Detector initialized\n",
      "2023-02-14 13:37:33,681 [INFO]  LSDD Detector initialized\n",
      "2023-02-14 13:37:33,681 [INFO]  LSDD Detector initialized\n",
      "2023-02-14 13:37:33,681 [INFO]  LSDD Detector initialized\n",
      "2023-02-14 13:37:33,681 [INFO]  LSDD Detector initialized\n",
      "2023-02-14 13:37:33,681 [INFO]  LSDD Detector initialized\n",
      "2023-02-14 13:37:33,681 [INFO]  LSDD Detector initialized\n",
      "2023-02-14 13:37:33,681 [INFO]  LSDD Detector initialized\n",
      "2023-02-14 13:37:33,681 [INFO]  LSDD Detector initialized\n",
      "2023-02-14 13:37:33,681 [INFO]  LSDD Detector initialized\n",
      "2023-02-14 13:37:33,681 [INFO]  LSDD Detector initialized\n",
      "2023-02-14 13:37:33,681 [INFO]  LSDD Detector initialized\n",
      "2023-02-14 13:37:33,681 [INFO]  LSDD Detector initialized\n",
      "2023-02-14 13:37:33,681 [INFO]  LSDD Detector initialized\n",
      "2023-02-14 13:37:33,681 [INFO]  LSDD Detector initialized\n",
      "2023-02-14 13:37:33,681 [INFO]  LSDD Detector initialized\n",
      "Directory /home/ubuntu/image-drift-monitoring/config/detectors/GlobalWheat/UAE/globalwheat_UAE_80_LSDD does not exist and is now created.\n",
      "Directory /home/ubuntu/image-drift-monitoring/config/detectors/GlobalWheat/UAE/globalwheat_UAE_80_LSDD/preprocess_fn/model does not exist and is now created.\n"
     ]
    },
    {
     "name": "stdout",
     "output_type": "stream",
     "text": [
      "WARNING:tensorflow:Compiled the loaded model, but the compiled metrics have yet to be built. `model.compile_metrics` will be empty until you train or evaluate the model.\n"
     ]
    },
    {
     "name": "stderr",
     "output_type": "stream",
     "text": [
      "2023-02-14 13:37:38,706 [INFO]  LSDD Detector initialized\n",
      "2023-02-14 13:37:38,706 [INFO]  LSDD Detector initialized\n",
      "2023-02-14 13:37:38,706 [INFO]  LSDD Detector initialized\n",
      "2023-02-14 13:37:38,706 [INFO]  LSDD Detector initialized\n",
      "2023-02-14 13:37:38,706 [INFO]  LSDD Detector initialized\n",
      "2023-02-14 13:37:38,706 [INFO]  LSDD Detector initialized\n",
      "2023-02-14 13:37:38,706 [INFO]  LSDD Detector initialized\n",
      "2023-02-14 13:37:38,706 [INFO]  LSDD Detector initialized\n",
      "2023-02-14 13:37:38,706 [INFO]  LSDD Detector initialized\n",
      "2023-02-14 13:37:38,706 [INFO]  LSDD Detector initialized\n",
      "2023-02-14 13:37:38,706 [INFO]  LSDD Detector initialized\n",
      "2023-02-14 13:37:38,706 [INFO]  LSDD Detector initialized\n",
      "2023-02-14 13:37:38,706 [INFO]  LSDD Detector initialized\n",
      "2023-02-14 13:37:38,706 [INFO]  LSDD Detector initialized\n",
      "2023-02-14 13:37:38,706 [INFO]  LSDD Detector initialized\n",
      "2023-02-14 13:37:38,706 [INFO]  LSDD Detector initialized\n",
      "2023-02-14 13:37:38,706 [INFO]  LSDD Detector initialized\n",
      "2023-02-14 13:37:38,706 [INFO]  LSDD Detector initialized\n",
      "Directory /home/ubuntu/image-drift-monitoring/config/detectors/GlobalWheat/UAE/globalwheat_UAE_85_LSDD does not exist and is now created.\n",
      "Directory /home/ubuntu/image-drift-monitoring/config/detectors/GlobalWheat/UAE/globalwheat_UAE_85_LSDD/preprocess_fn/model does not exist and is now created.\n"
     ]
    },
    {
     "name": "stdout",
     "output_type": "stream",
     "text": [
      "WARNING:tensorflow:Compiled the loaded model, but the compiled metrics have yet to be built. `model.compile_metrics` will be empty until you train or evaluate the model.\n"
     ]
    },
    {
     "name": "stderr",
     "output_type": "stream",
     "text": [
      "2023-02-14 13:37:44,877 [INFO]  LSDD Detector initialized\n",
      "2023-02-14 13:37:44,877 [INFO]  LSDD Detector initialized\n",
      "2023-02-14 13:37:44,877 [INFO]  LSDD Detector initialized\n",
      "2023-02-14 13:37:44,877 [INFO]  LSDD Detector initialized\n",
      "2023-02-14 13:37:44,877 [INFO]  LSDD Detector initialized\n",
      "2023-02-14 13:37:44,877 [INFO]  LSDD Detector initialized\n",
      "2023-02-14 13:37:44,877 [INFO]  LSDD Detector initialized\n",
      "2023-02-14 13:37:44,877 [INFO]  LSDD Detector initialized\n",
      "2023-02-14 13:37:44,877 [INFO]  LSDD Detector initialized\n",
      "2023-02-14 13:37:44,877 [INFO]  LSDD Detector initialized\n",
      "2023-02-14 13:37:44,877 [INFO]  LSDD Detector initialized\n",
      "2023-02-14 13:37:44,877 [INFO]  LSDD Detector initialized\n",
      "2023-02-14 13:37:44,877 [INFO]  LSDD Detector initialized\n",
      "2023-02-14 13:37:44,877 [INFO]  LSDD Detector initialized\n",
      "2023-02-14 13:37:44,877 [INFO]  LSDD Detector initialized\n",
      "2023-02-14 13:37:44,877 [INFO]  LSDD Detector initialized\n",
      "2023-02-14 13:37:44,877 [INFO]  LSDD Detector initialized\n",
      "2023-02-14 13:37:44,877 [INFO]  LSDD Detector initialized\n",
      "2023-02-14 13:37:44,877 [INFO]  LSDD Detector initialized\n",
      "Directory /home/ubuntu/image-drift-monitoring/config/detectors/GlobalWheat/UAE/globalwheat_UAE_90_LSDD does not exist and is now created.\n",
      "Directory /home/ubuntu/image-drift-monitoring/config/detectors/GlobalWheat/UAE/globalwheat_UAE_90_LSDD/preprocess_fn/model does not exist and is now created.\n"
     ]
    },
    {
     "name": "stdout",
     "output_type": "stream",
     "text": [
      "WARNING:tensorflow:Compiled the loaded model, but the compiled metrics have yet to be built. `model.compile_metrics` will be empty until you train or evaluate the model.\n"
     ]
    },
    {
     "name": "stderr",
     "output_type": "stream",
     "text": [
      "2023-02-14 13:37:50,775 [INFO]  LSDD Detector initialized\n",
      "2023-02-14 13:37:50,775 [INFO]  LSDD Detector initialized\n",
      "2023-02-14 13:37:50,775 [INFO]  LSDD Detector initialized\n",
      "2023-02-14 13:37:50,775 [INFO]  LSDD Detector initialized\n",
      "2023-02-14 13:37:50,775 [INFO]  LSDD Detector initialized\n",
      "2023-02-14 13:37:50,775 [INFO]  LSDD Detector initialized\n",
      "2023-02-14 13:37:50,775 [INFO]  LSDD Detector initialized\n",
      "2023-02-14 13:37:50,775 [INFO]  LSDD Detector initialized\n",
      "2023-02-14 13:37:50,775 [INFO]  LSDD Detector initialized\n",
      "2023-02-14 13:37:50,775 [INFO]  LSDD Detector initialized\n",
      "2023-02-14 13:37:50,775 [INFO]  LSDD Detector initialized\n",
      "2023-02-14 13:37:50,775 [INFO]  LSDD Detector initialized\n",
      "2023-02-14 13:37:50,775 [INFO]  LSDD Detector initialized\n",
      "2023-02-14 13:37:50,775 [INFO]  LSDD Detector initialized\n",
      "2023-02-14 13:37:50,775 [INFO]  LSDD Detector initialized\n",
      "2023-02-14 13:37:50,775 [INFO]  LSDD Detector initialized\n",
      "2023-02-14 13:37:50,775 [INFO]  LSDD Detector initialized\n",
      "2023-02-14 13:37:50,775 [INFO]  LSDD Detector initialized\n",
      "2023-02-14 13:37:50,775 [INFO]  LSDD Detector initialized\n",
      "2023-02-14 13:37:50,775 [INFO]  LSDD Detector initialized\n",
      "Directory /home/ubuntu/image-drift-monitoring/config/detectors/GlobalWheat/UAE/globalwheat_UAE_95_LSDD does not exist and is now created.\n",
      "Directory /home/ubuntu/image-drift-monitoring/config/detectors/GlobalWheat/UAE/globalwheat_UAE_95_LSDD/preprocess_fn/model does not exist and is now created.\n"
     ]
    },
    {
     "name": "stdout",
     "output_type": "stream",
     "text": [
      "WARNING:tensorflow:Compiled the loaded model, but the compiled metrics have yet to be built. `model.compile_metrics` will be empty until you train or evaluate the model.\n"
     ]
    },
    {
     "name": "stderr",
     "output_type": "stream",
     "text": [
      "2023-02-14 13:37:56,924 [INFO]  LSDD Detector initialized\n",
      "2023-02-14 13:37:56,924 [INFO]  LSDD Detector initialized\n",
      "2023-02-14 13:37:56,924 [INFO]  LSDD Detector initialized\n",
      "2023-02-14 13:37:56,924 [INFO]  LSDD Detector initialized\n",
      "2023-02-14 13:37:56,924 [INFO]  LSDD Detector initialized\n",
      "2023-02-14 13:37:56,924 [INFO]  LSDD Detector initialized\n",
      "2023-02-14 13:37:56,924 [INFO]  LSDD Detector initialized\n",
      "2023-02-14 13:37:56,924 [INFO]  LSDD Detector initialized\n",
      "2023-02-14 13:37:56,924 [INFO]  LSDD Detector initialized\n",
      "2023-02-14 13:37:56,924 [INFO]  LSDD Detector initialized\n",
      "2023-02-14 13:37:56,924 [INFO]  LSDD Detector initialized\n",
      "2023-02-14 13:37:56,924 [INFO]  LSDD Detector initialized\n",
      "2023-02-14 13:37:56,924 [INFO]  LSDD Detector initialized\n",
      "2023-02-14 13:37:56,924 [INFO]  LSDD Detector initialized\n",
      "2023-02-14 13:37:56,924 [INFO]  LSDD Detector initialized\n",
      "2023-02-14 13:37:56,924 [INFO]  LSDD Detector initialized\n",
      "2023-02-14 13:37:56,924 [INFO]  LSDD Detector initialized\n",
      "2023-02-14 13:37:56,924 [INFO]  LSDD Detector initialized\n",
      "2023-02-14 13:37:56,924 [INFO]  LSDD Detector initialized\n",
      "2023-02-14 13:37:56,924 [INFO]  LSDD Detector initialized\n",
      "2023-02-14 13:37:56,924 [INFO]  LSDD Detector initialized\n",
      "Directory /home/ubuntu/image-drift-monitoring/config/detectors/GlobalWheat/UAE/globalwheat_UAE_100_LSDD does not exist and is now created.\n",
      "Directory /home/ubuntu/image-drift-monitoring/config/detectors/GlobalWheat/UAE/globalwheat_UAE_100_LSDD/preprocess_fn/model does not exist and is now created.\n"
     ]
    },
    {
     "name": "stdout",
     "output_type": "stream",
     "text": [
      "WARNING:tensorflow:Compiled the loaded model, but the compiled metrics have yet to be built. `model.compile_metrics` will be empty until you train or evaluate the model.\n"
     ]
    }
   ],
   "source": [
    "%cd  '/home/ubuntu/image-drift-monitoring'\n",
    "%pwd\n",
    "import numpy as np\n",
    "from src.modules.alibi_detect.untrained_encoder import UntrainedAutoencoder\n",
    "import json \n",
    "\n",
    "\n",
    "\n",
    "with open('/home/ubuntu/image-drift-monitoring/config/common/drift_detection_config.json') as config_file:\n",
    "        drift_detection_config = json.load(config_file)\n",
    "\n",
    "for i in range(5,105,5):\n",
    "        if i == 100 :\n",
    "                globalwheat_train_i_comp = np.load('/home/ubuntu/image-drift-monitoring/data/globalwheat_v1.1/globalwheat_train_ds.npz'.format(i))        \n",
    "        else :\n",
    "                globalwheat_train_i_comp = np.load('/home/ubuntu/image-drift-monitoring/data/globalwheat_v1.1/globalwheat_train_{}_ds.npz'.format(i))\n",
    "                \n",
    "        globalwheat_train_i = globalwheat_train_i_comp['arr_0']\n",
    "\n",
    "        myUAE = UntrainedAutoencoder(drift_detection_config)\n",
    "        myUAE.init_default_tf_encoder(encoding_dim=100,input_shape=globalwheat_train_i.shape[1:])\n",
    "        myUAE.init_detector(detector_type='LSDD',reference_data=globalwheat_train_i,detector_name='globalwheat_UAE_{}_LSDD'.format(i),save_dec=True)\n",
    "\n",
    "        globalwheat_train_i_comp = None\n",
    "        globalwheat_train_i = None\n",
    "        myUAE = None"
   ]
  }
 ],
 "metadata": {
  "kernelspec": {
   "display_name": "alibitorchwhy",
   "language": "python",
   "name": "python3"
  },
  "language_info": {
   "codemirror_mode": {
    "name": "ipython",
    "version": 3
   },
   "file_extension": ".py",
   "mimetype": "text/x-python",
   "name": "python",
   "nbconvert_exporter": "python",
   "pygments_lexer": "ipython3",
   "version": "3.8.15"
  },
  "orig_nbformat": 4,
  "vscode": {
   "interpreter": {
    "hash": "401cebfcb5cce5f71138843ad74eb16632e47d40b3a47aa4ad883b3d134173ed"
   }
  }
 },
 "nbformat": 4,
 "nbformat_minor": 2
}
