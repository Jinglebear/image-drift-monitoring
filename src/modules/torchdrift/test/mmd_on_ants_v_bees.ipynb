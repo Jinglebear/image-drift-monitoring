{
 "cells": [
  {
   "cell_type": "code",
   "execution_count": 45,
   "metadata": {},
   "outputs": [],
   "source": [
    "import sys\n",
    "sys.path.insert(0, '../')\n",
    "\n",
    "import torch\n",
    "import torchvision\n",
    "import torchdrift\n",
    "import copy\n",
    "%matplotlib inline\n",
    "from matplotlib import pyplot\n",
    "\n",
    "device =  \"cpu\""
   ]
  },
  {
   "cell_type": "code",
   "execution_count": 46,
   "metadata": {},
   "outputs": [],
   "source": [
    "# We use a very simple ResNet as our example model. \n",
    "# As we often do, we move the normalization out of the dataset transforms.\n",
    "#  We do this because we want to post-process the images to “fake” drifted inputs,\n",
    "#  so you would not need to do this for your own data and models (but I would advocate that moving the normalization into the models is indeed uncommon but best practice).\n",
    "#  We also split out the fully connected layer from the ResNet."
   ]
  },
  {
   "cell_type": "code",
   "execution_count": 47,
   "metadata": {},
   "outputs": [
    {
     "name": "stderr",
     "output_type": "stream",
     "text": [
      "/home/jinglewsl/miniconda3/envs/alibitorchwhy/lib/python3.8/site-packages/torchvision/models/_utils.py:208: UserWarning: The parameter 'pretrained' is deprecated since 0.13 and may be removed in the future, please use 'weights' instead.\n",
      "  warnings.warn(\n",
      "/home/jinglewsl/miniconda3/envs/alibitorchwhy/lib/python3.8/site-packages/torchvision/models/_utils.py:223: UserWarning: Arguments other than a weight enum or `None` for 'weights' are deprecated since 0.13 and may be removed in the future. The current behavior is equivalent to passing `weights=ResNet18_Weights.IMAGENET1K_V1`. You can also use `weights=ResNet18_Weights.DEFAULT` to get the most up-to-date weights.\n",
      "  warnings.warn(msg)\n"
     ]
    }
   ],
   "source": [
    "resnet = torchvision.models.resnet18(pretrained=True)\n",
    "model = torch.nn.Sequential(\n",
    "    torchvision.transforms.Normalize(mean=[0.485, 0.456, 0.406], std=[0.229, 0.224, 0.225]),\n",
    "    resnet,\n",
    "    resnet.fc\n",
    "    )\n",
    "resnet.fc = torch.nn.Identity()\n",
    "model.eval().to(device)\n",
    "for p in model.parameters():\n",
    "    p.requires_grad_(False)\n"
   ]
  },
  {
   "cell_type": "code",
   "execution_count": 48,
   "metadata": {},
   "outputs": [],
   "source": [
    "# And we set up a dataset."
   ]
  },
  {
   "cell_type": "code",
   "execution_count": 49,
   "metadata": {},
   "outputs": [],
   "source": [
    "val_transform = torchvision.transforms.Compose([\n",
    "    torchvision.transforms.Resize(size=256),\n",
    "    torchvision.transforms.CenterCrop(size=(224, 224)),\n",
    "    torchvision.transforms.ToTensor()])\n",
    "\n",
    "\n",
    "ds_train = torchvision.datasets.ImageFolder('/home/jinglewsl/evoila/projects/image-drift-monitoring/image_data/ants_vs_bees/train/',\n",
    "                                            transform=val_transform)\n",
    "ds_val = torchvision.datasets.ImageFolder('/home/jinglewsl/evoila/projects/image-drift-monitoring/image_data/ants_vs_bees/val/',\n",
    "                                          transform=val_transform)\n",
    "dl_val = torch.utils.data.DataLoader(ds_val, batch_size=64, shuffle=True)"
   ]
  },
  {
   "cell_type": "code",
   "execution_count": 50,
   "metadata": {},
   "outputs": [],
   "source": [
    "# We fit the detector. \n",
    "# We use the p-value here for demonstration. \n",
    "# Note that this is currently computationally more expensive than the score (but we’ll work on pre-computing the score distribution under the null hypothesis)."
   ]
  },
  {
   "cell_type": "code",
   "execution_count": 51,
   "metadata": {},
   "outputs": [
    {
     "name": "stderr",
     "output_type": "stream",
     "text": [
      "100%|██████████| 1/1 [00:02<00:00,  2.34s/it]\n"
     ]
    }
   ],
   "source": [
    "def fit_detector(N_train):\n",
    "    detector = torchdrift.detectors.KernelMMDDriftDetector(return_p_value=True)\n",
    "    dl_train = torch.utils.data.DataLoader(ds_train, batch_size=N_train, shuffle=True)\n",
    "    feature_extractor = model[:2]  # without the fc layer\n",
    "    torchdrift.utils.fit(dl_train, feature_extractor, detector, num_batches=1)\n",
    "    return detector\n",
    "\n",
    "detector = fit_detector(N_train = 100)"
   ]
  },
  {
   "cell_type": "code",
   "execution_count": 52,
   "metadata": {},
   "outputs": [],
   "source": [
    "# We build a model monitor: When it hooks into the model to capture the output of feature_layer.\n",
    "#  I will cache the last N captured model features in a ring buffer.\n",
    "# If we provide a callback, it will call the drift detector every callback_interval after it has seen enough samples.\n",
    "# Just to show off, I also throw in a little plot function."
   ]
  },
  {
   "cell_type": "code",
   "execution_count": 53,
   "metadata": {},
   "outputs": [],
   "source": [
    "class ModelMonitor:\n",
    "    def __init__(self, drift_detector, feature_layer, N = 20, callback = None, callback_interval = 1):\n",
    "        self.N = N\n",
    "        base_outputs = drift_detector.base_outputs\n",
    "        self.drift_detector = drift_detector\n",
    "        assert base_outputs is not None, \"fit drift detector first\"\n",
    "        feature_dim = base_outputs.size(1)\n",
    "        self.feature_rb = torch.zeros(N, feature_dim, device=base_outputs.device, dtype=base_outputs.dtype)\n",
    "        self.have_full_round = False\n",
    "        self.next_idx = 0\n",
    "        self.hook = feature_layer.register_forward_hook(self.collect_hook)\n",
    "        self.counter = 0\n",
    "        self.callback = callback\n",
    "        self.callback_interval = callback_interval\n",
    "\n",
    "    def unhook(self):\n",
    "        self.hook.remove()\n",
    "\n",
    "    def collect_hook(self, module, input, output):\n",
    "        self.counter += 1\n",
    "        bs = output.size(0)\n",
    "        if bs > self.N:\n",
    "            output = output[-self.N:]\n",
    "            bs = self.N\n",
    "        output = output.reshape(bs, -1)\n",
    "        first_part = min(self.N - self.next_idx, bs)\n",
    "        self.feature_rb[self.next_idx: self.next_idx + first_part] = output[:first_part]\n",
    "        if first_part < bs:\n",
    "            self.feature_rb[: bs - first_part] = self.output[first_part:]\n",
    "        if not self.have_full_round and self.next_idx + bs >= self.N:\n",
    "            self.have_full_round = True\n",
    "        self.next_idx = (self.next_idx + bs) % self.N\n",
    "        if self.callback and self.have_full_round and self.counter % self.callback_interval == 0:\n",
    "            p_val = self.drift_detector(self.feature_rb)\n",
    "            self.callback(p_val)\n",
    "\n",
    "    def plot(self):\n",
    "        import sklearn.manifold\n",
    "        from matplotlib import pyplot\n",
    "\n",
    "        mapping = sklearn.manifold.Isomap()\n",
    "        ref = mapping.fit_transform(self.drift_detector.base_outputs.to(\"cpu\").numpy())\n",
    "\n",
    "        test = mapping.transform(self.feature_rb.to(\"cpu\").numpy())\n",
    "        pyplot.scatter(ref[:, 0], ref[:, 1])\n",
    "        pyplot.scatter(test[:, 0], test[:, 1])"
   ]
  },
  {
   "cell_type": "code",
   "execution_count": 54,
   "metadata": {},
   "outputs": [],
   "source": [
    "# To instantiate our monitor, we need an alarm function. \n",
    "# I just raise an exception, but you could also text the AI facility management or so."
   ]
  },
  {
   "cell_type": "code",
   "execution_count": 55,
   "metadata": {},
   "outputs": [],
   "source": [
    "def alarm(p_value):\n",
    "    assert p_value > 0.01, f\"Drift alarm! p-value: {p_value*100:.03f}%\"\n",
    "\n",
    "mm = ModelMonitor(detector, model[1], callback=alarm)"
   ]
  },
  {
   "cell_type": "code",
   "execution_count": 56,
   "metadata": {},
   "outputs": [],
   "source": [
    "# We grab a batch each of benign and drifted samples.\n",
    "\n",
    "# Fun fact: For this dataset, shuffling in the dataloader is important here.\n",
    "# Otherwise the class balance of the test batch will be off enough to cause the alarm to be set off."
   ]
  },
  {
   "cell_type": "code",
   "execution_count": 57,
   "metadata": {},
   "outputs": [],
   "source": [
    "it = iter(dl_val)\n",
    "batch = next(it)[0].to(device)\n",
    "it2 = iter(dl_val)\n",
    "batch_drifted = torchdrift.data.functional.gaussian_blur(next(it2)[0].to(device), 5)\n"
   ]
  },
  {
   "cell_type": "code",
   "execution_count": 58,
   "metadata": {},
   "outputs": [],
   "source": [
    "# Now we run our model. \n",
    "# Imagenet class 309 is bee and 310 is ant. \n",
    "# Do not believe the model if it says aircraft carrier (it did this during testing).\n",
    "#  Note that we might be unlucky and get an exception here.\n",
    "#  This is at least in part a sampling artifact from computing the p-value."
   ]
  },
  {
   "cell_type": "code",
   "execution_count": 59,
   "metadata": {},
   "outputs": [
    {
     "data": {
      "text/plain": [
       "tensor([310, 310, 946, 494, 310, 309, 310, 309, 304, 309, 309, 310, 310, 730,\n",
       "        301, 309, 319, 309, 310, 309, 310, 310, 310, 309, 310, 309, 310, 310,\n",
       "        310, 310, 310, 309, 309, 310, 310,  79, 310, 309, 309,  71, 306, 323,\n",
       "        309, 309, 309, 309, 309, 310, 306, 310, 310, 309, 309, 310, 309, 310,\n",
       "        310, 310, 309, 309])"
      ]
     },
     "execution_count": 59,
     "metadata": {},
     "output_type": "execute_result"
    }
   ],
   "source": [
    "res = model(batch).argmax(1)\n",
    "res"
   ]
  },
  {
   "cell_type": "code",
   "execution_count": 60,
   "metadata": {},
   "outputs": [
    {
     "data": {
      "text/plain": [
       "tensor(0.7230)"
      ]
     },
     "execution_count": 60,
     "metadata": {},
     "output_type": "execute_result"
    }
   ],
   "source": [
    "detector.compute_p_value(mm.feature_rb)"
   ]
  },
  {
   "cell_type": "code",
   "execution_count": 61,
   "metadata": {},
   "outputs": [],
   "source": [
    "# We can also look at the latents to form an opinion if we think they might be from the same distribution.\n",
    "# If you happen to have a heavily class-imbalanced sample (e.g. you disabled the shuffle in the dataloader - for testing, not because you forgot!)\n",
    "#  you might spot that imbalance here on the projected features."
   ]
  },
  {
   "cell_type": "code",
   "execution_count": 62,
   "metadata": {},
   "outputs": [
    {
     "data": {
      "image/png": "[encoded data removed]",
      "text/plain": [
       "<Figure size 640x480 with 1 Axes>"
      ]
     },
     "metadata": {},
     "output_type": "display_data"
    }
   ],
   "source": [
    "mm.plot()"
   ]
  },
  {
   "cell_type": "code",
   "execution_count": 63,
   "metadata": {},
   "outputs": [],
   "source": [
    "# When we call the model with drifted inputs, we are relatively sure to set off the alarm."
   ]
  },
  {
   "cell_type": "code",
   "execution_count": 64,
   "metadata": {},
   "outputs": [
    {
     "ename": "AssertionError",
     "evalue": "Drift alarm! p-value: 0.000%",
     "output_type": "error",
     "traceback": [
      "\u001b[0;31m---------------------------------------------------------------------------\u001b[0m",
      "\u001b[0;31mAssertionError\u001b[0m                            Traceback (most recent call last)",
      "Cell \u001b[0;32mIn [64], line 1\u001b[0m\n\u001b[0;32m----> 1\u001b[0m model(batch_drifted)\n",
      "File \u001b[0;32m~/miniconda3/envs/alibitorchwhy/lib/python3.8/site-packages/torch/nn/modules/module.py:1190\u001b[0m, in \u001b[0;36mModule._call_impl\u001b[0;34m(self, *input, **kwargs)\u001b[0m\n\u001b[1;32m   1186\u001b[0m \u001b[39m# If we don't have any hooks, we want to skip the rest of the logic in\u001b[39;00m\n\u001b[1;32m   1187\u001b[0m \u001b[39m# this function, and just call forward.\u001b[39;00m\n\u001b[1;32m   1188\u001b[0m \u001b[39mif\u001b[39;00m \u001b[39mnot\u001b[39;00m (\u001b[39mself\u001b[39m\u001b[39m.\u001b[39m_backward_hooks \u001b[39mor\u001b[39;00m \u001b[39mself\u001b[39m\u001b[39m.\u001b[39m_forward_hooks \u001b[39mor\u001b[39;00m \u001b[39mself\u001b[39m\u001b[39m.\u001b[39m_forward_pre_hooks \u001b[39mor\u001b[39;00m _global_backward_hooks\n\u001b[1;32m   1189\u001b[0m         \u001b[39mor\u001b[39;00m _global_forward_hooks \u001b[39mor\u001b[39;00m _global_forward_pre_hooks):\n\u001b[0;32m-> 1190\u001b[0m     \u001b[39mreturn\u001b[39;00m forward_call(\u001b[39m*\u001b[39;49m\u001b[39minput\u001b[39;49m, \u001b[39m*\u001b[39;49m\u001b[39m*\u001b[39;49mkwargs)\n\u001b[1;32m   1191\u001b[0m \u001b[39m# Do not call functions when jit is used\u001b[39;00m\n\u001b[1;32m   1192\u001b[0m full_backward_hooks, non_full_backward_hooks \u001b[39m=\u001b[39m [], []\n",
      "File \u001b[0;32m~/miniconda3/envs/alibitorchwhy/lib/python3.8/site-packages/torch/nn/modules/container.py:204\u001b[0m, in \u001b[0;36mSequential.forward\u001b[0;34m(self, input)\u001b[0m\n\u001b[1;32m    202\u001b[0m \u001b[39mdef\u001b[39;00m \u001b[39mforward\u001b[39m(\u001b[39mself\u001b[39m, \u001b[39minput\u001b[39m):\n\u001b[1;32m    203\u001b[0m     \u001b[39mfor\u001b[39;00m module \u001b[39min\u001b[39;00m \u001b[39mself\u001b[39m:\n\u001b[0;32m--> 204\u001b[0m         \u001b[39minput\u001b[39m \u001b[39m=\u001b[39m module(\u001b[39minput\u001b[39;49m)\n\u001b[1;32m    205\u001b[0m     \u001b[39mreturn\u001b[39;00m \u001b[39minput\u001b[39m\n",
      "File \u001b[0;32m~/miniconda3/envs/alibitorchwhy/lib/python3.8/site-packages/torch/nn/modules/module.py:1211\u001b[0m, in \u001b[0;36mModule._call_impl\u001b[0;34m(self, *input, **kwargs)\u001b[0m\n\u001b[1;32m   1209\u001b[0m \u001b[39mif\u001b[39;00m _global_forward_hooks \u001b[39mor\u001b[39;00m \u001b[39mself\u001b[39m\u001b[39m.\u001b[39m_forward_hooks:\n\u001b[1;32m   1210\u001b[0m     \u001b[39mfor\u001b[39;00m hook \u001b[39min\u001b[39;00m (\u001b[39m*\u001b[39m_global_forward_hooks\u001b[39m.\u001b[39mvalues(), \u001b[39m*\u001b[39m\u001b[39mself\u001b[39m\u001b[39m.\u001b[39m_forward_hooks\u001b[39m.\u001b[39mvalues()):\n\u001b[0;32m-> 1211\u001b[0m         hook_result \u001b[39m=\u001b[39m hook(\u001b[39mself\u001b[39;49m, \u001b[39minput\u001b[39;49m, result)\n\u001b[1;32m   1212\u001b[0m         \u001b[39mif\u001b[39;00m hook_result \u001b[39mis\u001b[39;00m \u001b[39mnot\u001b[39;00m \u001b[39mNone\u001b[39;00m:\n\u001b[1;32m   1213\u001b[0m             result \u001b[39m=\u001b[39m hook_result\n",
      "Cell \u001b[0;32mIn [53], line 35\u001b[0m, in \u001b[0;36mModelMonitor.collect_hook\u001b[0;34m(self, module, input, output)\u001b[0m\n\u001b[1;32m     33\u001b[0m \u001b[39mif\u001b[39;00m \u001b[39mself\u001b[39m\u001b[39m.\u001b[39mcallback \u001b[39mand\u001b[39;00m \u001b[39mself\u001b[39m\u001b[39m.\u001b[39mhave_full_round \u001b[39mand\u001b[39;00m \u001b[39mself\u001b[39m\u001b[39m.\u001b[39mcounter \u001b[39m%\u001b[39m \u001b[39mself\u001b[39m\u001b[39m.\u001b[39mcallback_interval \u001b[39m==\u001b[39m \u001b[39m0\u001b[39m:\n\u001b[1;32m     34\u001b[0m     p_val \u001b[39m=\u001b[39m \u001b[39mself\u001b[39m\u001b[39m.\u001b[39mdrift_detector(\u001b[39mself\u001b[39m\u001b[39m.\u001b[39mfeature_rb)\n\u001b[0;32m---> 35\u001b[0m     \u001b[39mself\u001b[39;49m\u001b[39m.\u001b[39;49mcallback(p_val)\n",
      "Cell \u001b[0;32mIn [55], line 2\u001b[0m, in \u001b[0;36malarm\u001b[0;34m(p_value)\u001b[0m\n\u001b[1;32m      1\u001b[0m \u001b[39mdef\u001b[39;00m \u001b[39malarm\u001b[39m(p_value):\n\u001b[0;32m----> 2\u001b[0m     \u001b[39massert\u001b[39;00m p_value \u001b[39m>\u001b[39m \u001b[39m0.01\u001b[39m, \u001b[39mf\u001b[39m\u001b[39m\"\u001b[39m\u001b[39mDrift alarm! p-value: \u001b[39m\u001b[39m{\u001b[39;00mp_value\u001b[39m*\u001b[39m\u001b[39m100\u001b[39m\u001b[39m:\u001b[39;00m\u001b[39m.03f\u001b[39m\u001b[39m}\u001b[39;00m\u001b[39m%\u001b[39m\u001b[39m\"\u001b[39m\n",
      "\u001b[0;31mAssertionError\u001b[0m: Drift alarm! p-value: 0.000%"
     ]
    }
   ],
   "source": [
    "model(batch_drifted)"
   ]
  },
  {
   "cell_type": "code",
   "execution_count": null,
   "metadata": {},
   "outputs": [],
   "source": [
    "# With any luck, you can also see the drift in the datapoints."
   ]
  },
  {
   "cell_type": "code",
   "execution_count": null,
   "metadata": {},
   "outputs": [
    {
     "data": {
      "image/png": "[encoded data removed]",
      "text/plain": [
       "<Figure size 640x480 with 1 Axes>"
      ]
     },
     "metadata": {},
     "output_type": "display_data"
    }
   ],
   "source": [
    "mm.plot()"
   ]
  },
  {
   "cell_type": "code",
   "execution_count": null,
   "metadata": {},
   "outputs": [],
   "source": [
    "# So in this notebook we saw how to use model hooks with the drift detector to automatically set of the alarm when something bad happens.\n",
    "#  Just remember that if you set the p-value to x% you expect to get a false alarm every 100%/x%  batches to not spam your emergency contact."
   ]
  }
 ],
 "metadata": {
  "kernelspec": {
   "display_name": "alibitorchwhy",
   "language": "python",
   "name": "python3"
  },
  "language_info": {
   "codemirror_mode": {
    "name": "ipython",
    "version": 3
   },
   "file_extension": ".py",
   "mimetype": "text/x-python",
   "name": "python",
   "nbconvert_exporter": "python",
   "pygments_lexer": "ipython3",
   "version": "3.8.15"
  },
  "orig_nbformat": 4,
  "vscode": {
   "interpreter": {
    "hash": "8819e8d737e7846e1ccb67501e42ffad717784bc849e8dd1c5da9ca7464d57fc"
   }
  }
 },
 "nbformat": 4,
 "nbformat_minor": 2
}
