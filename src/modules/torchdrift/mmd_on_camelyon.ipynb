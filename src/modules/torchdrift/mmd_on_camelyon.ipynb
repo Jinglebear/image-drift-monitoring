{
 "cells": [
  {
   "cell_type": "code",
   "execution_count": 3,
   "metadata": {},
   "outputs": [],
   "source": [
    "import sys\n",
    "sys.path.insert(0, '../')\n",
    "\n",
    "import torch\n",
    "import torchvision\n",
    "import torchdrift\n",
    "import copy\n",
    "%matplotlib inline\n",
    "from matplotlib import pyplot\n",
    "\n",
    "device =  \"cpu\"\n",
    "\n",
    "from wilds.common.data_loaders import get_train_loader, get_eval_loader\n",
    "from wilds import get_dataset\n",
    "\n",
    "import numpy as np"
   ]
  },
  {
   "cell_type": "code",
   "execution_count": null,
   "metadata": {},
   "outputs": [],
   "source": [
    "resnet = torchvision.models.resnet18(pretrained=True)\n",
    "model = torch.nn.Sequential(\n",
    "    torchvision.transforms.Normalize(mean=[0.485, 0.456, 0.406], std=[0.229, 0.224, 0.225]),\n",
    "    resnet,\n",
    "    resnet.fc\n",
    "    )\n",
    "resnet.fc = torch.nn.Identity()\n",
    "model.eval().to(device)\n",
    "for p in model.parameters():\n",
    "    p.requires_grad_(False)"
   ]
  },
  {
   "cell_type": "code",
   "execution_count": null,
   "metadata": {},
   "outputs": [],
   "source": [
    "# datensatz camelyon laden\n",
    "%cd  '/home/jinglewsl/evoila/projects/image-drift-monitoring'\n",
    "%pwd\n",
    "camelyon = get_dataset(dataset=\"camelyon17\",download=False)\n",
    "\n",
    "WILDS_PATH = 'data'\n",
    "N = 5000 # Size of reference set\n",
    "DOWNLOAD = False\n",
    "img_size = (96,96)\n",
    "ds_train = camelyon.get_subset('train',transform=transforms.Compose([transforms.Resize(img_size), transforms.ToTensor()]))\n",
    "train_loader = iter(get_train_loader('standard',ds_train,1))\n",
    "\n",
    "ds_test = camelyon.get_subset('test',transform=transforms.Compose([transforms.Resize(img_size), transforms.ToTensor()]))\n",
    "test_loader = iter(get_train_loader('standard',ds_test,1))\n",
    "\n",
    "x_ref = np.stack([next(train_loader)[0][0].numpy() for _ in range(N)],axis=0)\n",
    "x_test = np.stack([next(test_loader)[0][0].numpy() for _ in range(N)],axis=0)"
   ]
  },
  {
   "cell_type": "code",
   "execution_count": null,
   "metadata": {},
   "outputs": [],
   "source": [
    "val_transform =  torchvision.transforms.ToTensor()\n",
    "\n",
    "\n",
    "ds_train = torchvision.datasets.ImageFolder('/home/jinglewsl/evoila/projects/image-drift-monitoring/image_data/ants_vs_bees/train/',\n",
    "                                            transform=val_transform)\n",
    "ds_val = torchvision.datasets.ImageFolder('/home/jinglewsl/evoila/projects/image-drift-monitoring/image_data/ants_vs_bees/val/',\n",
    "                                          transform=val_transform)\n",
    "dl_val = torch.utils.data.DataLoader(ds_val, batch_size=64, shuffle=True)"
   ]
  },
  {
   "cell_type": "code",
   "execution_count": null,
   "metadata": {},
   "outputs": [],
   "source": [
    "def fit_detector(N_train):\n",
    "    detector = torchdrift.detectors.KernelMMDDriftDetector(return_p_value=True)\n",
    "    dl_train = torch.utils.data.DataLoader(ds_train, batch_size=N_train, shuffle=True)\n",
    "    feature_extractor = model[:2]  # without the fc layer\n",
    "    torchdrift.utils.fit(dl_train, feature_extractor, detector, num_batches=1)\n",
    "    return detector\n",
    "\n",
    "detector = fit_detector(N_train = 100)"
   ]
  }
 ],
 "metadata": {
  "kernelspec": {
   "display_name": "alibitorchwhy",
   "language": "python",
   "name": "python3"
  },
  "language_info": {
   "codemirror_mode": {
    "name": "ipython",
    "version": 3
   },
   "file_extension": ".py",
   "mimetype": "text/x-python",
   "name": "python",
   "nbconvert_exporter": "python",
   "pygments_lexer": "ipython3",
   "version": "3.8.15"
  },
  "orig_nbformat": 4,
  "vscode": {
   "interpreter": {
    "hash": "8819e8d737e7846e1ccb67501e42ffad717784bc849e8dd1c5da9ca7464d57fc"
   }
  }
 },
 "nbformat": 4,
 "nbformat_minor": 2
}
