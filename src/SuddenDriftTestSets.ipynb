{
 "cells": [
  {
   "attachments": {},
   "cell_type": "markdown",
   "metadata": {},
   "source": [
    "Camelyon Sudden Drift Test Sets"
   ]
  },
  {
   "cell_type": "code",
   "execution_count": null,
   "metadata": {},
   "outputs": [],
   "source": [
    "import numpy as np\n",
    "\n",
    "camelyon_test_comp = np.load('/home/ubuntu/image-drift-monitoring/data/camelyon17_v1.0/camelyon_test_ds.npz')\n",
    "camelyon_test = camelyon_test_comp['arr_0']\n",
    "\n",
    "np.random.shuffle(camelyon_test)\n",
    "camelyon_test_200 = camelyon_test[:200]\n",
    "camelyon_test_200.shape\n",
    "\n",
    "for i in range(10,210,10):\n",
    "    np.random.shuffle(camelyon_test)\n",
    "    camelyon_test_frac = camelyon_test[:i]\n",
    "    np.savez_compressed('/home/ubuntu/image-drift-monitoring/data/camelyon17_v1.0/drifted_data/sudden_drift/camelyon_test_{}.npz'.format(i),camelyon_test_frac)\n",
    "    "
   ]
  },
  {
   "attachments": {},
   "cell_type": "markdown",
   "metadata": {},
   "source": [
    "GlobalWheat Sudden Drift Test Sets"
   ]
  },
  {
   "cell_type": "code",
   "execution_count": null,
   "metadata": {},
   "outputs": [],
   "source": [
    "import numpy as np\n",
    "\n",
    "globalwheat_test_comp = np.load('/home/ubuntu/image-drift-monitoring/data/globalwheat_v1.1/globalwheat_test_ds.npz')\n",
    "globalwheat_test = globalwheat_test_comp['arr_0']\n",
    "\n",
    "for i in range(10,210,10):\n",
    "    np.random.shuffle(globalwheat_test)\n",
    "    globalwheat_test_frac = globalwheat_test[:i]\n",
    "    np.savez_compressed('/home/ubuntu/image-drift-monitoring/data/globalwheat_v1.1/drifted_data/sudden_drift/globalwheat_test_{}.npz'.format(i),globalwheat_test_frac)"
   ]
  },
  {
   "attachments": {},
   "cell_type": "markdown",
   "metadata": {},
   "source": [
    "iWildcam Sudden Drift Test Sets"
   ]
  },
  {
   "cell_type": "code",
   "execution_count": null,
   "metadata": {},
   "outputs": [],
   "source": [
    "import numpy as np\n",
    "\n",
    "iwildcam_test_comp = np.load('/home/ubuntu/image-drift-monitoring/data/iwildcam_v2.0/iwildcam_test_ds.npz')\n",
    "iwildcam_test = iwildcam_test_comp['arr_0']\n",
    "\n",
    "for i in range(10,210,10):\n",
    "    np.random.shuffle(iwildcam_test)\n",
    "    iwildcam_test_frac = iwildcam_test[:i]\n",
    "    np.savez_compressed('/home/ubuntu/image-drift-monitoring/data/iwildcam_v2.0/drifted_data/sudden_drift/iwildcam_test_{}.npz'.format(i),iwildcam_test_frac)"
   ]
  },
  {
   "attachments": {},
   "cell_type": "markdown",
   "metadata": {},
   "source": [
    "rxrx1 Sudden Drift Test Sets"
   ]
  },
  {
   "cell_type": "code",
   "execution_count": null,
   "metadata": {},
   "outputs": [],
   "source": [
    "import numpy as np\n",
    "\n",
    "rxrx1_test_comp = np.load('/home/ubuntu/image-drift-monitoring/data/rxrx1_v1.0/rxrx1_test_ds.npz')\n",
    "rxrx1_test = rxrx1_test_comp['arr_0']\n",
    "\n",
    "for i in range(10,210,10):\n",
    "    np.random.shuffle(rxrx1_test)\n",
    "    rxrx1_test_frac = rxrx1_test[:i]\n",
    "    np.savez_compressed('/home/ubuntu/image-drift-monitoring/data/rxrx1_v1.0/drifted_data/sudden_drift/rxrx1_test_{}.npz'.format(i),rxrx1_test_frac)"
   ]
  },
  {
   "attachments": {},
   "cell_type": "markdown",
   "metadata": {},
   "source": [
    "CAMELYON, GLOBALWHEAT, IWILDCAM, RXRX1 --> RAW DATA DRIFT TEST SET"
   ]
  },
  {
   "cell_type": "code",
   "execution_count": null,
   "metadata": {},
   "outputs": [],
   "source": [
    "SUDDEN_DRIFT_PATH_CAMELYON = '/home/ubuntu/image-drift-monitoring/data/camelyon17_v1.0/drifted_data/sudden_drift'\n",
    "SUDDEN_DRIFT_PATH_GLOBALWHEAT = '/home/ubuntu/image-drift-monitoring/data/globalwheat_v1.1/drifted_data/sudden_drift'\n",
    "SUDDEN_DRIFT_PATH_IWILDCAM = '/home/ubuntu/image-drift-monitoring/data/iwildcam_v2.0/drifted_data/sudden_drift'\n",
    "SUDDEN_DRIFT_PATH_RXRX1 = '/home/ubuntu/image-drift-monitoring/data/rxrx1_v1.0/drifted_data/sudden_drift'\n",
    "from wilds import get_dataset\n",
    "\n",
    "%cd /home/ubuntu/image-drift-monitoring\n",
    "from src.modules.whylogs.whylogs_logger import Whylogs_Logger\n",
    "import random\n",
    "\n",
    "\n",
    "\"\"\" WILDS CAMELYON DATASET \"\"\"\n",
    "# dataset = get_dataset(dataset=\"camelyon17\", download=False)\n",
    "\"\"\" WILDS GLOBALWHEAT DATASET \"\"\"\n",
    "# dataset = get_dataset(dataset=\"globalwheat\", download=False)\n",
    "\"\"\" WILDS IWILDCAM DATASET \"\"\"\n",
    "# dataset = get_dataset(dataset=\"iwildcam\", download=False)\n",
    "\"\"\" WILDS POVERTY DATASET \"\"\"\n",
    "# dataset = get_dataset(dataset=\"poverty\",download=False)\n",
    "\"\"\" WILDS RXRX1 DATASET \"\"\"\n",
    "dataset = get_dataset(dataset=\"rxrx1\",download=False)\n",
    "\n",
    "\n",
    "test_data = dataset.get_subset(\"test\")\n",
    "\n",
    "w_logger = Whylogs_Logger() # init whylogs logger \n",
    "\n",
    "print(len(test_data.indices))\n",
    "indices_arr = test_data.indices\n",
    "\n",
    "for j in range(10,210,10):\n",
    "    random.shuffle(indices_arr)\n",
    "    indices = indices_arr[:j]\n",
    "\n",
    "    pil_data_arr = []\n",
    "    for i in indices:\n",
    "        img = test_data.dataset[i][0]\n",
    "        pil_data_arr.append(img)\n",
    "\n",
    "    test_profile = w_logger.log_pil_images_data_from_list(pil_data_arr=pil_data_arr)\n",
    "    # binary name = <dataset_name> , data_directory_path = <DatasetSuddenDriftBinOutputPath>\n",
    "    w_logger.serialize_profile(profile=test_profile,binary_name='rxrx1_test_{}'.format(j),data_directory_path=SUDDEN_DRIFT_PATH_RXRX1)"
   ]
  }
 ],
 "metadata": {
  "kernelspec": {
   "display_name": "alibitorchwhy",
   "language": "python",
   "name": "python3"
  },
  "language_info": {
   "codemirror_mode": {
    "name": "ipython",
    "version": 3
   },
   "file_extension": ".py",
   "mimetype": "text/x-python",
   "name": "python",
   "nbconvert_exporter": "python",
   "pygments_lexer": "ipython3",
   "version": "3.8.15"
  },
  "orig_nbformat": 4,
  "vscode": {
   "interpreter": {
    "hash": "401cebfcb5cce5f71138843ad74eb16632e47d40b3a47aa4ad883b3d134173ed"
   }
  }
 },
 "nbformat": 4,
 "nbformat_minor": 2
}
